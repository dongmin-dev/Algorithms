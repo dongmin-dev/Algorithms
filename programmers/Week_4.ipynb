{
 "cells": [
  {
   "cell_type": "markdown",
   "metadata": {},
   "source": [
    "### [PCCP 기출문제] 1번 / 붕대 감기\n",
    "\n",
    "- 어떤 게임에는 `붕대 감기`라는 기술이 있습니다.\n",
    "\n",
    "- `붕대 감기`는 `t`초 동안 붕대를 감으면서 1초마다 `x`만큼의 체력을 회복합니다. `t`초 연속으로 붕대를 감는 데 성공한다면 `y`만큼의 체력을 추가로 회복합니다. 게임 캐릭터에는 최대 체력이 존재해 현재 체력이 최대 체력보다 커지는 것은 불가능합니다.\n",
    "\n",
    "- 기술을 쓰는 도중 몬스터에게 공격을 당하면 기술이 취소되고, 공격을 당하는 순간에는 체력을 회복할 수 없습니다. 몬스터에게 공격당해 기술이 취소당하거나 기술이 끝나면 그 즉시 `붕대 감기`를 다시 사용하며, 연속 성공 시간이 0으로 초기화됩니다.\n",
    "\n",
    "- 몬스터의 공격을 받으면 정해진 피해량만큼 현재 체력이 줄어듭니다. 이때, 현재 체력이 0 이하가 되면 캐릭터가 죽으며 더 이상 체력을 회복할 수 없습니다.\n",
    "\n",
    "- 당신은 `붕대감기` 기술의 정보, 캐릭터가 가진 최대 체력과 몬스터의 공격 패턴이 주어질 때 캐릭터가 끝까지 생존할 수 있는지 궁금합니다.\n",
    "\n",
    "- `붕대 감기` 기술의 시전 시간, 1초당 회복량, 추가 회복량을 담은 1차원 정수 배열 `bandage`와 최대 체력을 의미하는 정수 `health`, 몬스터의 공격 시간과 피해량을 담은 2차원 정수 배열 `attacks`가 매개변수로 주어집니다. 모든 공격이 끝난 직후 남은 체력을 return 하도록 solution 함수를 완성해 주세요. 만약 몬스터의 공격을 받고 캐릭터의 체력이 0 이하가 되어 죽는다면 -1을 return 해주세요.\n",
    "\n",
    "#### 제한사항\n",
    "\n",
    "- `bandage`는 [`시전 시간`, `초당 회복량`, `추가 회복량`] 형태의 길이가 3인 정수 배열입니다.\n",
    "    - 1 ≤ `시전 시간` = `t` ≤ 50\n",
    "    - 1 ≤ `초당 회복량` = `x` ≤ 100\n",
    "    - 1 ≤ `추가 회복량` = `y` ≤ 100\n",
    "\n",
    "- 1 ≤ `health` ≤ 1,000\n",
    "\n",
    "- 1 ≤ `attacks`의 길이 ≤ 100\n",
    "    - `attacks[i]`는 [`공격 시간`, `피해량`] 형태의 길이가 2인 정수 배열입니다.\n",
    "    - `attacks`는 공격 시간을 기준으로 오름차순 정렬된 상태입니다.\n",
    "    - `attacks`의 공격 시간은 모두 다릅니다.\n",
    "    - 1 ≤ `공격 시간` ≤ 1,000\n",
    "    - 1 ≤ `피해량` ≤ 100\n",
    "\n",
    "#### 입출력 예\n",
    "\n",
    "| bandage | health | attacks | result |\n",
    "|---|---|---|---|\n",
    "| [5, 1, 5]| 30 | [[2, 10], [9, 15], [10, 5], [11, 5]] | 5 |\n",
    "| [3, 2, 7]| 20 | [[1, 15], [5, 16], [8, 6]] | -1 |\n",
    "| [4, 2, 7]| 20 | [[1, 15], [5, 16], [8, 6]] | -1 |\n",
    "| [1, 1, 1]| 5 | [[1, 2], [3, 2]] | 3 |"
   ]
  },
  {
   "cell_type": "code",
   "execution_count": 24,
   "metadata": {},
   "outputs": [
    {
     "name": "stdout",
     "output_type": "stream",
     "text": [
      "5\n",
      "-1\n",
      "-1\n",
      "3\n"
     ]
    }
   ],
   "source": [
    "def solution(bandage, health, attacks):\n",
    "    t, x, y = bandage\n",
    "    max_health = health\n",
    "    attacks_dict = {time: damage for time, damage in attacks}\n",
    "    end = attacks[-1][0]\n",
    "    combo = 0\n",
    "    \n",
    "    for i in range(end+1):\n",
    "        if i in attacks_dict:\n",
    "            health -= attacks_dict[i]\n",
    "            if health <= 0:\n",
    "                return -1\n",
    "            combo = 0\n",
    "        else:\n",
    "            health = min(max_health, health+x)\n",
    "            combo += 1\n",
    "            if combo == bandage[0]:\n",
    "                health = min(max_health, health+y)\n",
    "                combo = 0\n",
    "    \n",
    "    return health\n",
    "\n",
    "print(solution([5,1,5], 30, [[2,10],[9,15],[10,5],[11,5]]))\n",
    "print(solution([3,2,7], 20, [[1,15],[5,16],[8,6]]))\n",
    "print(solution([4,2,7], 20, [[1,15],[5,16],[8,6]]))\n",
    "print(solution([1,1,1], 5, [[1,2],[3,2]]))"
   ]
  },
  {
   "cell_type": "code",
   "execution_count": 25,
   "metadata": {},
   "outputs": [
    {
     "name": "stdout",
     "output_type": "stream",
     "text": [
      "5\n",
      "-1\n",
      "-1\n",
      "3\n"
     ]
    }
   ],
   "source": [
    "# 다른 풀이법\n",
    "def solution(bandage, health, attacks):\n",
    "    hp = health\n",
    "    start = 1\n",
    "    for i, j in attacks:\n",
    "        hp += ((i - start) // bandage[0]) * bandage[2] + (i - start) * bandage[1]\n",
    "        start = i + 1\n",
    "        if hp >= health:\n",
    "            hp = health\n",
    "        hp -= j\n",
    "        if hp <= 0:\n",
    "            return -1\n",
    "    return hp\n",
    "\n",
    "print(solution([5,1,5], 30, [[2,10],[9,15],[10,5],[11,5]]))\n",
    "print(solution([3,2,7], 20, [[1,15],[5,16],[8,6]]))\n",
    "print(solution([4,2,7], 20, [[1,15],[5,16],[8,6]]))\n",
    "print(solution([1,1,1], 5, [[1,2],[3,2]]))"
   ]
  }
 ],
 "metadata": {
  "kernelspec": {
   "display_name": "base",
   "language": "python",
   "name": "python3"
  },
  "language_info": {
   "codemirror_mode": {
    "name": "ipython",
    "version": 3
   },
   "file_extension": ".py",
   "mimetype": "text/x-python",
   "name": "python",
   "nbconvert_exporter": "python",
   "pygments_lexer": "ipython3",
   "version": "3.12.7"
  }
 },
 "nbformat": 4,
 "nbformat_minor": 2
}
