{
 "cells": [
  {
   "cell_type": "markdown",
   "metadata": {},
   "source": [
    "### [PCCP 기출문제] 1번 / 붕대 감기\n",
    "\n",
    "- 어떤 게임에는 `붕대 감기`라는 기술이 있습니다.\n",
    "\n",
    "- `붕대 감기`는 `t`초 동안 붕대를 감으면서 1초마다 `x`만큼의 체력을 회복합니다. `t`초 연속으로 붕대를 감는 데 성공한다면 `y`만큼의 체력을 추가로 회복합니다. 게임 캐릭터에는 최대 체력이 존재해 현재 체력이 최대 체력보다 커지는 것은 불가능합니다.\n",
    "\n",
    "- 기술을 쓰는 도중 몬스터에게 공격을 당하면 기술이 취소되고, 공격을 당하는 순간에는 체력을 회복할 수 없습니다. 몬스터에게 공격당해 기술이 취소당하거나 기술이 끝나면 그 즉시 `붕대 감기`를 다시 사용하며, 연속 성공 시간이 0으로 초기화됩니다.\n",
    "\n",
    "- 몬스터의 공격을 받으면 정해진 피해량만큼 현재 체력이 줄어듭니다. 이때, 현재 체력이 0 이하가 되면 캐릭터가 죽으며 더 이상 체력을 회복할 수 없습니다.\n",
    "\n",
    "- 당신은 `붕대감기` 기술의 정보, 캐릭터가 가진 최대 체력과 몬스터의 공격 패턴이 주어질 때 캐릭터가 끝까지 생존할 수 있는지 궁금합니다.\n",
    "\n",
    "- `붕대 감기` 기술의 시전 시간, 1초당 회복량, 추가 회복량을 담은 1차원 정수 배열 `bandage`와 최대 체력을 의미하는 정수 `health`, 몬스터의 공격 시간과 피해량을 담은 2차원 정수 배열 `attacks`가 매개변수로 주어집니다. 모든 공격이 끝난 직후 남은 체력을 return 하도록 solution 함수를 완성해 주세요. 만약 몬스터의 공격을 받고 캐릭터의 체력이 0 이하가 되어 죽는다면 -1을 return 해주세요.\n",
    "\n",
    "#### 제한사항\n",
    "\n",
    "- `bandage`는 [`시전 시간`, `초당 회복량`, `추가 회복량`] 형태의 길이가 3인 정수 배열입니다.\n",
    "    - 1 ≤ `시전 시간` = `t` ≤ 50\n",
    "    - 1 ≤ `초당 회복량` = `x` ≤ 100\n",
    "    - 1 ≤ `추가 회복량` = `y` ≤ 100\n",
    "\n",
    "- 1 ≤ `health` ≤ 1,000\n",
    "\n",
    "- 1 ≤ `attacks`의 길이 ≤ 100\n",
    "    - `attacks[i]`는 [`공격 시간`, `피해량`] 형태의 길이가 2인 정수 배열입니다.\n",
    "    - `attacks`는 공격 시간을 기준으로 오름차순 정렬된 상태입니다.\n",
    "    - `attacks`의 공격 시간은 모두 다릅니다.\n",
    "    - 1 ≤ `공격 시간` ≤ 1,000\n",
    "    - 1 ≤ `피해량` ≤ 100\n",
    "\n",
    "#### 입출력 예\n",
    "\n",
    "| bandage | health | attacks | result |\n",
    "|---|---|---|---|\n",
    "| [5, 1, 5]| 30 | [[2, 10], [9, 15], [10, 5], [11, 5]] | 5 |\n",
    "| [3, 2, 7]| 20 | [[1, 15], [5, 16], [8, 6]] | -1 |\n",
    "| [4, 2, 7]| 20 | [[1, 15], [5, 16], [8, 6]] | -1 |\n",
    "| [1, 1, 1]| 5 | [[1, 2], [3, 2]] | 3 |"
   ]
  },
  {
   "cell_type": "code",
   "execution_count": 24,
   "metadata": {},
   "outputs": [
    {
     "name": "stdout",
     "output_type": "stream",
     "text": [
      "5\n",
      "-1\n",
      "-1\n",
      "3\n"
     ]
    }
   ],
   "source": [
    "def solution(bandage, health, attacks):\n",
    "    t, x, y = bandage\n",
    "    max_health = health\n",
    "    attacks_dict = {time: damage for time, damage in attacks}\n",
    "    end = attacks[-1][0]\n",
    "    combo = 0\n",
    "    \n",
    "    for i in range(end+1):\n",
    "        if i in attacks_dict:\n",
    "            health -= attacks_dict[i]\n",
    "            if health <= 0:\n",
    "                return -1\n",
    "            combo = 0\n",
    "        else:\n",
    "            health = min(max_health, health+x)\n",
    "            combo += 1\n",
    "            if combo == bandage[0]:\n",
    "                health = min(max_health, health+y)\n",
    "                combo = 0\n",
    "    \n",
    "    return health\n",
    "\n",
    "print(solution([5,1,5], 30, [[2,10],[9,15],[10,5],[11,5]]))\n",
    "print(solution([3,2,7], 20, [[1,15],[5,16],[8,6]]))\n",
    "print(solution([4,2,7], 20, [[1,15],[5,16],[8,6]]))\n",
    "print(solution([1,1,1], 5, [[1,2],[3,2]]))"
   ]
  },
  {
   "cell_type": "code",
   "execution_count": 25,
   "metadata": {},
   "outputs": [
    {
     "name": "stdout",
     "output_type": "stream",
     "text": [
      "5\n",
      "-1\n",
      "-1\n",
      "3\n"
     ]
    }
   ],
   "source": [
    "# 다른 풀이법\n",
    "def solution(bandage, health, attacks):\n",
    "    hp = health\n",
    "    start = 1\n",
    "    for i, j in attacks:\n",
    "        hp += ((i - start) // bandage[0]) * bandage[2] + (i - start) * bandage[1]\n",
    "        start = i + 1\n",
    "        if hp >= health:\n",
    "            hp = health\n",
    "        hp -= j\n",
    "        if hp <= 0:\n",
    "            return -1\n",
    "    return hp\n",
    "\n",
    "print(solution([5,1,5], 30, [[2,10],[9,15],[10,5],[11,5]]))\n",
    "print(solution([3,2,7], 20, [[1,15],[5,16],[8,6]]))\n",
    "print(solution([4,2,7], 20, [[1,15],[5,16],[8,6]]))\n",
    "print(solution([1,1,1], 5, [[1,2],[3,2]]))"
   ]
  },
  {
   "cell_type": "markdown",
   "metadata": {},
   "source": [
    "### [PCCE 기출문제] 9번 / 이웃한 칸\n",
    "\n",
    "- 각 칸마다 색이 칠해진 2차원 격자 보드판이 있습니다. 그중 한 칸을 골랐을 때, 위, 아래, 왼쪽, 오른쪽 칸 중 같은 색깔로 칠해진 칸의 개수를 구하려고 합니다.\n",
    "\n",
    "- 보드의 각 칸에 칠해진 색깔 이름이 담긴 이차원 문자열 리스트 board와 고른 칸의 위치를 나타내는 두 정수 h, w가 주어질 때 board[h][w]와 이웃한 칸들 중 같은 색으로 칠해져 있는 칸의 개수를 return 하도록 solution 함수를 완성해 주세요.\n",
    "\n",
    "- 이웃한 칸들 중 몇 개의 칸이 같은 색으로 색칠되어 있는지 확인하는 과정은 다음과 같습니다.\n",
    "\n",
    "```plaintext\n",
    "1. 정수를 저장할 변수 n을 만들고 board의 길이를 저장합니다.\n",
    "2. 같은 색으로 색칠된 칸의 개수를 저장할 변수 count를 만들고 0을 저장합니다.\n",
    "3. h와 w의 변화량을 저장할 정수 리스트 dh, dw를 만들고 각각 [0, 1, -1, 0], [1, 0, 0, -1]을 저장합니다.\n",
    "4. 반복문을 이용해 i 값을 0부터 3까지 1 씩 증가시키며 아래 작업을 반복합니다.\n",
    "    4-1. 체크할 칸의 h, w 좌표를 나타내는 변수 h_check, w_check를 만들고 각각 h + dh[i], w + dw[i]를 저장합니다.\n",
    "    4-2. h_check가 0 이상 n 미만이고 w_check가 0 이상 n 미만이라면 다음을 수행합니다.\n",
    "        4-2-a. board[h][w]와 board[h_check][w_check]의 값이 동일하다면 count의 값을 1 증가시킵니다.\n",
    "5. count의 값을 return합니다.\n",
    "```\n",
    "\n",
    "- 위의 의사코드와 작동방식이 다른 코드를 작성해도 상관없습니다.\n",
    "\n",
    "#### 제한사항\n",
    "\n",
    "- 1 ≤ `board`의 길이 ≤ 7\n",
    "    - `board`의 길이와 `board[n]`의 길이는 동일합니다.\n",
    "\n",
    "- 0 ≤ `h`, `w` < `board`의 길이\n",
    "\n",
    "- 1 ≤ `board[h][w]`의 길이 ≤ 10\n",
    "    - `board[h][w]`는 영어 소문자로만 이루어져 있습니다.\n",
    "\n",
    "#### 입출력 예\n",
    "| board | h | w | result |\n",
    "|---|---|---|---|\n",
    "| [[\"blue\", \"red\", \"orange\", \"red\"], [\"red\", \"red\", \"blue\", \"orange\"], [\"blue\", \"orange\", \"red\", \"red\"], [\"orange\", \"orange\", \"red\", \"blue\"]] | 1 | 1 | 2 |\n",
    "| [[\"yellow\", \"green\", \"blue\"], [\"blue\", \"green\", \"yellow\"], [\"yellow\", \"blue\", \"blue\"]] | 0 | 1 | 1 |"
   ]
  },
  {
   "cell_type": "code",
   "execution_count": 2,
   "metadata": {},
   "outputs": [
    {
     "name": "stdout",
     "output_type": "stream",
     "text": [
      "2\n",
      "1\n"
     ]
    }
   ],
   "source": [
    "def solution(board, h, w):\n",
    "    answer = 0\n",
    "    n = len(board)\n",
    "    dh = [0, 1, -1, 0]\n",
    "    dw = [1, 0, 0, -1]\n",
    "    \n",
    "    for i in range(4):\n",
    "        h_check = h + dh[i]\n",
    "        w_check = w + dw[i]\n",
    "        \n",
    "        if 0 <= h_check < n and 0 <= w_check < n:\n",
    "            if board[h][w] == board[h_check][w_check]:\n",
    "                answer += 1\n",
    "    \n",
    "    return answer\n",
    "\n",
    "print(solution([[\"blue\", \"red\", \"orange\", \"red\"],\n",
    "                [\"red\", \"red\", \"blue\", \"orange\"],\n",
    "                [\"blue\", \"orange\", \"red\", \"red\"],\n",
    "                [\"orange\", \"orange\", \"red\", \"blue\"]], 1, 1))    # 2\n",
    "print(solution([[\"yellow\", \"green\", \"blue\"],\n",
    "                [\"blue\", \"green\", \"yellow\"],\n",
    "                [\"yellow\", \"blue\", \"blue\"]], 0, 1))             # 1"
   ]
  },
  {
   "cell_type": "markdown",
   "metadata": {},
   "source": [
    "### [PCCE 기출문제] 10번 / 데이터 분석\n",
    "\n",
    "- AI 엔지니어인 현식이는 데이터를 분석하는 작업을 진행하고 있습니다. 데이터는 [\"코드 번호(code)\", \"제조일(date)\", \"최대 수량(maximum)\", \"현재 수량(remain)\"]으로 구성되어 있으며 현식이는 이 데이터들 중 조건을 만족하는 데이터만 뽑아서 정렬하려 합니다.\n",
    "\n",
    "- 예를 들어 다음과 같이 데이터가 주어진다면\n",
    "\n",
    "```plaintext\n",
    "data = [[1, 20300104, 100, 80], [2, 20300804, 847, 37], [3, 20300401, 10, 8]]\n",
    "```\n",
    "\n",
    "- 이 데이터는 다음 표처럼 나타낼 수 있습니다.\n",
    "\n",
    "| code | date | maximum | remain |\n",
    "|---|---|---|---|\n",
    "| 1 | 20300104 | 100 | 80 |\n",
    "| 2 | 20300804 | 847 | 37 |\n",
    "| 3 | 20300401 | 10 | 8 |\n",
    "\n",
    "- 주어진 데이터 중 \"제조일이 20300501 이전인 물건들을 현재 수량이 적은 순서\"로 정렬해야 한다면 조건에 맞게 가공된 데이터는 다음과 같습니다.\n",
    "\n",
    "```plaintext\n",
    "data = [[3,20300401,10,8],[1,20300104,100,80]]\n",
    "```\n",
    "\n",
    "- 정렬한 데이터들이 담긴 이차원 정수 리스트 `data`와 어떤 정보를 기준으로 데이터를 뽑아낼지를 의미하는 문자열 `ext`, 뽑아낼 정보의 기준값을 나타내는 정수 `val_ext`, 정보를 정렬할 기준이 되는 문자열 `sort_by`가 주어집니다.\n",
    "\n",
    "- `data`에서 `ext` 값이 `val_ext`보다 작은 데이터만 뽑은 후, `sort_by`에 해당하는 값을 기준으로 오름차순으로 정렬하여 return 하도록 solution 함수를 완성해 주세요. 단, 조건을 만족하는 데이터는 항상 한 개 이상 존재합니다.\n",
    "\n",
    "#### 제한사항\n",
    "\n",
    "- 1 ≤ `data`의 길이 ≤ 500\n",
    "    - `data[i]`의 원소는 [코드 번호(code), 제조일(date), 최대 수량(maximum), 현재 수량(remain)] 형태입니다.\n",
    "    - 1 ≤ 코드 번호≤ 100,000\n",
    "    - 20000101 ≤ 제조일≤ 29991231\n",
    "    - `data[i][1]`은 yyyymmdd 형태의 값을 가지며, 올바른 날짜만 주어집니다. (yyyy : 연도, mm : 월, dd : 일)\n",
    "    - 1 ≤ 최대 수량≤ 10,000\n",
    "    - 1 ≤ 현재 수량≤ 최대 수량\n",
    "\n",
    "- `ext`와 `sort_by`의 값은 다음 중 한 가지를 가집니다.\n",
    "    - \"code\", \"date\", \"maximum\", \"remain\"\n",
    "    - 순서대로 코드 번호, 제조일, 최대 수량, 현재 수량을 의미합니다.\n",
    "\n",
    "- `val_ext`는 `ext`에 따라 올바른 범위의 숫자로 주어집니다.\n",
    "- 정렬 기준에 해당하는 값이 서로 같은 경우는 없습니다.\n",
    "\n",
    "#### 입출력 예\n",
    "| data | ext | val_ext | sort_by | result |\n",
    "|---|---|---|---|---|\n",
    "| [[1, 20300104, 100, 80], [2, 20300804, 847, 37], [3, 20300401, 10, 8]] | \"date\" | 20300501 | \"remain\" | [[3,20300401,10,8],[1,20300104,100,80]] |"
   ]
  },
  {
   "cell_type": "code",
   "execution_count": 1,
   "metadata": {},
   "outputs": [
    {
     "name": "stdout",
     "output_type": "stream",
     "text": [
      "[[3, 20300401, 10, 8], [1, 20300104, 100, 80]]\n"
     ]
    }
   ],
   "source": [
    "def solution(data, ext, val_ext, sort_by):\n",
    "    columns = {\n",
    "        \"code\": 0,\n",
    "        \"date\": 1,\n",
    "        \"maximum\": 2,\n",
    "        \"remain\": 3\n",
    "    }\n",
    "    \n",
    "    filtered_data = [item for item in data if item[columns[ext]] < val_ext]\n",
    "    \n",
    "    sorted_data = sorted(filtered_data, key=lambda x: x[columns[sort_by]])\n",
    "    \n",
    "    return sorted_data\n",
    "\n",
    "print(solution([[1, 20300104, 100, 80], [2, 20300804, 847, 37], [3, 20300401, 10, 8]], \"date\", 20300501, \"remain\")) # [[3,20300401,10,8],[1,20300104,100,80]]"
   ]
  }
 ],
 "metadata": {
  "kernelspec": {
   "display_name": "base",
   "language": "python",
   "name": "python3"
  },
  "language_info": {
   "codemirror_mode": {
    "name": "ipython",
    "version": 3
   },
   "file_extension": ".py",
   "mimetype": "text/x-python",
   "name": "python",
   "nbconvert_exporter": "python",
   "pygments_lexer": "ipython3",
   "version": "3.12.7"
  }
 },
 "nbformat": 4,
 "nbformat_minor": 2
}
