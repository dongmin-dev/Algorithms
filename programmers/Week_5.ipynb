{
 "cells": [
  {
   "cell_type": "markdown",
   "metadata": {},
   "source": [
    "### 추억 점수\n",
    "\n",
    "- 사진들을 보며 추억에 젖어 있던 루는 사진별로 추억 점수를 매길려고 합니다. 사진 속에 나오는 인물의 그리움 점수를 모두 합산한 값이 해당 사진의 추억 점수가 됩니다. 예를 들어 사진 속 인물의 이름이 [\"may\", \"kein\", \"kain\"]이고 각 인물의 그리움 점수가 [5점, 10점, 1점]일 때 해당 사진의 추억 점수는 16(5 + 10 + 1)점이 됩니다. 다른 사진 속 인물의 이름이 [\"kali\", \"mari\", \"don\", \"tony\"]이고 [\"kali\", \"mari\", \"don\"]의 그리움 점수가 각각 [11점, 1점, 55점]이고, \"tony\"는 그리움 점수가 없을 때, 이 사진의 추억 점수는 3명의 그리움 점수를 합한 67(11 + 1 + 55)점입니다.\n",
    "\n",
    "- 그리워하는 사람의 이름을 담은 문자열 배열 name, 각 사람별 그리움 점수를 담은 정수 배열 yearning, 각 사진에 찍힌 인물의 이름을 담은 이차원 문자열 배열 photo가 매개변수로 주어질 때, 사진들의 추억 점수를 photo에 주어진 순서대로 배열에 담아 return하는 solution 함수를 완성해주세요.\n",
    "\n",
    "#### 제한사항\n",
    "\n",
    "- 3 ≤ name의 길이 = yearning의 길이≤ 100\n",
    "    - 3 ≤ name의 원소의 길이 ≤ 7\n",
    "    - name의 원소들은 알파벳 소문자로만 이루어져 있습니다.\n",
    "    - name에는 중복된 값이 들어가지 않습니다.\n",
    "    - 1 ≤ yearning[i] ≤ 100\n",
    "    - yearning[i]는 i번째 사람의 그리움 점수입니다.\n",
    "\n",
    "- 3 ≤ photo의 길이 ≤ 100\n",
    "    - 1 ≤ photo[i]의 길이 ≤ 100\n",
    "    - 3 ≤ photo[i]의 원소(문자열)의 길이 ≤ 7\n",
    "    - photo[i]의 원소들은 알파벳 소문자로만 이루어져 있습니다.\n",
    "    - photo[i]의 원소들은 중복된 값이 들어가지 않습니다.\n",
    "\n",
    "#### 입출력 예\n",
    "| name | yearning | photo | result |\n",
    "|---|---|---|---|\n",
    "| [\"may\", \"kein\", \"kain\", \"radi\"] | [5, 10, 1, 3] | [[\"may\", \"kein\", \"kain\", \"radi\"], [\"may\", \"kein\", \"brin\", \"deny\"], [\"kon\", \"kain\", \"may\", \"coni\"]] | [19, 15, 6] |\n",
    "| [\"kali\", \"mari\", \"don\"] | [11, 1, 55] | [[\"kali\", \"mari\", \"don\"], [\"pony\", \"tom\", \"teddy\"], [\"con\", \"mona\", \"don\"]] | [67, 0, 55] |\n",
    "| [\"may\", \"kein\", \"kain\", \"radi\"] | [5, 10, 1, 3] | [[\"may\"],[\"kein\", \"deny\", \"may\"], [\"kon\", \"coni\"]] | [5, 15, 0] |"
   ]
  },
  {
   "cell_type": "code",
   "execution_count": 4,
   "metadata": {},
   "outputs": [
    {
     "name": "stdout",
     "output_type": "stream",
     "text": [
      "[19, 15, 6]\n",
      "[67, 0, 55]\n",
      "[5, 15, 0]\n"
     ]
    }
   ],
   "source": [
    "def solution(name, yearning, photo):\n",
    "    yearning_dict = {n: y for n, y in zip(name, yearning)}\n",
    "    answer = []\n",
    "    \n",
    "    for p in photo:\n",
    "        total = 0\n",
    "        for person in p:\n",
    "            total += yearning_dict.get(person, 0)\n",
    "        answer.append(total)\n",
    "    \n",
    "    return answer\n",
    "\n",
    "print(solution([\"may\", \"kein\", \"kain\", \"radi\"], [5, 10, 1, 3], [[\"may\", \"kein\", \"kain\", \"radi\"], [\"may\", \"kein\", \"brin\", \"deny\"], [\"kon\", \"kain\", \"may\", \"coni\"]])) # [19, 15, 6]\n",
    "print(solution([\"kali\", \"mari\", \"don\"], [11, 1, 55], [[\"kali\", \"mari\", \"don\"], [\"pony\", \"tom\", \"teddy\"], [\"con\", \"mona\", \"don\"]]))                                  # [67, 0, 55]\n",
    "print(solution([\"may\", \"kein\", \"kain\", \"radi\"], [5, 10, 1, 3], [[\"may\"],[\"kein\", \"deny\", \"may\"], [\"kon\", \"coni\"]]))                                                 # [5, 15, 0]"
   ]
  },
  {
   "cell_type": "code",
   "execution_count": 6,
   "metadata": {},
   "outputs": [
    {
     "name": "stdout",
     "output_type": "stream",
     "text": [
      "[19, 15, 6]\n",
      "[67, 0, 55]\n",
      "[5, 15, 0]\n"
     ]
    }
   ],
   "source": [
    "# for 루프 구조 개선\n",
    "def solution(name, yearning, photo):\n",
    "    yearning_dict = {n: y for n, y in zip(name, yearning)}\n",
    "    answer = []\n",
    "    \n",
    "    for p in photo:\n",
    "        total = sum(yearning_dict.get(person, 0) for person in p)\n",
    "        answer.append(total)\n",
    "    \n",
    "    return answer\n",
    "\n",
    "print(solution([\"may\", \"kein\", \"kain\", \"radi\"], [5, 10, 1, 3], [[\"may\", \"kein\", \"kain\", \"radi\"], [\"may\", \"kein\", \"brin\", \"deny\"], [\"kon\", \"kain\", \"may\", \"coni\"]])) # [19, 15, 6]\n",
    "print(solution([\"kali\", \"mari\", \"don\"], [11, 1, 55], [[\"kali\", \"mari\", \"don\"], [\"pony\", \"tom\", \"teddy\"], [\"con\", \"mona\", \"don\"]]))                                  # [67, 0, 55]\n",
    "print(solution([\"may\", \"kein\", \"kain\", \"radi\"], [5, 10, 1, 3], [[\"may\"],[\"kein\", \"deny\", \"may\"], [\"kon\", \"coni\"]]))                                                 # [5, 15, 0]"
   ]
  },
  {
   "cell_type": "code",
   "execution_count": 5,
   "metadata": {},
   "outputs": [
    {
     "name": "stdout",
     "output_type": "stream",
     "text": [
      "[19, 15, 6]\n",
      "[67, 0, 55]\n",
      "[5, 15, 0]\n"
     ]
    }
   ],
   "source": [
    "# 다른 풀이법\n",
    "def solution(name, yearning, photo):\n",
    "    return [sum(yearning[name.index(j)] for j in i if j in name) for i in photo]\n",
    "\n",
    "print(solution([\"may\", \"kein\", \"kain\", \"radi\"], [5, 10, 1, 3], [[\"may\", \"kein\", \"kain\", \"radi\"], [\"may\", \"kein\", \"brin\", \"deny\"], [\"kon\", \"kain\", \"may\", \"coni\"]])) # [19, 15, 6]\n",
    "print(solution([\"kali\", \"mari\", \"don\"], [11, 1, 55], [[\"kali\", \"mari\", \"don\"], [\"pony\", \"tom\", \"teddy\"], [\"con\", \"mona\", \"don\"]]))                                  # [67, 0, 55]\n",
    "print(solution([\"may\", \"kein\", \"kain\", \"radi\"], [5, 10, 1, 3], [[\"may\"],[\"kein\", \"deny\", \"may\"], [\"kon\", \"coni\"]]))                                                 # [5, 15, 0]"
   ]
  }
 ],
 "metadata": {
  "kernelspec": {
   "display_name": "base",
   "language": "python",
   "name": "python3"
  },
  "language_info": {
   "codemirror_mode": {
    "name": "ipython",
    "version": 3
   },
   "file_extension": ".py",
   "mimetype": "text/x-python",
   "name": "python",
   "nbconvert_exporter": "python",
   "pygments_lexer": "ipython3",
   "version": "3.12.7"
  }
 },
 "nbformat": 4,
 "nbformat_minor": 2
}
