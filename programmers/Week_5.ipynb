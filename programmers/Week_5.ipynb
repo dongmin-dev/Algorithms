{
 "cells": [
  {
   "cell_type": "markdown",
   "metadata": {},
   "source": [
    "### 추억 점수\n",
    "\n",
    "- 사진들을 보며 추억에 젖어 있던 루는 사진별로 추억 점수를 매길려고 합니다. 사진 속에 나오는 인물의 그리움 점수를 모두 합산한 값이 해당 사진의 추억 점수가 됩니다. 예를 들어 사진 속 인물의 이름이 [\"may\", \"kein\", \"kain\"]이고 각 인물의 그리움 점수가 [5점, 10점, 1점]일 때 해당 사진의 추억 점수는 16(5 + 10 + 1)점이 됩니다. 다른 사진 속 인물의 이름이 [\"kali\", \"mari\", \"don\", \"tony\"]이고 [\"kali\", \"mari\", \"don\"]의 그리움 점수가 각각 [11점, 1점, 55점]이고, \"tony\"는 그리움 점수가 없을 때, 이 사진의 추억 점수는 3명의 그리움 점수를 합한 67(11 + 1 + 55)점입니다.\n",
    "\n",
    "- 그리워하는 사람의 이름을 담은 문자열 배열 `name`, 각 사람별 그리움 점수를 담은 정수 배열 `yearning`, 각 사진에 찍힌 인물의 이름을 담은 이차원 문자열 배열 `photo`가 매개변수로 주어질 때, 사진들의 추억 점수를 `photo`에 주어진 순서대로 배열에 담아 return하는 solution 함수를 완성해주세요.\n",
    "\n",
    "#### 제한사항\n",
    "\n",
    "- 3 ≤ `name`의 길이 = `yearning`의 길이≤ 100\n",
    "    - 3 ≤ `name`의 원소의 길이 ≤ 7\n",
    "    - `name`의 원소들은 알파벳 소문자로만 이루어져 있습니다.\n",
    "    - `name`에는 중복된 값이 들어가지 않습니다.\n",
    "    - 1 ≤ `yearning[i]` ≤ 100\n",
    "    - `yearning[i]`는 i번째 사람의 그리움 점수입니다.\n",
    "\n",
    "- 3 ≤ `photo`의 길이 ≤ 100\n",
    "    - 1 ≤ `photo[i]`의 길이 ≤ 100\n",
    "    - 3 ≤ `photo[i]`의 원소(문자열)의 길이 ≤ 7\n",
    "    - `photo[i]`의 원소들은 알파벳 소문자로만 이루어져 있습니다.\n",
    "    - `photo[i]`의 원소들은 중복된 값이 들어가지 않습니다.\n",
    "\n",
    "#### 입출력 예\n",
    "| name | yearning | photo | result |\n",
    "|---|---|---|---|\n",
    "| [\"may\", \"kein\", \"kain\", \"radi\"] | [5, 10, 1, 3] | [[\"may\", \"kein\", \"kain\", \"radi\"], [\"may\", \"kein\", \"brin\", \"deny\"], [\"kon\", \"kain\", \"may\", \"coni\"]] | [19, 15, 6] |\n",
    "| [\"kali\", \"mari\", \"don\"] | [11, 1, 55] | [[\"kali\", \"mari\", \"don\"], [\"pony\", \"tom\", \"teddy\"], [\"con\", \"mona\", \"don\"]] | [67, 0, 55] |\n",
    "| [\"may\", \"kein\", \"kain\", \"radi\"] | [5, 10, 1, 3] | [[\"may\"],[\"kein\", \"deny\", \"may\"], [\"kon\", \"coni\"]] | [5, 15, 0] |"
   ]
  },
  {
   "cell_type": "code",
   "execution_count": 4,
   "metadata": {},
   "outputs": [
    {
     "name": "stdout",
     "output_type": "stream",
     "text": [
      "[19, 15, 6]\n",
      "[67, 0, 55]\n",
      "[5, 15, 0]\n"
     ]
    }
   ],
   "source": [
    "def solution(name, yearning, photo):\n",
    "    yearning_dict = {n: y for n, y in zip(name, yearning)}\n",
    "    answer = []\n",
    "    \n",
    "    for p in photo:\n",
    "        total = 0\n",
    "        for person in p:\n",
    "            total += yearning_dict.get(person, 0)\n",
    "        answer.append(total)\n",
    "    \n",
    "    return answer\n",
    "\n",
    "print(solution([\"may\", \"kein\", \"kain\", \"radi\"], [5, 10, 1, 3], [[\"may\", \"kein\", \"kain\", \"radi\"], [\"may\", \"kein\", \"brin\", \"deny\"], [\"kon\", \"kain\", \"may\", \"coni\"]])) # [19, 15, 6]\n",
    "print(solution([\"kali\", \"mari\", \"don\"], [11, 1, 55], [[\"kali\", \"mari\", \"don\"], [\"pony\", \"tom\", \"teddy\"], [\"con\", \"mona\", \"don\"]]))                                  # [67, 0, 55]\n",
    "print(solution([\"may\", \"kein\", \"kain\", \"radi\"], [5, 10, 1, 3], [[\"may\"],[\"kein\", \"deny\", \"may\"], [\"kon\", \"coni\"]]))                                                 # [5, 15, 0]"
   ]
  },
  {
   "cell_type": "code",
   "execution_count": 6,
   "metadata": {},
   "outputs": [
    {
     "name": "stdout",
     "output_type": "stream",
     "text": [
      "[19, 15, 6]\n",
      "[67, 0, 55]\n",
      "[5, 15, 0]\n"
     ]
    }
   ],
   "source": [
    "# for 루프 구조 개선\n",
    "def solution(name, yearning, photo):\n",
    "    yearning_dict = {n: y for n, y in zip(name, yearning)}\n",
    "    answer = []\n",
    "    \n",
    "    for p in photo:\n",
    "        total = sum(yearning_dict.get(person, 0) for person in p)\n",
    "        answer.append(total)\n",
    "    \n",
    "    return answer\n",
    "\n",
    "print(solution([\"may\", \"kein\", \"kain\", \"radi\"], [5, 10, 1, 3], [[\"may\", \"kein\", \"kain\", \"radi\"], [\"may\", \"kein\", \"brin\", \"deny\"], [\"kon\", \"kain\", \"may\", \"coni\"]])) # [19, 15, 6]\n",
    "print(solution([\"kali\", \"mari\", \"don\"], [11, 1, 55], [[\"kali\", \"mari\", \"don\"], [\"pony\", \"tom\", \"teddy\"], [\"con\", \"mona\", \"don\"]]))                                  # [67, 0, 55]\n",
    "print(solution([\"may\", \"kein\", \"kain\", \"radi\"], [5, 10, 1, 3], [[\"may\"],[\"kein\", \"deny\", \"may\"], [\"kon\", \"coni\"]]))                                                 # [5, 15, 0]"
   ]
  },
  {
   "cell_type": "code",
   "execution_count": 5,
   "metadata": {},
   "outputs": [
    {
     "name": "stdout",
     "output_type": "stream",
     "text": [
      "[19, 15, 6]\n",
      "[67, 0, 55]\n",
      "[5, 15, 0]\n"
     ]
    }
   ],
   "source": [
    "# 다른 풀이법\n",
    "def solution(name, yearning, photo):\n",
    "    return [sum(yearning[name.index(j)] for j in i if j in name) for i in photo]\n",
    "\n",
    "print(solution([\"may\", \"kein\", \"kain\", \"radi\"], [5, 10, 1, 3], [[\"may\", \"kein\", \"kain\", \"radi\"], [\"may\", \"kein\", \"brin\", \"deny\"], [\"kon\", \"kain\", \"may\", \"coni\"]])) # [19, 15, 6]\n",
    "print(solution([\"kali\", \"mari\", \"don\"], [11, 1, 55], [[\"kali\", \"mari\", \"don\"], [\"pony\", \"tom\", \"teddy\"], [\"con\", \"mona\", \"don\"]]))                                  # [67, 0, 55]\n",
    "print(solution([\"may\", \"kein\", \"kain\", \"radi\"], [5, 10, 1, 3], [[\"may\"],[\"kein\", \"deny\", \"may\"], [\"kon\", \"coni\"]]))                                                 # [5, 15, 0]"
   ]
  },
  {
   "cell_type": "markdown",
   "metadata": {},
   "source": [
    "### 공원 산책\n",
    "\n",
    "- 지나다니는 길을 'O', 장애물을 'X'로 나타낸 직사각형 격자 모양의 공원에서 로봇 강아지가 산책을 하려합니다. 산책은 로봇 강아지에 미리 입력된 명령에 따라 진행하며, 명령은 다음과 같은 형식으로 주어집니다.\n",
    "\n",
    "    - [\"방향 거리\", \"방향 거리\" … ]\n",
    "\n",
    "- 예를 들어 \"E 5\"는 로봇 강아지가 현재 위치에서 동쪽으로 5칸 이동했다는 의미입니다. 로봇 강아지는 명령을 수행하기 전에 다음 두 가지를 먼저 확인합니다.\n",
    "\n",
    "    - 주어진 방향으로 이동할 때 공원을 벗어나는지 확인합니다.\n",
    "\n",
    "    - 주어진 방향으로 이동 중 장애물을 만나는지 확인합니다.\n",
    "\n",
    "- 위 두 가지중 어느 하나라도 해당된다면, 로봇 강아지는 해당 명령을 무시하고 다음 명령을 수행합니다.\n",
    "\n",
    "- 공원의 가로 길이가 W, 세로 길이가 H라고 할 때, 공원의 좌측 상단의 좌표는 (0, 0), 우측 하단의 좌표는 (H - 1, W - 1) 입니다.\n",
    "\n",
    "![공원산책](assets/공원산책.png)\n",
    "\n",
    "- 공원을 나타내는 문자열 배열 `park`, 로봇 강아지가 수행할 명령이 담긴 문자열 배열 `routes`가 매개변수로 주어질 때, 로봇 강아지가 모든 명령을 수행 후 놓인 위치를 [세로 방향 좌표, 가로 방향 좌표] 순으로 배열에 담아 return 하도록 solution 함수를 완성해주세요.\n",
    "\n",
    "#### 제한사항\n",
    "\n",
    "- 3 ≤ `park`의 길이 ≤ 50\n",
    "    - 3 ≤ `park[i]`의 길이 ≤ 50\n",
    "        - `park[i]`는 다음 문자들로 이루어져 있으며 시작지점은 하나만 주어집니다.\n",
    "            - S : 시작 지점\n",
    "            - O : 이동 가능한 통로\n",
    "            - X : 장애물\n",
    "        - `park`는 직사각형 모양입니다.\n",
    "\n",
    "- 1 ≤ `routes`의 길이 ≤ 50\n",
    "    - `routes`의 각 원소는 로봇 강아지가 수행할 명령어를 나타냅니다.\n",
    "    - 로봇 강아지는 `routes`의 첫 번째 원소부터 순서대로 명령을 수행합니다.\n",
    "    - `routes`의 원소는 \"op n\"과 같은 구조로 이루어져 있으며, op는 이동할 방향, n은 이동할 칸의 수를 의미합니다.\n",
    "        - op는 다음 네 가지중 하나로 이루어져 있습니다.\n",
    "            - N : 북쪽으로 주어진 칸만큼 이동합니다.\n",
    "            - S : 남쪽으로 주어진 칸만큼 이동합니다.\n",
    "            - W : 서쪽으로 주어진 칸만큼 이동합니다.\n",
    "            - E : 동쪽으로 주어진 칸만큼 이동합니다.\n",
    "        - 1 ≤ n ≤ 9\n",
    "\n",
    "#### 입출력 예\n",
    "\n",
    "| park | routes | result |\n",
    "|---|---|---|\n",
    "| [\"SOO\",\"OOO\",\"OOO\"] | [\"E 2\",\"S 2\",\"W 1\"] | [2,1] |\n",
    "| [\"SOO\",\"OXX\",\"OOO\"] | [\"E 2\",\"S 2\",\"W 1\"] | [0,1] |\n",
    "| [\"OSO\",\"OOO\",\"OXO\",\"OOO\"] | [\"E 2\",\"S 3\",\"W 1\"] | [0,0] |"
   ]
  },
  {
   "cell_type": "code",
   "execution_count": 21,
   "metadata": {},
   "outputs": [
    {
     "name": "stdout",
     "output_type": "stream",
     "text": [
      "[2, 1]\n",
      "[0, 1]\n",
      "[0, 0]\n"
     ]
    }
   ],
   "source": [
    "def solution(park, routes):\n",
    "    for a, b in enumerate(park):\n",
    "        if 'S' in b:\n",
    "            h = a\n",
    "            w = b.index('S')\n",
    "    answer = [h, w]\n",
    "    \n",
    "    directions = {'N': (-1, 0), 'S': (1, 0), 'W': (0, -1), 'E': (0, 1)}\n",
    "    for route in routes:\n",
    "        result = answer.copy()\n",
    "        route = route.split()\n",
    "        op, n = route\n",
    "        dh, dw = directions[op]\n",
    "        for _ in range(int(n)):\n",
    "            nh, nw = result[0] + dh, result[1] + dw\n",
    "            if nh < 0 or nh >= len(park) or nw < 0 or nw >= len(park[0]) or park[nh][nw] == 'X':\n",
    "                break\n",
    "            result = [nh, nw]\n",
    "        else:\n",
    "            answer = result\n",
    "    \n",
    "    return answer\n",
    "\n",
    "print(solution([\"SOO\",\n",
    "                \"OOO\",\n",
    "                \"OOO\"], [\"E 2\", \"S 2\", \"W 1\"])) # [2, 1]\n",
    "print(solution([\"SOO\",\n",
    "                \"OXX\",\n",
    "                \"OOO\"], [\"E 2\", \"S 2\", \"W 1\"])) # [0, 1]\n",
    "print(solution([\"OSO\",\n",
    "                \"OOO\",\n",
    "                \"OXO\",\n",
    "                \"OOO\"], [\"E 2\", \"S 3\", \"W 1\"])) # [0, 0]"
   ]
  },
  {
   "cell_type": "code",
   "execution_count": 22,
   "metadata": {},
   "outputs": [
    {
     "name": "stdout",
     "output_type": "stream",
     "text": [
      "[2, 1]\n",
      "[0, 1]\n",
      "[0, 0]\n"
     ]
    }
   ],
   "source": [
    "# 다른 풀이법\n",
    "class Dog:\n",
    "    def __init__(self, x, y):\n",
    "        self.x = x\n",
    "        self.y = y\n",
    "        self.g = {\"N\": (-1, 0), \"W\": (0, -1), \"E\": (0, 1), \"S\": (1, 0)}\n",
    "\n",
    "    def move(self, park, direction, distance):\n",
    "        i, j = self.g[direction]\n",
    "        x, y = self.x + (i * distance), self.y + (j * distance)\n",
    "        if x < 0 or y < 0 or x >= len(park) or y >= len(park[0]):\n",
    "            return park\n",
    "        elif \"X\" in park[x][min(self.y, y) : max(self.y, y) + 1] or \"X\" in [\n",
    "            row[y] for row in park[min(self.x, x) : max(self.x, x)]\n",
    "        ]:\n",
    "            return park\n",
    "        park[self.x][self.y] = \"O\"\n",
    "        park[x][y] = \"S\"\n",
    "        self.x = x\n",
    "        self.y = y\n",
    "        return park\n",
    "\n",
    "    @classmethod\n",
    "    def detect_start_dogs_location(self, park):\n",
    "        for i, row in enumerate(park):\n",
    "            for j, item in enumerate(row):\n",
    "                if item == \"S\":\n",
    "                    return i, j\n",
    "\n",
    "\n",
    "def solution(park, routes):\n",
    "    park = [list(row) for row in park]\n",
    "    x, y = Dog.detect_start_dogs_location(park)\n",
    "\n",
    "    dog = Dog(x, y)\n",
    "\n",
    "    for route in routes:\n",
    "        direction, distance = route.split()\n",
    "        park = dog.move(park, direction, int(distance))\n",
    "\n",
    "    return [dog.x, dog.y]\n",
    "\n",
    "print(solution([\"SOO\",\n",
    "                \"OOO\",\n",
    "                \"OOO\"], [\"E 2\", \"S 2\", \"W 1\"])) # [2, 1]\n",
    "print(solution([\"SOO\",\n",
    "                \"OXX\",\n",
    "                \"OOO\"], [\"E 2\", \"S 2\", \"W 1\"])) # [0, 1]\n",
    "print(solution([\"OSO\",\n",
    "                \"OOO\",\n",
    "                \"OXO\",\n",
    "                \"OOO\"], [\"E 2\", \"S 3\", \"W 1\"])) # [0, 0]"
   ]
  },
  {
   "cell_type": "code",
   "execution_count": 23,
   "metadata": {},
   "outputs": [
    {
     "name": "stdout",
     "output_type": "stream",
     "text": [
      "[2, 1]\n",
      "[0, 1]\n",
      "[0, 0]\n"
     ]
    }
   ],
   "source": [
    "# 다른 풀이법\n",
    "def solution(park, routes):\n",
    "    W = len(park[0])\n",
    "    park = [['X']*(W+2)] + [[*'X'+i+'X'] for i in park] + [['X']*(W+2)]\n",
    "\n",
    "    x,y = 1,0\n",
    "    while park[x][y]!='S':\n",
    "        y += 1\n",
    "        if y>W:\n",
    "            x,y = x+1,0\n",
    "\n",
    "    delta = {k:v for k,v in zip('NEWS',[(-1,0),(0,1),(0,-1),(1,0)])}\n",
    "    for i in routes:\n",
    "        v,d = i.split()\n",
    "        for k in range(1,int(d)+1):\n",
    "            X,Y = x+k*delta[v][0], y+k*delta[v][1]\n",
    "            if park[X][Y]=='X':\n",
    "                break\n",
    "        else:\n",
    "            x,y = X,Y\n",
    "    return [x-1,y-1]\n",
    "\n",
    "print(solution([\"SOO\",\n",
    "                \"OOO\",\n",
    "                \"OOO\"], [\"E 2\", \"S 2\", \"W 1\"])) # [2, 1]\n",
    "print(solution([\"SOO\",\n",
    "                \"OXX\",\n",
    "                \"OOO\"], [\"E 2\", \"S 2\", \"W 1\"])) # [0, 1]\n",
    "print(solution([\"OSO\",\n",
    "                \"OOO\",\n",
    "                \"OXO\",\n",
    "                \"OOO\"], [\"E 2\", \"S 3\", \"W 1\"])) # [0, 0]"
   ]
  },
  {
   "cell_type": "markdown",
   "metadata": {},
   "source": [
    "### 바탕화면 정리 (HARD) (Couldn't solve)\n",
    "\n",
    "- 코딩테스트를 준비하는 머쓱이는 프로그래머스에서 문제를 풀고 나중에 다시 코드를 보면서 공부하려고 작성한 코드를 컴퓨터 바탕화면에 아무 위치에나 저장해 둡니다. 저장한 코드가 많아지면서 머쓱이는 본인의 컴퓨터 바탕화면이 너무 지저분하다고 생각했습니다. 프로그래머스에서 작성했던 코드는 그 문제에 가서 다시 볼 수 있기 때문에 저장해 둔 파일들을 전부 삭제하기로 했습니다.\n",
    "\n",
    "- 컴퓨터 바탕화면은 각 칸이 정사각형인 격자판입니다. 이때 컴퓨터 바탕화면의 상태를 나타낸 문자열 배열 `wallpaper`가 주어집니다. 파일들은 바탕화면의 격자칸에 위치하고 바탕화면의 격자점들은 바탕화면의 가장 왼쪽 위를 (0, 0)으로 시작해 (세로 좌표, 가로 좌표)로 표현합니다. 빈칸은 \".\", 파일이 있는 칸은 \"#\"의 값을 가집니다. 드래그를 하면 파일들을 선택할 수 있고, 선택된 파일들을 삭제할 수 있습니다. 머쓱이는 최소한의 이동거리를 갖는 한 번의 드래그로 모든 파일을 선택해서 한 번에 지우려고 하며 드래그로 파일들을 선택하는 방법은 다음과 같습니다.\n",
    "    - 드래그는 바탕화면의 격자점 S(`lux`, `luy`)를 마우스 왼쪽 버튼으로 클릭한 상태로 격자점 E(`rdx`, `rdy`)로 이동한 뒤 마우스 왼쪽 버튼을 떼는 행동입니다. 이때, \"점 S에서 점 E로 드래그한다\"고 표현하고 점 S와 점 E를 각각 드래그의 시작점, 끝점이라고 표현합니다.\n",
    "    - 점 S(`lux`, `luy`)에서 점 E(`rdx`, `rdy`)로 드래그를 할 때, \"드래그 한 거리\"는 |`rdx` - `lux`| + |`rdy` - `luy`|로 정의합니다.\n",
    "    - 점 S에서 점 E로 드래그를 하면 바탕화면에서 두 격자점을 각각 왼쪽 위, 오른쪽 아래로 하는 직사각형 내부에 있는 모든 파일이 선택됩니다.\n",
    "\n",
    "- 예를 들어 `wallpaper` = [\".#...\", \"..#..\", \"...#.\"]인 바탕화면을 그림으로 나타내면 다음과 같습니다.\n",
    "\n",
    "![eg1](assets/바탕화면정리-1.png)\n",
    "\n",
    "- 이러한 바탕화면에서 다음 그림과 같이 S(0, 1)에서 E(3, 4)로 드래그하면 세 개의 파일이 모두 선택되므로 드래그 한 거리 (3 - 0) + (4 - 1) = 6을 최솟값으로 모든 파일을 선택 가능합니다.\n",
    "\n",
    "![eg2](assets/바탕화면정리-2.png)\n",
    "\n",
    "- (0, 0)에서 (3, 5)로 드래그해도 모든 파일을 선택할 수 있지만 이때 드래그 한 거리는 (3 - 0) + (5 - 0) = 8이고 이전의 방법보다 거리가 늘어납니다.\n",
    "\n",
    "- 머쓱이의 컴퓨터 바탕화면의 상태를 나타내는 문자열 배열 `wallpaper`가 매개변수로 주어질 때 바탕화면의 파일들을 한 번에 삭제하기 위해 최소한의 이동거리를 갖는 드래그의 시작점과 끝점을 담은 정수 배열을 return하는 solution 함수를 작성해 주세요. 드래그의 시작점이 (`lux`, `luy`), 끝점이 (`rdx`, `rdy`)라면 정수 배열 [`lux`, `luy`, `rdx`, `rdy`]를 return하면 됩니다.\n",
    "\n",
    "#### 제한사항\n",
    "\n",
    "- 1 ≤ `wallpaper`의 길이 ≤ 50\n",
    "\n",
    "- 1 ≤ `wallpaper[i]`의 길이 ≤ 50\n",
    "    - `wallpaper`의 모든 원소의 길이는 동일합니다.\n",
    "\n",
    "- `wallpaper[i][j]`는 바탕화면에서 i + 1행 j + 1열에 해당하는 칸의 상태를 나타냅니다.\n",
    "\n",
    "- `wallpaper[i][j]`는 \"#\" 또는 \".\"의 값만 가집니다.\n",
    "\n",
    "- 바탕화면에는 적어도 하나의 파일이 있습니다.\n",
    "\n",
    "- 드래그 시작점 (`lux`, `luy`)와 끝점 (`rdx`, `rdy`)는 `lux` < `rdx`, `luy` < `rdy`를 만족해야 합니다.\n",
    "\n",
    "#### 입출력 예\n",
    "\n",
    "| wallpaper | result |\n",
    "|---|---|\n",
    "| [\".#...\", \"..#..\", \"...#.\"] | [0, 1, 3, 4] |\n",
    "| [\"..........\", \".....#....\", \"......##..\", \"...##.....\", \"....#.....\"] | [1, 3, 5, 8] |\n",
    "| [\".##...##.\", \"#..#.#..#\", \"#...#...#\", \".#.....#.\", \"..#...#..\", \"...#.#...\", \"....#....\"] | [0, 0, 7, 9] |\n",
    "| [\"..\", \"#.\"] | [1, 0, 2, 1] |"
   ]
  },
  {
   "cell_type": "code",
   "execution_count": 2,
   "metadata": {},
   "outputs": [
    {
     "name": "stdout",
     "output_type": "stream",
     "text": [
      "[0, 1, 3, 4]\n",
      "[1, 3, 5, 8]\n",
      "[0, 0, 7, 9]\n",
      "[1, 0, 2, 1]\n"
     ]
    }
   ],
   "source": [
    "# by GPT-o1\n",
    "def solution(wallpaper):\n",
    "    rows, cols = len(wallpaper), len(wallpaper[0])\n",
    "    top, left = rows, cols\n",
    "    bottom, right = -1, -1\n",
    "\n",
    "    for i in range(rows):\n",
    "        for j in range(cols):\n",
    "            if wallpaper[i][j] == '#':\n",
    "                top = min(top, i)\n",
    "                bottom = max(bottom, i)\n",
    "                left = min(left, j)\n",
    "                right = max(right, j)\n",
    "\n",
    "    return [top, left, bottom + 1, right + 1]\n",
    "\n",
    "print(solution([\".#...\", \"..#..\", \"...#.\"]))                                                                    # [0, 1, 3, 4]\n",
    "print(solution([\"..........\", \".....#....\", \"......##..\", \"...##.....\", \"....#.....\"]))                         # [1, 3, 5, 8]\n",
    "print(solution([\".##...##.\", \"#..#.#..#\", \"#...#...#\", \".#.....#.\", \"..#...#..\", \"...#.#...\", \"....#....\"]))    # [0, 0, 7, 9]\n",
    "print(solution([\"..\", \"#.\"]))                                                                                   # [1, 0, 2, 1]"
   ]
  },
  {
   "cell_type": "code",
   "execution_count": 5,
   "metadata": {},
   "outputs": [
    {
     "name": "stdout",
     "output_type": "stream",
     "text": [
      "[0, 1, 3, 4]\n",
      "[1, 3, 5, 8]\n",
      "[0, 0, 7, 9]\n",
      "[1, 0, 2, 1]\n"
     ]
    }
   ],
   "source": [
    "# 다른 풀이법\n",
    "def solution(wall):\n",
    "    a, b = [], []\n",
    "    for i in range(len(wall)):\n",
    "        for j in range(len(wall[i])):\n",
    "            if wall[i][j] == \"#\":\n",
    "                a.append(i)\n",
    "                b.append(j)\n",
    "    return [min(a), min(b), max(a) + 1, max(b) + 1]\n",
    "\n",
    "print(solution([\".#...\", \"..#..\", \"...#.\"]))                                                                    # [0, 1, 3, 4]\n",
    "print(solution([\"..........\", \".....#....\", \"......##..\", \"...##.....\", \"....#.....\"]))                         # [1, 3, 5, 8]\n",
    "print(solution([\".##...##.\", \"#..#.#..#\", \"#...#...#\", \".#.....#.\", \"..#...#..\", \"...#.#...\", \"....#....\"]))    # [0, 0, 7, 9]\n",
    "print(solution([\"..\", \"#.\"]))                                                                                   # [1, 0, 2, 1]"
   ]
  },
  {
   "cell_type": "markdown",
   "metadata": {},
   "source": [
    "### 덧칠하기 (HARD)\n",
    "\n",
    "- 어느 학교에 페인트가 칠해진 길이가 `n`미터인 벽이 있습니다. 벽에 동아리 · 학회 홍보나 회사 채용 공고 포스터 등을 게시하기 위해 테이프로 붙였다가 철거할 때 떼는 일이 많고 그 과정에서 페인트가 벗겨지곤 합니다. 페인트가 벗겨진 벽이 보기 흉해져 학교는 벽에 페인트를 덧칠하기로 했습니다.\n",
    "\n",
    "- 넓은 벽 전체에 페인트를 새로 칠하는 대신, 구역을 나누어 일부만 페인트를 새로 칠 함으로써 예산을 아끼려 합니다. 이를 위해 벽을 1미터 길이의 구역 `n`개로 나누고, 각 구역에 왼쪽부터 순서대로 1번부터 `n`번까지 번호를 붙였습니다. 그리고 페인트를 다시 칠해야 할 구역들을 정했습니다.\n",
    "\n",
    "- 벽에 페인트를 칠하는 롤러의 길이는 `m`미터이고, 롤러로 벽에 페인트를 한 번 칠하는 규칙은 다음과 같습니다.\n",
    "    - 롤러가 벽에서 벗어나면 안 됩니다.\n",
    "    - 구역의 일부분만 포함되도록 칠하면 안 됩니다.\n",
    "\n",
    "- 즉, 롤러의 좌우측 끝을 구역의 경계선 혹은 벽의 좌우측 끝부분에 맞춘 후 롤러를 위아래로 움직이면서 벽을 칠합니다. 현재 페인트를 칠하는 구역들을 완전히 칠한 후 벽에서 롤러를 떼며, 이를 벽을 한 번 칠했다고 정의합니다.\n",
    "\n",
    "- 한 구역에 페인트를 여러 번 칠해도 되고 다시 칠해야 할 구역이 아닌 곳에 페인트를 칠해도 되지만 다시 칠하기로 정한 구역은 적어도 한 번 페인트칠을 해야 합니다. 예산을 아끼기 위해 다시 칠할 구역을 정했듯 마찬가지로 롤러로 페인트칠을 하는 횟수를 최소화하려고 합니다.\n",
    "\n",
    "- 정수 `n`, `m`과 다시 페인트를 칠하기로 정한 구역들의 번호가 담긴 정수 배열 `section`이 매개변수로 주어질 때 롤러로 페인트칠해야 하는 최소 횟수를 return 하는 solution 함수를 작성해 주세요.\n",
    "\n",
    "#### 제한사항\n",
    "\n",
    "- 1 ≤ `m` ≤ `n` ≤ 100,000\n",
    "\n",
    "- 1 ≤ `section`의 길이 ≤ `n`\n",
    "    - 1 ≤ `section`의 원소 ≤ `n`\n",
    "    - `section`의 원소는 페인트를 다시 칠해야 하는 구역의 번호입니다.\n",
    "    - `section`에서 같은 원소가 두 번 이상 나타나지 않습니다.\n",
    "    - `section`의 원소는 오름차순으로 정렬되어 있습니다.\n",
    "\n",
    "#### 입출력 예\n",
    "\n",
    "| n | m | section | result |\n",
    "|---|---|---|---|\n",
    "| 8 | 4 | [2, 3, 6] | 2 |\n",
    "| 5 | 4 | [1, 3] | 1 |\n",
    "| 4 | 1 | [1, 2, 3, 4] | 4 |"
   ]
  },
  {
   "cell_type": "code",
   "execution_count": 3,
   "metadata": {},
   "outputs": [
    {
     "name": "stdout",
     "output_type": "stream",
     "text": [
      "2\n",
      "1\n",
      "4\n"
     ]
    }
   ],
   "source": [
    "def solution(n, m, section):\n",
    "    answer = 0\n",
    "    \n",
    "    wall = [1 for _ in range(n)]\n",
    "    for i in section:\n",
    "        wall[i-1] = 0\n",
    "    \n",
    "    while 0 in wall:\n",
    "        idx = wall.index(0)\n",
    "        for i in range(idx, min(idx + m, n)):\n",
    "            wall[i] = 1\n",
    "        answer += 1\n",
    "    return answer\n",
    "\n",
    "print(solution(8, 4, [2,3,6]))      # 2\n",
    "print(solution(5, 4, [1,3]))        # 1\n",
    "print(solution(4, 1, [1,2,3,4]))    # 4"
   ]
  },
  {
   "cell_type": "code",
   "execution_count": 1,
   "metadata": {},
   "outputs": [
    {
     "name": "stdout",
     "output_type": "stream",
     "text": [
      "2\n",
      "1\n",
      "4\n"
     ]
    }
   ],
   "source": [
    "# 다른 풀이법 by GPT-o3-mini\n",
    "def solution(n, m, section):\n",
    "    answer = 0\n",
    "    current = 0\n",
    "    for s in section:\n",
    "        if s > current:\n",
    "            current = s + m - 1\n",
    "            answer += 1\n",
    "    return answer\n",
    "\n",
    "print(solution(8, 4, [2,3,6]))      # 2\n",
    "print(solution(5, 4, [1,3]))        # 1\n",
    "print(solution(4, 1, [1,2,3,4]))    # 4"
   ]
  },
  {
   "cell_type": "code",
   "execution_count": 4,
   "metadata": {},
   "outputs": [
    {
     "name": "stdout",
     "output_type": "stream",
     "text": [
      "2\n",
      "1\n",
      "4\n"
     ]
    }
   ],
   "source": [
    "# 다른 풀이법\n",
    "def solution(n, m, section):\n",
    "    answer = 1\n",
    "    prev = section[0]\n",
    "    for sec in section:\n",
    "        if sec - prev >= m:\n",
    "            prev = sec\n",
    "            answer += 1\n",
    "\n",
    "    return answer\n",
    "\n",
    "print(solution(8, 4, [2,3,6]))      # 2\n",
    "print(solution(5, 4, [1,3]))        # 1\n",
    "print(solution(4, 1, [1,2,3,4]))    # 4"
   ]
  }
 ],
 "metadata": {
  "kernelspec": {
   "display_name": "base",
   "language": "python",
   "name": "python3"
  },
  "language_info": {
   "codemirror_mode": {
    "name": "ipython",
    "version": 3
   },
   "file_extension": ".py",
   "mimetype": "text/x-python",
   "name": "python",
   "nbconvert_exporter": "python",
   "pygments_lexer": "ipython3",
   "version": "3.12.7"
  }
 },
 "nbformat": 4,
 "nbformat_minor": 2
}
