{
 "cells": [
  {
   "cell_type": "markdown",
   "metadata": {},
   "source": [
    "### 정수를 나선형으로 배치하기 (HARD)\n",
    "\n",
    "- 양의 정수 `n`이 매개변수로 주어집니다. `n` × `n` 배열에 1부터 `n`<sup>2</sup> 까지 정수를 인덱스 [0][0]부터 시계방향 나선형으로 배치한 이차원 배열을 return 하는 solution 함수를 작성해 주세요."
   ]
  },
  {
   "cell_type": "code",
   "execution_count": null,
   "metadata": {},
   "outputs": [
    {
     "name": "stdout",
     "output_type": "stream",
     "text": [
      "[[1, 2, 3, 4], [12, 13, 14, 5], [11, 16, 15, 6], [10, 9, 8, 7]]\n",
      "[[1, 2, 3, 4, 5], [16, 17, 18, 19, 6], [15, 24, 25, 20, 7], [14, 23, 22, 21, 8], [13, 12, 11, 10, 9]]\n"
     ]
    }
   ],
   "source": [
    "def solution(n):\n",
    "    answer = []\n",
    "    for _ in range(n):\n",
    "        tmp = []\n",
    "        for _ in range(n):\n",
    "            tmp.append(None)\n",
    "        answer.append(tmp)\n",
    "\n",
    "    numInsert = 1\n",
    "    change = 1\n",
    "    row, col = 0, -1\n",
    "\n",
    "    while True:\n",
    "        for _ in range(n):\n",
    "            col += change\n",
    "            answer[row][col] = numInsert\n",
    "            numInsert += 1\n",
    "        n -= 1\n",
    "\n",
    "        if n == 0:\n",
    "            break\n",
    "\n",
    "        for _ in range(n):\n",
    "            row += change\n",
    "            answer[row][col] = numInsert\n",
    "            numInsert += 1\n",
    "        change *= -1\n",
    "\n",
    "    return answer\n",
    "\n",
    "print(solution(4))  # [[1, 2, 3, 4], [12, 13, 14, 5], [11, 16, 15, 6], [10, 9, 8, 7]]\n",
    "print(solution(5))  # [[1, 2, 3, 4, 5], [16, 17, 18, 19, 6], [15, 24, 25, 20, 7], [14, 23, 22, 21, 8], [13, 12, 11, 10, 9]]\n",
    "\n",
    "# 다른 풀이법\n",
    "# 전혀 모르겠음\n",
    "def solution2(n):\n",
    "    answer = [[None for j in range(n)] for i in range(n)]\n",
    "    move = [[0, 1], [1, 0], [0, -1], [-1, 0]]\n",
    "    x, y, m = 0, 0, 0\n",
    "    for i in range(1, n**2 + 1):\n",
    "        answer[y][x] = i\n",
    "        if y + move[m][0] >= n or x + move[m][1] >= n or answer[y + move[m][0]][x + move[m][1]]:\n",
    "            m = (m + 1) % len(move)\n",
    "        y, x = y + move[m][0], x + move[m][1]\n",
    "    return answer"
   ]
  },
  {
   "cell_type": "markdown",
   "metadata": {},
   "source": [
    "### 특별한 이차원 배열 2 (Last solution: ★★★★★)\n",
    "\n",
    "- n × n 크기의 이차원 배열 `arr`이 매개변수로 주어질 때, `arr`이 다음을 만족하면 1을 아니라면 0을 return 하는 solution 함수를 작성해 주세요.\n",
    "\n",
    "    - 0 ≤ i, j < n인 정수 i, j에 대하여 `arr[i][j]` = `arr[j][i]`"
   ]
  },
  {
   "cell_type": "code",
   "execution_count": null,
   "metadata": {},
   "outputs": [
    {
     "name": "stdout",
     "output_type": "stream",
     "text": [
      "1\n",
      "0\n"
     ]
    }
   ],
   "source": [
    "def solution(arr):\n",
    "    cnt = 0\n",
    "    \n",
    "    for i in range(0, len(arr)):\n",
    "        for j in range(0, len(arr)):\n",
    "            if arr[i][j] == arr[j][i]:\n",
    "                cnt += 1\n",
    "    \n",
    "    if cnt == len(arr) * len(arr):\n",
    "        return 1\n",
    "    else:\n",
    "        return 0\n",
    "\n",
    "print(solution([[5, 192, 33], [192, 72, 95], [33, 95, 999]]))   # 1\n",
    "print(solution([[19, 498, 258, 587], [63, 93, 7, 754], [258, 7, 1000, 723], [587, 754, 723, 81]]))  # 0\n",
    "\n",
    "# 코드 구조 개선\n",
    "def solution2(arr):\n",
    "    for i in range(len(arr)):\n",
    "        for j in range(len(arr)):\n",
    "            if arr[i][j] != arr[j][i]:\n",
    "                return 0\n",
    "\n",
    "    return 1\n",
    "\n",
    "# 다른 풀이법\n",
    "def solution3(arr):\n",
    "    return int(arr == list(map(list, zip(*arr))))"
   ]
  },
  {
   "cell_type": "markdown",
   "metadata": {},
   "source": [
    "### 정사각형으로 만들기\n",
    "\n",
    "- 이차원 정수 배열 `arr`이 매개변수로 주어집니다. `arr`의 행의 수가 더 많다면 열의 수가 행의 수와 같아지도록 각 행의 끝에 0을 추가하고, 열의 수가 더 많다면 행의 수가 열의 수와 같아지도록 각 열의 끝에 0을 추가한 이차원 배열을 return 하는 solution 함수를 작성해 주세요."
   ]
  },
  {
   "cell_type": "code",
   "execution_count": null,
   "metadata": {},
   "outputs": [
    {
     "name": "stdout",
     "output_type": "stream",
     "text": [
      "[[572, 22, 37, 0], [287, 726, 384, 0], [85, 137, 292, 0], [487, 13, 876, 0]]\n",
      "[[57, 192, 534, 2], [9, 345, 192, 999], [0, 0, 0, 0], [0, 0, 0, 0]]\n",
      "[[1, 2], [3, 4]]\n"
     ]
    }
   ],
   "source": [
    "def solution(arr):\n",
    "    while True:\n",
    "        if len(arr) == len(arr[0]):\n",
    "            return arr\n",
    "        elif len(arr) < len(arr[0]):\n",
    "                arr.append([0 for i in range(len(arr[0]))])\n",
    "        else:\n",
    "            for i in range(len(arr)):\n",
    "                arr[i].append(0)\n",
    "\n",
    "print(solution([[572, 22, 37], [287, 726, 384], [85, 137, 292], [487, 13, 876]]))   # [[572, 22, 37, 0], [287, 726, 384, 0], [85, 137, 292, 0], [487, 13, 876, 0]]\n",
    "print(solution([[57, 192, 534, 2], [9, 345, 192, 999]]))                            # [[57, 192, 534, 2], [9, 345, 192, 999], [0, 0, 0, 0], [0, 0, 0, 0]]\n",
    "print(solution([[1, 2], [3, 4]]))                                                   # [[1, 2], [3, 4]]\n",
    "\n",
    "# 다른 풀이법\n",
    "def solution2(arr):\n",
    "    n = len(arr)\n",
    "    m = len(arr[0])\n",
    "    if n > m:\n",
    "        for i in range(n):\n",
    "            for j in range(n-m):\n",
    "                arr[i].append(0)\n",
    "    else:\n",
    "        for i in range(m-n):\n",
    "            arr.append([0]*m)\n",
    "\n",
    "    return arr\n",
    "\n",
    "# 다른 풀이법\n",
    "def solution3(arr):\n",
    "    answer = []\n",
    "    x = len(arr)\n",
    "    y = len(arr[0])\n",
    "    m = max(x, y)\n",
    "\n",
    "    answer=[[0]*m for i in range(m)]\n",
    "\n",
    "    for i in range(x):\n",
    "        for j in range(y):\n",
    "            answer[i][j] = arr[i][j]\n",
    "\n",
    "    return answer"
   ]
  },
  {
   "cell_type": "markdown",
   "metadata": {},
   "source": [
    "### 이차원 배열 대각선 순회하기\n",
    "\n",
    "- 2차원 정수 배열 `board`와 정수 `k`가 주어집니다.\n",
    "\n",
    "- `i` + `j` <= `k`를 만족하는 모든 (`i`, `j`)에 대한 `board[i][j]`의 합을 return 하는 solution 함수를 완성해 주세요."
   ]
  },
  {
   "cell_type": "code",
   "execution_count": null,
   "metadata": {},
   "outputs": [
    {
     "name": "stdout",
     "output_type": "stream",
     "text": [
      "8\n"
     ]
    }
   ],
   "source": [
    "def solution(board, k):\n",
    "    answer = 0\n",
    "    for i in range(len(board)):\n",
    "        for j in range(len(board[i])):\n",
    "            if i + j <= k:\n",
    "                answer += board[i][j]\n",
    "    return answer\n",
    "\n",
    "print(solution([[0, 1, 2],[1, 2, 3],[2, 3, 4],[3, 4, 5]], 2))   # 8\n",
    "\n",
    "# 다른 풀이법\n",
    "def solution2(board, k):\n",
    "    return sum(board[i][j] for i in range(len(board)) for j in range(len(board[0])) if i + j <= k)"
   ]
  }
 ],
 "metadata": {
  "kernelspec": {
   "display_name": "base",
   "language": "python",
   "name": "python3"
  },
  "language_info": {
   "codemirror_mode": {
    "name": "ipython",
    "version": 3
   },
   "file_extension": ".py",
   "mimetype": "text/x-python",
   "name": "python",
   "nbconvert_exporter": "python",
   "pygments_lexer": "ipython3",
   "version": "3.12.7"
  }
 },
 "nbformat": 4,
 "nbformat_minor": 2
}
