{
 "cells": [
  {
   "cell_type": "markdown",
   "metadata": {},
   "source": [
    "### 조건에 맞게 수열 변환하기 1\n",
    "- 정수 배열 `arr`가 주어집니다. `arr`의 각 원소에 대해 값이 50보다 크거나 같은 짝수라면 2로 나누고, 50보다 작은 홀수라면 2를 곱합니다. 그 결과인 정수 배열을 return 하는 solution 함수를 완성해 주세요."
   ]
  },
  {
   "cell_type": "code",
   "execution_count": 3,
   "metadata": {},
   "outputs": [
    {
     "name": "stdout",
     "output_type": "stream",
     "text": [
      "[2, 2, 6, 50, 99, 49]\n"
     ]
    }
   ],
   "source": [
    "def solution(arr):\n",
    "    for idx, i in enumerate(arr):\n",
    "        if i >= 50 and i % 2 == 0:\n",
    "            arr[idx] //= 2\n",
    "        elif i < 50 and i % 2 != 0:\n",
    "            arr[idx] *= 2\n",
    "    return arr\n",
    "\n",
    "print(solution([1, 2, 3, 100, 99, 98])) # [2, 2, 6, 50, 99, 49]\n",
    "\n",
    "# 다른 풀이법\n",
    "def solution2(arr):\n",
    "    return [num/2 if num>=50 and num%2==0 else (num*2 if num<50 and num%2==1 else num) for num in arr]"
   ]
  },
  {
   "cell_type": "markdown",
   "metadata": {},
   "source": [
    "### 조건에 맞게 수열 변환하기 2\n",
    "- 정수 배열 `arr`가 주어집니다. `arr`의 각 원소에 대해 값이 50보다 크거나 같은 짝수라면 2로 나누고, 50보다 작은 홀수라면 2를 곱하고 다시 1을 더합니다.\n",
    "- 이러한 작업을 `x`번 반복한 결과인 배열을 `arr(x)`라고 표현했을 때, `arr(x) = arr(x + 1)`인 `x`가 항상 존재합니다. 이러한 `x` 중 가장 작은 값을 return 하는 solution 함수를 완성해 주세요.\n",
    "- 단, 두 배열에 대한 \"=\"는 두 배열의 크기가 서로 같으며, 같은 인덱스의 원소가 각각 서로 같음을 의미합니다."
   ]
  },
  {
   "cell_type": "code",
   "execution_count": 3,
   "metadata": {},
   "outputs": [
    {
     "name": "stdout",
     "output_type": "stream",
     "text": [
      "5\n"
     ]
    }
   ],
   "source": [
    "def solution(arr):\n",
    "    count = 0\n",
    "    tmp = []\n",
    "    \n",
    "    while tmp != arr:\n",
    "        tmp = arr.copy()\n",
    "        \n",
    "        for idx, i in enumerate(arr):\n",
    "            if i >= 50 and i % 2 == 0:\n",
    "                arr[idx] //= 2\n",
    "            elif i < 50 and i % 2 != 0:\n",
    "                arr[idx] = arr[idx] * 2 + 1\n",
    "                \n",
    "        count += 1\n",
    "    \n",
    "    return count-1\n",
    "\n",
    "print(solution([1, 2, 3, 100, 99, 98])) # 5\n",
    "\n",
    "# 코드 구조 개선\n",
    "def solution2(arr):\n",
    "    count = 0\n",
    "    \n",
    "    while True:\n",
    "        tmp = arr.copy()\n",
    "        \n",
    "        for idx, i in enumerate(arr):\n",
    "            if i >= 50 and i % 2 == 0:\n",
    "                arr[idx] //= 2\n",
    "            elif i < 50 and i % 2 != 0:\n",
    "                arr[idx] = arr[idx] * 2 + 1\n",
    "                \n",
    "        count += 1\n",
    "        \n",
    "        if tmp == arr:\n",
    "            break\n",
    "    \n",
    "    return count - 1"
   ]
  },
  {
   "cell_type": "markdown",
   "metadata": {},
   "source": [
    "### 1로 만들기 (HARD)\n",
    "- 정수가 있을 때, 짝수라면 반으로 나누고, 홀수라면 1을 뺀 뒤 반으로 나누면, 마지막엔 1이 됩니다. 예를 들어 10이 있다면 다음과 같은 과정으로 1이 됩니다.\n",
    "    - 10 / 2 = 5\n",
    "    - (5 - 1) / 2 = 2\n",
    "    - 2 / 2 = 1\n",
    "- 위와 같이 3번의 나누기 연산으로 1이 되었습니다.\n",
    "- 정수들이 담긴 리스트 `num_list`가 주어질 때, `num_list`의 모든 원소를 1로 만들기 위해서 필요한 나누기 연산의 횟수를 return하도록 solution 함수를 완성해주세요."
   ]
  },
  {
   "cell_type": "code",
   "execution_count": 4,
   "metadata": {},
   "outputs": [
    {
     "name": "stdout",
     "output_type": "stream",
     "text": [
      "11\n"
     ]
    }
   ],
   "source": [
    "def solution(num_list):\n",
    "    answer = 0\n",
    "    for i in num_list:\n",
    "        while True:\n",
    "            if i == 1:\n",
    "                break\n",
    "            elif i % 2 == 0:\n",
    "                i //= 2\n",
    "                answer += 1\n",
    "            elif i % 2 != 0:\n",
    "                i = (i - 1) // 2\n",
    "                answer += 1\n",
    "    return answer\n",
    "\n",
    "print(solution([12, 4, 15, 1, 14])) # 11\n",
    "\n",
    "# 코드 구조 개선\n",
    "def solution2(num_list):\n",
    "    answer = 0\n",
    "\n",
    "    for n in num_list:\n",
    "        while n != 1:\n",
    "            n //= 2\n",
    "            answer += 1\n",
    "\n",
    "    return answer\n",
    "\n",
    "# 다른 풀이법\n",
    "def solution3(num_list):\n",
    "    return sum(len(bin(i)) - 3 for i in num_list)"
   ]
  },
  {
   "cell_type": "markdown",
   "metadata": {},
   "source": [
    "### 길이에 따른 연산 (HARD)\n",
    "- 정수가 담긴 리스트 `num_list`가 주어질 때, 리스트의 길이가 11 이상이면 리스트에 있는 모든 원소의 합을 10 이하이면 모든 원소의 곱을 return하도록 solution 함수를 완성해주세요."
   ]
  },
  {
   "cell_type": "code",
   "execution_count": null,
   "metadata": {},
   "outputs": [
    {
     "name": "stdout",
     "output_type": "stream",
     "text": [
      "51\n",
      "120\n"
     ]
    }
   ],
   "source": [
    "def solution(num_list):\n",
    "    if len(num_list) >= 11:\n",
    "        return sum(num_list)\n",
    "    else:\n",
    "        answer = 1\n",
    "        for i in num_list:\n",
    "            answer *= i\n",
    "        return answer\n",
    "\n",
    "print(solution([3, 4, 5, 2, 5, 4, 6, 7, 3, 7, 2, 2, 1]))    # 51\n",
    "print(solution([2, 3, 4, 5]))                               # 120\n",
    "\n",
    "# 다른 풀이법\n",
    "def solution2(num_list):\n",
    "    if len(num_list) >= 11:\n",
    "        return eval('+'.join(list(map(str, num_list))))\n",
    "    else:\n",
    "        return eval('*'.join(list(map(str, num_list))))\n",
    "\n",
    "# 다른 풀이법\n",
    "from math import prod\n",
    "def solution3(num_list):\n",
    "    return sum(num_list) if len(num_list)>=11 else prod(num_list)"
   ]
  },
  {
   "cell_type": "markdown",
   "metadata": {},
   "source": [
    "### 원하는 문자열 찾기\n",
    "- 알파벳으로 이루어진 문자열 `myString`과 `pat`이 주어집니다. `myString`의 연속된 부분 문자열 중 `pat`이 존재하면 1을 그렇지 않으면 0을 return 하는 solution 함수를 완성해 주세요.\n",
    "- 단, 알파벳 대문자와 소문자는 구분하지 않습니다."
   ]
  },
  {
   "cell_type": "code",
   "execution_count": null,
   "metadata": {},
   "outputs": [
    {
     "name": "stdout",
     "output_type": "stream",
     "text": [
      "1\n",
      "0\n",
      "1\n",
      "0\n"
     ]
    }
   ],
   "source": [
    "def solution(myString, pat):\n",
    "    answer = 0\n",
    "    \n",
    "    if pat.lower() in myString.lower():\n",
    "        answer = 1\n",
    "    \n",
    "    return answer\n",
    "\n",
    "print(solution(\"AbCdEfG\", \"aBc\"))   # 1\n",
    "print(solution(\"aaAA\", \"aaaaa\"))    # 0\n",
    "\n",
    "# 다르게 풀이\n",
    "def solution2(myString, pat):\n",
    "    return 1 if pat.lower() in myString.lower() else 0\n",
    "\n",
    "# 코드 구조 개선\n",
    "def solution3(myString, pat):\n",
    "    return int(pat.lower() in myString.lower())\n",
    "\n",
    "# 다른 풀이법\n",
    "def solution4(myString, pat):\n",
    "    return min(1, myString.lower().find(pat.lower()) + 1)"
   ]
  }
 ],
 "metadata": {
  "kernelspec": {
   "display_name": "base",
   "language": "python",
   "name": "python3"
  },
  "language_info": {
   "codemirror_mode": {
    "name": "ipython",
    "version": 3
   },
   "file_extension": ".py",
   "mimetype": "text/x-python",
   "name": "python",
   "nbconvert_exporter": "python",
   "pygments_lexer": "ipython3",
   "version": "3.12.7"
  }
 },
 "nbformat": 4,
 "nbformat_minor": 2
}
