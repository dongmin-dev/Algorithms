{
 "cells": [
  {
   "cell_type": "markdown",
   "metadata": {},
   "source": [
    "### 문자 개수 세기 (HARD)(Couldn't solve)\n",
    "- 알파벳 대소문자로만 이루어진 문자열 `my_string`이 주어질 때, `my_string`에서 'A'의 개수, `my_string`에서 'B'의 개수,..., `my_string`에서 'Z'의 개수, `my_string`에서 'a'의 개수, `my_string`에서 'b'의 개수,..., `my_string`에서 'z'의 개수를 순서대로 담은 길이 52의 정수 배열을 return 하는 solution 함수를 작성해 주세요."
   ]
  },
  {
   "cell_type": "code",
   "execution_count": 1,
   "metadata": {},
   "outputs": [
    {
     "name": "stdout",
     "output_type": "stream",
     "text": [
      "[0, 0, 0, 0, 0, 0, 0, 0, 0, 0, 0, 0, 0, 0, 0, 1, 0, 0, 0, 0, 0, 0, 0, 0, 0, 0, 1, 0, 0, 0, 1, 0, 1, 0, 0, 0, 0, 0, 2, 0, 1, 0, 0, 3, 1, 0, 0, 0, 0, 0, 0, 0]\n"
     ]
    }
   ],
   "source": [
    "def solution(my_string):\n",
    "    answer = [0] * 52\n",
    "    for char in my_string:\n",
    "        if 'A' <= char <= 'Z':\n",
    "            index = ord(char) - ord('A')\n",
    "        elif 'a' <= char <= 'z':\n",
    "            index = ord(char) - ord('a') + 26\n",
    "        answer[index] += 1\n",
    "    return answer\n",
    "\n",
    "print(solution(\"Programmers\"))  # [0, 0, 0, 0, 0, 0, 0, 0, 0, 0, 0, 0, 0, 0, 0, 1, 0, 0, 0, 0, 0, 0, 0, 0, 0, 0, 1, 0, 0, 0, 1, 0, 1, 0, 0, 0, 0, 0, 2, 0, 1, 0, 0, 3, 1, 0, 0, 0, 0, 0, 0, 0]\n",
    "\n",
    "# 다른 풀이법\n",
    "def solution2(my_string):\n",
    "    answer=[0]*52\n",
    "    for x in my_string:\n",
    "        if x.isupper():\n",
    "            answer[ord(x)-65]+=1\n",
    "        else:\n",
    "            answer[ord(x)-71]+=1\n",
    "    return answer"
   ]
  },
  {
   "cell_type": "markdown",
   "metadata": {},
   "source": [
    "### 배열 만들기 1\n",
    "- 정수 `n`과 `k`가 주어졌을 때, 1 이상 `n`이하의 정수 중에서 `k`의 배수를 오름차순으로 저장한 배열을 return 하는 solution 함수를 완성해 주세요."
   ]
  },
  {
   "cell_type": "code",
   "execution_count": 6,
   "metadata": {},
   "outputs": [
    {
     "name": "stdout",
     "output_type": "stream",
     "text": [
      "[3, 6, 9]\n",
      "[5, 10, 15]\n"
     ]
    }
   ],
   "source": [
    "def solution(n, k):\n",
    "    return [i for i in range(1, n+1) if i%k == 0]\n",
    "\n",
    "print(solution(10, 3))  # [3, 6, 9]\n",
    "print(solution(15, 5))  # [5, 10, 15]\n",
    "\n",
    "# 다른 풀이법\n",
    "def solution2(n, k):\n",
    "    return [i for i in range(k,n+1,k)]"
   ]
  },
  {
   "cell_type": "markdown",
   "metadata": {},
   "source": [
    "### 글자 지우기 (HARD)(Couldn't solve)\n",
    "- 문자열 `my_string`과 정수 배열 `indices`가 주어질 때, `my_string`에서 `indices`의 원소에 해당하는 인덱스의 글자를 지우고 이어 붙인 문자열을 return 하는 solution 함수를 작성해 주세요."
   ]
  },
  {
   "cell_type": "code",
   "execution_count": 8,
   "metadata": {},
   "outputs": [
    {
     "name": "stdout",
     "output_type": "stream",
     "text": [
      "programmers\n"
     ]
    }
   ],
   "source": [
    "def solution(my_string, indices):\n",
    "    str_list = list(my_string)\n",
    "    \n",
    "    indices.sort(reverse=True)\n",
    "    \n",
    "    for i in indices:\n",
    "        del str_list[i]\n",
    "    \n",
    "    return ''.join(str_list)\n",
    "\n",
    "print(solution(\"apporoograpemmemprs\", [1, 16, 6, 15, 0, 10, 11, 3]))    # programmers\n",
    "\n",
    "# 다른 풀이법\n",
    "def solution2(my_string, indices):\n",
    "    answer = ''\n",
    "    for i in range(len(my_string)):\n",
    "        if i not in indices:answer+=my_string[i]\n",
    "    return answer"
   ]
  },
  {
   "cell_type": "markdown",
   "metadata": {},
   "source": [
    "### 카운트 다운\n",
    "- 정수 `start_num`와 `end_num`가 주어질 때, `start_num`에서 `end_num`까지 1씩 감소하는 수들을 차례로 담은 리스트를 return하도록 solution 함수를 완성해주세요."
   ]
  },
  {
   "cell_type": "code",
   "execution_count": 11,
   "metadata": {},
   "outputs": [
    {
     "name": "stdout",
     "output_type": "stream",
     "text": [
      "[10, 9, 8, 7, 6, 5, 4, 3]\n"
     ]
    }
   ],
   "source": [
    "def solution(start_num, end_num):\n",
    "    return [i for i in range(start_num, end_num-1, -1)]\n",
    "\n",
    "print(solution(10, 3))  # [10, 9, 8, 7, 6, 5, 4, 3]\n",
    "\n",
    "# 다른 풀이법\n",
    "def solution2(start, end):\n",
    "    return list(range(start,end-1,-1))"
   ]
  },
  {
   "cell_type": "markdown",
   "metadata": {},
   "source": [
    "### 가까운 1 찾기 (HARD)\n",
    "- 정수 배열 `arr`가 주어집니다. 이때 `arr`의 원소는 1 또는 0입니다. 정수 `idx`가 주어졌을 때, `idx`보다 크면서 배열의 값이 1인 가장 작은 인덱스를 찾아서 반환하는 solution 함수를 완성해 주세요.\n",
    "- 단, 만약 그러한 인덱스가 없다면 -1을 반환합니다."
   ]
  },
  {
   "cell_type": "code",
   "execution_count": 26,
   "metadata": {},
   "outputs": [
    {
     "name": "stdout",
     "output_type": "stream",
     "text": [
      "3\n",
      "-1\n",
      "3\n"
     ]
    }
   ],
   "source": [
    "def solution(arr, idx):\n",
    "    answer = -1\n",
    "    for index, value in enumerate(arr):\n",
    "        if index >= idx and value == 1:\n",
    "            answer = index\n",
    "            break\n",
    "    return answer\n",
    "\n",
    "print(solution([0, 0, 0, 1], 1))        # 3\n",
    "print(solution([1, 0, 0, 1, 0, 0], 4))  # -1\n",
    "print(solution([1, 1, 1, 1, 0], 3))     # 3\n",
    "\n",
    "# 다른 풀이법\n",
    "def solution2(arr, idx):\n",
    "    for i in range(idx, len(arr)):\n",
    "        if arr[i] == 1:\n",
    "            return i\n",
    "    return -1\n",
    "\n",
    "# 다른 풀이법\n",
    "def solution3(arr, idx):\n",
    "    answer = 0\n",
    "    try:\n",
    "        answer = arr.index(1, idx)\n",
    "    except:\n",
    "        answer = -1\n",
    "\n",
    "    return answer"
   ]
  }
 ],
 "metadata": {
  "kernelspec": {
   "display_name": "base",
   "language": "python",
   "name": "python3"
  },
  "language_info": {
   "codemirror_mode": {
    "name": "ipython",
    "version": 3
   },
   "file_extension": ".py",
   "mimetype": "text/x-python",
   "name": "python",
   "nbconvert_exporter": "python",
   "pygments_lexer": "ipython3",
   "version": "3.12.4"
  }
 },
 "nbformat": 4,
 "nbformat_minor": 2
}
