{
 "cells": [
  {
   "cell_type": "markdown",
   "metadata": {},
   "source": [
    "### [PCCE 기출문제] 8번 / 닉네임 규칙\n",
    "\n",
    "- 온라인 서비스를 이용하기 위해서 닉네임이 필요합니다. 이때 닉네임이 될 수 있는 조건은 다음과 같습니다.\n",
    "\n",
    "    - 닉네임의 길이가 4자 이상 8자 이하여야합니다.\n",
    "\n",
    "    - 닉네임에는 소문자 `l`과 `w`, 대문자 `O`와 `W`를 사용할 수 없습니다.\n",
    "\n",
    "    - 이외의 영어 대소문자와 숫자는 모두 사용이 가능합니다.\n",
    "\n",
    "- 주어진 solution 함수는 사용할 수 없는 닉네임 `nickname`을 받아 사용할 수 있는 닉네임으로 바꿔주는 함수입니다. 이때 닉네임을 변경하는 규칙은 다음과 같으며 첫 번째 규칙부터 순서대로 적용합니다.\n",
    "\n",
    "1. 소문자 `l`을 대문자 `I`로 변경합니다.\n",
    "2. 소문자 `w`를 두 개의 소문자 `v`, 즉 `vv`로 변경합니다.\n",
    "3. 대문자 `W`를 두 개의 대문자 `V`, 즉 `VV`로 변경합니다.\n",
    "4. 대문자 `O`를 숫자 `0`으로 변경합니다.\n",
    "5. 수정된 닉네임의 길이가 4 미만일 경우 뒤에 소문자 `o`를 길이가 4가 될때까지 이어붙입니다.\n",
    "6. 수정된 닉네임의 길이가 8보다 클 경우 8번째 문자까지만 사용합니다.\n",
    "\n",
    "- 주어진 solution 함수에는 위의 규칙 중 올바르게 적용되지 않는 것이 있습니다. solution 함수가 올바르게 작동하도록 한 줄을 수정해주세요.\n",
    "\n",
    "#### 제한사항\n",
    "\n",
    "- 1 ≤ `nickname`의 길이 ≤ 10\n",
    "\n",
    "- `nickname`은 영어 대소문자와 숫자로만 이루어져있습니다.\n",
    "\n",
    "#### 입출력 예\n",
    "\n",
    "| nickname | result |\n",
    "|----------|--------|\n",
    "| \"WORLDworld\" | \"VV0RLDvv\" |\n",
    "| \"GO\" | \"G0oo\" |"
   ]
  },
  {
   "cell_type": "code",
   "execution_count": 5,
   "metadata": {},
   "outputs": [
    {
     "name": "stdout",
     "output_type": "stream",
     "text": [
      "VV0RLDvv\n",
      "G0oo\n"
     ]
    }
   ],
   "source": [
    "'''\n",
    "디버깅(Debugging)은 이미 완성된 코드에서 버그를 찾아 수정하는 문제 타입입니다.\n",
    "1줄만 수정하여 버그를 고치세요.\n",
    "2줄 이상 수정할 경우, 실행 결과에 에러 메시지가 표시됩니다.\n",
    "'''\n",
    "\n",
    "def solution(nickname):\n",
    "    answer = \"\"\n",
    "    for letter in nickname:\n",
    "        if letter == \"l\":\n",
    "            answer += \"I\"\n",
    "        elif letter == \"w\":\n",
    "            answer += \"vv\"\n",
    "        elif letter == \"W\":\n",
    "            answer += \"VV\"\n",
    "        elif letter == \"O\":\n",
    "            answer += \"0\"\n",
    "        else:\n",
    "            answer += letter\n",
    "    if len(answer) < 3:\n",
    "        while len(answer) < 4: answer += \"o\"\n",
    "        # answer = answer.ljust(4, 'o')\n",
    "    if len(answer) > 8:\n",
    "        answer = answer[:8]\n",
    "    return answer\n",
    "\n",
    "print(solution(\"WORLDworld\"))\n",
    "print(solution(\"GO\"))"
   ]
  },
  {
   "cell_type": "markdown",
   "metadata": {},
   "source": [
    "### [PCCE 기출문제] 3번 / 나이 계산\n",
    "\n",
    "- 나이를 세는 방법은 여러 가지가 있습니다. 그중 한국식 나이는 태어난 순간 1살이 되며 해가 바뀔 때마다 1살씩 더 먹게 됩니다. 연 나이는 태어난 순간 0살이며 해가 바뀔 때마다 1살씩 더 먹게 됩니다. 각각 나이의 계산법은 다음과 같습니다.\n",
    "\n",
    "- 한국식 나이 : 현재 연도 - 출생 연도 + 1\n",
    "- 연 나이 : 현재 연도 - 출생 연도\n",
    "\n",
    "- 출생 연도를 나타내는 정수 `year`와 구하려는 나이의 종류를 나타내는 문자열 `age_type`이 주어질 때 2030년에 몇 살인지 출력하도록 빈칸을 채워 코드를 완성해 주세요. `age_type`이 \"Korea\"라면 한국식 나이를, \"Year\"라면 연 나이를 출력합니다.\n",
    "\n",
    "#### 제한사항\n",
    "\n",
    "- 1950 ≤ `year` ≤ 2030\n",
    "\n",
    "- `age_type`은 \"Korea\" 또는 \"Year\"만 주어집니다.\n",
    "\n",
    "#### 입출력 예\n",
    "\n",
    "입력 #1\n",
    "\n",
    "```plaintext\n",
    "2000\n",
    "Korea\n",
    "```\n",
    "\n",
    "출력 #1\n",
    "\n",
    "```plaintext\n",
    "31\n",
    "```\n",
    "\n",
    "입력 #2\n",
    "\n",
    "```plaintext\n",
    "1999\n",
    "Year\n",
    "```\n",
    "\n",
    "출력 #2\n",
    "\n",
    "```plaintext\n",
    "31\n",
    "```"
   ]
  },
  {
   "cell_type": "code",
   "execution_count": 2,
   "metadata": {},
   "outputs": [
    {
     "name": "stdout",
     "output_type": "stream",
     "text": [
      "31\n"
     ]
    }
   ],
   "source": [
    "year = int(input())\n",
    "age_type = input()\n",
    "\n",
    "if age_type == \"Korea\":\n",
    "    answer = 2030 - year + 1\n",
    "elif age_type == \"Year\":\n",
    "    answer = 2030 - year\n",
    "\n",
    "print(answer)"
   ]
  }
 ],
 "metadata": {
  "kernelspec": {
   "display_name": "base",
   "language": "python",
   "name": "python3"
  },
  "language_info": {
   "codemirror_mode": {
    "name": "ipython",
    "version": 3
   },
   "file_extension": ".py",
   "mimetype": "text/x-python",
   "name": "python",
   "nbconvert_exporter": "python",
   "pygments_lexer": "ipython3",
   "version": "3.12.7"
  }
 },
 "nbformat": 4,
 "nbformat_minor": 2
}
