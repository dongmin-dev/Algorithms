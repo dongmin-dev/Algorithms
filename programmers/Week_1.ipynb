{
 "cells": [
  {
   "cell_type": "markdown",
   "metadata": {},
   "source": [
    "### [PCCE 기출문제] 1번 / 문자 출력\n",
    "\n",
    "- 주어진 코드는 변수에 데이터를 저장하고 출력하는 코드입니다. 아래와 같이 출력되도록 빈칸을 채워 코드를 완성해 주세요.\n",
    "\n",
    "```plaintext\n",
    "3\n",
    "2\n",
    "1\n",
    "Let's go!\n",
    "```"
   ]
  },
  {
   "cell_type": "code",
   "execution_count": 1,
   "metadata": {},
   "outputs": [
    {
     "name": "stdout",
     "output_type": "stream",
     "text": [
      "3\n",
      "2\n",
      "1\n",
      "Let's go!\n"
     ]
    }
   ],
   "source": [
    "message = \"Let's go!\"\n",
    "\n",
    "print(\"3\\n2\\n1\")\n",
    "print(message)"
   ]
  },
  {
   "cell_type": "markdown",
   "metadata": {},
   "source": [
    "### [PCCE 기출문제] 2번 / 각도 합치기 (HARD)\n",
    "\n",
    "- 일반적으로 두 선분이 이루는 각도는 한 바퀴를 360도로 하여 표현합니다. 따라서 각도에 360의 배수를 더하거나 빼더라도 같은 각을 의미합니다. 예를 들면, 30도와 390도는 같은 각도입니다.\n",
    "\n",
    "- 주어진 코드는 각도를 나타내는 두 정수 `angle1`과 `angle2`가 주어질 때, 이 두 각의 합을 0도 이상 360도 미만으로 출력하는 코드입니다. 코드가 올바르게 작동하도록 한 줄을 수정해 주세요.\n",
    "\n",
    "#### 입출력 예\n",
    "\n",
    "입력 #1\n",
    "\n",
    "```plaintext\n",
    "280\n",
    "485\n",
    "```\n",
    "\n",
    "출력 #1\n",
    "\n",
    "```plaintext\n",
    "45\n",
    "```"
   ]
  },
  {
   "cell_type": "code",
   "execution_count": 4,
   "metadata": {},
   "outputs": [
    {
     "name": "stdout",
     "output_type": "stream",
     "text": [
      "45\n"
     ]
    }
   ],
   "source": [
    "'''\n",
    "디버깅(Debugging)은 이미 완성된 코드에서 버그를 찾아 수정하는 문제 타입입니다.\n",
    "1줄만 수정하여 버그를 고치세요.\n",
    "2줄 이상 수정할 경우, 실행 결과에 에러 메시지가 표시됩니다.\n",
    "'''\n",
    "\n",
    "angle1 = int(input())\n",
    "angle2 = int(input())\n",
    "\n",
    "sum_angle = (angle1 + angle2) % 360\n",
    "print(sum_angle)"
   ]
  },
  {
   "cell_type": "markdown",
   "metadata": {},
   "source": [
    "### [PCCE 기출문제] 3번 / 수 나누기\n",
    "\n",
    "- 2자리 이상의 정수 `number`가 주어집니다. 주어진 코드는 이 수를 2자리씩 자른 뒤, 자른 수를 모두 더해서 그 합을 출력하는 코드입니다. 코드가 올바르게 작동하도록 한 줄을 수정해 주세요.\n",
    "\n",
    "#### 제한사항\n",
    "\n",
    "- 10 ≤ `number` ≤ 2,000,000,000\n",
    "\n",
    "    - `number`의 자릿수는 2의 배수입니다.\n",
    "\n",
    "#### 입출력 예\n",
    "\n",
    "입력 #1\n",
    "\n",
    "```plaintext\n",
    "4859\n",
    "```\n",
    "\n",
    "출력 #1\n",
    "\n",
    "```plaintext\n",
    "107\n",
    "```\n",
    "\n",
    "입력 #2\n",
    "\n",
    "```plaintext\n",
    "29\n",
    "```\n",
    "\n",
    "출력 #2\n",
    "\n",
    "```plaintext\n",
    "29\n",
    "```"
   ]
  },
  {
   "cell_type": "code",
   "execution_count": 2,
   "metadata": {},
   "outputs": [
    {
     "name": "stdout",
     "output_type": "stream",
     "text": [
      "29\n"
     ]
    }
   ],
   "source": [
    "'''\n",
    "디버깅(Debugging)은 이미 완성된 코드에서 버그를 찾아 수정하는 문제 타입입니다.\n",
    "1줄만 수정하여 버그를 고치세요.\n",
    "2줄 이상 수정할 경우, 실행 결과에 에러 메시지가 표시됩니다.\n",
    "'''\n",
    "\n",
    "number = int(input())\n",
    "\n",
    "answer = 0\n",
    "\n",
    "for i in range(len(str(number)) // 2):\n",
    "    answer += number % 100\n",
    "    number //= 100\n",
    "\n",
    "print(answer)"
   ]
  },
  {
   "cell_type": "code",
   "execution_count": null,
   "metadata": {},
   "outputs": [],
   "source": [
    "# 다른 풀이법\n",
    "number = int(input())\n",
    "\n",
    "answer = 0\n",
    "\n",
    "while number > 0:\n",
    "    answer += number % 100\n",
    "    number //= 100\n",
    "\n",
    "print(answer)"
   ]
  },
  {
   "cell_type": "markdown",
   "metadata": {},
   "source": [
    "### [PCCE 기출문제] 4번 / 병과분류\n",
    "\n",
    "dry_eye\n"
   ]
  }
 ],
 "metadata": {
  "kernelspec": {
   "display_name": "base",
   "language": "python",
   "name": "python3"
  },
  "language_info": {
   "codemirror_mode": {
    "name": "ipython",
    "version": 3
   },
   "file_extension": ".py",
   "mimetype": "text/x-python",
   "name": "python",
   "nbconvert_exporter": "python",
   "pygments_lexer": "ipython3",
   "version": "3.12.7"
  }
 },
 "nbformat": 4,
 "nbformat_minor": 2
}
