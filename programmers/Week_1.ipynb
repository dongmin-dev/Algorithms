{
 "cells": [
  {
   "cell_type": "markdown",
   "metadata": {},
   "source": [
    "### [PCCE 기출문제] 1번 / 문자 출력\n",
    "\n",
    "- 주어진 코드는 변수에 데이터를 저장하고 출력하는 코드입니다. 아래와 같이 출력되도록 빈칸을 채워 코드를 완성해 주세요.\n",
    "\n",
    "```plaintext\n",
    "3\n",
    "2\n",
    "1\n",
    "Let's go!\n",
    "```"
   ]
  },
  {
   "cell_type": "code",
   "execution_count": 1,
   "metadata": {},
   "outputs": [
    {
     "name": "stdout",
     "output_type": "stream",
     "text": [
      "3\n",
      "2\n",
      "1\n",
      "Let's go!\n"
     ]
    }
   ],
   "source": [
    "message = \"Let's go!\"\n",
    "\n",
    "print(\"3\\n2\\n1\")\n",
    "print(message)"
   ]
  },
  {
   "cell_type": "markdown",
   "metadata": {},
   "source": [
    "### [PCCE 기출문제] 2번 / 각도 합치기 (HARD)\n",
    "\n",
    "- 일반적으로 두 선분이 이루는 각도는 한 바퀴를 360도로 하여 표현합니다. 따라서 각도에 360의 배수를 더하거나 빼더라도 같은 각을 의미합니다. 예를 들면, 30도와 390도는 같은 각도입니다.\n",
    "\n",
    "- 주어진 코드는 각도를 나타내는 두 정수 `angle1`과 `angle2`가 주어질 때, 이 두 각의 합을 0도 이상 360도 미만으로 출력하는 코드입니다. 코드가 올바르게 작동하도록 한 줄을 수정해 주세요.\n",
    "\n",
    "#### 입출력 예\n",
    "\n",
    "입력 #1\n",
    "\n",
    "```plaintext\n",
    "280\n",
    "485\n",
    "```\n",
    "\n",
    "출력 #1\n",
    "\n",
    "```plaintext\n",
    "45\n",
    "```"
   ]
  },
  {
   "cell_type": "code",
   "execution_count": 4,
   "metadata": {},
   "outputs": [
    {
     "name": "stdout",
     "output_type": "stream",
     "text": [
      "45\n"
     ]
    }
   ],
   "source": [
    "'''\n",
    "디버깅(Debugging)은 이미 완성된 코드에서 버그를 찾아 수정하는 문제 타입입니다.\n",
    "1줄만 수정하여 버그를 고치세요.\n",
    "2줄 이상 수정할 경우, 실행 결과에 에러 메시지가 표시됩니다.\n",
    "'''\n",
    "\n",
    "angle1 = int(input())\n",
    "angle2 = int(input())\n",
    "\n",
    "sum_angle = (angle1 + angle2) % 360\n",
    "print(sum_angle)"
   ]
  },
  {
   "cell_type": "markdown",
   "metadata": {},
   "source": [
    "### [PCCE 기출문제] 3번 / 수 나누기\n",
    "\n",
    "- 2자리 이상의 정수 `number`가 주어집니다. 주어진 코드는 이 수를 2자리씩 자른 뒤, 자른 수를 모두 더해서 그 합을 출력하는 코드입니다. 코드가 올바르게 작동하도록 한 줄을 수정해 주세요.\n",
    "\n",
    "#### 제한사항\n",
    "\n",
    "- 10 ≤ `number` ≤ 2,000,000,000\n",
    "\n",
    "    - `number`의 자릿수는 2의 배수입니다.\n",
    "\n",
    "#### 입출력 예\n",
    "\n",
    "입력 #1\n",
    "\n",
    "```plaintext\n",
    "4859\n",
    "```\n",
    "\n",
    "출력 #1\n",
    "\n",
    "```plaintext\n",
    "107\n",
    "```\n",
    "\n",
    "입력 #2\n",
    "\n",
    "```plaintext\n",
    "29\n",
    "```\n",
    "\n",
    "출력 #2\n",
    "\n",
    "```plaintext\n",
    "29\n",
    "```"
   ]
  },
  {
   "cell_type": "code",
   "execution_count": 2,
   "metadata": {},
   "outputs": [
    {
     "name": "stdout",
     "output_type": "stream",
     "text": [
      "29\n"
     ]
    }
   ],
   "source": [
    "'''\n",
    "디버깅(Debugging)은 이미 완성된 코드에서 버그를 찾아 수정하는 문제 타입입니다.\n",
    "1줄만 수정하여 버그를 고치세요.\n",
    "2줄 이상 수정할 경우, 실행 결과에 에러 메시지가 표시됩니다.\n",
    "'''\n",
    "\n",
    "number = int(input())\n",
    "\n",
    "answer = 0\n",
    "\n",
    "for i in range(len(str(number)) // 2):\n",
    "    answer += number % 100\n",
    "    number //= 100\n",
    "\n",
    "print(answer)"
   ]
  },
  {
   "cell_type": "code",
   "execution_count": null,
   "metadata": {},
   "outputs": [],
   "source": [
    "# 다른 풀이법\n",
    "number = int(input())\n",
    "\n",
    "answer = 0\n",
    "\n",
    "while number > 0:\n",
    "    answer += number % 100\n",
    "    number //= 100\n",
    "\n",
    "print(answer)"
   ]
  },
  {
   "cell_type": "markdown",
   "metadata": {},
   "source": [
    "### [PCCE 기출문제] 4번 / 병과분류\n",
    "\n",
    "- 퓨쳐종합병원에서는 접수한 환자가 진료받을 병과에 따라 자동으로 환자 코드를 부여해 주는 프로그램이 있습니다. 환자 코드의 마지막 네 글자를 보면 환자가 어디 병과에서 진료를 받아야 할지 알 수 있습니다. 예를 들어 환자의 코드가 \"_eye\"로 끝난다면 안과를, \"head\"로 끝난다면 신경외과 진료를 보게 됩니다. 환자 코드의 마지막 글자에 따른 병과 분류 기준은 다음과 같습니다.\n",
    "\n",
    "| 마지막 글자 | 병과 |\n",
    "|------------|------|\n",
    "| \"_eye\" | \"Ophthalmologyc\" |\n",
    "| \"head\" | \"Neurosurgery\" |\n",
    "| \"infl\" | \"Orthopedics\" |\n",
    "| \"skin\" | \"Dermatology\" |\n",
    "\n",
    "- 환자의 코드를 나타내는 문자열 `code`를 입력받아 위 표에 맞는 병과를 출력하도록 빈칸을 채워 코드를 완성해 주세요. 위 표의 단어로 끝나지 않는다면 \"direct recommendation\"를 출력합니다.\n",
    "\n",
    "#### 제한사항\n",
    "\n",
    "- 4 ≤ `code`의 길이 ≤ 20\n",
    "\n",
    "- `code`는 영어 소문자와 숫자, 언더바(\"_\")로 이루어져 있습니다.\n",
    "\n",
    "#### 입출력 예\n",
    "\n",
    "입력 #1\n",
    "\n",
    "```plaintext\n",
    "dry_eye\n",
    "```\n",
    "\n",
    "출력 #1\n",
    "\n",
    "```plaintext\n",
    "Ophthalmologyc\n",
    "```\n",
    "\n",
    "입력 #2\n",
    "\n",
    "```plaintext\n",
    "pat23_08_20_head\n",
    "```\n",
    "\n",
    "출력 #2\n",
    "\n",
    "```plaintext\n",
    "Neurosurgery\n",
    "```"
   ]
  },
  {
   "cell_type": "code",
   "execution_count": 1,
   "metadata": {},
   "outputs": [
    {
     "name": "stdout",
     "output_type": "stream",
     "text": [
      "Ophthalmologyc\n"
     ]
    }
   ],
   "source": [
    "code = input()\n",
    "last_four_words = code[-4:]\n",
    "\n",
    "if last_four_words == \"_eye\":\n",
    "    print(\"Ophthalmologyc\")\n",
    "elif last_four_words == \"head\":\n",
    "    print(\"Neurosurgery\")\n",
    "elif last_four_words == \"infl\":\n",
    "    print(\"Orthopedics\")\n",
    "elif last_four_words == \"skin\":\n",
    "    print(\"Dermatology\")\n",
    "else:\n",
    "    print(\"direct recommendation\")"
   ]
  },
  {
   "cell_type": "markdown",
   "metadata": {},
   "source": [
    "### [PCCE 기출문제] 5번 / 심폐소생술\n",
    "\n",
    "- 심폐소생술은 다음과 같은 순서를 통해 실시합니다.\n",
    "\n",
    "1. 심정지 및 무호흡 확인 [check]\n",
    "2. 도움 및 119 신고 요청 [call]\n",
    "3. 가슴압박 30회 시행 [pressure]\n",
    "4. 인공호흡 2회 시행 [respiration]\n",
    "5. 가슴압박, 인공호흡 반복 [repeat]\n",
    "\n",
    "- 주어진 solution 함수는 심폐소생술을 하는 방법의 순서가 담긴 문자열들이 무작위 순서로 담긴 리스트 `cpr`이 주어질 때 각각의 방법이 몇 번째 단계인지 순서대로 담아 return하는 함수입니다. solution 함수가 올바르게 작동하도록 빈칸을 채워 solution 함수를 완성해 주세요.\n",
    "\n",
    "#### 제한사항\n",
    "\n",
    "- cpr은 다음 문자열들이 한 번씩 포함되어 있습니다.\n",
    "\n",
    "    - \"check\", \"call\", \"pressure\", \"respiration\", \"repeat\"\n",
    "\n",
    "#### 입출력 예\n",
    "\n",
    "| cpr | result |\n",
    "|-----|---------|\n",
    "| [\"call\", \"respiration\", \"repeat\", \"check\", \"pressure\"] | [2, 4, 5, 1, 3] |\n",
    "| [\"respiration\", \"repeat\", \"check\", \"pressure\", \"call\"] | [4, 5, 1, 3, 2] |"
   ]
  },
  {
   "cell_type": "code",
   "execution_count": 3,
   "metadata": {},
   "outputs": [
    {
     "name": "stdout",
     "output_type": "stream",
     "text": [
      "[2, 4, 5, 1, 3]\n",
      "[4, 5, 1, 3, 2]\n"
     ]
    }
   ],
   "source": [
    "def solution(cpr):\n",
    "    answer = []\n",
    "    basic_order = [\"check\", \"call\", \"pressure\", \"respiration\", \"repeat\"]\n",
    "    for action in cpr:\n",
    "        for i in range(len(basic_order)):\n",
    "            if action == basic_order[i]:\n",
    "                answer.append(i+1)\n",
    "    return answer\n",
    "\n",
    "print(solution([\"call\", \"respiration\", \"repeat\", \"check\", \"pressure\"]))\n",
    "print(solution([\"respiration\", \"repeat\", \"check\", \"pressure\", \"call\"]))"
   ]
  },
  {
   "cell_type": "markdown",
   "metadata": {},
   "source": [
    "### [PCCE 기출문제] 6번 / 물 부족 (HARD)\n",
    "\n",
    "- ㅇㅇ시에서는 저수지가 하나 있는데, 도시 내에서 사용하는 모든 물은 이 저수지에 저장된 물을 끌어와 사용합니다. 이상 기후로 인해 극심한 가뭄이 예고된 상황에서, 지난 달의 물 사용량과 이번달부터 일정 기간 동안의 월별 물 사용량의 변화를 예측한 값을 이용해 몇 달 뒤 물이 부족해지는지 예측하려고 합니다.\n",
    "\n",
    "- 이번달부터의 월별 물 사용량 변화를 예측한 값은 다음과 같이 리스트에 담겨 주어집니다.\n",
    "\n",
    "    - [10, -10, 10, -10, 10, -10, 10, -10, 10, -10]\n",
    "\n",
    "    - 리스트의 각 원소는 해당 월의 물 사용량이 전 달에 비해 몇 % 만큼 증가 또는 감소하는지를 나타냅니다.\n",
    "\n",
    "    - 예를 들어, 이번달의 물 사용량 (리스트의 첫 번째 원소)은 지난 달 보다 10% 증가한 값이며, 다음 달(리스트의 두 번째 원소)의 물 사용량은 이번달 사용량에서 10%만큼 감소한 값입니다.\n",
    "\n",
    "        - 자세한 값은 입출력 예시를 참고해 주세요.\n",
    "\n",
    "- 현재 저수지에 저장된 물의 양을 나타내는 정수 `storage`와 지난 달 물 사용량을 나타내는 정수 `usage`, 월별 물 사용량이 전 달 대비 어떻게 변하는지 저장된 정수 리스트 `change`가 주어질 때 몇 달 뒤 물이 부족해지는지 return 하도록 solution 함수를 작성하려 합니다. 코드가 올바르게 작동하도록 한 줄을 수정해 solution 함수를 완성해 주세요. 가뭄이 끝날때 까지 저수지의 물이 남아 있다면 -1을 return합니다.\n",
    "\n",
    "#### 제한사항\n",
    "\n",
    "- 1,000 ≤ `storage` ≤ 1,000,000\n",
    "\n",
    "- 500 ≤ `usage` ≤ 30,000\n",
    "\n",
    "- 1 ≤ `change`의 길이 ≤ 30\n",
    "    \n",
    "    - -99 ≤ `change[i]` ≤ 500\n",
    "\n",
    "    - `change[i]` 가 양수일 경우 물 사용량은 전 달 보다 `change[i]`% 만큼 증가합니다.\n",
    "\n",
    "    - `change[i]` 가 음수일 경우 물 사용량은 전 달 보다 `change[i]`% 만큼 감소합니다.\n",
    "\n",
    "    - `change[i]` 가 0일 경우 물 사용량은 전 달과 동일합니다.\n",
    "\n",
    "    - 매달 물 사용량은 소수점 이하를 버린 정수로 계산합니다.\n",
    "\n",
    "#### 입출력 예\n",
    "| storage | usage | change | result |\n",
    "|----------|---------|---------|---------|\n",
    "| 5141 | 500 | [10, -10, 10, -10, 10, -10, 10, -10, 10, -10] | -1 |\n",
    "| 1000 | 2000 | [-10, 25, -33] | 1 |"
   ]
  },
  {
   "cell_type": "code",
   "execution_count": 15,
   "metadata": {},
   "outputs": [
    {
     "name": "stdout",
     "output_type": "stream",
     "text": [
      "-1\n",
      "0\n"
     ]
    }
   ],
   "source": [
    "'''\n",
    "디버깅(Debugging)은 이미 완성된 코드에서 버그를 찾아 수정하는 문제 타입입니다.\n",
    "1줄만 수정하여 버그를 고치세요.\n",
    "2줄 이상 수정할 경우, 실행 결과에 에러 메시지가 표시됩니다.\n",
    "'''\n",
    "\n",
    "def solution(storage, usage, change):\n",
    "    total_usage = 0\n",
    "    for i in range(len(change)):\n",
    "        usage = usage + usage * change[i]/100\n",
    "        total_usage += usage\n",
    "        if total_usage > storage:\n",
    "            return i\n",
    "    \n",
    "    return -1\n",
    "\n",
    "print(solution(5141, 500, [10, -10, 10, -10, 10, -10, 10, -10, 10, -10]))   # -1\n",
    "print(solution(1000, 2000, [-10, 25, -33]))                                 # 0"
   ]
  }
 ],
 "metadata": {
  "kernelspec": {
   "display_name": "base",
   "language": "python",
   "name": "python3"
  },
  "language_info": {
   "codemirror_mode": {
    "name": "ipython",
    "version": 3
   },
   "file_extension": ".py",
   "mimetype": "text/x-python",
   "name": "python",
   "nbconvert_exporter": "python",
   "pygments_lexer": "ipython3",
   "version": "3.12.7"
  }
 },
 "nbformat": 4,
 "nbformat_minor": 2
}
