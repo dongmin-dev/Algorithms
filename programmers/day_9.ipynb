{
 "cells": [
  {
   "cell_type": "markdown",
   "metadata": {},
   "source": [
    "### 배열 만들기 5\n",
    "- 문자열 배열 `intStrs`와 정수 `k`, `s`, `l`가 주어집니다. `intStrs`의 원소는 숫자로 이루어져 있습니다.\n",
    "- 배열 `intStrs`의 각 원소마다 `s`번 인덱스에서 시작하는 길이 `l`짜리 부분 문자열을 잘라내 정수로 변환합니다. 이때 변환한 정수값이 `k`보다 큰 값들을 담은 배열을 return 하는 solution 함수를 완성해 주세요."
   ]
  },
  {
   "cell_type": "code",
   "execution_count": 1,
   "metadata": {},
   "outputs": [
    {
     "name": "stdout",
     "output_type": "stream",
     "text": [
      "[56789, 99999]\n"
     ]
    }
   ],
   "source": [
    "def solution(intStrs, k, s, l):\n",
    "    answer = []\n",
    "    \n",
    "    for i in intStrs:\n",
    "        num = int(i[s:s+l])\n",
    "        \n",
    "        if num > k:\n",
    "            answer.append(num)\n",
    "    \n",
    "    return answer\n",
    "\n",
    "print(solution([\"0123456789\",\"9876543210\",\"9999999999999\"], 50000, 5, 5)) # [56789, 99999]\n",
    "\n",
    "# 다른 풀이법\n",
    "def solution2(intStrs, k, s, l):\n",
    "    return [int(intstr[s:s+l]) for intstr in intStrs if int(intstr[s:s+l]) > k]"
   ]
  },
  {
   "cell_type": "markdown",
   "metadata": {},
   "source": [
    "### 부분 문자열 이어 붙여 문자열 만들기\n",
    "- 길이가 같은 문자열 배열 `my_strings`와 이차원 정수 배열 `parts`가 매개변수로 주어집니다. `parts[i]`는 [s, e] 형태로, `my_string[i]`의 인덱스 s부터 인덱스 e까지의 부분 문자열을 의미합니다. 각 `my_strings`의 원소의 `parts`에 해당하는 부분 문자열을 순서대로 이어 붙인 문자열을 return 하는 solution 함수를 작성해 주세요."
   ]
  },
  {
   "cell_type": "code",
   "execution_count": 6,
   "metadata": {},
   "outputs": [
    {
     "name": "stdout",
     "output_type": "stream",
     "text": [
      "programmers\n",
      "programmers\n"
     ]
    }
   ],
   "source": [
    "def solution(my_strings, parts):\n",
    "    answer = ''\n",
    "    index = 0\n",
    "    \n",
    "    for a, b in parts:\n",
    "        answer += str(my_strings[index][a:b+1])\n",
    "        index += 1\n",
    "    \n",
    "    return answer\n",
    "\n",
    "print(solution([\"progressive\", \"hamburger\", \"hammer\", \"ahocorasick\"], [[0, 4], [1, 2], [3, 5], [7, 7]]))  # \"programe\"\n",
    "\n",
    "# 다른 풀이법\n",
    "def solution2(my_strings, parts):\n",
    "    answer = []\n",
    "    for i, (s, e) in enumerate(parts):\n",
    "        answer.append(my_strings[i][s:e+1])\n",
    "    return ''.join(answer)\n",
    "\n",
    "print(solution2([\"progressive\", \"hamburger\", \"hammer\", \"ahocorasick\"], [[0, 4], [1, 2], [3, 5], [7, 7]]))  # \"programe\""
   ]
  },
  {
   "cell_type": "markdown",
   "metadata": {},
   "source": [
    "### 문자열 뒤의 n글자\n",
    "- 문자열 `my_string`과 정수 `n`이 매개변수로 주어질 때, `my_string`의 뒤의 `n`글자로 이루어진 문자열을 return 하는 solution 함수를 작성해 주세요."
   ]
  },
  {
   "cell_type": "code",
   "execution_count": 16,
   "metadata": {},
   "outputs": [
    {
     "name": "stdout",
     "output_type": "stream",
     "text": [
      "grammerS123\n",
      "W0r1d\n",
      "grammerS123\n",
      "W0r1d\n"
     ]
    }
   ],
   "source": [
    "def solution(my_string, n):\n",
    "    answer = []\n",
    "    for i in range(-1, -(n+1), -1):\n",
    "        answer.insert(0, my_string[i])\n",
    "    return ''.join(answer)\n",
    "\n",
    "print(solution(\"ProgrammerS123\", 11))   # grammerS123\n",
    "print(solution(\"He110W0r1d\", 5))   # W0r1d\n",
    "\n",
    "# 다른 풀이법\n",
    "def solution2(my_string, n):\n",
    "    return my_string[-n:]\n",
    "\n",
    "print(solution2(\"ProgrammerS123\", 11))   # grammerS123\n",
    "print(solution2(\"He110W0r1d\", 5))   # W0r1d"
   ]
  },
  {
   "cell_type": "markdown",
   "metadata": {},
   "source": [
    "### 접미사 배열\n",
    "- 어떤 문자열에 대해서 접미사는 특정 인덱스부터 시작하는 문자열을 의미합니다. 예를 들어, \"banana\"의 모든 접미사는 \"banana\", \"anana\", \"nana\", \"ana\", \"na\", \"a\"입니다.\n",
    "- 문자열 `my_string`이 매개변수로 주어질 때, `my_string`의 모든 접미사를 사전순으로 정렬한 문자열 배열을 return 하는 solution 함수를 작성해 주세요."
   ]
  },
  {
   "cell_type": "code",
   "execution_count": 19,
   "metadata": {},
   "outputs": [
    {
     "name": "stdout",
     "output_type": "stream",
     "text": [
      "['a', 'ana', 'anana', 'banana', 'na', 'nana']\n",
      "['ammers', 'ers', 'grammers', 'mers', 'mmers', 'ogrammers', 'programmers', 'rammers', 'rogrammers', 'rs', 's']\n"
     ]
    }
   ],
   "source": [
    "def solution(my_string):\n",
    "    answer = []\n",
    "    \n",
    "    for i in range(1, len(my_string)+1):\n",
    "        answer.append(my_string[-i:])\n",
    "    answer.sort()\n",
    "    \n",
    "    return answer\n",
    "\n",
    "print(solution(\"banana\"))       # [\"a\", \"ana\", \"anana\", \"banana\", \"na\", \"nana\"]\n",
    "print(solution(\"programmers\"))  # [\"ammers\", \"ers\", \"grammers\", \"mers\", \"mmers\", \"ogrammers\", \"programmers\", \"rammers\", \"rogrammers\", \"rs\", \"s\"]\n",
    "\n",
    "# 코드 구조 개선\n",
    "def solution2(my_string):\n",
    "    answer = []\n",
    "\n",
    "    for i in range(len(my_string)):\n",
    "        answer.append(my_string[i:])\n",
    "\n",
    "    answer.sort()\n",
    "\n",
    "    return answer\n",
    "\n",
    "# 다른 풀이법\n",
    "def solution3(my_string):\n",
    "    return sorted(my_string[i:] for i in range(len(my_string)))"
   ]
  },
  {
   "cell_type": "markdown",
   "metadata": {},
   "source": [
    "### 접미사인지 확인하기\n",
    "- 어떤 문자열에 대해서 접미사는 특정 인덱스부터 시작하는 문자열을 의미합니다. 예를 들어, \"banana\"의 모든 접미사는 \"banana\", \"anana\", \"nana\", \"ana\", \"na\", \"a\"입니다.\n",
    "- 문자열 `my_string`과 `is_suffix`가 주어질 때, `is_suffix`가 `my_string`의 접미사라면 1을, 아니면 0을 return 하는 solution 함수를 작성해 주세요."
   ]
  },
  {
   "cell_type": "code",
   "execution_count": 22,
   "metadata": {},
   "outputs": [
    {
     "name": "stdout",
     "output_type": "stream",
     "text": [
      "1\n",
      "0\n",
      "0\n",
      "0\n"
     ]
    }
   ],
   "source": [
    "def solution(my_string, is_suffix):\n",
    "    answer = 0\n",
    "    lst = [my_string[i:] for i in range(len(my_string))]\n",
    "    \n",
    "    if is_suffix in lst:\n",
    "        answer = 1\n",
    "    \n",
    "    return answer\n",
    "\n",
    "print(solution(\"banana\", \"ana\"))        # 1\n",
    "print(solution(\"banana\", \"nan\"))        # 0\n",
    "print(solution(\"banana\", \"wxyz\"))       # 0\n",
    "print(solution(\"banana\", \"abanana\"))    # 0\n",
    "\n",
    "# 다른 풀이법\n",
    "def solution2(m, s):\n",
    "    if m[-len(s):]==s: return 1\n",
    "    return 0\n",
    "\n",
    "# 다른 풀이법\n",
    "def solution3(my_string, is_suffix):\n",
    "    return int(my_string.endswith(is_suffix))"
   ]
  }
 ],
 "metadata": {
  "kernelspec": {
   "display_name": "base",
   "language": "python",
   "name": "python3"
  },
  "language_info": {
   "codemirror_mode": {
    "name": "ipython",
    "version": 3
   },
   "file_extension": ".py",
   "mimetype": "text/x-python",
   "name": "python",
   "nbconvert_exporter": "python",
   "pygments_lexer": "ipython3",
   "version": "3.12.4"
  }
 },
 "nbformat": 4,
 "nbformat_minor": 2
}
