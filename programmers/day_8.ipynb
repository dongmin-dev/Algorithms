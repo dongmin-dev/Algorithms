{
 "cells": [
  {
   "cell_type": "markdown",
   "metadata": {},
   "source": [
    "### 간단한 논리 연산\n",
    "- boolean 변수 `x1`, `x2`, `x3`, `x4`가 매개변수로 주어질 때, 다음의 식의 true/false를 return 하는 solution 함수를 작성해 주세요.\n",
    "    - (`x1` ∨ `x2`) ∧ (`x3` ∨ `x4`)"
   ]
  },
  {
   "cell_type": "code",
   "execution_count": 1,
   "metadata": {},
   "outputs": [
    {
     "name": "stdout",
     "output_type": "stream",
     "text": [
      "True\n",
      "False\n"
     ]
    }
   ],
   "source": [
    "def solution(x1, x2, x3, x4):\n",
    "    answer = (x1 or x2) and (x3 or x4)\n",
    "    \n",
    "    return answer\n",
    "\n",
    "print(solution(False, True, True, True))    # True\n",
    "print(solution(True, False, False, False))  # False\n",
    "\n",
    "# 다른 풀이법\n",
    "def solution2(x1, x2, x3, x4):\n",
    "    return (x1 | x2) & (x3 | x4)"
   ]
  },
  {
   "cell_type": "markdown",
   "metadata": {},
   "source": [
    "### 주사위 게임 3 (HARD)\n",
    "- 1부터 6까지 숫자가 적힌 주사위가 네 개 있습니다. 네 주사위를 굴렸을 때 나온 숫자에 따라 다음과 같은 점수를 얻습니다.\n",
    "    - 네 주사위에서 나온 숫자가 모두 p로 같다면 1111 × p점을 얻습니다.\n",
    "    - 세 주사위에서 나온 숫자가 p로 같고 나머지 다른 주사위에서 나온 숫자가 q(p ≠ q)라면 (10 × p + q)<sup>2</sup> 점을 얻습니다.\n",
    "    - 주사위가 두 개씩 같은 값이 나오고, 나온 숫자를 각각 p, q(p ≠ q)라고 한다면 (p + q) × |p - q|점을 얻습니다.\n",
    "    - 어느 두 주사위에서 나온 숫자가 p로 같고 나머지 두 주사위에서 나온 숫자가 각각 p와 다른 q, r(q ≠ r)이라면 q × r점을 얻습니다.\n",
    "    - 네 주사위에 적힌 숫자가 모두 다르다면 나온 숫자 중 가장 작은 숫자 만큼의 점수를 얻습니다.\n",
    "- 네 주사위를 굴렸을 때 나온 숫자가 정수 매개변수 `a`, `b`, `c`, `d`로 주어질 때, 얻는 점수를 return 하는 solution 함수를 작성해 주세요."
   ]
  },
  {
   "cell_type": "code",
   "execution_count": 22,
   "metadata": {},
   "outputs": [
    {
     "name": "stdout",
     "output_type": "stream",
     "text": [
      "2222\n",
      "1681\n",
      "27\n",
      "30\n",
      "2\n",
      "20\n",
      "144\n",
      "2222\n",
      "1681\n",
      "27\n",
      "30\n",
      "2\n",
      "20\n",
      "144\n"
     ]
    }
   ],
   "source": [
    "def solution(a, b, c, d):\n",
    "    answer = 0\n",
    "    dice = [a, b, c, d]\n",
    "    filtered_dice = list(set(dice))\n",
    "    \n",
    "    count = []\n",
    "    for i in range(1, 7, 1):\n",
    "        count.append(dice.count(i))\n",
    "    \n",
    "    \n",
    "    if len(filtered_dice) == 1:\n",
    "        answer = filtered_dice[0] * 1111\n",
    "    elif len(filtered_dice) == 2:\n",
    "        if 3 in count:\n",
    "            answer = (10 * (count.index(3) + 1) + (count.index(1) + 1)) ** 2\n",
    "        else:\n",
    "            answer = (filtered_dice[0] + filtered_dice[1]) * abs(filtered_dice[0] - filtered_dice[1])\n",
    "    elif len(filtered_dice) == 3:\n",
    "        filtered_dice.remove(count.index(2) + 1)\n",
    "        answer = filtered_dice[0] * filtered_dice[1]\n",
    "    elif len(filtered_dice) == 4:\n",
    "        answer = min(dice)\n",
    "    \n",
    "    return answer\n",
    "\n",
    "print(solution(2, 2, 2, 2)) # 2222\n",
    "print(solution(4, 1, 4, 4)) # 1681\n",
    "print(solution(6, 3, 3, 6)) # 27\n",
    "print(solution(2, 5, 2, 6)) # 30\n",
    "print(solution(6, 4, 2, 5)) # 2\n",
    "print(solution(5, 4, 6, 6)) # 20\n",
    "print(solution(1, 1, 1, 2)) # 144\n",
    "\n",
    "# 다른 풀이법\n",
    "def solution2(a, b, c, d):\n",
    "    l = [a,b,c,d]\n",
    "    count_list = [l.count(x) for x in l]\n",
    "    if max(count_list) == 4:\n",
    "        return 1111*a\n",
    "    elif max(count_list) == 3:\n",
    "        return (10*l[count_list.index(3)]+l[count_list.index(1)])**2\n",
    "    elif max(count_list) == 2:\n",
    "        if min(count_list) == 1:\n",
    "            return eval('*'.join([str(l[i]) for i, x in enumerate(count_list) if x == 1]))\n",
    "        else:\n",
    "            return (max(l) + min(l)) * abs(max(l) - min(l))\n",
    "    else:\n",
    "        return min(l)\n",
    "    \n",
    "print(solution2(2, 2, 2, 2)) # 2222\n",
    "print(solution2(4, 1, 4, 4)) # 1681\n",
    "print(solution2(6, 3, 3, 6)) # 27\n",
    "print(solution2(2, 5, 2, 6)) # 30\n",
    "print(solution2(6, 4, 2, 5)) # 2\n",
    "print(solution2(5, 4, 6, 6)) # 20\n",
    "print(solution2(1, 1, 1, 2)) # 144"
   ]
  },
  {
   "cell_type": "markdown",
   "metadata": {},
   "source": [
    "### 글자 이어 붙여 문자열 만들기\n",
    "- 문자열 `my_string`과 정수 배열 `index_list`가 매개변수로 주어집니다.\n",
    "- `my_string`의 `index_list`의 원소들에 해당하는 인덱스의 글자들을 순서대로 이어 붙인 문자열을 return 하는 solution 함수를 작성해 주세요."
   ]
  },
  {
   "cell_type": "code",
   "execution_count": 23,
   "metadata": {},
   "outputs": [
    {
     "name": "stdout",
     "output_type": "stream",
     "text": [
      "programmers\n",
      "pizza\n"
     ]
    }
   ],
   "source": [
    "def solution(my_string, index_list):\n",
    "    answer = ''\n",
    "    for i in index_list:\n",
    "        answer += my_string[i]\n",
    "    return answer\n",
    "\n",
    "print(solution(\"cvsgiorszzzmrpaqpe\", [16, 6, 5, 3, 12, 14, 11, 11, 17, 12, 7])) # programmers\n",
    "print(solution(\"zpiaz\", [1, 2, 0, 0, 3]))   # pizza\n",
    "\n",
    "# 다른 풀이법\n",
    "def solution2(my_string, index_list):\n",
    "    return ''.join([my_string[idx] for idx in index_list])"
   ]
  },
  {
   "cell_type": "markdown",
   "metadata": {},
   "source": [
    "### 9로 나눈 나머지\n",
    "- 음이 아닌 정수를 9로 나눈 나머지는 그 정수의 각 자리 숫자의 합을 9로 나눈 나머지와 같은 것이 알려져 있습니다.\n",
    "- 이 사실을 이용하여 음이 아닌 정수가 __문자열__ `number`로 주어질 때, 이 정수를 9로 나눈 나머지를 return 하는 solution 함수를 작성해주세요."
   ]
  },
  {
   "cell_type": "code",
   "execution_count": 25,
   "metadata": {},
   "outputs": [
    {
     "name": "stdout",
     "output_type": "stream",
     "text": [
      "6\n",
      "2\n"
     ]
    }
   ],
   "source": [
    "def solution(number):\n",
    "    answer = 0\n",
    "    a = 0\n",
    "    \n",
    "    for i in number:\n",
    "        a += int(i)\n",
    "    \n",
    "    answer = a % 9\n",
    "    \n",
    "    return answer\n",
    "\n",
    "print(solution(\"123\"))\n",
    "print(solution(\"78720646226947352489\"))\n",
    "\n",
    "# 다른 풀이법\n",
    "def solution(number):\n",
    "    return int(number) % 9"
   ]
  },
  {
   "cell_type": "markdown",
   "metadata": {},
   "source": [
    "### 문자열 여러번 뒤집기 (HARD)(Couldn't solve)\n",
    "- 문자열 `my_string`과 이차원 정수 배열 `queries`가 매개변수로 주어집니다.\n",
    "- `queries`의 원소는 [s, e] 형태로, `my_string`의 인덱스 s부터 인덱스 e까지를 뒤집으라는 의미입니다. `my_string`에 `queries`의 명령을 순서대로 처리한 후의 문자열을 return 하는 solution 함수를 작성해 주세요."
   ]
  },
  {
   "cell_type": "code",
   "execution_count": 39,
   "metadata": {},
   "outputs": [
    {
     "name": "stdout",
     "output_type": "stream",
     "text": [
      "programmers\n"
     ]
    }
   ],
   "source": [
    "def solution(my_string, queries):\n",
    "    lst = list(my_string)\n",
    "    \n",
    "    for a, b in queries:\n",
    "        lst[a:b+1] = lst[a:b+1][::-1]\n",
    "\n",
    "    return \"\".join(lst)\n",
    "\n",
    "print(solution(\"rermgorpsam\", [[2, 3], [0, 7], [5, 9], [6, 10]]))   # programmers"
   ]
  }
 ],
 "metadata": {
  "kernelspec": {
   "display_name": "base",
   "language": "python",
   "name": "python3"
  },
  "language_info": {
   "codemirror_mode": {
    "name": "ipython",
    "version": 3
   },
   "file_extension": ".py",
   "mimetype": "text/x-python",
   "name": "python",
   "nbconvert_exporter": "python",
   "pygments_lexer": "ipython3",
   "version": "3.12.4"
  }
 },
 "nbformat": 4,
 "nbformat_minor": 2
}
