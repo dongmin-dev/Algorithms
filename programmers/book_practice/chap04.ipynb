{
 "cells": [
  {
   "cell_type": "markdown",
   "metadata": {},
   "source": [
    "# 4. 코딩 테스트 필수 문법\n",
    "\n",
    "## 4-1. 빌트인 데이터 타입"
   ]
  },
  {
   "cell_type": "code",
   "execution_count": 1,
   "metadata": {},
   "outputs": [
    {
     "name": "stdout",
     "output_type": "stream",
     "text": [
      "4\n",
      "13\n",
      "9\n",
      "-14\n",
      "52\n",
      "3\n"
     ]
    }
   ],
   "source": [
    "a = 13\n",
    "b = 4\n",
    "\n",
    "print(a & b)\n",
    "print(a | b)\n",
    "print(a ^ b)\n",
    "print(~a)\n",
    "print(a << 2)\n",
    "print(a >> 2)"
   ]
  },
  {
   "cell_type": "markdown",
   "metadata": {},
   "source": [
    "10 % 3.2 = 0.4 이어야 하는데 Python에서는 0.39999999999999947 입니다. 이런 이유는 Python이 부동소수형 데이터를 이진법으로 표현하기 때문입니다. 표현 과정에서 발생하는 이런 미세한 오차를 처리하기 위해 `엡실론(epsilon)`이라는 작은 허용 오차 값을 사용하여 두 부동소수점 값이 \"거의 같은지\" 비교합니다."
   ]
  },
  {
   "cell_type": "code",
   "execution_count": 2,
   "metadata": {},
   "outputs": [
    {
     "name": "stdout",
     "output_type": "stream",
     "text": [
      "0.39999999999999947\n"
     ]
    }
   ],
   "source": [
    "print(10.0 % 3.2)"
   ]
  },
  {
   "cell_type": "markdown",
   "metadata": {},
   "source": [
    "## 4-2. 컬렉션 데이터 타입"
   ]
  },
  {
   "cell_type": "code",
   "execution_count": 3,
   "metadata": {},
   "outputs": [
    {
     "name": "stdout",
     "output_type": "stream",
     "text": [
      "apple: 1\n"
     ]
    }
   ],
   "source": [
    "my_dict = {}\n",
    "my_dict[\"apple\"] = 1\n",
    "my_dict[\"banana\"] = 2\n",
    "my_dict[\"orange\"] = 3\n",
    "\n",
    "key = \"apple\"\n",
    "\n",
    "if key in my_dict:\n",
    "    value = my_dict[key]\n",
    "    print(f\"{key}: {value}\")\n",
    "else:\n",
    "    print(\"{key}는 딕셔너리에 존재하지 않습니다.\")"
   ]
  }
 ],
 "metadata": {
  "kernelspec": {
   "display_name": "base",
   "language": "python",
   "name": "python3"
  },
  "language_info": {
   "codemirror_mode": {
    "name": "ipython",
    "version": 3
   },
   "file_extension": ".py",
   "mimetype": "text/x-python",
   "name": "python",
   "nbconvert_exporter": "python",
   "pygments_lexer": "ipython3",
   "version": "3.13.5"
  }
 },
 "nbformat": 4,
 "nbformat_minor": 2
}
