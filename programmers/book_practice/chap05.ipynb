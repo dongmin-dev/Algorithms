{
 "cells": [
  {
   "cell_type": "markdown",
   "id": "ddec45a9",
   "metadata": {},
   "source": [
    "# 5. 배열\n",
    "\n",
    "## 5-4. 몸풀기 문제\n",
    "\n",
    "### 1. 배열 정렬하기\n",
    "\n",
    "- 정수 배열을 정렬해서 반환하는 solution() 함수를 완성하세요.\n",
    "\n",
    "#### 제한사항\n",
    "\n",
    "- 정수 배열의 길이는 2 이상 10^5 이하입니다.\n",
    "\n",
    "- 정수 배열의 각 데이터 값은 -100,000 이상 100,000 이하입니다."
   ]
  },
  {
   "cell_type": "code",
   "execution_count": null,
   "id": "145c4686",
   "metadata": {},
   "outputs": [],
   "source": []
  }
 ],
 "metadata": {
  "kernelspec": {
   "display_name": "base",
   "language": "python",
   "name": "python3"
  },
  "language_info": {
   "name": "python",
   "version": "3.13.5"
  }
 },
 "nbformat": 4,
 "nbformat_minor": 5
}
