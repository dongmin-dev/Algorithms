{
 "cells": [
  {
   "cell_type": "markdown",
   "metadata": {},
   "source": [
    "### 리스트 자르기\n",
    "- 정수 `n`과 정수 3개가 담긴 리스트 `slicer` 그리고 정수 여러 개가 담긴 리스트 `num_list`가 주어집니다. `slicer`에 담긴 정수를 차례대로 a, b, c라고 할 때, `n`에 따라 다음과 같이 `num_list`를 슬라이싱 하려고 합니다.\n",
    "    - `n = 1` : `num_list`의 0번 인덱스부터 `b`번 인덱스까지\n",
    "    - `n = 2` : `num_list`의 `a`번 인덱스부터 마지막 인덱스까지\n",
    "    - `n = 3` : `num_list`의 `a`번 인덱스부터 `b`번 인덱스까지\n",
    "    - `n = 4` : `num_list`의 `a`번 인덱스부터 `b`번 인덱스까지 `c` 간격으로\n",
    "- 올바르게 슬라이싱한 리스트를 return하도록 solution 함수를 완성해주세요."
   ]
  },
  {
   "cell_type": "code",
   "execution_count": 7,
   "metadata": {},
   "outputs": [
    {
     "name": "stdout",
     "output_type": "stream",
     "text": [
      "[2, 3, 4, 5, 6]\n",
      "[2, 4, 6]\n",
      "[1, 2, 3, 4, 5, 6]\n",
      "[5, 7, 9]\n",
      "[2, 5]\n",
      "[2, 3, 4, 5]\n",
      "[2, 3, 4, 5, 6, 7, 8, 9]\n"
     ]
    }
   ],
   "source": [
    "def solution(n, slicer, num_list):\n",
    "    answer = []\n",
    "    if n == 1:\n",
    "        answer = num_list[0:slicer[1]+1]\n",
    "    elif n == 2:\n",
    "        answer = num_list[slicer[0]:]\n",
    "    elif n == 3:\n",
    "        answer = num_list[slicer[0]:slicer[1]+1]\n",
    "    elif n == 4:\n",
    "        answer = num_list[slicer[0]:slicer[1]+1:slicer[2]]\n",
    "    return answer\n",
    "\n",
    "print(solution(3, [1, 5, 2], [1, 2, 3, 4, 5, 6, 7, 8, 9]))      # [2, 3, 4, 5, 6]\n",
    "print(solution(4, [1, 5, 2], [1, 2, 3, 4, 5, 6, 7, 8, 9]))      # [2, 4, 6]\n",
    "print(solution(1, [1, 5, 2], [1, 2, 3, 4, 5, 6, 7, 8, 9]))      # [1, 2, 3, 4, 5, 6]\n",
    "print(solution(4, [1, 5, 2], [4, 5, 6, 7, 8, 9]))               # [5, 7, 9]\n",
    "print(solution(4, [2, 7, 3], [0, 1, 2, 3, 4, 5, 6, 7, 8, 9]))   # [2, 5]\n",
    "print(solution(3, [2, 5, 3], [0, 1, 2, 3, 4, 5, 6, 7, 8, 9]))   # [2, 3, 4, 5]\n",
    "print(solution(2, [2, 5, 3], [0, 1, 2, 3, 4, 5, 6, 7, 8, 9]))   # [2, 3, 4, 5, 6, 7, 8, 9]\n",
    "\n",
    "# 코드 구조 개선\n",
    "def solution2(n, slicer, num_list):\n",
    "    a, b, c = slicer\n",
    "    b += 1\n",
    "    if n == 1:\n",
    "        return num_list[0:b]\n",
    "    if n == 2:\n",
    "        return num_list[a:]\n",
    "    if n == 3:\n",
    "        return num_list[a:b]\n",
    "    if n == 4:\n",
    "        return num_list[a:b:c]\n",
    "    \n",
    "# solution2 구조 개선\n",
    "def solution2(n, slicer, num_list):\n",
    "    a, b, c = slicer\n",
    "    b += 1\n",
    "    \n",
    "    # 첫 번째 조건 분할\n",
    "    if n <= 2:  # n이 1 또는 2일 때\n",
    "        if n == 1:\n",
    "            return num_list[0:b]\n",
    "        else:  # n == 2\n",
    "            return num_list[a:]\n",
    "    \n",
    "    # 두 번째 조건 분할\n",
    "    else:  # n이 3 또는 4일 때\n",
    "        if n == 3:\n",
    "            return num_list[a:b]\n",
    "        else:  # n == 4\n",
    "            return num_list[a:b:c]\n",
    "\n",
    "# 다른 풀이법\n",
    "def solution4(n, slicer, num_list):\n",
    "    a, b, c = slicer\n",
    "    return [num_list[:b + 1], num_list[a:], num_list[a:b + 1], num_list[a:b + 1:c]][n - 1]"
   ]
  }
 ],
 "metadata": {
  "kernelspec": {
   "display_name": "base",
   "language": "python",
   "name": "python3"
  },
  "language_info": {
   "codemirror_mode": {
    "name": "ipython",
    "version": 3
   },
   "file_extension": ".py",
   "mimetype": "text/x-python",
   "name": "python",
   "nbconvert_exporter": "python",
   "pygments_lexer": "ipython3",
   "version": "3.12.4"
  }
 },
 "nbformat": 4,
 "nbformat_minor": 2
}
