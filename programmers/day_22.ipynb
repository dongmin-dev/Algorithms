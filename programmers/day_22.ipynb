{
 "cells": [
  {
   "cell_type": "markdown",
   "metadata": {},
   "source": [
    "### 0 떼기\n",
    "- 정수로 이루어진 문자열 `n_str`이 주어질 때, `n_str`의 가장 왼쪽에 처음으로 등장하는 0들을 뗀 문자열을 return하도록 solution 함수를 완성해주세요."
   ]
  },
  {
   "cell_type": "code",
   "execution_count": null,
   "metadata": {},
   "outputs": [
    {
     "name": "stdout",
     "output_type": "stream",
     "text": [
      "10\n",
      "854020\n"
     ]
    }
   ],
   "source": [
    "def solution(n_str):\n",
    "    return n_str.lstrip('0')\n",
    "    \n",
    "print(solution(\"0010\"))     # \"10\"\n",
    "print(solution(\"854020\"))   # \"854020\"\n",
    "\n",
    "# 다른 풀이법\n",
    "def solution2(n_str):\n",
    "    return str(int(n_str))\n",
    "\n",
    "# 다른 풀이법\n",
    "def solution3(n_str):\n",
    "    for i in range(len(n_str)):\n",
    "        if n_str[i] != \"0\":\n",
    "            return n_str[i:]\n",
    "\n",
    "# 다른 풀이법\n",
    "def solution4(n_str):\n",
    "    while n_str.startswith('0') and len(n_str) > 1:\n",
    "        n_str = n_str[1:]\n",
    "    return n_str"
   ]
  },
  {
   "cell_type": "markdown",
   "metadata": {},
   "source": [
    "### 두 수의 합\n",
    "- 0 이상의 두 정수가 문자열 `a`, `b`로 주어질 때, `a` + `b`의 값을 문자열로 return 하는 solution 함수를 작성해 주세요."
   ]
  },
  {
   "cell_type": "code",
   "execution_count": null,
   "metadata": {},
   "outputs": [
    {
     "name": "stdout",
     "output_type": "stream",
     "text": [
      "1316\n",
      "305793246910280479981\n",
      "0\n"
     ]
    }
   ],
   "source": [
    "def solution(a, b):\n",
    "    return str(int(a) + int(b))\n",
    "\n",
    "print(solution(\"582\", \"734\"))                                       # \"1316\"\n",
    "print(solution(\"18446744073709551615\", \"287346502836570928366\"))    # \"305793246910280479981\"\n",
    "print(solution(\"0\", \"0\"))                                           # \"0\"\n",
    "\n",
    "# 다른 풀이법\n",
    "def solution2(a, b):\n",
    "    return str(int(a)+int(b))"
   ]
  },
  {
   "cell_type": "markdown",
   "metadata": {},
   "source": [
    "### 문자열로 변환\n",
    "- 정수 `n`이 주어질 때, `n`을 문자열로 변환하여 return하도록 solution 함수를 완성해주세요."
   ]
  },
  {
   "cell_type": "code",
   "execution_count": null,
   "metadata": {},
   "outputs": [
    {
     "name": "stdout",
     "output_type": "stream",
     "text": [
      "123\n",
      "2573\n"
     ]
    }
   ],
   "source": [
    "def solution(n):\n",
    "    return str(n)\n",
    "\n",
    "print(solution(123))    # \"123\"\n",
    "print(solution(2573))   # \"2573\"\n",
    "\n",
    "# 다른 풀이법\n",
    "def solution2(n):\n",
    "    answer = f'{n}'\n",
    "    return answer"
   ]
  },
  {
   "cell_type": "markdown",
   "metadata": {},
   "source": [
    "### 배열의 원소 삭제하기 (Has a trick)\n",
    "- 정수 배열 `arr`과 `delete_list`가 있습니다. `arr`의 원소 중 `delete_list`의 원소를 모두 삭제하고 남은 원소들은 기존의 `arr`에 있던 순서를 유지한 배열을 return 하는 solution 함수를 작성해 주세요."
   ]
  },
  {
   "cell_type": "code",
   "execution_count": null,
   "metadata": {},
   "outputs": [
    {
     "name": "stdout",
     "output_type": "stream",
     "text": [
      "[293, 395, 678]\n",
      "[110, 66, 439, 785, 1]\n"
     ]
    }
   ],
   "source": [
    "def solution(arr, delete_list):\n",
    "    answer = []\n",
    "    \n",
    "    for i in arr:\n",
    "        if i not in delete_list:\n",
    "            answer.append(i)\n",
    "    \n",
    "    return answer\n",
    "\n",
    "print(solution([293, 1000, 395, 678, 94], [94, 777, 104, 1000, 1, 12])) # [293, 395, 678]\n",
    "print(solution([110, 66, 439, 785, 1], [377, 823, 119, 43]))            # [110, 66, 439, 785, 1]\n",
    "\n",
    "# 다른 풀이법\n",
    "def solution(arr, delete_list):\n",
    "    return [i for i in arr if i not in delete_list]"
   ]
  },
  {
   "cell_type": "markdown",
   "metadata": {},
   "source": [
    "### 부분 문자열인지 확인하기\n",
    "- 부분 문자열이란 문자열에서 연속된 일부분에 해당하는 문자열을 의미합니다. 예를 들어, 문자열 \"ana\", \"ban\", \"anana\", \"banana\", \"n\"는 모두 문자열 \"banana\"의 부분 문자열이지만, \"aaa\", \"bnana\", \"wxyz\"는 모두 \"banana\"의 부분 문자열이 아닙니다.\n",
    "- 문자열 `my_string`과 `target`이 매개변수로 주어질 때, `target`이 문자열 `my_string`의 부분 문자열이라면 1을, 아니라면 0을 return 하는 solution 함수를 작성해 주세요."
   ]
  },
  {
   "cell_type": "code",
   "execution_count": null,
   "metadata": {},
   "outputs": [
    {
     "name": "stdout",
     "output_type": "stream",
     "text": [
      "1\n",
      "0\n"
     ]
    }
   ],
   "source": [
    "def solution(my_string, target):\n",
    "    return 1 if target in my_string else 0\n",
    "\n",
    "print(solution(\"banana\", \"ana\"))    # 1\n",
    "print(solution(\"banana\", \"wxyz\"))   # 0\n",
    "\n",
    "# 코드 구조 개선\n",
    "def solution2(my_string, target):\n",
    "    return int(target in my_string)\n",
    "\n",
    "# 다른 풀이법\n",
    "def solution3(my_string, target):\n",
    "    answer = 0\n",
    "\n",
    "    my_string2 = list(my_string)\n",
    "\n",
    "    for i in range(len(my_string)):\n",
    "        if my_string2[:len(target)] == list(target):\n",
    "            return 1\n",
    "        my_string2.pop(0)\n",
    "\n",
    "    return answer"
   ]
  }
 ],
 "metadata": {
  "kernelspec": {
   "display_name": "base",
   "language": "python",
   "name": "python3"
  },
  "language_info": {
   "codemirror_mode": {
    "name": "ipython",
    "version": 3
   },
   "file_extension": ".py",
   "mimetype": "text/x-python",
   "name": "python",
   "nbconvert_exporter": "python",
   "pygments_lexer": "ipython3",
   "version": "3.12.7"
  }
 },
 "nbformat": 4,
 "nbformat_minor": 2
}
