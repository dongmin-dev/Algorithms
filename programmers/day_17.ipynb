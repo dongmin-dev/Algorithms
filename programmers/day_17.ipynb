{
 "cells": [
  {
   "cell_type": "markdown",
   "metadata": {},
   "source": [
    "### 특정 문자열로 끝나는 가장 긴 부분 문자열 찾기 (HARD)\n",
    "- 문자열 `myString`과 `pat`가 주어집니다. `myString`의 부분 문자열중 `pat`로 끝나는 가장 긴 부분 문자열을 찾아서 return 하는 solution 함수를 완성해 주세요."
   ]
  },
  {
   "cell_type": "code",
   "execution_count": null,
   "metadata": {},
   "outputs": [
    {
     "name": "stdout",
     "output_type": "stream",
     "text": [
      "AbCdE\n",
      "AAAAaaaa\n"
     ]
    }
   ],
   "source": [
    "def solution(myString, pat):\n",
    "    answer = myString[:myString.rfind(pat)+len(pat)]\n",
    "    return answer\n",
    "\n",
    "print(solution(\"AbCdEFG\", \"dE\"))    # \"AbCdE\"\n",
    "print(solution(\"AAAAaaaa\", \"a\"))    # \"AAAAaaaa\"\n",
    "\n",
    "# 다른 풀이법\n",
    "solution2=lambda x,y:x[:x.rindex(y)+len(y)]\n",
    "print(solution2(\"AbCdEFG\", \"dE\"))    # \"AbCdE\"\n",
    "\n",
    "# 다른 풀이법\n",
    "def solution3(myString, pat):\n",
    "    return myString[:len(myString) - myString[::-1].index(pat[::-1])]"
   ]
  },
  {
   "cell_type": "markdown",
   "metadata": {},
   "source": [
    "### 문자열이 몇 번 등장하는지 세기 (HARD)\n",
    "- 문자열 `myString`과 `pat`이 주어집니다. `myString`에서 `pat`이 등장하는 횟수를 return 하는 solution 함수를 완성해 주세요."
   ]
  },
  {
   "cell_type": "code",
   "execution_count": 14,
   "metadata": {},
   "outputs": [
    {
     "name": "stdout",
     "output_type": "stream",
     "text": [
      "2\n",
      "3\n"
     ]
    }
   ],
   "source": [
    "def solution(myString, pat):\n",
    "    answer = 0\n",
    "    start = myString.find(pat)\n",
    "    \n",
    "    while start != -1:\n",
    "        answer += 1\n",
    "        start = myString.find(pat, start + 1)\n",
    "    \n",
    "    return answer\n",
    "\n",
    "print(solution(\"banana\", \"ana\"))    # 2\n",
    "print(solution(\"aaaa\", \"aa\"))       # 3\n",
    "\n",
    "# 다른 풀이법\n",
    "def solution2(myString, pat):\n",
    "    answer = 0\n",
    "    for i, x in enumerate(myString) :\n",
    "        if myString[i:].startswith(pat) :\n",
    "            answer += 1\n",
    "    return answer\n",
    "\n",
    "# 다른 풀이법\n",
    "def solution3(myString, pat):\n",
    "    return sum(myString[i:i + len(pat)] == pat for i in range(len(myString)))"
   ]
  },
  {
   "cell_type": "markdown",
   "metadata": {},
   "source": [
    "### ad 제거하기\n",
    "- 문자열 배열 `strArr`가 주어집니다. 배열 내의 문자열 중 \"ad\"라는 부분 문자열을 포함하고 있는 모든 문자열을 제거하고 남은 문자열을 순서를 유지하여 배열로 return 하는 solution 함수를 완성해 주세요."
   ]
  },
  {
   "cell_type": "code",
   "execution_count": null,
   "metadata": {},
   "outputs": [
    {
     "name": "stdout",
     "output_type": "stream",
     "text": [
      "['and', 'abcd']\n",
      "['there', 'are', 'no', 'a', 'ds']\n"
     ]
    }
   ],
   "source": [
    "def solution(strArr):\n",
    "    answer = []\n",
    "    \n",
    "    for i in strArr:\n",
    "        if i.find('ad') == -1:\n",
    "            answer.append(i)\n",
    "        else:\n",
    "            continue\n",
    "    \n",
    "    return answer\n",
    "\n",
    "print(solution([\"and\",\"notad\",\"abcd\"]))         # [\"and\",\"abcd\"]\n",
    "print(solution([\"there\",\"are\",\"no\",\"a\",\"ds\"]))  # [\"there\",\"are\",\"no\",\"a\",\"ds\"]\n",
    "\n",
    "# 코드 구조 개선\n",
    "def solution2(strArr):\n",
    "    answer = []\n",
    "    for i in strArr:\n",
    "        if \"ad\" not in i:\n",
    "            answer.append(i)\n",
    "\n",
    "    return answer\n",
    "\n",
    "# 다른 풀이법\n",
    "def solution3(strArr):\n",
    "    return [word for word in strArr if 'ad' not in word]"
   ]
  },
  {
   "cell_type": "markdown",
   "metadata": {},
   "source": [
    "### 공백으로 구분하기 1 (HARD)\n",
    "- 단어가 공백 한 개로 구분되어 있는 문자열 `my_string`이 매개변수로 주어질 때, `my_string`에 나온 단어를 앞에서부터 순서대로 담은 문자열 배열을 return 하는 solution 함수를 작성해 주세요."
   ]
  },
  {
   "cell_type": "code",
   "execution_count": 22,
   "metadata": {},
   "outputs": [
    {
     "name": "stdout",
     "output_type": "stream",
     "text": [
      "['i', 'love', 'you']\n",
      "['programmers']\n"
     ]
    }
   ],
   "source": [
    "def solution(my_string):\n",
    "    return my_string.split()\n",
    "\n",
    "print(solution(\"i love you\"))   # [\"i\", \"love\", \"you\"]\n",
    "print(solution(\"programmers\"))  # [\"programmers\"]"
   ]
  },
  {
   "cell_type": "markdown",
   "metadata": {},
   "source": [
    "### 공백으로 구분하기 2\n",
    "- 단어가 공백 한 개 이상으로 구분되어 있는 문자열 `my_string`이 매개변수로 주어질 때, `my_string`에 나온 단어를 앞에서부터 순서대로 담은 문자열 배열을 return 하는 solution 함수를 작성해 주세요."
   ]
  },
  {
   "cell_type": "code",
   "execution_count": null,
   "metadata": {},
   "outputs": [
    {
     "name": "stdout",
     "output_type": "stream",
     "text": [
      "['i', 'love', 'you']\n",
      "['programmers']\n"
     ]
    }
   ],
   "source": [
    "def solution(my_string):\n",
    "    return my_string.split()\n",
    "\n",
    "print(solution(\" i    love  you\"))      # [\"i\", \"love\", \"you\"]\n",
    "print(solution(\"    programmers  \"))    # [\"programmers\"]\n",
    "\n",
    "# 다른 풀이법\n",
    "def solution2(my_string):\n",
    "    return [i for i in my_string.split(\" \") if i != \"\"]"
   ]
  }
 ],
 "metadata": {
  "kernelspec": {
   "display_name": "base",
   "language": "python",
   "name": "python3"
  },
  "language_info": {
   "codemirror_mode": {
    "name": "ipython",
    "version": 3
   },
   "file_extension": ".py",
   "mimetype": "text/x-python",
   "name": "python",
   "nbconvert_exporter": "python",
   "pygments_lexer": "ipython3",
   "version": "3.12.7"
  }
 },
 "nbformat": 4,
 "nbformat_minor": 2
}
