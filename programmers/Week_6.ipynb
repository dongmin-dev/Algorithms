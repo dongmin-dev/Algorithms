{
 "cells": [
  {
   "cell_type": "markdown",
   "metadata": {},
   "source": [
    "### 대충 만든 자판 (HARD) (Couldn't solve)\n",
    "\n",
    "- 휴대폰의 자판은 컴퓨터 키보드 자판과는 다르게 하나의 키에 여러 개의 문자가 할당될 수 있습니다. 키 하나에 여러 문자가 할당된 경우, 동일한 키를 연속해서 빠르게 누르면 할당된 순서대로 문자가 바뀝니다.\n",
    "\n",
    "- 예를 들어, 1번 키에 \"A\", \"B\", \"C\" 순서대로 문자가 할당되어 있다면 1번 키를 한 번 누르면 \"A\", 두 번 누르면 \"B\", 세 번 누르면 \"C\"가 되는 식입니다.\n",
    "\n",
    "- 같은 규칙을 적용해 아무렇게나 만든 휴대폰 자판이 있습니다. 이 휴대폰 자판은 키의 개수가 1개부터 최대 100개까지 있을 수 있으며, 특정 키를 눌렀을 때 입력되는 문자들도 무작위로 배열되어 있습니다. 또, 같은 문자가 자판 전체에 여러 번 할당된 경우도 있고, 키 하나에 같은 문자가 여러 번 할당된 경우도 있습니다. 심지어 아예 할당되지 않은 경우도 있습니다. 따라서 몇몇 문자열은 작성할 수 없을 수도 있습니다.\n",
    "\n",
    "- 이 휴대폰 자판을 이용해 특정 문자열을 작성할 때, 키를 최소 몇 번 눌러야 그 문자열을 작성할 수 있는지 알아보고자 합니다.\n",
    "\n",
    "- 1번 키부터 차례대로 할당된 문자들이 순서대로 담긴 문자열배열 `keymap`과 입력하려는 문자열들이 담긴 문자열 배열 `targets`가 주어질 때, 각 문자열을 작성하기 위해 키를 최소 몇 번씩 눌러야 하는지 순서대로 배열에 담아 return 하는 solution 함수를 완성해 주세요.\n",
    "\n",
    "- 단, 목표 문자열을 작성할 수 없을 때는 -1을 저장합니다.\n",
    "\n",
    "#### 제한사항\n",
    "\n",
    "- 1 ≤ `keymap`의 길이 ≤ 100\n",
    "    - 1 ≤ `keymap`의 원소의 길이 ≤ 100\n",
    "    - `keymap[i]`는 i + 1번 키를 눌렀을 때 순서대로 바뀌는 문자를 의미합니다.\n",
    "        - 예를 들어 `keymap[0]` = \"ABACD\" 인 경우 1번 키를 한 번 누르면 A, 두 번 누르면 B, 세 번 누르면 A 가 됩니다.\n",
    "    - `keymap`의 원소의 길이는 서로 다를 수 있습니다.\n",
    "    - `keymap`의 원소는 알파벳 대문자로만 이루어져 있습니다.\n",
    "\n",
    "- 1 ≤ `targets`의 길이 ≤ 100\n",
    "    - 1 ≤ `targets`의 원소의 길이 ≤ 100\n",
    "    - `targets`의 원소는 알파벳 대문자로만 이루어져 있습니다.\n",
    "\n",
    "#### 입출력 예\n",
    "\n",
    "| keymap | targets | result |\n",
    "| --- | --- | --- |\n",
    "| [\"ABACD\", \"BCEFD\"] | [\"ABCD\",\"AABB\"] | [9, 4] |\n",
    "| [\"AA\"] | [\"B\"] | [-1] |\n",
    "| [\"AGZ\", \"BSSS\"] | [\"ASA\",\"BGZ\"] | [4, 6] |"
   ]
  },
  {
   "cell_type": "code",
   "execution_count": 1,
   "metadata": {},
   "outputs": [
    {
     "name": "stdout",
     "output_type": "stream",
     "text": [
      "[9, 4]\n",
      "[-1]\n",
      "[4, 6]\n"
     ]
    }
   ],
   "source": [
    "# by o3-mini-high\n",
    "def solution(keymap, targets):\n",
    "    # 먼저 각 문자에 대해 최소 누름 횟수를 저장할 딕셔너리를 만듭니다.\n",
    "    min_presses = {}\n",
    "    \n",
    "    # 자판의 각 키에 할당된 문자들을 하나씩 살펴봅니다.\n",
    "    # 예를 들어 \"ABACD\"라는 키가 있다면 첫 번째 문자 'A'는 1번 누르면 입력되므로 1,\n",
    "    # 두 번째 문자 'B'는 2번, 세 번째 'A'는 3번이지만 이미 'A'는 1번에 입력 가능하므로 최소값을 유지합니다.\n",
    "    for key in keymap:\n",
    "        for idx, char in enumerate(key):\n",
    "            presses = idx + 1  # 0부터 시작하는 인덱스를 실제 누름 횟수로 바꾸기 위해 +1을 합니다.\n",
    "            if char not in min_presses or min_presses[char] > presses:\n",
    "                min_presses[char] = presses\n",
    "\n",
    "    # 이제 각 목표 문자열을 만들기 위해 필요한 누름 횟수를 계산합니다.\n",
    "    result = []\n",
    "    for target in targets:\n",
    "        total = 0\n",
    "        # 목표 문자열의 각 문자에 대해 최소 누름 횟수를 더해 나갑니다.\n",
    "        for char in target:\n",
    "            if char in min_presses:\n",
    "                total += min_presses[char]\n",
    "            else:\n",
    "                # 만약 자판에 해당 문자가 할당되어 있지 않다면 이 문자열은 만들 수 없습니다.\n",
    "                total = -1\n",
    "                break\n",
    "        result.append(total)\n",
    "    \n",
    "    return result\n",
    "\n",
    "print(solution([\"ABACD\", \"BCEFD\"], [\"ABCD\",\"AABB\"]))    # [9, 4]\n",
    "print(solution([\"AA\"], [\"B\"]))                          # [-1]\n",
    "print(solution([\"AGZ\", \"BSSS\"], [\"ASA\",\"BGZ\"]))         # [4, 6]"
   ]
  },
  {
   "cell_type": "code",
   "execution_count": 2,
   "metadata": {},
   "outputs": [
    {
     "name": "stdout",
     "output_type": "stream",
     "text": [
      "[9, 4]\n",
      "[-1]\n",
      "[4, 6]\n"
     ]
    }
   ],
   "source": [
    "# 다른 풀이법\n",
    "def solution(keymap, targets):\n",
    "    answer = []\n",
    "    hs = {}\n",
    "    for k in keymap:\n",
    "        for i, ch in enumerate(k):\n",
    "            hs[ch] = min(i + 1, hs[ch]) if ch in hs else i + 1\n",
    "\n",
    "    for i, t in enumerate(targets):\n",
    "        ret = 0\n",
    "        for ch in t:\n",
    "            if ch not in hs:\n",
    "                ret = - 1\n",
    "                break\n",
    "            ret += hs[ch]\n",
    "        answer.append(ret)\n",
    "\n",
    "    return answer\n",
    "\n",
    "print(solution([\"ABACD\", \"BCEFD\"], [\"ABCD\",\"AABB\"]))    # [9, 4]\n",
    "print(solution([\"AA\"], [\"B\"]))                          # [-1]\n",
    "print(solution([\"AGZ\", \"BSSS\"], [\"ASA\",\"BGZ\"]))         # [4, 6]"
   ]
  }
 ],
 "metadata": {
  "kernelspec": {
   "display_name": "base",
   "language": "python",
   "name": "python3"
  },
  "language_info": {
   "codemirror_mode": {
    "name": "ipython",
    "version": 3
   },
   "file_extension": ".py",
   "mimetype": "text/x-python",
   "name": "python",
   "nbconvert_exporter": "python",
   "pygments_lexer": "ipython3",
   "version": "3.12.7"
  }
 },
 "nbformat": 4,
 "nbformat_minor": 2
}
