{
 "cells": [
  {
   "cell_type": "markdown",
   "metadata": {},
   "source": [
    "### 대충 만든 자판 (HARD) (Couldn't solve)\n",
    "\n",
    "- 휴대폰의 자판은 컴퓨터 키보드 자판과는 다르게 하나의 키에 여러 개의 문자가 할당될 수 있습니다. 키 하나에 여러 문자가 할당된 경우, 동일한 키를 연속해서 빠르게 누르면 할당된 순서대로 문자가 바뀝니다.\n",
    "\n",
    "- 예를 들어, 1번 키에 \"A\", \"B\", \"C\" 순서대로 문자가 할당되어 있다면 1번 키를 한 번 누르면 \"A\", 두 번 누르면 \"B\", 세 번 누르면 \"C\"가 되는 식입니다.\n",
    "\n",
    "- 같은 규칙을 적용해 아무렇게나 만든 휴대폰 자판이 있습니다. 이 휴대폰 자판은 키의 개수가 1개부터 최대 100개까지 있을 수 있으며, 특정 키를 눌렀을 때 입력되는 문자들도 무작위로 배열되어 있습니다. 또, 같은 문자가 자판 전체에 여러 번 할당된 경우도 있고, 키 하나에 같은 문자가 여러 번 할당된 경우도 있습니다. 심지어 아예 할당되지 않은 경우도 있습니다. 따라서 몇몇 문자열은 작성할 수 없을 수도 있습니다.\n",
    "\n",
    "- 이 휴대폰 자판을 이용해 특정 문자열을 작성할 때, 키를 최소 몇 번 눌러야 그 문자열을 작성할 수 있는지 알아보고자 합니다.\n",
    "\n",
    "- 1번 키부터 차례대로 할당된 문자들이 순서대로 담긴 문자열배열 `keymap`과 입력하려는 문자열들이 담긴 문자열 배열 `targets`가 주어질 때, 각 문자열을 작성하기 위해 키를 최소 몇 번씩 눌러야 하는지 순서대로 배열에 담아 return 하는 solution 함수를 완성해 주세요.\n",
    "\n",
    "- 단, 목표 문자열을 작성할 수 없을 때는 -1을 저장합니다.\n",
    "\n",
    "#### 제한사항\n",
    "\n",
    "- 1 ≤ `keymap`의 길이 ≤ 100\n",
    "    - 1 ≤ `keymap`의 원소의 길이 ≤ 100\n",
    "    - `keymap[i]`는 i + 1번 키를 눌렀을 때 순서대로 바뀌는 문자를 의미합니다.\n",
    "        - 예를 들어 `keymap[0]` = \"ABACD\" 인 경우 1번 키를 한 번 누르면 A, 두 번 누르면 B, 세 번 누르면 A 가 됩니다.\n",
    "    - `keymap`의 원소의 길이는 서로 다를 수 있습니다.\n",
    "    - `keymap`의 원소는 알파벳 대문자로만 이루어져 있습니다.\n",
    "\n",
    "- 1 ≤ `targets`의 길이 ≤ 100\n",
    "    - 1 ≤ `targets`의 원소의 길이 ≤ 100\n",
    "    - `targets`의 원소는 알파벳 대문자로만 이루어져 있습니다.\n",
    "\n",
    "#### 입출력 예\n",
    "\n",
    "| keymap | targets | result |\n",
    "| --- | --- | --- |\n",
    "| [\"ABACD\", \"BCEFD\"] | [\"ABCD\",\"AABB\"] | [9, 4] |\n",
    "| [\"AA\"] | [\"B\"] | [-1] |\n",
    "| [\"AGZ\", \"BSSS\"] | [\"ASA\",\"BGZ\"] | [4, 6] |"
   ]
  },
  {
   "cell_type": "code",
   "execution_count": 1,
   "metadata": {},
   "outputs": [
    {
     "name": "stdout",
     "output_type": "stream",
     "text": [
      "[9, 4]\n",
      "[-1]\n",
      "[4, 6]\n"
     ]
    }
   ],
   "source": [
    "# by o3-mini-high\n",
    "def solution(keymap, targets):\n",
    "    # 먼저 각 문자에 대해 최소 누름 횟수를 저장할 딕셔너리를 만듭니다.\n",
    "    min_presses = {}\n",
    "    \n",
    "    # 자판의 각 키에 할당된 문자들을 하나씩 살펴봅니다.\n",
    "    # 예를 들어 \"ABACD\"라는 키가 있다면 첫 번째 문자 'A'는 1번 누르면 입력되므로 1,\n",
    "    # 두 번째 문자 'B'는 2번, 세 번째 'A'는 3번이지만 이미 'A'는 1번에 입력 가능하므로 최소값을 유지합니다.\n",
    "    for key in keymap:\n",
    "        for idx, char in enumerate(key):\n",
    "            presses = idx + 1  # 0부터 시작하는 인덱스를 실제 누름 횟수로 바꾸기 위해 +1을 합니다.\n",
    "            if char not in min_presses or min_presses[char] > presses:\n",
    "                min_presses[char] = presses\n",
    "\n",
    "    # 이제 각 목표 문자열을 만들기 위해 필요한 누름 횟수를 계산합니다.\n",
    "    result = []\n",
    "    for target in targets:\n",
    "        total = 0\n",
    "        # 목표 문자열의 각 문자에 대해 최소 누름 횟수를 더해 나갑니다.\n",
    "        for char in target:\n",
    "            if char in min_presses:\n",
    "                total += min_presses[char]\n",
    "            else:\n",
    "                # 만약 자판에 해당 문자가 할당되어 있지 않다면 이 문자열은 만들 수 없습니다.\n",
    "                total = -1\n",
    "                break\n",
    "        result.append(total)\n",
    "    \n",
    "    return result\n",
    "\n",
    "print(solution([\"ABACD\", \"BCEFD\"], [\"ABCD\",\"AABB\"]))    # [9, 4]\n",
    "print(solution([\"AA\"], [\"B\"]))                          # [-1]\n",
    "print(solution([\"AGZ\", \"BSSS\"], [\"ASA\",\"BGZ\"]))         # [4, 6]"
   ]
  },
  {
   "cell_type": "code",
   "execution_count": 2,
   "metadata": {},
   "outputs": [
    {
     "name": "stdout",
     "output_type": "stream",
     "text": [
      "[9, 4]\n",
      "[-1]\n",
      "[4, 6]\n"
     ]
    }
   ],
   "source": [
    "# 다른 풀이법\n",
    "def solution(keymap, targets):\n",
    "    answer = []\n",
    "    hs = {}\n",
    "    for k in keymap:\n",
    "        for i, ch in enumerate(k):\n",
    "            hs[ch] = min(i + 1, hs[ch]) if ch in hs else i + 1\n",
    "\n",
    "    for i, t in enumerate(targets):\n",
    "        ret = 0\n",
    "        for ch in t:\n",
    "            if ch not in hs:\n",
    "                ret = - 1\n",
    "                break\n",
    "            ret += hs[ch]\n",
    "        answer.append(ret)\n",
    "\n",
    "    return answer\n",
    "\n",
    "print(solution([\"ABACD\", \"BCEFD\"], [\"ABCD\",\"AABB\"]))    # [9, 4]\n",
    "print(solution([\"AA\"], [\"B\"]))                          # [-1]\n",
    "print(solution([\"AGZ\", \"BSSS\"], [\"ASA\",\"BGZ\"]))         # [4, 6]"
   ]
  },
  {
   "cell_type": "markdown",
   "metadata": {},
   "source": [
    "### 카드 뭉치\n",
    "\n",
    "- 코니는 영어 단어가 적힌 카드 뭉치 두 개를 선물로 받았습니다. 코니는 다음과 같은 규칙으로 카드에 적힌 단어들을 사용해 원하는 순서의 단어 배열을 만들 수 있는지 알고 싶습니다.\n",
    "    - 원하는 카드 뭉치에서 카드를 순서대로 한 장씩 사용합니다.\n",
    "    - 한 번 사용한 카드는 다시 사용할 수 없습니다.\n",
    "    - 카드를 사용하지 않고 다음 카드로 넘어갈 수 없습니다.\n",
    "    - 기존에 주어진 카드 뭉치의 단어 순서는 바꿀 수 없습니다.\n",
    "\n",
    "- 예를 들어 첫 번째 카드 뭉치에 순서대로 [\"i\", \"drink\", \"water\"], 두 번째 카드 뭉치에 순서대로 [\"want\", \"to\"]가 적혀있을 때 [\"i\", \"want\", \"to\", \"drink\", \"water\"] 순서의 단어 배열을 만들려고 한다면 첫 번째 카드 뭉치에서 \"i\"를 사용한 후 두 번째 카드 뭉치에서 \"want\"와 \"to\"를 사용하고 첫 번째 카드뭉치에 \"drink\"와 \"water\"를 차례대로 사용하면 원하는 순서의 단어 배열을 만들 수 있습니다.\n",
    "\n",
    "- 문자열로 이루어진 배열 `cards1`, `cards2`와 원하는 단어 배열 `goal`이 매개변수로 주어질 때, `cards1`과 `cards2`에 적힌 단어들로 `goal`를 만들 있다면 \"Yes\"를, 만들 수 없다면 \"No\"를 return하는 solution 함수를 완성해주세요.\n",
    "\n",
    "#### 제한사항\n",
    "\n",
    "- 1 ≤ `cards1`의 길이, `cards2`의 길이 ≤ 10\n",
    "    - 1 ≤ `cards1[i]`의 길이, `cards2[i]`의 길이 ≤ 10\n",
    "    - `cards1`과 `cards2`에는 서로 다른 단어만 존재합니다.\n",
    "\n",
    "- 2 ≤ `goal`의 길이 ≤ `cards1`의 길이 + `cards2`의 길이\n",
    "    - 1 ≤ `goal[i]`의 길이 ≤ 10\n",
    "    - `goal`의 원소는 `cards1`과 `cards2`의 원소들로만 이루어져 있습니다.\n",
    "\n",
    "- `cards1`, `cards2`, `goal`의 문자열들은 모두 알파벳 소문자로만 이루어져 있습니다.\n",
    "\n",
    "#### 입출력 예\n",
    "\n",
    "| cards1 | cards2 | goal | result |\n",
    "| --- | --- | --- | --- |\n",
    "| [\"i\", \"drink\", \"water\"] | [\"want\", \"to\"] | [\"i\", \"want\", \"to\", \"drink\", \"water\"] | \"Yes\" |\n",
    "| [\"i\", \"water\", \"drink\"] | [\"want\", \"to\"] | [\"i\", \"want\", \"to\", \"drink\", \"water\"] | \"No\" |"
   ]
  },
  {
   "cell_type": "code",
   "execution_count": 2,
   "metadata": {},
   "outputs": [
    {
     "name": "stdout",
     "output_type": "stream",
     "text": [
      "Yes\n",
      "No\n"
     ]
    }
   ],
   "source": [
    "def solution(cards1, cards2, goal):\n",
    "    idx1, idx2 = 0, 0\n",
    "    \n",
    "    for word in goal:\n",
    "        if idx1 < len(cards1) and word in cards1[idx1]:\n",
    "            idx1 += 1\n",
    "        elif idx2 < len(cards2) and word in cards2[idx2]:\n",
    "            idx2 += 1\n",
    "        else:\n",
    "            return \"No\"\n",
    "    \n",
    "    return \"Yes\"\n",
    "\n",
    "print(solution([\"i\", \"drink\", \"water\"], [\"want\", \"to\"], [\"i\", \"want\", \"to\", \"drink\", \"water\"])) # \"Yes\"\n",
    "print(solution([\"i\", \"water\", \"drink\"], [\"want\", \"to\"], [\"i\", \"want\", \"to\", \"drink\", \"water\"])) # \"No\""
   ]
  },
  {
   "cell_type": "code",
   "execution_count": 3,
   "metadata": {},
   "outputs": [
    {
     "name": "stdout",
     "output_type": "stream",
     "text": [
      "Yes\n",
      "No\n"
     ]
    }
   ],
   "source": [
    "# 다른 풀이법\n",
    "def solution(cards1, cards2, goal):\n",
    "    for g in goal:\n",
    "        if len(cards1) > 0 and g == cards1[0]:\n",
    "            cards1.pop(0)       \n",
    "        elif len(cards2) >0 and g == cards2[0]:\n",
    "            cards2.pop(0)\n",
    "        else:\n",
    "            return \"No\"\n",
    "    return \"Yes\"\n",
    "\n",
    "print(solution([\"i\", \"drink\", \"water\"], [\"want\", \"to\"], [\"i\", \"want\", \"to\", \"drink\", \"water\"])) # \"Yes\"\n",
    "print(solution([\"i\", \"water\", \"drink\"], [\"want\", \"to\"], [\"i\", \"want\", \"to\", \"drink\", \"water\"])) # \"No\""
   ]
  },
  {
   "cell_type": "code",
   "execution_count": 4,
   "metadata": {},
   "outputs": [
    {
     "name": "stdout",
     "output_type": "stream",
     "text": [
      "Yes\n",
      "No\n"
     ]
    }
   ],
   "source": [
    "# 다른 풀이법\n",
    "from collections import deque\n",
    "\n",
    "def solution(cards1, cards2, goal):\n",
    "    card1_q = deque(list(cards1))\n",
    "    card2_q = deque(list(cards2))\n",
    "\n",
    "    for target in goal:\n",
    "        if card1_q and card1_q[0] == target:\n",
    "            card1_q.popleft()\n",
    "        elif card2_q and card2_q[0] == target:\n",
    "            card2_q.popleft()\n",
    "        else:\n",
    "            return \"No\"\n",
    "\n",
    "    return \"Yes\"\n",
    "\n",
    "print(solution([\"i\", \"drink\", \"water\"], [\"want\", \"to\"], [\"i\", \"want\", \"to\", \"drink\", \"water\"])) # \"Yes\"\n",
    "print(solution([\"i\", \"water\", \"drink\"], [\"want\", \"to\"], [\"i\", \"want\", \"to\", \"drink\", \"water\"])) # \"No\""
   ]
  },
  {
   "cell_type": "markdown",
   "metadata": {},
   "source": [
    "### 둘만의 암호\n",
    "\n",
    "- 두 문자열 `s`와 `skip`, 그리고 자연수 `index`가 주어질 때, 다음 규칙에 따라 문자열을 만들려 합니다. 암호의 규칙은 다음과 같습니다.\n",
    "    - 문자열 `s`의 각 알파벳을 `index`만큼 뒤의 알파벳으로 바꿔줍니다.\n",
    "    - `index`만큼의 뒤의 알파벳이 `z`를 넘어갈 경우 다시 `a`로 돌아갑니다.\n",
    "    - `skip`에 있는 알파벳은 제외하고 건너뜁니다.\n",
    "\n",
    "- 예를 들어 `s` = \"aukks\", `skip` = \"wbqd\", `index` = 5일 때, a에서 5만큼 뒤에 있는 알파벳은 f지만 [b, c, d, e, f]에서 'b'와 'd'는 `skip`에 포함되므로 세지 않습니다. 따라서 'b', 'd'를 제외하고 'a'에서 5만큼 뒤에 있는 알파벳은 [c, e, f, g, h] 순서에 의해 'h'가 됩니다. 나머지 \"ukks\" 또한 위 규칙대로 바꾸면 \"appy\"가 되며 결과는 \"happy\"가 됩니다.\n",
    "\n",
    "- 두 문자열 `s`와 `skip`, 그리고 자연수 `index`가 매개변수로 주어질 때 위 규칙대로 `s`를 변환한 결과를 return하도록 solution 함수를 완성해주세요.\n",
    "\n",
    "#### 제한사항\n",
    "\n",
    "- 5 ≤ `s`의 길이 ≤ 50\n",
    "\n",
    "- 1 ≤ `skip`의 길이 ≤ 10\n",
    "\n",
    "- `s`와 `skip`은 알파벳 소문자로만 이루어져 있습니다.\n",
    "    - `skip`에 포함되는 알파벳은 `s`에 포함되지 않습니다.\n",
    "\n",
    "- 1 ≤ `index` ≤ 20\n",
    "\n",
    "#### 입출력 예\n",
    "| s | skip | index | result |\n",
    "| --- | --- | --- | --- |\n",
    "| \"aukks\" | \"wbqd\" | 5 | \"happy\" |"
   ]
  },
  {
   "cell_type": "code",
   "execution_count": 2,
   "metadata": {},
   "outputs": [
    {
     "name": "stdout",
     "output_type": "stream",
     "text": [
      "97\n",
      "122\n",
      "25\n"
     ]
    }
   ],
   "source": [
    "print(ord('a'))\n",
    "print(ord('z'))\n",
    "print(ord('z') - ord('a'))"
   ]
  },
  {
   "cell_type": "code",
   "execution_count": 8,
   "metadata": {},
   "outputs": [
    {
     "name": "stdout",
     "output_type": "stream",
     "text": [
      "happy\n"
     ]
    }
   ],
   "source": [
    "def solution(s, skip, index):\n",
    "    answer = []\n",
    "    skips = [ord(i) for i in skip]\n",
    "    \n",
    "    for word in s:\n",
    "        word = ord(word)\n",
    "        count = 0\n",
    "        \n",
    "        while count < index:\n",
    "            word += 1\n",
    "            if word > 122:\n",
    "                word = 97\n",
    "            if word not in skips:\n",
    "                count += 1\n",
    "        \n",
    "        answer.append(chr(word))\n",
    "    \n",
    "    return ''.join(answer)\n",
    "\n",
    "print(solution(\"aukks\", \"wbqd\", 5)) # \"happy\""
   ]
  },
  {
   "cell_type": "code",
   "execution_count": null,
   "metadata": {},
   "outputs": [
    {
     "name": "stdout",
     "output_type": "stream",
     "text": [
      "happy\n"
     ]
    }
   ],
   "source": [
    "# 다른 풀이법\n",
    "from string import ascii_lowercase\n",
    "\n",
    "def solution(s, skip, index):\n",
    "    result = ''\n",
    "\n",
    "    a_to_z = set(ascii_lowercase)\n",
    "    a_to_z -= set(skip)\n",
    "    a_to_z = sorted(a_to_z)\n",
    "    l = len(a_to_z)\n",
    "\n",
    "    dic_alpha = {alpha:idx for idx, alpha in enumerate(a_to_z)}\n",
    "\n",
    "    for i in s:\n",
    "        result += a_to_z[(dic_alpha[i] + index) % l]\n",
    "\n",
    "    return result\n",
    "\n",
    "print(solution(\"aukks\", \"wbqd\", 5)) # \"happy\""
   ]
  },
  {
   "cell_type": "code",
   "execution_count": 10,
   "metadata": {},
   "outputs": [
    {
     "name": "stdout",
     "output_type": "stream",
     "text": [
      "happy\n"
     ]
    }
   ],
   "source": [
    "# 다른 풀이법\n",
    "def solution(s, skip, index):\n",
    "    alphas = [chr(a) for a in range(ord(\"a\"), ord(\"z\")+1) if chr(a) not in skip]\n",
    "    return \"\".join([alphas[(alphas.index(a) + index) % len(alphas)] for a in s])\n",
    "\n",
    "print(solution(\"aukks\", \"wbqd\", 5)) # \"happy\""
   ]
  },
  {
   "cell_type": "code",
   "execution_count": 12,
   "metadata": {},
   "outputs": [
    {
     "name": "stdout",
     "output_type": "stream",
     "text": [
      "happy\n"
     ]
    }
   ],
   "source": [
    "# 다른 풀이법\n",
    "def solution(s, skip, index):\n",
    "    atoz = ['a', 'b', 'c', 'd', 'e', 'f', 'g', 'h', 'i', 'j', 'k', 'l', 'm',\n",
    "            'n', 'o', 'p', 'q', 'r', 's', 't', 'u', 'v', 'w', 'x', 'y', 'z']\n",
    "\n",
    "    for i in skip:\n",
    "        atoz.remove(i)\n",
    "\n",
    "    ans = ''\n",
    "    for i in s:\n",
    "        ans += atoz[(atoz.index(i)+index)%len(atoz)]\n",
    "\n",
    "    return ans\n",
    "\n",
    "print(solution(\"aukks\", \"wbqd\", 5)) # \"happy\""
   ]
  },
  {
   "cell_type": "code",
   "execution_count": 14,
   "metadata": {},
   "outputs": [
    {
     "name": "stdout",
     "output_type": "stream",
     "text": [
      "happy\n"
     ]
    }
   ],
   "source": [
    "# 다른 풀이법\n",
    "import re\n",
    "def solution(s, skip, index):\n",
    "    tmp = \"abcdefghijklmnopqrstuvwxyz\"\n",
    "    ans = \"\"\n",
    "    for i in list(skip):\n",
    "        tmp = tmp.replace(i,\"\")\n",
    "    for i in s:\n",
    "        ans += tmp[(tmp.find(i) + index) % len(tmp)]\n",
    "    return ans\n",
    "\n",
    "print(solution(\"aukks\", \"wbqd\", 5)) # \"happy\""
   ]
  }
 ],
 "metadata": {
  "kernelspec": {
   "display_name": "base",
   "language": "python",
   "name": "python3"
  },
  "language_info": {
   "codemirror_mode": {
    "name": "ipython",
    "version": 3
   },
   "file_extension": ".py",
   "mimetype": "text/x-python",
   "name": "python",
   "nbconvert_exporter": "python",
   "pygments_lexer": "ipython3",
   "version": "3.12.7"
  }
 },
 "nbformat": 4,
 "nbformat_minor": 2
}
