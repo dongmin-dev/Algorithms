{
 "cells": [
  {
   "cell_type": "markdown",
   "metadata": {},
   "source": [
    "### 문자열 앞의 n글자\n",
    "문자열 `my_string`과 정수 `n`이 매개변수로 주어질 때, `my_string`의 앞의 `n`글자로 이루어진 문자열을 return 하는 solution 함수를 작성해 주세요."
   ]
  },
  {
   "cell_type": "code",
   "execution_count": 3,
   "metadata": {},
   "outputs": [
    {
     "name": "stdout",
     "output_type": "stream",
     "text": [
      "ProgrammerS\n",
      "He110\n"
     ]
    }
   ],
   "source": [
    "def solution(my_string, n):\n",
    "    answer = my_string[0:n]\n",
    "    return answer\n",
    "\n",
    "print(solution(\"ProgrammerS123\", 11))   # ProgrammerS\n",
    "print(solution(\"He110W0r1d\", 5))   # He110\n",
    "\n",
    "# 다른 풀이법\n",
    "def solution2(my_string, n):\n",
    "    return my_string[:n]"
   ]
  },
  {
   "cell_type": "markdown",
   "metadata": {},
   "source": [
    "### 접두사인지 확인하기\n",
    "- 어떤 문자열에 대해서 접두사는 특정 인덱스까지의 문자열을 의미합니다. 예를 들어, \"banana\"의 모든 접두사는 \"b\", \"ba\", \"ban\", \"bana\", \"banan\", \"banana\"입니다.\n",
    "- 문자열 `my_string`과` is_prefix`가 주어질 때, `is_prefix`가 `my_string`의 접두사라면 1을, 아니면 0을 return 하는 solution 함수를 작성해 주세요."
   ]
  },
  {
   "cell_type": "code",
   "execution_count": 4,
   "metadata": {},
   "outputs": [
    {
     "name": "stdout",
     "output_type": "stream",
     "text": [
      "1\n",
      "0\n",
      "0\n",
      "0\n"
     ]
    }
   ],
   "source": [
    "def solution(my_string, is_prefix):\n",
    "    return int(my_string.startswith(is_prefix))\n",
    "\n",
    "print(solution(\"banana\", \"ban\"))        # 1\n",
    "print(solution(\"banana\", \"nan\"))        # 0\n",
    "print(solution(\"banana\", \"abcd\"))       # 0\n",
    "print(solution(\"banana\", \"bananan\"))    # 0\n",
    "\n",
    "# 다른 풀이법\n",
    "def solution2(my_string, is_prefix):\n",
    "    return 1 if my_string.find(is_prefix) == 0 else 0\n",
    "\n",
    "# 다른 풀이법\n",
    "def solution3(my_string, is_prefix):\n",
    "    if my_string[:len(is_prefix)]==is_prefix:return 1\n",
    "    return 0"
   ]
  },
  {
   "cell_type": "markdown",
   "metadata": {},
   "source": [
    "### 문자열 뒤집기\n",
    "- 문자열 `my_string`과 정수 `s`, `e`가 매개변수로 주어질 때, `my_string`에서 인덱스 `s`부터 인덱스 `e`까지를 뒤집은 문자열을 return 하는 solution 함수를 작성해 주세요."
   ]
  },
  {
   "cell_type": "code",
   "execution_count": 7,
   "metadata": {},
   "outputs": [
    {
     "name": "stdout",
     "output_type": "stream",
     "text": [
      "ProgrammerS123\n",
      "Stanley1yelnatS\n"
     ]
    }
   ],
   "source": [
    "def solution(my_string, s, e):\n",
    "    lst = list(my_string)\n",
    "    lst[s:e+1] = lst[s:e+1][::-1]\n",
    "    return \"\".join(lst)\n",
    "\n",
    "print(solution(\"Progra21Sremm3\", 6, 12))        # ProgrammerS123\n",
    "print(solution(\"Stanley1yelnatS\", 4, 10))       # Stanley1yelnatS\n",
    "\n",
    "# 다른 풀이법\n",
    "def solution2(my_string, s, e):\n",
    "    return my_string[:s]+my_string[s:e+1][::-1]+my_string[e+1:]"
   ]
  },
  {
   "cell_type": "markdown",
   "metadata": {},
   "source": [
    "### 세로 읽기\n",
    "- 문자열 `my_string`과 두 정수 `m`, `c`가 주어집니다. `my_string`을 한 줄에 `m` 글자씩 가로로 적었을 때 왼쪽부터 세로로 `c`번째 열에 적힌 글자들을 문자열로 return 하는 solution 함수를 작성해 주세요."
   ]
  },
  {
   "cell_type": "code",
   "execution_count": 12,
   "metadata": {},
   "outputs": [
    {
     "name": "stdout",
     "output_type": "stream",
     "text": [
      "happy\n",
      "programmers\n"
     ]
    }
   ],
   "source": [
    "def solution(my_string, m, c):\n",
    "    answer = []\n",
    "    start = c-1\n",
    "    \n",
    "    for i in range(len(my_string) // m):\n",
    "        answer.append(my_string[start])\n",
    "        start += m\n",
    "    \n",
    "    return ''.join(answer)\n",
    "\n",
    "print(solution(\"ihrhbakrfpndopljhygc\", 4, 2))   # happy\n",
    "print(solution(\"programmers\", 1, 1))   # programmers\n",
    "\n",
    "# 다른 풀이법\n",
    "def solution2(s, m, c):\n",
    "    return s[c-1::m]"
   ]
  },
  {
   "cell_type": "markdown",
   "metadata": {},
   "source": [
    "### qr code (HARD)\n",
    "- 두 정수 `q`, `r`과 문자열 `code`가 주어질 때, `code`의 각 인덱스를 `q`로 나누었을 때 나머지가 `r`인 위치의 문자를 앞에서부터 순서대로 이어 붙인 문자열을 return 하는 solution 함수를 작성해 주세요."
   ]
  },
  {
   "cell_type": "code",
   "execution_count": 21,
   "metadata": {},
   "outputs": [
    {
     "name": "stdout",
     "output_type": "stream",
     "text": [
      "jerry\n",
      "programmers\n",
      "ea\n",
      "hello\n"
     ]
    }
   ],
   "source": [
    "def solution(q, r, code):\n",
    "    answer = []\n",
    "    \n",
    "    for i in range(len(code)):\n",
    "        if i % q == r:\n",
    "            answer.append(code[i])\n",
    "    \n",
    "    return ''.join(answer)\n",
    "\n",
    "print(solution(3, 1, \"qjnwezgrpirldywt\"))   # jerry\n",
    "print(solution(1, 0, \"programmers\"))        # programmers\n",
    "print(solution(3, 1, \"repeat\"))             # ea\n",
    "print(solution(2, 0, \"hjeblalao\"))          # hello\n",
    "\n",
    "# 다른 풀이법\n",
    "def solution2(q, r, code):\n",
    "    return code[r::q]"
   ]
  }
 ],
 "metadata": {
  "kernelspec": {
   "display_name": "base",
   "language": "python",
   "name": "python3"
  },
  "language_info": {
   "codemirror_mode": {
    "name": "ipython",
    "version": 3
   },
   "file_extension": ".py",
   "mimetype": "text/x-python",
   "name": "python",
   "nbconvert_exporter": "python",
   "pygments_lexer": "ipython3",
   "version": "3.12.4"
  }
 },
 "nbformat": 4,
 "nbformat_minor": 2
}
