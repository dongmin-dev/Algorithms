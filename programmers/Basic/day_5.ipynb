{
 "cells": [
  {
   "cell_type": "markdown",
   "metadata": {},
   "source": [
    "### 코드 처리하기 (Not Fully Understood the Solution2)\n",
    "- 문자열 `code`가 주어집니다.\n",
    "- `code`를 앞에서부터 읽으면서 만약 문자가 \"1\"이면 `mode`를 바꿉니다. `mode`에 따라 `code`를 읽어가면서 문자열 `ret`을 만들어냅니다.\n",
    "- `mode`는 0과 1이 있으며, `idx`를 0 부터 `code의 길이 - 1` 까지 1씩 키워나가면서 `code[idx]`의 값에 따라 다음과 같이 행동합니다.\n",
    "\t- `mode`가 0일 때\n",
    "\t\t- `code[idx]`가 \"1\"이 아니면 `idx`가 짝수일 때만 `ret`의 맨 뒤에 `code[idx]`를 추가합니다.\n",
    "\t\t- `code[idx]`가 \"1\"이면 `mode`를 0에서 1로 바꿉니다.\n",
    "\t- `mode`가 1일 때\n",
    "\t\t- `code[idx]`가 \"1\"이 아니면 `idx`가 홀수일 때만 `ret`의 맨 뒤에 `code[idx]`를 추가합니다.\n",
    "\t\t- `code[idx]`가 \"1\"이면 `mode`를 1에서 0으로 바꿉니다.\n",
    "- 문자열 `code`를 통해 만들어진 문자열 `ret`를 return 하는 solution 함수를 완성해 주세요.\n",
    "- 단, 시작할 때 `mode`는 0이며, return 하려는 `ret`가 만약 빈 문자열이라면 대신 \"EMPTY\"를 return 합니다."
   ]
  },
  {
   "cell_type": "code",
   "execution_count": 8,
   "metadata": {},
   "outputs": [
    {
     "name": "stdout",
     "output_type": "stream",
     "text": [
      "acbac\n",
      "acbac\n"
     ]
    }
   ],
   "source": [
    "def solution(code):\n",
    "    answer = ''\n",
    "    mode = False\n",
    "    idx = 0\n",
    "    ret = ''\n",
    "    \n",
    "    for i in code:\n",
    "        if i == \"1\":\n",
    "            mode = not mode\n",
    "        \n",
    "        else:\n",
    "            if mode == False and idx % 2 == 0:\n",
    "                ret += code[idx]\n",
    "            elif mode == True and idx % 2 != 0:\n",
    "                ret += code[idx]\n",
    "        idx += 1\n",
    "    \n",
    "    if ret == '':\n",
    "        answer = 'EMPTY'\n",
    "    else:\n",
    "        answer = ret\n",
    "    \n",
    "    return answer\n",
    "\n",
    "print(solution(\"abc1abc1abc\"))\n",
    "\n",
    "# 다른 풀이법\n",
    "def solution2(code):\n",
    "    return \"\".join(code.split(\"1\"))[::2] or \"EMPTY\"\n",
    "\n",
    "print(solution2(\"abc1abc1abc\"))"
   ]
  },
  {
   "cell_type": "markdown",
   "metadata": {},
   "source": [
    "### 등차수열의 특정한 항만 더하기\n",
    "- 두 정수 `a`, `d`와 길이가 n인 boolean 배열 `included`가 주어집니다. 첫째항이 `a`, 공차가 `d`인 등차수열에서 `included[i]`가 i + 1항을 의미할 때, 이 등차수열의 1항부터 n항까지 `included`가 true인 항들만 더한 값을 return 하는 solution 함수를 작성해 주세요."
   ]
  },
  {
   "cell_type": "code",
   "execution_count": 15,
   "metadata": {},
   "outputs": [
    {
     "name": "stdout",
     "output_type": "stream",
     "text": [
      "37\n",
      "10\n",
      "37\n",
      "10\n"
     ]
    }
   ],
   "source": [
    "def solution(a, d, included):\n",
    "    answer = 0\n",
    "    arr = [a]\n",
    "    \n",
    "    for i in range(len(included)):\n",
    "        arr.append(arr[i] + d)\n",
    "        \n",
    "        if included[i] == True:\n",
    "            answer += arr[i]\n",
    "    \n",
    "    return answer\n",
    "\n",
    "print(solution(3, 4, [True, False, False, True, True]))\n",
    "print(solution(7, 1, [False, False, False, True, False, False, False]))\n",
    "\n",
    "# 다른 풀이법\n",
    "def solution2(a, d, included):\n",
    "    answer = 0\n",
    "    for i in range(len(included)):\n",
    "        answer += (a + d * i) * int(included[i])\n",
    "    return answer\n",
    "\n",
    "print(solution2(3, 4, [True, False, False, True, True]))\n",
    "print(solution2(7, 1, [False, False, False, True, False, False, False]))"
   ]
  },
  {
   "cell_type": "markdown",
   "metadata": {},
   "source": [
    "### 주사위 게임 2\n",
    "- 1부터 6까지 숫자가 적힌 주사위가 세 개 있습니다. 세 주사위를 굴렸을 때 나온 숫자를 각각 `a`, `b`, `c`라고 했을 때 얻는 점수는 다음과 같습니다.\n",
    "\t- 세 숫자가 모두 다르다면 `a` + `b` + `c` 점을 얻습니다.\n",
    "\t- 세 숫자 중 어느 두 숫자는 같고 나머지 다른 숫자는 다르다면 (`a` + `b` + `c`) × (`a`<sup>2</sup> + `b`<sup>2</sup> + `c`<sup>2</sup>)점을 얻습니다.\n",
    "\t- 세 숫자가 모두 같다면 (`a` + `b` + `c`) × (`a`<sup>2</sup> + `b`<sup>2</sup> + `c`<sup>2</sup>) × (`a`<sup>3</sup> + `b`<sup>3</sup> + `c`<sup>3</sup>)점을 얻습니다.\n",
    "- 세 정수 `a`, `b`, `c`가 매개변수로 주어질 때, 얻는 점수를 return 하는 solution 함수를 작성해 주세요."
   ]
  },
  {
   "cell_type": "code",
   "execution_count": 3,
   "metadata": {},
   "outputs": [
    {
     "name": "stdout",
     "output_type": "stream",
     "text": [
      "9\n",
      "473\n",
      "110592\n",
      "9\n",
      "473\n",
      "110592\n"
     ]
    }
   ],
   "source": [
    "def solution(a, b, c):\n",
    "    answer = 0\n",
    "    \n",
    "    if a == b == c:\n",
    "        answer = (a + b + c) * (a ** 2 + b ** 2 + c ** 2) * (a ** 3 + b ** 3 + c ** 3)\n",
    "    elif a == b or b == c or a == c:\n",
    "        answer = (a + b + c) * (a ** 2 + b ** 2 + c ** 2)\n",
    "    else:\n",
    "        answer = a + b + c\n",
    "    \n",
    "    return answer\n",
    "\n",
    "print(solution(2, 6, 1))\n",
    "print(solution(5, 3, 3))\n",
    "print(solution(4, 4, 4))\n",
    "\n",
    "# 다른 풀이법\n",
    "def solution2(a, b, c):\n",
    "    check=len(set([a,b,c]))\n",
    "    if check==1:\n",
    "        return 3*a*3*(a**2)*3*(a**3)\n",
    "    elif check==2:\n",
    "        return (a+b+c)*(a**2+b**2+c**2)\n",
    "    else:\n",
    "        return (a+b+c)\n",
    "\n",
    "print(solution2(2, 6, 1))\n",
    "print(solution2(5, 3, 3))\n",
    "print(solution2(4, 4, 4))"
   ]
  },
  {
   "cell_type": "markdown",
   "metadata": {},
   "source": [
    "### 원소들의 곱과 합\n",
    "- 정수가 담긴 리스트 `num_list`가 주어질 때, 모든 원소들의 곱이 모든 원소들의 합의 제곱보다 작으면 1을 크면 0을 return하도록 solution 함수를 완성해주세요."
   ]
  },
  {
   "cell_type": "code",
   "execution_count": 10,
   "metadata": {},
   "outputs": [
    {
     "name": "stdout",
     "output_type": "stream",
     "text": [
      "1\n",
      "0\n"
     ]
    }
   ],
   "source": [
    "def solution(num_list):\n",
    "    answer = 0\n",
    "    num1 = 1\n",
    "    num2 = 0\n",
    "    \n",
    "    for i in num_list:\n",
    "        num1 *= i\n",
    "        num2 += i\n",
    "    \n",
    "    if num1 < num2*num2:\n",
    "        answer = 1\n",
    "    \n",
    "    return answer\n",
    "\n",
    "print(solution([3, 4, 5, 2, 1]))\n",
    "print(solution([5, 7, 8, 3]))\n",
    "\n",
    "# 다른 풀이법\n",
    "def solution2(num_list):\n",
    "    s=sum(num_list)**2\n",
    "    m=eval('*'.join([str(n) for n in num_list]))\n",
    "    return 1 if s>m else 0\n",
    "\n",
    "print(solution2([3, 4, 5, 2, 1]))\n",
    "print(solution2([5, 7, 8, 3]))"
   ]
  },
  {
   "cell_type": "markdown",
   "metadata": {},
   "source": [
    "### 이어 붙인 수\n",
    "- 정수가 담긴 리스트 `num_list`가 주어집니다. `num_list`의 홀수만 순서대로 이어 붙인 수와 짝수만 순서대로 이어 붙인 수의 합을 return하도록 solution 함수를 완성해주세요."
   ]
  },
  {
   "cell_type": "code",
   "execution_count": 6,
   "metadata": {},
   "outputs": [
    {
     "name": "stdout",
     "output_type": "stream",
     "text": [
      "393\n",
      "581\n"
     ]
    }
   ],
   "source": [
    "def solution(num_list):\n",
    "\tanswer = 0\n",
    "\tnum1, num2 = '', ''\n",
    "\t\n",
    "\tfor i in num_list:\n",
    "\t\tif i % 2 == 0:\n",
    "\t\t\tnum1 += str(i)\n",
    "\t\telse:\n",
    "\t\t\tnum2 += str(i)\n",
    "\t\t\t\n",
    "\tanswer = int(num1) + int(num2)\n",
    "\t\n",
    "\treturn answer\n",
    "\n",
    "print(solution([3, 4, 5, 2, 1]))\n",
    "print(solution([5, 7, 8, 3]))"
   ]
  }
 ],
 "metadata": {
  "kernelspec": {
   "display_name": "base",
   "language": "python",
   "name": "python3"
  },
  "language_info": {
   "codemirror_mode": {
    "name": "ipython",
    "version": 3
   },
   "file_extension": ".py",
   "mimetype": "text/x-python",
   "name": "python",
   "nbconvert_exporter": "python",
   "pygments_lexer": "ipython3",
   "version": "3.12.4"
  }
 },
 "nbformat": 4,
 "nbformat_minor": 2
}
