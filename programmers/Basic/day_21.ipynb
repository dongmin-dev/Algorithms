{
 "cells": [
  {
   "cell_type": "markdown",
   "metadata": {},
   "source": [
    "### 뒤에서 5등 위로\n",
    "- 정수로 이루어진 리스트 `num_list`가 주어집니다. `num_list`에서 가장 작은 5개의 수를 제외한 수들을 오름차순으로 담은 리스트를 return하도록 solution 함수를 완성해주세요."
   ]
  },
  {
   "cell_type": "code",
   "execution_count": 1,
   "metadata": {},
   "outputs": [
    {
     "name": "stdout",
     "output_type": "stream",
     "text": [
      "[15, 32, 38, 46, 56]\n"
     ]
    }
   ],
   "source": [
    "def solution(num_list):\n",
    "    answer = sorted(num_list)[5:]\n",
    "    return answer\n",
    "\n",
    "print(solution([12, 4, 15, 46, 38, 1, 14, 56, 32, 10])) # [15, 32, 38, 46, 56]"
   ]
  },
  {
   "cell_type": "markdown",
   "metadata": {},
   "source": [
    "### 전국 대회 선발 고사\n",
    "- 0번부터 n - 1번까지 n명의 학생 중 3명을 선발하는 전국 대회 선발 고사를 보았습니다. 등수가 높은 3명을 선발해야 하지만, 개인 사정으로 전국 대회에 참여하지 못하는 학생들이 있어 참여가 가능한 학생 중 등수가 높은 3명을 선발하기로 했습니다.\n",
    "- 각 학생들의 선발 고사 등수를 담은 정수 배열 `rank`와 전국 대회 참여 가능 여부가 담긴 boolean 배열 `attendance`가 매개변수로 주어집니다. 전국 대회에 선발된 학생 번호들을 등수가 높은 순서대로 각각 a, b, c번이라고 할 때 10000 × a + 100 × b + c를 return 하는 solution 함수를 작성해 주세요."
   ]
  },
  {
   "cell_type": "code",
   "execution_count": null,
   "metadata": {},
   "outputs": [
    {
     "name": "stdout",
     "output_type": "stream",
     "text": [
      "20403\n",
      "102\n",
      "50200\n"
     ]
    }
   ],
   "source": [
    "def solution(rank, attendance):\n",
    "    ranker = []\n",
    "    arr = list(zip(rank, attendance))\n",
    "    \n",
    "    for x, y in arr:\n",
    "        if y:\n",
    "            ranker.append(x)\n",
    "    \n",
    "    i, j, k = sorted(ranker)[:3]\n",
    "    a = rank.index(i)\n",
    "    b = rank.index(j)\n",
    "    c = rank.index(k)\n",
    "    \n",
    "    return 10000 * a + 100 * b + c\n",
    "\n",
    "print(solution([3, 7, 2, 5, 4, 6, 1], [False, True, True, True, True, False, False]))   # 20403\n",
    "print(solution([1, 2, 3], [True, True, True]))                                          # 102\n",
    "print(solution([6, 1, 5, 2, 3, 4], [True, False, True, False, False, True]))            # 50200\n",
    "\n",
    "# 코드 구조 개선\n",
    "def solution2(rank, attendance):\n",
    "    selected = []\n",
    "    for i, attend in enumerate(attendance):\n",
    "        if attend:\n",
    "            selected.append((rank[i], i))\n",
    "\n",
    "    selected.sort()\n",
    "    a, b, c = selected[:3]\n",
    "\n",
    "    return 10000 * a[1] + 100 * b[1] + c[1]\n",
    "\n",
    "# 다른 풀이법\n",
    "def solution3(rank, attendance):\n",
    "    arr = sorted([(x, i) for i, x in enumerate(rank) if attendance[i]])\n",
    "    return arr[0][1] * 10000 + arr[1][1] * 100 + arr[2][1]"
   ]
  },
  {
   "cell_type": "markdown",
   "metadata": {},
   "source": [
    "### 정수 부분\n",
    "- 실수 `flo`가 매개 변수로 주어질 때, `flo`의 정수 부분을 return하도록 solution 함수를 완성해주세요."
   ]
  },
  {
   "cell_type": "code",
   "execution_count": null,
   "metadata": {},
   "outputs": [
    {
     "name": "stdout",
     "output_type": "stream",
     "text": [
      "1\n",
      "69\n"
     ]
    }
   ],
   "source": [
    "def solution(flo):\n",
    "    return int(flo)\n",
    "\n",
    "print(solution(1.42))   # 1\n",
    "print(solution(69.32))  # 69\n",
    "\n",
    "# 다른 풀이법\n",
    "def solution2(flo):\n",
    "    return flo//1"
   ]
  },
  {
   "cell_type": "markdown",
   "metadata": {},
   "source": [
    "### 문자열 정수의 합\n",
    "- 한 자리 정수로 이루어진 문자열 `num_str`이 주어질 때, 각 자리수의 합을 return하도록 solution 함수를 완성해주세요."
   ]
  },
  {
   "cell_type": "code",
   "execution_count": 5,
   "metadata": {},
   "outputs": [
    {
     "name": "stdout",
     "output_type": "stream",
     "text": [
      "45\n",
      "1\n"
     ]
    }
   ],
   "source": [
    "def solution(num_str):\n",
    "    return eval('+'.join(list(num_str)))\n",
    "\n",
    "print(solution(\"123456789\"))    # 45\n",
    "print(solution(\"1000000\"))      # 1\n",
    "\n",
    "# 다른 풀이법\n",
    "def solution2(num_str):\n",
    "    return sum(map(int, num_str))"
   ]
  },
  {
   "cell_type": "markdown",
   "metadata": {},
   "source": [
    "### 문자열을 정수로 변환하기\n",
    "- 숫자로만 이루어진 문자열 `n_str`이 주어질 때, `n_str`을 정수로 변환하여 return하도록 solution 함수를 완성해주세요."
   ]
  },
  {
   "cell_type": "code",
   "execution_count": 6,
   "metadata": {},
   "outputs": [
    {
     "name": "stdout",
     "output_type": "stream",
     "text": [
      "10\n",
      "8542\n"
     ]
    }
   ],
   "source": [
    "def solution(n_str):\n",
    "    return int(n_str)\n",
    "\n",
    "print(solution(\"10\"))   # 10\n",
    "print(solution(\"8542\")) # 8542"
   ]
  }
 ],
 "metadata": {
  "kernelspec": {
   "display_name": "base",
   "language": "python",
   "name": "python3"
  },
  "language_info": {
   "codemirror_mode": {
    "name": "ipython",
    "version": 3
   },
   "file_extension": ".py",
   "mimetype": "text/x-python",
   "name": "python",
   "nbconvert_exporter": "python",
   "pygments_lexer": "ipython3",
   "version": "3.12.7"
  }
 },
 "nbformat": 4,
 "nbformat_minor": 2
}
