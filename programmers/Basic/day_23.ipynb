{
 "cells": [
  {
   "cell_type": "markdown",
   "metadata": {},
   "source": [
    "### 부분 문자열\n",
    "\n",
    "- 어떤 문자열 A가 다른 문자열 B안에 속하면 A를 B의 부분 문자열이라고 합니다. 예를 들어 문자열 \"abc\"는 문자열 \"aabcc\"의 부분 문자열입니다.\n",
    "\n",
    "- 문자열 `str1`과 `str2`가 주어질 때, `str1`이 `str2`의 부분 문자열이라면 1을 부분 문자열이 아니라면 0을 return하도록 solution 함수를 완성해주세요."
   ]
  },
  {
   "cell_type": "code",
   "execution_count": null,
   "metadata": {},
   "outputs": [
    {
     "name": "stdout",
     "output_type": "stream",
     "text": [
      "1\n",
      "0\n"
     ]
    }
   ],
   "source": [
    "def solution(str1, str2):\n",
    "    return int(str1 in str2)\n",
    "\n",
    "print(solution(\"abc\", \"aabcc\"))     # 1\n",
    "print(solution(\"tbt\", \"tbbttb\"))    # 0\n",
    "\n",
    "# 다른 풀이법\n",
    "def solution2(str1, str2):\n",
    "    return [0,1][str1 in str2]"
   ]
  },
  {
   "cell_type": "markdown",
   "metadata": {},
   "source": [
    "### 꼬리 문자열\n",
    "\n",
    "- 문자열들이 담긴 리스트가 주어졌을 때, 모든 문자열들을 순서대로 합친 문자열을 꼬리 문자열이라고 합니다. 꼬리 문자열을 만들 때 특정 문자열을 포함한 문자열은 제외시키려고 합니다. 예를 들어 문자열 리스트 [\"abc\", \"def\", \"ghi\"]가 있고 문자열 \"ef\"를 포함한 문자열은 제외하고 꼬리 문자열을 만들면 \"abcghi\"가 됩니다.\n",
    "\n",
    "- 문자열 리스트 `str_list`와 제외하려는 문자열 `ex`가 주어질 때, `str_list`에서 `ex`를 포함한 문자열을 제외하고 만든 꼬리 문자열을 return하도록 solution 함수를 완성해주세요."
   ]
  },
  {
   "cell_type": "code",
   "execution_count": null,
   "metadata": {},
   "outputs": [
    {
     "name": "stdout",
     "output_type": "stream",
     "text": [
      "abcghi\n",
      "\n"
     ]
    }
   ],
   "source": [
    "def solution(str_list, ex):\n",
    "    answer = []\n",
    "    \n",
    "    for i in str_list:\n",
    "        if ex not in i:\n",
    "            answer.append(i)\n",
    "\n",
    "    return ''.join(answer)\n",
    "\n",
    "print(solution([\"abc\", \"def\", \"ghi\"], \"ef\"))    # \"abcghi\"\n",
    "print(solution([\"abc\", \"bbc\", \"cbc\"], \"c\"))     # \"\"\n",
    "\n",
    "# 코드 구조 개선\n",
    "def solution2(str_list, ex):\n",
    "    filtered_list = [s for s in str_list if ex not in s]\n",
    "    return \"\".join(filtered_list)\n",
    "\n",
    "# 다른 풀이법\n",
    "def solution3(str_list, ex):\n",
    "    return ''.join(filter(lambda x: ex not in x, str_list))"
   ]
  },
  {
   "cell_type": "markdown",
   "metadata": {},
   "source": [
    "### 정수 찾기\n",
    "\n",
    "- 정수 리스트 `num_list`와 찾으려는 정수 `n`이 주어질 때, `num_list`안에 `n`이 있으면 1을 없으면 0을 return하도록 solution 함수를 완성해주세요."
   ]
  },
  {
   "cell_type": "code",
   "execution_count": 2,
   "metadata": {},
   "outputs": [
    {
     "name": "stdout",
     "output_type": "stream",
     "text": [
      "1\n",
      "0\n"
     ]
    }
   ],
   "source": [
    "def solution(num_list, n):\n",
    "    return int(n in num_list)\n",
    "\n",
    "print(solution([1, 2, 3, 4, 5], 3))         # 1\n",
    "print(solution([15, 98, 23, 2, 15], 20))    # 0"
   ]
  },
  {
   "cell_type": "markdown",
   "metadata": {},
   "source": [
    "### 주사위 게임\n",
    "\n",
    "- 1부터 6까지 숫자가 적힌 주사위가 두 개 있습니다. 두 주사위를 굴렸을 때 나온 숫자를 각각 `a`, `b`라고 했을 때 얻는 점수는 다음과 같습니다.\n",
    "\n",
    "    - `a`와 `b`가 모두 홀수라면 `a`<sup>2</sup> + `b`<sup>2</sup> 점을 얻습니다.\n",
    "    - `a`와 `b` 중 하나만 홀수라면 2 × (`a` + `b`) 점을 얻습니다.\n",
    "    - `a`와 `b` 모두 홀수가 아니라면 |`a` - `b`| 점을 얻습니다.\n",
    "\n",
    "- 두 정수 `a`와 `b`가 매개변수로 주어질 때, 얻는 점수를 return 하는 solution 함수를 작성해 주세요."
   ]
  },
  {
   "cell_type": "code",
   "execution_count": null,
   "metadata": {},
   "outputs": [
    {
     "name": "stdout",
     "output_type": "stream",
     "text": [
      "34\n",
      "14\n",
      "2\n"
     ]
    }
   ],
   "source": [
    "def solution(a, b):\n",
    "    if a % 2 != 0 and b % 2 != 0:\n",
    "        return pow(a, 2) + pow(b, 2)\n",
    "    \n",
    "    elif a % 2 == 0 and b % 2 == 0:\n",
    "        return abs(a - b)\n",
    "    \n",
    "    else:\n",
    "        return 2 * (a + b)\n",
    "\n",
    "print(solution(3, 5))   # 34\n",
    "print(solution(6, 1))   # 14\n",
    "print(solution(2, 4))   # 2\n",
    "\n",
    "# 다른 풀이법\n",
    "def solution2(a, b):\n",
    "        return a*a+b*b if a & b & 1 else (a + b) << 1 if (a | b) & 1 else abs(a - b)"
   ]
  },
  {
   "cell_type": "markdown",
   "metadata": {},
   "source": [
    "### 날짜 비교하기\n",
    "\n",
    "- 정수 배열 `date1`과 `date2`가 주어집니다. 두 배열은 각각 날짜를 나타내며 `[year, month, day]` 꼴로 주어집니다. 각 배열에서 `year`는 연도를, `month`는 월을, `day`는 날짜를 나타냅니다.\n",
    "\n",
    "- 만약 `date1`이 `date2`보다 앞서는 날짜라면 1을, 아니면 0을 return 하는 solution 함수를 완성해 주세요."
   ]
  },
  {
   "cell_type": "code",
   "execution_count": null,
   "metadata": {},
   "outputs": [
    {
     "name": "stdout",
     "output_type": "stream",
     "text": [
      "1\n",
      "0\n"
     ]
    }
   ],
   "source": [
    "def solution(date1, date2):\n",
    "    d1 = int(''.join(map(lambda x: str(x), date1)))\n",
    "    d2 = int(''.join(map(lambda x: str(x), date2)))\n",
    "    \n",
    "    return 1 if d1 < d2 else 0\n",
    "\n",
    "print(solution([2021, 12, 28], [2021, 12, 29])) # 1\n",
    "print(solution([1024, 10, 24], [1024, 10, 24])) # 0\n",
    "\n",
    "# 다른 풀이법\n",
    "def solution2(date1, date2):\n",
    "    return int(date1 < date2)\n",
    "\n",
    "# 다른 풀이법\n",
    "def solution3(date1, date2):\n",
    "    for i in range(3):\n",
    "        if date1[i]<date2[i]:return 1\n",
    "        elif date2[i]<date1[i]: return 0\n",
    "    return 0"
   ]
  }
 ],
 "metadata": {
  "kernelspec": {
   "display_name": "base",
   "language": "python",
   "name": "python3"
  },
  "language_info": {
   "codemirror_mode": {
    "name": "ipython",
    "version": 3
   },
   "file_extension": ".py",
   "mimetype": "text/x-python",
   "name": "python",
   "nbconvert_exporter": "python",
   "pygments_lexer": "ipython3",
   "version": "3.12.7"
  }
 },
 "nbformat": 4,
 "nbformat_minor": 2
}
