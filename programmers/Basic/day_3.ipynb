{
 "cells": [
  {
   "cell_type": "markdown",
   "metadata": {},
   "source": [
    "### 문자열 섞기 (Hard)\n",
    "- 길이가 같은 두 문자열 `str1`과 `str2`가 주어집니다.\n",
    "- 두 문자열의 각 문자가 앞에서부터 서로 번갈아가면서 한 번씩 등장하는 문자열을 만들어 return 하는 solution 함수를 완성해 주세요."
   ]
  },
  {
   "cell_type": "code",
   "execution_count": 2,
   "metadata": {},
   "outputs": [
    {
     "name": "stdout",
     "output_type": "stream",
     "text": [
      "ababababab\n"
     ]
    }
   ],
   "source": [
    "def solution(str1, str2):\n",
    "    answer = ''\n",
    "    for i in range(len(str1)):\n",
    "        answer += str1[i] + str2[i]\n",
    "    return answer\n",
    "\n",
    "print(solution(\"aaaaa\", \"bbbbb\")) # \"ababababab\""
   ]
  },
  {
   "cell_type": "markdown",
   "metadata": {},
   "source": [
    "### 문자 리스트를 문자열로 변환하기\n",
    "- 문자들이 담겨있는 배열 `arr`가 주어집니다. `arr`의 원소들을 순서대로 이어 붙인 문자열을 return 하는 solution함수를 작성해 주세요."
   ]
  },
  {
   "cell_type": "code",
   "execution_count": 5,
   "metadata": {},
   "outputs": [
    {
     "name": "stdout",
     "output_type": "stream",
     "text": [
      "abc\n",
      "abc\n"
     ]
    }
   ],
   "source": [
    "def solution(arr):\n",
    "    answer = ''\n",
    "    for i in range(len(arr)):\n",
    "        answer += arr[i]\n",
    "    return answer\n",
    "\n",
    "print(solution([\"a\", \"b\", \"c\"]))\n",
    "\n",
    "# 다른 풀이법\n",
    "def solution2(arr):\n",
    "    return ''.join(arr)\n",
    "\n",
    "print(solution2([\"a\", \"b\", \"c\"]))"
   ]
  },
  {
   "cell_type": "markdown",
   "metadata": {},
   "source": [
    "### 문자열 곱하기\n",
    "- 문자열 `my_string`과 정수 `k`가 주어질 때, `my_string`을 `k`번 반복한 문자열을 return 하는 solution 함수를 작성해 주세요."
   ]
  },
  {
   "cell_type": "code",
   "execution_count": 7,
   "metadata": {},
   "outputs": [
    {
     "name": "stdout",
     "output_type": "stream",
     "text": [
      "stringstringstring\n"
     ]
    }
   ],
   "source": [
    "def solution(my_string, k):\n",
    "    answer = my_string * k\n",
    "    return answer\n",
    "\n",
    "print(solution(\"string\", 3))"
   ]
  },
  {
   "cell_type": "markdown",
   "metadata": {},
   "source": [
    "### 더 크게 합치기\n",
    "- 연산 ⊕는 두 정수에 대한 연산으로 두 정수를 붙여서 쓴 값을 반환합니다. 예를 들면 다음과 같습니다.\n",
    "\t- 12 ⊕ 3 = 123\n",
    "\t- 3 ⊕ 12 = 312\n",
    "- 양의 정수 `a`와 `b`가 주어졌을 때, `a` ⊕ `b`와 `b` ⊕ `a` 중 더 큰 값을 return 하는 solution 함수를 완성해 주세요.\n",
    "- 단, `a` ⊕ `b`와 `b` ⊕ `a`가 같다면 `a` ⊕ `b`를 return 합니다."
   ]
  },
  {
   "cell_type": "code",
   "execution_count": 12,
   "metadata": {},
   "outputs": [
    {
     "name": "stdout",
     "output_type": "stream",
     "text": [
      "991\n",
      "898\n",
      "991\n",
      "898\n",
      "3221\n"
     ]
    }
   ],
   "source": [
    "def solution(a, b):\n",
    "    if (int(str(a) + str(b)) > int(str(b) + str(a))):\n",
    "        return int(str(a) + str(b))\n",
    "    else:\n",
    "        return int(str(b) + str(a))\n",
    "\n",
    "print(solution(9, 91))\n",
    "print(solution(89, 8))\n",
    "\n",
    "# 코드 개선\n",
    "def solution(a, b):\n",
    "    answer = 0\n",
    "    num1 = str(a) + str(b)\n",
    "    num2 = str(b) + str(a)\n",
    "    \n",
    "    if (num1 > num2):\n",
    "        answer = int(num1)\n",
    "    \n",
    "    else:\n",
    "        answer = int(num2)\n",
    "    \n",
    "    return answer\n",
    "\n",
    "print(solution(9, 91))\n",
    "print(solution(89, 8))\n",
    "\n",
    "# 다른 풀이법\n",
    "def solution2(a, b):\n",
    "    return int(max(f\"{a}{b}\", f\"{b}{a}\"))\n",
    "\n",
    "print(solution2(32, 21))"
   ]
  },
  {
   "cell_type": "markdown",
   "metadata": {},
   "source": [
    "### 두 수의 연산값 비교하기\n",
    "- 연산 ⊕는 두 정수에 대한 연산으로 두 정수를 붙여서 쓴 값을 반환합니다. 예를 들면 다음과 같습니다.\n",
    "\t- 12 ⊕ 3 = 123\n",
    "\t- 3 ⊕ 12 = 312\n",
    "- 양의 정수 `a`와 `b`가 주어졌을 때, `a` ⊕ `b`와 `2 * a * b` 중 더 큰 값을 return하는 solution 함수를 완성해 주세요.\n",
    "- 단, `a` ⊕ `b`와 `2 * a * b`가 같으면 `a` ⊕ `b`를 return 합니다."
   ]
  },
  {
   "cell_type": "code",
   "execution_count": 19,
   "metadata": {},
   "outputs": [
    {
     "name": "stdout",
     "output_type": "stream",
     "text": [
      "364\n",
      "912\n",
      "432\n",
      "624\n"
     ]
    }
   ],
   "source": [
    "def solution(a, b):\n",
    "    answer = 0\n",
    "    num1 = int(str(a) + str(b))\n",
    "    num2 = 2 * a * b\n",
    "    \n",
    "    if (num1 >= num2):\n",
    "        answer = num1\n",
    "    else:\n",
    "        answer = num2\n",
    "    \n",
    "    return answer\n",
    "\n",
    "print(solution(2, 91))\n",
    "print(solution(91, 2))\n",
    "\n",
    "# 다른 풀이법\n",
    "def solution2(a, b):\n",
    "    return max(int(str(a) + str(b)), 2 * a * b)\n",
    "\n",
    "print(solution2(3, 72))\n",
    "print(solution2(52, 6))"
   ]
  }
 ],
 "metadata": {
  "kernelspec": {
   "display_name": "base",
   "language": "python",
   "name": "python3"
  },
  "language_info": {
   "codemirror_mode": {
    "name": "ipython",
    "version": 3
   },
   "file_extension": ".py",
   "mimetype": "text/x-python",
   "name": "python",
   "nbconvert_exporter": "python",
   "pygments_lexer": "ipython3",
   "version": "3.12.4"
  }
 },
 "nbformat": 4,
 "nbformat_minor": 2
}
