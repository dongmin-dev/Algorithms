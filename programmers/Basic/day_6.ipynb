{
 "cells": [
  {
   "cell_type": "markdown",
   "metadata": {},
   "source": [
    "### 마지막 두 원소\n",
    "- 정수 리스트 `num_list`가 주어질 때, 마지막 원소가 그전 원소보다 크면 마지막 원소에서 그전 원소를 뺀 값을 마지막 원소가 그전 원소보다 크지 않다면 마지막 원소를 두 배한 값을 추가하여 return하도록 solution 함수를 완성해주세요."
   ]
  },
  {
   "cell_type": "code",
   "execution_count": 5,
   "metadata": {},
   "outputs": [
    {
     "name": "stdout",
     "output_type": "stream",
     "text": [
      "[2, 1, 6, 5]\n",
      "[5, 2, 1, 7, 5, 10]\n"
     ]
    }
   ],
   "source": [
    "def solution(num_list):\n",
    "    answer = num_list\n",
    "    \n",
    "    if answer[-1] > answer[-2]:\n",
    "        answer.append(answer[-1] - answer[-2])\n",
    "    else:\n",
    "        answer.append(answer[-1] * 2)\n",
    "    \n",
    "    return answer\n",
    "\n",
    "print(solution([2, 1, 6]))\n",
    "print(solution([5, 2, 1, 7, 5]))"
   ]
  },
  {
   "cell_type": "markdown",
   "metadata": {},
   "source": [
    "### 수 조작하기 1\n",
    "- 정수 `n`과 문자열 `control`이 주어집니다. `control`은 \"w\", \"a\", \"s\", \"d\"의 4개의 문자로 이루어져 있으며, `control`의 앞에서부터 순서대로 문자에 따라 `n`의 값을 바꿉니다.\n",
    "\t- \"w\" : `n`이 1 커집니다.\n",
    "\t- \"s\" : `n`이 1 작아집니다.\n",
    "\t- \"d\" : `n`이 10 커집니다.\n",
    "\t- \"a\" : `n`이 10 작아집니다.\n",
    "- 위 규칙에 따라 `n`을 바꿨을 때 가장 마지막에 나오는 `n`의 값을 return 하는 solution 함수를 완성해 주세요."
   ]
  },
  {
   "cell_type": "code",
   "execution_count": 7,
   "metadata": {},
   "outputs": [
    {
     "name": "stdout",
     "output_type": "stream",
     "text": [
      "-1\n"
     ]
    }
   ],
   "source": [
    "def solution(n, control):\n",
    "    for i in control:\n",
    "        if i == 'w':\n",
    "            n += 1\n",
    "        elif i == 's':\n",
    "            n -= 1\n",
    "        elif i == 'd':\n",
    "            n += 10\n",
    "        elif i == 'a':\n",
    "            n -= 10\n",
    "    \n",
    "    return n\n",
    "\n",
    "print(solution(0, \"wsdawsdassw\"))\n",
    "\n",
    "# 다른 풀이법\n",
    "def solution2(n, control):\n",
    "    key = dict(zip(['w','s','d','a'], [1,-1,10,-10]))\n",
    "    return n + sum([key[c] for c in control])\n",
    "\n",
    "# 다른 풀이법\n",
    "def solution3(n, control):\n",
    "    answer = n\n",
    "    c = { 'w':1, 's':-1, 'd':10, 'a':-10 }\n",
    "    for i in control:\n",
    "        answer += c[i]\n",
    "    return answer"
   ]
  },
  {
   "cell_type": "markdown",
   "metadata": {},
   "source": [
    "### 수 조작하기 2\n",
    "- 정수 배열 `numLog`가 주어집니다. 처음에 `numLog[0]`에서 부터 시작해 \"w\", \"a\", \"s\", \"d\"로 이루어진 문자열을 입력으로 받아 순서대로 다음과 같은 조작을 했다고 합시다.\n",
    "\t- \"w\" : 수에 1을 더한다.\n",
    "\t- \"s\" : 수에 1을 뺀다.\n",
    "\t- \"d\" : 수에 10을 더한다.\n",
    "\t- \"a\" : 수에 10을 뺀다.\n",
    "- 그리고 매번 조작을 할 때마다 결괏값을 기록한 정수 배열이 `numLog`입니다. 즉, `numLog[i]`는 `numLog[0]`로부터 총 `i`번의 조작을 가한 결과가 저장되어 있습니다.\n",
    "- 주어진 정수 배열 `numLog`에 대해 조작을 위해 입력받은 문자열을 return 하는 solution 함수를 완성해 주세요."
   ]
  },
  {
   "cell_type": "code",
   "execution_count": 10,
   "metadata": {},
   "outputs": [
    {
     "name": "stdout",
     "output_type": "stream",
     "text": [
      "wsdawsdassw\n"
     ]
    }
   ],
   "source": [
    "def solution(numLog):\n",
    "    answer = ''\n",
    "    dict = {1: 'w', -1: 's', 10: 'd', -10: 'a'}\n",
    "    \n",
    "    for i in range(len(numLog) - 1):\n",
    "        n = numLog[i + 1] - numLog[i]\n",
    "        answer += dict[n]\n",
    "    \n",
    "    return answer\n",
    "\n",
    "print(solution([0, 1, 0, 10, 0, 1, 0, 10, 0, -1, -2, -1]))\n",
    "\n",
    "# 다른 풀이법\n",
    "def solution2(log):\n",
    "    res=''\n",
    "    joystick=dict(zip([1,-1,10,-10],['w','s','d','a']))\n",
    "    for i in range(1,len(log)):\n",
    "        res+=joystick[log[i]-log[i-1]]\n",
    "    return res\n",
    "\n",
    "# 다른 풀이법\n",
    "def solution3(numLog):\n",
    "    answer = ''\n",
    "    for i in range(1, len(numLog)):\n",
    "        diff = numLog[i] - numLog[i-1] # 현재 값과 이전 값의 차이를 계산\n",
    "        if diff == 1:\n",
    "            answer += 'w' # 1 더하기\n",
    "        elif diff == -1:\n",
    "            answer += 's' # 1 빼기\n",
    "        elif diff == 10:\n",
    "            answer += 'd' # 10 더하기\n",
    "        elif diff == -10:\n",
    "            answer += 'a' # 10 빼기\n",
    "    return answer"
   ]
  },
  {
   "cell_type": "markdown",
   "metadata": {},
   "source": [
    "### 수열과 구간 쿼리 3\n",
    "- 정수 배열 `arr`와 2차원 정수 배열 `queries`이 주어집니다. `queries`의 원소는 각각 하나의 `query`를 나타내며, `[i, j]` 꼴입니다.\n",
    "- 각 `query`마다 순서대로 `arr[i]`의 값과 `arr[j]`의 값을 서로 바꿉니다.\n",
    "- 위 규칙에 따라 `queries`를 처리한 이후의 `arr`를 return 하는 solution 함수를 완성해 주세요."
   ]
  },
  {
   "cell_type": "code",
   "execution_count": 1,
   "metadata": {},
   "outputs": [
    {
     "name": "stdout",
     "output_type": "stream",
     "text": [
      "[3, 4, 1, 0, 2]\n",
      "[3, 4, 1, 0, 2]\n"
     ]
    }
   ],
   "source": [
    "def solution(arr, queries):\n",
    "    for i in range(len(queries)):\n",
    "        temp = 0\n",
    "        \n",
    "        for j in range(len(queries[i])):\n",
    "            if j == 0:\n",
    "                temp = arr[queries[i][j]]\n",
    "                arr[queries[i][j]] = arr[queries[i][j+1]]\n",
    "                arr[queries[i][j+1]] = temp\n",
    "    \n",
    "    return arr\n",
    "\n",
    "print(solution([0, 1, 2, 3, 4], [[0, 3], [1, 2], [1, 4]]))\n",
    "\n",
    "# 다른 풀이법\n",
    "def solution2(arr, queries):\n",
    "    for a,b in queries:\n",
    "        arr[a],arr[b]=arr[b],arr[a]\n",
    "    return arr\n",
    "\n",
    "print(solution2([0, 1, 2, 3, 4], [[0, 3], [1, 2], [1, 4]]))\n",
    "\n",
    "# 다른 풀이법\n",
    "def solution3(arr, queries):\n",
    "    answer = []\n",
    "    for i in queries:\n",
    "        arr[i[0]], arr[i[1]] = arr[i[1]], arr[i[0]]\n",
    "    return arr"
   ]
  },
  {
   "cell_type": "markdown",
   "metadata": {},
   "source": [
    "### 수열과 구간 쿼리 2\n",
    "- 정수 배열 `arr`와 2차원 정수 배열 `queries`이 주어집니다. `queries`의 원소는 각각 하나의 `query`를 나타내며, `[s, e, k]` 꼴입니다.\n",
    "- 각 `query`마다 순서대로 `s` ≤ `i` ≤ `e`인 모든 `i`에 대해 `k`보다 크면서 가장 작은 `arr[i]`를 찾습니다.\n",
    "- 각 쿼리의 순서에 맞게 답을 저장한 배열을 반환하는 solution 함수를 완성해 주세요.\n",
    "- 단, 특정 쿼리의 답이 존재하지 않으면 -1을 저장합니다."
   ]
  },
  {
   "cell_type": "code",
   "execution_count": 14,
   "metadata": {},
   "outputs": [
    {
     "name": "stdout",
     "output_type": "stream",
     "text": [
      "[3, 4, -1]\n",
      "[3]\n"
     ]
    }
   ],
   "source": [
    "def solution(arr, queries):\n",
    "    answer = []\n",
    "    \n",
    "    for a,b,c in queries:\n",
    "        slice = arr[a:b+1]\n",
    "        temp = []\n",
    "        \n",
    "        for i in slice:\n",
    "            if i > c:\n",
    "                temp.append(i)\n",
    "        \n",
    "        if temp:\n",
    "            answer.append(min(temp))\n",
    "        else:\n",
    "            answer.append(-1)\n",
    "    \n",
    "    return answer\n",
    "\n",
    "print(solution([0, 1, 2, 4, 3], [[0, 4, 2],[0, 3, 2],[0, 2, 2]]))\n",
    "print(solution([5, 4, 3, 2, 1], [[0, 4, 2]]))"
   ]
  }
 ],
 "metadata": {
  "kernelspec": {
   "display_name": "base",
   "language": "python",
   "name": "python3"
  },
  "language_info": {
   "codemirror_mode": {
    "name": "ipython",
    "version": 3
   },
   "file_extension": ".py",
   "mimetype": "text/x-python",
   "name": "python",
   "nbconvert_exporter": "python",
   "pygments_lexer": "ipython3",
   "version": "3.12.4"
  }
 },
 "nbformat": 4,
 "nbformat_minor": 2
}
