{
 "cells": [
  {
   "cell_type": "markdown",
   "metadata": {},
   "source": [
    "### x 사이의 개수\n",
    "- 문자열 `myString`이 주어집니다. `myString`을 문자 \"x\"를 기준으로 나눴을 때 나눠진 문자열 각각의 길이를 순서대로 저장한 배열을 return 하는 solution 함수를 완성해 주세요."
   ]
  },
  {
   "cell_type": "code",
   "execution_count": null,
   "metadata": {},
   "outputs": [
    {
     "name": "stdout",
     "output_type": "stream",
     "text": [
      "[1, 2, 1, 0, 1, 0]\n",
      "[0, 3, 3, 3]\n"
     ]
    }
   ],
   "source": [
    "def solution(myString):\n",
    "    answer = [len(i) for i in myString.split('x')]\n",
    "    return answer\n",
    "\n",
    "print(solution(\"oxooxoxxox\"))   # [1, 2, 1, 0, 1, 0]\n",
    "print(solution(\"xabcxdefxghi\")) # [0, 3, 3, 3]\n",
    "\n",
    "# 다른 풀이법\n",
    "def solution2(myString):\n",
    "    return list(map(lambda x: len(x), myString.split('x')))"
   ]
  },
  {
   "cell_type": "markdown",
   "metadata": {},
   "source": [
    "### 문자열 잘라서 정렬하기 (HARD)\n",
    "- 문자열 `myString`이 주어집니다. \"x\"를 기준으로 해당 문자열을 잘라내 배열을 만든 후 사전순으로 정렬한 배열을 return 하는 solution 함수를 완성해 주세요.\n",
    "- 단, 빈 문자열은 반환할 배열에 넣지 않습니다."
   ]
  },
  {
   "cell_type": "code",
   "execution_count": null,
   "metadata": {},
   "outputs": [
    {
     "name": "stdout",
     "output_type": "stream",
     "text": [
      "['a', 'b', 'c', 'd']\n",
      "['aaaa', 'bbb', 'cc', 'd']\n"
     ]
    }
   ],
   "source": [
    "def solution(myString):\n",
    "    answer = sorted([x for x in myString.split('x') if x])\n",
    "    return answer\n",
    "\n",
    "print(solution(\"axbxcxdx\"))         # [\"a\",\"b\",\"c\",\"d\"]\n",
    "print(solution(\"dxccxbbbxaaaa\"))    # [\"aaaa\",\"bbb\",\"cc\",\"d\"]\n",
    "\n",
    "# 다른 풀이법\n",
    "def solution2(myString):\n",
    "    answer = ' '.join(myString.split('x')).split()\n",
    "    return sorted(answer)\n",
    "\n",
    "# 다른 풀이법\n",
    "def solution3(myString):\n",
    "    return sorted(filter(lambda x : x !=\"\", myString.split('x')))"
   ]
  },
  {
   "cell_type": "markdown",
   "metadata": {},
   "source": [
    "### 간단한 식 계산하기\n",
    "- 문자열 `binomial`이 매개변수로 주어집니다. `binomial`은 \"`a` `op` `b`\" 형태의 이항식이고 `a`와 `b`는 음이 아닌 정수, `op`는 '+', '-', '*' 중 하나입니다. 주어진 식을 계산한 정수를 return 하는 solution 함수를 작성해 주세요."
   ]
  },
  {
   "cell_type": "code",
   "execution_count": null,
   "metadata": {},
   "outputs": [
    {
     "name": "stdout",
     "output_type": "stream",
     "text": [
      "55\n",
      "-7777\n",
      "1600000000\n"
     ]
    }
   ],
   "source": [
    "def solution(binomial):\n",
    "    answer = eval(binomial)\n",
    "    return answer\n",
    "\n",
    "print(solution(\"43 + 12\"))          # 55\n",
    "print(solution(\"0 - 7777\"))         # -7777\n",
    "print(solution(\"40000 * 40000\"))    # 1600000000\n",
    "\n",
    "# 다른 풀이법\n",
    "def solution2(binomial):\n",
    "    a, op, b = binomial.split()\n",
    "\n",
    "    a = int(a)\n",
    "    b = int(b)\n",
    "\n",
    "    if op == \"+\":\n",
    "        result = a + b\n",
    "    elif op == \"-\":\n",
    "        result = a - b\n",
    "    elif op == \"*\":\n",
    "        result = a * b\n",
    "\n",
    "    return result"
   ]
  },
  {
   "cell_type": "markdown",
   "metadata": {},
   "source": [
    "### 문자열 바꿔서 찾기 (HARD)\n",
    "- 문자 \"A\"와 \"B\"로 이루어진 문자열 `myString`과 `pat`가 주어집니다. `myString`의 \"A\"를 \"B\"로, \"B\"를 \"A\"로 바꾼 문자열의 연속하는 부분 문자열 중 `pat`이 있으면 1을 아니면 0을 return 하는 solution 함수를 완성하세요."
   ]
  },
  {
   "cell_type": "code",
   "execution_count": null,
   "metadata": {},
   "outputs": [
    {
     "name": "stdout",
     "output_type": "stream",
     "text": [
      "1\n",
      "0\n",
      "1\n"
     ]
    }
   ],
   "source": [
    "def solution(myString, pat):\n",
    "    answer = 0\n",
    "    \n",
    "    # myString = myString.replace('A', '*')\n",
    "    # myString = myString.replace('B', 'A')\n",
    "    # myString = myString.replace('*', 'B')\n",
    "    myString = myString.replace('A', '*').replace('B', 'A').replace('*', 'B')\n",
    "    \n",
    "    if myString.find(pat) != -1:\n",
    "        answer = 1\n",
    "    \n",
    "    return answer\n",
    "\n",
    "print(solution(\"ABBAA\", \"AABB\"))    # 1\n",
    "print(solution(\"ABAB\", \"ABAB\"))     # 0\n",
    "print(solution(\"AAABB\", \"BBB\"))     # 1\n",
    "\n",
    "# 다른 풀이법\n",
    "def solution2(myString, pat):\n",
    "    return int(pat in myString.replace('A', 'C').replace('B', 'A').replace('C', 'B'))\n",
    "\n",
    "# 다른 풀이법\n",
    "def solution3(myString, pat):\n",
    "    return int(''.join(['A' if i == 'B' else 'B' for i in pat]) in myString)"
   ]
  },
  {
   "cell_type": "markdown",
   "metadata": {},
   "source": [
    "### rny_string\n",
    "- 'm'과 \"rn\"이 모양이 비슷하게 생긴 점을 활용해 문자열에 장난을 하려고 합니다. 문자열 `rny_string`이 주어질 때, `rny_string`의 모든 'm'을 \"rn\"으로 바꾼 문자열을 return 하는 solution 함수를 작성해 주세요."
   ]
  },
  {
   "cell_type": "code",
   "execution_count": 3,
   "metadata": {},
   "outputs": [
    {
     "name": "stdout",
     "output_type": "stream",
     "text": [
      "rnasterpiece\n",
      "prograrnrners\n",
      "jerry\n",
      "burn\n"
     ]
    }
   ],
   "source": [
    "def solution(rny_string):\n",
    "    answer = rny_string.replace('m', 'rn')\n",
    "    return answer\n",
    "\n",
    "print(solution(\"masterpiece\"))  # \"rnasterpiece\"\n",
    "print(solution(\"programmers\"))  # \"prograrnrners\"\n",
    "print(solution(\"jerry\"))        # \"jerry\"\n",
    "print(solution(\"burn\"))         # \"burn\""
   ]
  }
 ],
 "metadata": {
  "kernelspec": {
   "display_name": "base",
   "language": "python",
   "name": "python3"
  },
  "language_info": {
   "codemirror_mode": {
    "name": "ipython",
    "version": 3
   },
   "file_extension": ".py",
   "mimetype": "text/x-python",
   "name": "python",
   "nbconvert_exporter": "python",
   "pygments_lexer": "ipython3",
   "version": "3.12.7"
  }
 },
 "nbformat": 4,
 "nbformat_minor": 2
}
