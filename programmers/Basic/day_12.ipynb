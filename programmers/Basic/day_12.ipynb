{
 "cells": [
  {
   "cell_type": "markdown",
   "metadata": {},
   "source": [
    "### 리스트 자르기\n",
    "- 정수 `n`과 정수 3개가 담긴 리스트 `slicer` 그리고 정수 여러 개가 담긴 리스트 `num_list`가 주어집니다. `slicer`에 담긴 정수를 차례대로 a, b, c라고 할 때, `n`에 따라 다음과 같이 `num_list`를 슬라이싱 하려고 합니다.\n",
    "    - `n = 1` : `num_list`의 0번 인덱스부터 `b`번 인덱스까지\n",
    "    - `n = 2` : `num_list`의 `a`번 인덱스부터 마지막 인덱스까지\n",
    "    - `n = 3` : `num_list`의 `a`번 인덱스부터 `b`번 인덱스까지\n",
    "    - `n = 4` : `num_list`의 `a`번 인덱스부터 `b`번 인덱스까지 `c` 간격으로\n",
    "- 올바르게 슬라이싱한 리스트를 return하도록 solution 함수를 완성해주세요."
   ]
  },
  {
   "cell_type": "code",
   "execution_count": 7,
   "metadata": {},
   "outputs": [
    {
     "name": "stdout",
     "output_type": "stream",
     "text": [
      "[2, 3, 4, 5, 6]\n",
      "[2, 4, 6]\n",
      "[1, 2, 3, 4, 5, 6]\n",
      "[5, 7, 9]\n",
      "[2, 5]\n",
      "[2, 3, 4, 5]\n",
      "[2, 3, 4, 5, 6, 7, 8, 9]\n"
     ]
    }
   ],
   "source": [
    "def solution(n, slicer, num_list):\n",
    "    answer = []\n",
    "    if n == 1:\n",
    "        answer = num_list[0:slicer[1]+1]\n",
    "    elif n == 2:\n",
    "        answer = num_list[slicer[0]:]\n",
    "    elif n == 3:\n",
    "        answer = num_list[slicer[0]:slicer[1]+1]\n",
    "    elif n == 4:\n",
    "        answer = num_list[slicer[0]:slicer[1]+1:slicer[2]]\n",
    "    return answer\n",
    "\n",
    "print(solution(3, [1, 5, 2], [1, 2, 3, 4, 5, 6, 7, 8, 9]))      # [2, 3, 4, 5, 6]\n",
    "print(solution(4, [1, 5, 2], [1, 2, 3, 4, 5, 6, 7, 8, 9]))      # [2, 4, 6]\n",
    "print(solution(1, [1, 5, 2], [1, 2, 3, 4, 5, 6, 7, 8, 9]))      # [1, 2, 3, 4, 5, 6]\n",
    "print(solution(4, [1, 5, 2], [4, 5, 6, 7, 8, 9]))               # [5, 7, 9]\n",
    "print(solution(4, [2, 7, 3], [0, 1, 2, 3, 4, 5, 6, 7, 8, 9]))   # [2, 5]\n",
    "print(solution(3, [2, 5, 3], [0, 1, 2, 3, 4, 5, 6, 7, 8, 9]))   # [2, 3, 4, 5]\n",
    "print(solution(2, [2, 5, 3], [0, 1, 2, 3, 4, 5, 6, 7, 8, 9]))   # [2, 3, 4, 5, 6, 7, 8, 9]\n",
    "\n",
    "# 코드 구조 개선\n",
    "def solution2(n, slicer, num_list):\n",
    "    a, b, c = slicer\n",
    "    b += 1\n",
    "    if n == 1:\n",
    "        return num_list[0:b]\n",
    "    if n == 2:\n",
    "        return num_list[a:]\n",
    "    if n == 3:\n",
    "        return num_list[a:b]\n",
    "    if n == 4:\n",
    "        return num_list[a:b:c]\n",
    "    \n",
    "# solution2 구조 개선\n",
    "def solution2(n, slicer, num_list):\n",
    "    a, b, c = slicer\n",
    "    b += 1\n",
    "    \n",
    "    # 첫 번째 조건 분할\n",
    "    if n <= 2:  # n이 1 또는 2일 때\n",
    "        if n == 1:\n",
    "            return num_list[0:b]\n",
    "        else:  # n == 2\n",
    "            return num_list[a:]\n",
    "    \n",
    "    # 두 번째 조건 분할\n",
    "    else:  # n이 3 또는 4일 때\n",
    "        if n == 3:\n",
    "            return num_list[a:b]\n",
    "        else:  # n == 4\n",
    "            return num_list[a:b:c]\n",
    "\n",
    "# 다른 풀이법\n",
    "def solution4(n, slicer, num_list):\n",
    "    a, b, c = slicer\n",
    "    return [num_list[:b + 1], num_list[a:], num_list[a:b + 1], num_list[a:b + 1:c]][n - 1]"
   ]
  },
  {
   "cell_type": "markdown",
   "metadata": {},
   "source": [
    "### 첫 번째로 나오는 음수\n",
    "- 정수 리스트 `num_list`가 주어질 때, 첫 번째로 나오는 음수의 인덱스를 return하도록 solution 함수를 완성해주세요. 음수가 없다면 -1을 return합니다."
   ]
  },
  {
   "cell_type": "code",
   "execution_count": 2,
   "metadata": {},
   "outputs": [
    {
     "name": "stdout",
     "output_type": "stream",
     "text": [
      "5\n",
      "-1\n"
     ]
    }
   ],
   "source": [
    "def solution(num_list):\n",
    "    answer = -1\n",
    "    for i in range(len(num_list)):\n",
    "        if num_list[i] < 0:\n",
    "            answer = i\n",
    "            break\n",
    "    return answer\n",
    "\n",
    "print(solution([12, 4, 15, 46, 38, -2, 15]))    # 5\n",
    "print(solution([13, 22, 53, 24, 15, 6]))        # -1\n",
    "\n",
    "# 다른 풀이법\n",
    "def solution2(num_list):\n",
    "    for i in range(len(num_list)):\n",
    "        if num_list[i]<0:return i\n",
    "    return -1\n",
    "\n",
    "# 다른 풀이법\n",
    "def solution3(num_list):\n",
    "    return ([i for i in range(len(num_list)) if num_list[i] < 0] or [-1])[0]\n",
    "\n",
    "# 다른 풀이법\n",
    "def solution4(num_list):\n",
    "    for i, num in enumerate(num_list):\n",
    "        if num < 0:\n",
    "            return i\n",
    "    return -1"
   ]
  },
  {
   "cell_type": "markdown",
   "metadata": {},
   "source": [
    "### 배열 만들기 3\n",
    "- 정수 배열 `arr`와 2개의 구간이 담긴 배열 `intervals`가 주어집니다.\n",
    "- `intervals`는 항상 `[[a1, b1], [a2, b2]]`의 꼴로 주어지며 각 구간은 닫힌 구간입니다. 닫힌 구간은 양 끝값과 그 사이의 값을 모두 포함하는 구간을 의미합니다.\n",
    "- 이때 배열 `arr`의 첫 번째 구간에 해당하는 배열과 두 번째 구간에 해당하는 배열을 앞뒤로 붙여 새로운 배열을 만들어 return 하는 solution 함수를 완성해 주세요."
   ]
  },
  {
   "cell_type": "code",
   "execution_count": 2,
   "metadata": {},
   "outputs": [
    {
     "name": "stdout",
     "output_type": "stream",
     "text": [
      "[2, 3, 4, 1, 2, 3, 4, 5]\n"
     ]
    }
   ],
   "source": [
    "def solution(arr, intervals):\n",
    "    answer = []\n",
    "    for a, b, in intervals:\n",
    "        answer.extend(arr[a:b+1])\n",
    "    return answer\n",
    "\n",
    "print(solution([1, 2, 3, 4, 5], [[1, 3], [0, 4]]))  # [2, 3, 4, 1, 2, 3, 4, 5]\n",
    "\n",
    "# 다른 풀이법\n",
    "def solution2(arr, intervals):\n",
    "    s1, e1 = intervals[0]\n",
    "    s2, e2 = intervals[1]\n",
    "    return arr[s1:e1+1] + arr[s2:e2+1]\n",
    "\n",
    "# 다른 풀이법\n",
    "def solution3(arr, intervals):\n",
    "    answer = []\n",
    "    for a,b in intervals: answer+=arr[a:b+1]\n",
    "    return answer"
   ]
  },
  {
   "cell_type": "markdown",
   "metadata": {},
   "source": [
    "### 2의 영역\n",
    "- 정수 배열 `arr`가 주어집니다. 배열 안의 2가 모두 포함된 가장 작은 연속된 부분 배열을 return 하는 solution 함수를 완성해 주세요.\n",
    "- 단, `arr`에 2가 없는 경우 [-1]을 return 합니다."
   ]
  },
  {
   "cell_type": "code",
   "execution_count": 1,
   "metadata": {},
   "outputs": [
    {
     "name": "stdout",
     "output_type": "stream",
     "text": [
      "[2, 1, 4, 5, 2]\n",
      "[2]\n",
      "[-1]\n",
      "[2, 1, 2, 1, 10, 2]\n"
     ]
    }
   ],
   "source": [
    "def solution(arr):\n",
    "    answer = []\n",
    "    if 2 not in arr:\n",
    "        return [-1]\n",
    "    tmp = arr[::-1]\n",
    "    answer = arr[arr.index(2):(len(arr) - tmp.index(2))]\n",
    "    return answer\n",
    "\n",
    "print(solution([1, 2, 1, 4, 5, 2, 9]))      # [2, 1, 4, 5, 2]\n",
    "print(solution([1, 2, 1]))                  # [2]\n",
    "print(solution([1, 1, 1]))                  # [-1]\n",
    "print(solution([1, 2, 1, 2, 1, 10, 2, 1]))  # [2, 1, 2, 1, 10, 2]\n",
    "\n",
    "# 코드 구조 개선\n",
    "def solution2(arr):\n",
    "    if 2 not in arr:\n",
    "        return [-1]\n",
    "    return arr[arr.index(2) : len(arr) - arr[::-1].index(2)]"
   ]
  },
  {
   "cell_type": "markdown",
   "metadata": {},
   "source": [
    "### 배열 조각하기\n",
    "- 정수 배열 `arr`와 `query`가 주어집니다.\n",
    "- `query`를 순회하면서 다음 작업을 반복합니다.\n",
    "    - 짝수 인덱스에서는 `arr`에서 `query[i]`번 인덱스를 제외하고 배열의 `query[i]`번 인덱스 뒷부분을 잘라서 버립니다.\n",
    "    - 홀수 인덱스에서는 `arr`에서 `query[i]`번 인덱스는 제외하고 배열의 `query[i]`번 인덱스 앞부분을 잘라서 버립니다.\n",
    "- 위 작업을 마친 후 남은 `arr`의 부분 배열을 return 하는 solution 함수를 완성해 주세요."
   ]
  },
  {
   "cell_type": "code",
   "execution_count": 3,
   "metadata": {},
   "outputs": [
    {
     "name": "stdout",
     "output_type": "stream",
     "text": [
      "[1, 2, 3]\n"
     ]
    }
   ],
   "source": [
    "def solution(arr, query):\n",
    "    answer = arr\n",
    "    for a, b in enumerate(query):\n",
    "        if a % 2 == 0:\n",
    "            answer = answer[:b+1]\n",
    "        else:\n",
    "            answer = answer[b:]\n",
    "            \n",
    "    return answer\n",
    "\n",
    "print(solution([0, 1, 2, 3, 4, 5], [4, 1, 2]))  # [1, 2, 3]"
   ]
  }
 ],
 "metadata": {
  "kernelspec": {
   "display_name": "base",
   "language": "python",
   "name": "python3"
  },
  "language_info": {
   "codemirror_mode": {
    "name": "ipython",
    "version": 3
   },
   "file_extension": ".py",
   "mimetype": "text/x-python",
   "name": "python",
   "nbconvert_exporter": "python",
   "pygments_lexer": "ipython3",
   "version": "3.12.7"
  }
 },
 "nbformat": 4,
 "nbformat_minor": 2
}
