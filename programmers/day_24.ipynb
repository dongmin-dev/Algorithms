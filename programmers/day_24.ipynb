{
 "cells": [
  {
   "cell_type": "markdown",
   "metadata": {},
   "source": [
    "### 커피 심부름\n",
    "\n",
    "- 팀의 막내인 철수는 아메리카노와 카페 라테만 판매하는 카페에서 팀원들의 커피를 사려고 합니다. 아메리카노와 카페 라테의 가격은 차가운 것과 뜨거운 것 상관없이 각각 4500, 5000원입니다. 각 팀원에게 마실 메뉴를 적어달라고 하였고, 그 중에서 메뉴만 적은 팀원의 것은 차가운 것으로 통일하고 \"아무거나\"를 적은 팀원의 것은 차가운 아메리카노로 통일하기로 하였습니다.\n",
    "\n",
    "- 각 직원이 적은 메뉴가 문자열 배열 `order`로 주어질 때, 카페에서 결제하게 될 금액을 return 하는 solution 함수를 작성해주세요. `order`의 원소는 아래의 것들만 들어오고, 각각의 의미는 다음과 같습니다.\n",
    "\n",
    "```plaintext\n",
    "\"iceamericano\", \"americanoice\" # 차가운 아메리카노\n",
    "\"hotamericano\", \"americanohot\" # 따뜻한 아메리카노\n",
    "\"icecafelatte\", \"cafelatteice\" # 차가운 카페 라테\n",
    "\"hotcafelatte\", \"cafelattehot\" # 따뜻한 카페 라테\n",
    "\"americano\"                    # 아메리카노\n",
    "\"cafelatte\"                    # 카페 라테\n",
    "\"anything\"                     # 아무거나\n",
    "```"
   ]
  },
  {
   "cell_type": "code",
   "execution_count": null,
   "metadata": {},
   "outputs": [
    {
     "name": "stdout",
     "output_type": "stream",
     "text": [
      "19000\n",
      "13500\n"
     ]
    }
   ],
   "source": [
    "def solution(order):\n",
    "    answer = 0\n",
    "    menu = {\"iceamericano\": 4500, \"americanoice\": 4500, \"hotamericano\": 4500, \"americanohot\": 4500,\n",
    "            \"icecafelatte\": 5000, \"cafelatteice\": 5000, \"hotcafelatte\": 5000, \"cafelattehot\": 5000,\n",
    "            \"americano\": 4500, \"cafelatte\": 5000, \"anything\": 4500}\n",
    "    \n",
    "    for i in order:\n",
    "        answer += menu[i]\n",
    "    \n",
    "    return answer\n",
    "\n",
    "print(solution([\"cafelatte\", \"americanoice\", \"hotcafelatte\", \"anything\"]))  # 19000\n",
    "print(solution([\"americanoice\", \"americano\", \"iceamericano\"]))              # 13500\n",
    "\n",
    "# 다른 풀이법\n",
    "def solution2(order):\n",
    "    answer = 0\n",
    "    for want in order:\n",
    "        if 'latte' in want:\n",
    "            answer += 500\n",
    "        answer += 4500\n",
    "\n",
    "    return answer\n",
    "\n",
    "# 다른 풀이법\n",
    "def solution3(order):\n",
    "    res = 0\n",
    "    for i in order:\n",
    "        if \"americano\" in i: \n",
    "            res += 4500\n",
    "        elif \"cafelatte\" in i:\n",
    "            res += 5000\n",
    "        else:\n",
    "            res+= 4500\n",
    "    return res"
   ]
  },
  {
   "cell_type": "markdown",
   "metadata": {},
   "source": [
    "### 그림 확대\n",
    "\n",
    "- 직사각형 형태의 그림 파일이 있고, 이 그림 파일은 1 × 1 크기의 정사각형 크기의 픽셀로 이루어져 있습니다. 이 그림 파일을 나타낸 문자열 배열 `picture`과 정수 `k`가 매개변수로 주어질 때, 이 그림 파일을 가로 세로로 `k`배 늘린 그림 파일을 나타내도록 문자열 배열을 return 하는 solution 함수를 작성해 주세요."
   ]
  },
  {
   "cell_type": "code",
   "execution_count": null,
   "metadata": {},
   "outputs": [
    {
     "name": "stdout",
     "output_type": "stream",
     "text": [
      "['..xxxx......xxxx..', '..xxxx......xxxx..', 'xx....xx..xx....xx', 'xx....xx..xx....xx', 'xx......xx......xx', 'xx......xx......xx', '..xx..........xx..', '..xx..........xx..', '....xx......xx....', '....xx......xx....', '......xx..xx......', '......xx..xx......', '........xx........', '........xx........']\n",
      "['xxx...xxx', 'xxx...xxx', 'xxx...xxx', '...xxx...', '...xxx...', '...xxx...', 'xxx...xxx', 'xxx...xxx', 'xxx...xxx']\n"
     ]
    }
   ],
   "source": [
    "def solution(picture, k):\n",
    "    answer = []\n",
    "    \n",
    "    for i in picture:\n",
    "        tmp = ''\n",
    "        for j in i:\n",
    "            tmp += j * k\n",
    "        for p in range(k):  # for _ in range(k):\n",
    "            answer.append(tmp)\n",
    "    \n",
    "    return answer\n",
    "\n",
    "print(solution([\".xx...xx.\", \"x..x.x..x\", \"x...x...x\", \".x.....x.\", \"..x...x..\", \"...x.x...\", \"....x....\"], 2)) # [\"..xxxx......xxxx..\", \"..xxxx......xxxx..\", \"xx....xx..xx....xx\", \"xx....xx..xx....xx\", \"xx......xx......xx\", \"xx......xx......xx\", \"..xx..........xx..\", \"..xx..........xx..\", \"....xx......xx....\", \"....xx......xx....\", \"......xx..xx......\", \"......xx..xx......\", \"........xx........\", \"........xx........\"\n",
    "print(solution([\"x.x\", \".x.\", \"x.x\"], 3))                                                                       # [\"xxx...xxx\", \"xxx...xxx\", \"xxx...xxx\", \"...xxx...\", \"...xxx...\", \"...xxx...\", \"xxx...xxx\", \"xxx...xxx\", \"xxx...xxx\"]\n",
    "\n",
    "# 다른 풀이법\n",
    "def solution2(picture, k):\n",
    "    answer = []\n",
    "    for i in range(len(picture)):\n",
    "        for _ in range(k):\n",
    "            answer.append(picture[i].replace('.', '.' * k).replace('x', 'x' * k))\n",
    "    return answer\n",
    "\n",
    "# 다른 풀이법\n"
   ]
  },
  {
   "cell_type": "markdown",
   "metadata": {},
   "source": [
    "### 조건에 맞게 수열 변환하기 3\n",
    "\n",
    "- 정수 배열 `arr`와 자연수 `k`가 주어집니다.\n",
    "\n",
    "- 만약 `k`가 홀수라면 `arr`의 모든 원소에 `k`를 곱하고, `k`가 짝수라면 `arr`의 모든 원소에 `k`를 더합니다.\n",
    "\n",
    "- 이러한 변환을 마친 후의 `arr`를 return 하는 solution 함수를 완성해 주세요."
   ]
  },
  {
   "cell_type": "code",
   "execution_count": null,
   "metadata": {},
   "outputs": [
    {
     "name": "stdout",
     "output_type": "stream",
     "text": [
      "[3, 6, 9, 300, 297, 294]\n",
      "[3, 4, 5, 102, 101, 100]\n"
     ]
    }
   ],
   "source": [
    "def solution(arr, k):\n",
    "    return [i * k if k % 2 != 0 else i + k for i in arr]\n",
    "\n",
    "print(solution([1, 2, 3, 100, 99, 98], 3))  # [3, 6, 9, 300, 297, 294]\n",
    "print(solution([1, 2, 3, 100, 99, 98], 2))  # [3, 4, 5, 102, 101, 100]\n",
    "\n",
    "# 다른 풀이법\n",
    "def solution2(arr, k):\n",
    "    if k % 2 != 0:\n",
    "        return list(map(lambda x: x * k, arr))\n",
    "\n",
    "    return list(map(lambda x: x + k, arr))"
   ]
  },
  {
   "cell_type": "markdown",
   "metadata": {},
   "source": [
    "### l로 만들기\n",
    "\n",
    "- 알파벳 소문자로 이루어진 문자열 `myString`이 주어집니다. 알파벳 순서에서 \"l\"보다 앞서는 모든 문자를 \"l\"로 바꾼 문자열을 return 하는 solution 함수를 완성해 주세요."
   ]
  },
  {
   "cell_type": "code",
   "execution_count": null,
   "metadata": {},
   "outputs": [
    {
     "name": "stdout",
     "output_type": "stream",
     "text": [
      "lllllvwxyz\n",
      "llnnllllmm\n"
     ]
    }
   ],
   "source": [
    "def solution(myString):\n",
    "    for i in range(len(myString)):\n",
    "        if ord(myString[i]) < ord('l'):\n",
    "            myString = myString.replace(myString[i], 'l')\n",
    "    \n",
    "    return myString\n",
    "\n",
    "print(solution(\"abcdevwxyz\"))   # \"lllllvwxyz\"\n",
    "print(solution(\"jjnnllkkmm\"))   # \"llnnllllmm\"\n",
    "\n",
    "# 코드 구조 개선\n",
    "def solution2(myString):\n",
    "    return ''.join(['l' if ord(i) < ord('l') else i for i in myString])\n",
    "\n",
    "# 다른 풀이법\n",
    "def solution3(myString):\n",
    "    return myString.translate(str.maketrans('abcdefghijk', 'lllllllllll'))\n",
    "\n",
    "# 다른 풀이법\n",
    "def solution4(myString):\n",
    "    answer = [x if x > 'l' else 'l' for x in myString]\n",
    "    return ''.join(answer)"
   ]
  },
  {
   "cell_type": "markdown",
   "metadata": {},
   "source": [
    "### 특별한 이차원 배열 1\n",
    "\n",
    "- 정수 `n`이 매개변수로 주어질 때, 다음과 같은 `n` × `n` 크기의 이차원 배열 arr를 return 하는 solution 함수를 작성해 주세요.\n",
    "\n",
    "    - arr[i][j] (0 ≤ i, j < `n`)의 값은 i = j라면 1, 아니라면 0입니다."
   ]
  },
  {
   "cell_type": "code",
   "execution_count": null,
   "metadata": {},
   "outputs": [
    {
     "name": "stdout",
     "output_type": "stream",
     "text": [
      "[[1, 0, 0], [0, 1, 0], [0, 0, 1]]\n",
      "[[1, 0, 0, 0, 0, 0], [0, 1, 0, 0, 0, 0], [0, 0, 1, 0, 0, 0], [0, 0, 0, 1, 0, 0], [0, 0, 0, 0, 1, 0], [0, 0, 0, 0, 0, 1]]\n",
      "[[1]]\n"
     ]
    }
   ],
   "source": [
    "def solution(n):\n",
    "    answer = []\n",
    "    for i in range(n):\n",
    "        tmp = []\n",
    "        for j in range(n):\n",
    "            if i == j:\n",
    "                tmp.append(1)\n",
    "            else:\n",
    "                tmp.append(0)\n",
    "        answer.append(tmp)\n",
    "    return answer\n",
    "\n",
    "print(solution(3))  # [[1, 0, 0], [0, 1, 0], [0, 0, 1]]\n",
    "print(solution(6))  # [[1, 0, 0, 0, 0, 0], [0, 1, 0, 0, 0, 0], [0, 0, 1, 0, 0, 0], [0, 0, 0, 1, 0, 0], [0, 0, 0, 0, 1, 0], [0, 0, 0, 0, 0, 1]]\n",
    "print(solution(1))  # [[1]]\n",
    "\n",
    "# 다른 풀이법\n",
    "def solution2(n):\n",
    "    answer=[[0]*n for i in range(n)]\n",
    "    for i in range(n): answer[i][i]=1\n",
    "    return answer\n",
    "\n",
    "# 다른 풀이법\n",
    "import numpy as np\n",
    "\n",
    "def solution3(n):\n",
    "    return np.eye(n).tolist()"
   ]
  }
 ],
 "metadata": {
  "kernelspec": {
   "display_name": "base",
   "language": "python",
   "name": "python3"
  },
  "language_info": {
   "codemirror_mode": {
    "name": "ipython",
    "version": 3
   },
   "file_extension": ".py",
   "mimetype": "text/x-python",
   "name": "python",
   "nbconvert_exporter": "python",
   "pygments_lexer": "ipython3",
   "version": "3.12.7"
  }
 },
 "nbformat": 4,
 "nbformat_minor": 2
}
