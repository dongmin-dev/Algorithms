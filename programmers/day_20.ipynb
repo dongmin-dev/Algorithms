{
 "cells": [
  {
   "cell_type": "markdown",
   "metadata": {},
   "source": [
    "### 배열의 길이를 2의 거듭제곱으로 만들기 (Extremely HARD)\n",
    "- 정수 배열 `arr`이 매개변수로 주어집니다. `arr`의 길이가 2의 정수 거듭제곱이 되도록 `arr` 뒤에 정수 0을 추가하려고 합니다. `arr`에 최소한의 개수로 0을 추가한 배열을 return 하는 solution 함수를 작성해 주세요."
   ]
  },
  {
   "cell_type": "code",
   "execution_count": null,
   "metadata": {},
   "outputs": [
    {
     "name": "stdout",
     "output_type": "stream",
     "text": [
      "[1, 2, 3, 4, 5, 6, 0, 0]\n",
      "[58, 172, 746, 89]\n"
     ]
    }
   ],
   "source": [
    "def solution(arr):\n",
    "    while True:\n",
    "        if len(arr) & (len(arr) - 1) == 0:\n",
    "            break\n",
    "        \n",
    "        arr.append(0)\n",
    "    \n",
    "    return arr\n",
    "\n",
    "print(solution([1, 2, 3, 4, 5, 6])) # [1, 2, 3, 4, 5, 6, 0, 0]\n",
    "print(solution([58, 172, 746, 89])) # [58, 172, 746, 89]\n",
    "\n",
    "# 다른 풀이법\n",
    "def solution2(arr):\n",
    "    a = 1\n",
    "    b = len(arr)\n",
    "    while a < b :\n",
    "        a *= 2\n",
    "    return arr + [0] * (a-b)\n",
    "\n",
    "# 다른 풀이법\n",
    "def solution3(arr):\n",
    "    answer = [2**i for i in range(11)]\n",
    "    while len(arr) not in answer:\n",
    "        arr.append(0)\n",
    "    return arr"
   ]
  },
  {
   "cell_type": "markdown",
   "metadata": {},
   "source": [
    "### 배열 비교하기\n",
    "- 이 문제에서 두 정수 배열의 대소관계를 다음과 같이 정의합니다.\n",
    "    - 두 배열의 길이가 다르다면, 배열의 길이가 긴 쪽이 더 큽니다.\n",
    "    - 배열의 길이가 같다면 각 배열에 있는 모든 원소의 합을 비교하여 다르다면 더 큰 쪽이 크고, 같다면 같습니다.\n",
    "- 두 정수 배열 `arr1`과 `arr2`가 주어질 때, 위에서 정의한 배열의 대소관계에 대하여 `arr2`가 크다면 -1, `arr1`이 크다면 1, 두 배열이 같다면 0을 return 하는 solution 함수를 작성해 주세요."
   ]
  },
  {
   "cell_type": "code",
   "execution_count": null,
   "metadata": {},
   "outputs": [
    {
     "name": "stdout",
     "output_type": "stream",
     "text": [
      "-1\n",
      "1\n",
      "0\n"
     ]
    }
   ],
   "source": [
    "def solution(arr1, arr2):\n",
    "    if len(arr1) == len(arr2):\n",
    "        if sum(arr1) == sum(arr2):\n",
    "            return 0\n",
    "        elif sum(arr1) > sum(arr2):\n",
    "            return 1\n",
    "        else:\n",
    "            return -1\n",
    "    else:\n",
    "        if len(arr1) > len(arr2):\n",
    "            return 1\n",
    "        else:\n",
    "            return -1\n",
    "\n",
    "print(solution([49, 13], [70, 11, 2]))              # -1\n",
    "print(solution([100, 17, 84, 1], [55, 12, 65, 36])) # 1\n",
    "print(solution([1, 2, 3, 4, 5], [3, 3, 3, 3, 3]))   # 0\n",
    "\n",
    "# 코드 구조 개선\n",
    "def solution2(arr1, arr2):\n",
    "    if len(arr1) < len(arr2) :\n",
    "        return -1\n",
    "    elif len (arr1) > len(arr2) :\n",
    "        return 1\n",
    "    elif sum(arr1) > sum(arr2):\n",
    "        return 1\n",
    "    elif sum(arr1) < sum(arr2):\n",
    "        return -1\n",
    "    else :\n",
    "        return 0\n",
    "\n",
    "# 다른 풀이법\n",
    "def solution3(arr1, arr2):\n",
    "    return (len(arr1) > len(arr2)) - (len(arr2) > len(arr1)) or (sum(arr1) > sum(arr2)) - (sum(arr2) > sum(arr1))"
   ]
  },
  {
   "cell_type": "markdown",
   "metadata": {},
   "source": [
    "### 문자열 묶기 (HARD)\n",
    "- 문자열 배열 `strArr`이 주어집니다. `strArr`의 원소들을 길이가 같은 문자열들끼리 그룹으로 묶었을 때 가장 개수가 많은 그룹의 크기를 return 하는 solution 함수를 완성해 주세요."
   ]
  },
  {
   "cell_type": "code",
   "execution_count": null,
   "metadata": {},
   "outputs": [
    {
     "name": "stdout",
     "output_type": "stream",
     "text": [
      "2\n"
     ]
    }
   ],
   "source": [
    "def solution(strArr):\n",
    "    arr = [len(i) for i in strArr]\n",
    "    countDict = {}\n",
    "    \n",
    "    for length in arr:\n",
    "        if length in countDict:\n",
    "            countDict[length] += 1\n",
    "        else:\n",
    "            countDict[length] = 1\n",
    "    \n",
    "    return max(countDict.values())\n",
    "\n",
    "print(solution([\"a\",\"bc\",\"d\",\"efg\",\"hi\"]))  # 2\n",
    "\n",
    "# 다른 풀이법\n",
    "def solution2(strArr):\n",
    "    a=[0]*31\n",
    "    for x in strArr: a[len(x)]+=1\n",
    "    return max(a)\n",
    "\n",
    "# 다른 풀이법\n",
    "def solution(strArr):\n",
    "    d = {}\n",
    "\n",
    "    for i in strArr:\n",
    "        d[len(i)] = d.get(len(i), 0) + 1\n",
    "\n",
    "    return max(d.values())"
   ]
  },
  {
   "cell_type": "markdown",
   "metadata": {},
   "source": [
    "### 배열의 길이에 따라 다른 연산하기\n",
    "- 정수 배열 `arr`과 정수 `n`이 매개변수로 주어집니다. `arr`의 길이가 홀수라면 `arr`의 모든 짝수 인덱스 위치에 `n`을 더한 배열을, `arr`의 길이가 짝수라면 `arr`의 모든 홀수 인덱스 위치에 `n`을 더한 배열을 return 하는 solution 함수를 작성해 주세요."
   ]
  },
  {
   "cell_type": "code",
   "execution_count": null,
   "metadata": {},
   "outputs": [
    {
     "name": "stdout",
     "output_type": "stream",
     "text": [
      "[76, 12, 127, 276, 60]\n",
      "[444, 655, 666, 877]\n"
     ]
    }
   ],
   "source": [
    "def solution(arr, n):\n",
    "    if len(arr) % 2 == 0:\n",
    "        for a, _ in enumerate(arr):\n",
    "            if a % 2 != 0:\n",
    "                arr[a] += n\n",
    "    else:\n",
    "        for a, _ in enumerate(arr):\n",
    "            if a % 2 == 0:\n",
    "                arr[a] += n\n",
    "    return arr\n",
    "\n",
    "print(solution([49, 12, 100, 276, 33], 27)) # [76, 12, 127, 276, 60]\n",
    "print(solution([444, 555, 666, 777], 100))  # [444, 655, 666, 877]\n",
    "\n",
    "# 다른 풀이법\n",
    "def solution2(arr, n):\n",
    "    N=len(arr)\n",
    "    if N%2:\n",
    "        for i in range(0,N,2): arr[i]+=n\n",
    "    else:\n",
    "        for i in range(1,N,2): arr[i]+=n\n",
    "    return arr\n",
    "\n",
    "# 다른 풀이법\n",
    "solution3=lambda a,n: [x+n if i%2==(len(a)+1)%2 else x for i,x in enumerate(a)]"
   ]
  },
  {
   "cell_type": "markdown",
   "metadata": {},
   "source": [
    "### 뒤에서 5등까지\n",
    "- 정수로 이루어진 리스트 `num_list`가 주어집니다. `num_list`에서 가장 작은 5개의 수를 오름차순으로 담은 리스트를 return하도록 solution 함수를 완성해주세요."
   ]
  },
  {
   "cell_type": "code",
   "execution_count": 10,
   "metadata": {},
   "outputs": [
    {
     "name": "stdout",
     "output_type": "stream",
     "text": [
      "[1, 4, 12, 14, 15]\n"
     ]
    }
   ],
   "source": [
    "def solution(num_list):\n",
    "    answer = sorted(num_list)\n",
    "    return answer[:5]\n",
    "\n",
    "print(solution([12, 4, 15, 46, 38, 1, 14])) # [1, 4, 12, 14, 15]"
   ]
  }
 ],
 "metadata": {
  "kernelspec": {
   "display_name": "base",
   "language": "python",
   "name": "python3"
  },
  "language_info": {
   "codemirror_mode": {
    "name": "ipython",
    "version": 3
   },
   "file_extension": ".py",
   "mimetype": "text/x-python",
   "name": "python",
   "nbconvert_exporter": "python",
   "pygments_lexer": "ipython3",
   "version": "3.12.7"
  }
 },
 "nbformat": 4,
 "nbformat_minor": 2
}
