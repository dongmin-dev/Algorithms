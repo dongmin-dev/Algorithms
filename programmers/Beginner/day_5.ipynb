{
 "cells": [
  {
   "cell_type": "markdown",
   "metadata": {},
   "source": [
    "### 옷가게 할인 받기\n",
    "\n",
    "- 머쓱이네 옷가게는 10만 원 이상 사면 5%, 30만 원 이상 사면 10%, 50만 원 이상 사면 20%를 할인해줍니다.\n",
    "\n",
    "- 구매한 옷의 가격 `price`가 주어질 때, 지불해야 할 금액을 return 하도록 solution 함수를 완성해보세요"
   ]
  },
  {
   "cell_type": "code",
   "execution_count": null,
   "metadata": {},
   "outputs": [
    {
     "name": "stdout",
     "output_type": "stream",
     "text": [
      "142500\n",
      "464000\n"
     ]
    }
   ],
   "source": [
    "def solution(price):\n",
    "    if price < 100000:\n",
    "        return price\n",
    "    elif price < 300000:\n",
    "        return int(price * 0.95)\n",
    "    elif price < 500000:\n",
    "        return int(price * 0.9)\n",
    "    else:\n",
    "        return int(price * 0.8)\n",
    "\n",
    "print(solution(150000)) # 142500\n",
    "print(solution(580000)) # 464000\n",
    "\n",
    "# 다른 풀이법\n",
    "def solution2(price):\n",
    "    discount_rates = {500000: 0.8, 300000: 0.9, 100000: 0.95, 0: 1}\n",
    "    for discount_price, discount_rate in discount_rates.items():\n",
    "        if price >= discount_price:\n",
    "            return int(price * discount_rate)"
   ]
  },
  {
   "cell_type": "markdown",
   "metadata": {},
   "source": [
    "### 아이스 아메리카노\n",
    "\n",
    "- 머쓱이는 추운 날에도 아이스 아메리카노만 마십니다. 아이스 아메리카노는 한잔에 5,500원입니다. 머쓱이가 가지고 있는 돈 `money`가 매개변수로 주어질 때, 머쓱이가 최대로 마실 수 있는 아메리카노의 잔 수와 남는 돈을 순서대로 담은 배열을 return 하도록 solution 함수를 완성해보세요."
   ]
  },
  {
   "cell_type": "code",
   "execution_count": null,
   "metadata": {},
   "outputs": [
    {
     "name": "stdout",
     "output_type": "stream",
     "text": [
      "[1, 0]\n",
      "[2, 4000]\n"
     ]
    }
   ],
   "source": [
    "def solution(money):\n",
    "    answer = []\n",
    "    cups = money // 5500\n",
    "    left = money - (5500 * cups)\n",
    "    answer.append(cups)\n",
    "    answer.append(left)\n",
    "    return answer\n",
    "\n",
    "print(solution(5500))   # [1, 0]\n",
    "print(solution(15000))  # [2, 4000]\n",
    "\n",
    "# 코드 구조 개선\n",
    "def solution2(money):\n",
    "    answer = [money // 5500, money % 5500]\n",
    "    return answer\n",
    "\n",
    "# 다른 풀이법\n",
    "def solution3(money):\n",
    "    return divmod(money, 5500)"
   ]
  },
  {
   "cell_type": "markdown",
   "metadata": {},
   "source": [
    "### 나이 출력\n",
    "\n",
    "- 머쓱이는 선생님이 몇 년도에 태어났는지 궁금해졌습니다. 2022년 기준 선생님의 나이 `age`가 주어질 때, 선생님의 출생 연도를 return 하는 solution 함수를 완성해주세요"
   ]
  },
  {
   "cell_type": "code",
   "execution_count": 2,
   "metadata": {},
   "outputs": [
    {
     "name": "stdout",
     "output_type": "stream",
     "text": [
      "1983\n",
      "2000\n"
     ]
    }
   ],
   "source": [
    "def solution(age):\n",
    "    return (2022 - age) + 1\n",
    "\n",
    "print(solution(40)) # 1983\n",
    "print(solution(23)) # 2000"
   ]
  },
  {
   "cell_type": "markdown",
   "metadata": {},
   "source": [
    "### 배열 뒤집기\n",
    "\n",
    "- 정수가 들어 있는 배열 `num_list`가 매개변수로 주어집니다. `num_list`의 원소의 순서를 거꾸로 뒤집은 배열을 return하도록 solution 함수를 완성해주세요."
   ]
  },
  {
   "cell_type": "code",
   "execution_count": null,
   "metadata": {},
   "outputs": [
    {
     "name": "stdout",
     "output_type": "stream",
     "text": [
      "[5, 4, 3, 2, 1]\n",
      "[2, 1, 1, 1, 1, 1]\n",
      "[5, 3, 1, 1, 1, 0, 1]\n"
     ]
    }
   ],
   "source": [
    "def solution(num_list):\n",
    "    return num_list[::-1]\n",
    "\n",
    "print(solution([1, 2, 3, 4, 5]))        # [5, 4, 3, 2, 1]\n",
    "print(solution([1, 1, 1, 1, 1, 2]))     # [2, 1, 1, 1, 1, 1]\n",
    "print(solution([1, 0, 1, 1, 1, 3, 5]))  # [5, 3, 1, 1, 1, 0, 1]\n",
    "\n",
    "# 다른 풀이법\n",
    "def solution2(num_list):\n",
    "    result = []\n",
    "    while(num_list):\n",
    "        result.append(num_list.pop())\n",
    "    return result\n",
    "\n",
    "# 다른 풀이법\n",
    "def solution3(num_list):\n",
    "    num_list.reverse()\n",
    "    return num_list\n",
    "\n",
    "# 다른 풀이법\n",
    "from collections import deque\n",
    "def solution4(num_list):\n",
    "    answer = deque([])\n",
    "    for i in num_list:\n",
    "        answer.appendleft(i)\n",
    "    return list(answer)"
   ]
  }
 ],
 "metadata": {
  "kernelspec": {
   "display_name": "base",
   "language": "python",
   "name": "python3"
  },
  "language_info": {
   "codemirror_mode": {
    "name": "ipython",
    "version": 3
   },
   "file_extension": ".py",
   "mimetype": "text/x-python",
   "name": "python",
   "nbconvert_exporter": "python",
   "pygments_lexer": "ipython3",
   "version": "3.12.7"
  }
 },
 "nbformat": 4,
 "nbformat_minor": 2
}
