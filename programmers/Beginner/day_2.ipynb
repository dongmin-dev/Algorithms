{
 "cells": [
  {
   "cell_type": "markdown",
   "metadata": {},
   "source": [
    "### 두 수의 나눗셈\n",
    "\n",
    "- 정수 `num1`과 `num2`가 매개변수로 주어질 때, `num1`을 `num2`로 나눈 값에 1,000을 곱한 후 정수 부분을 return 하도록 soltuion 함수를 완성해주세요."
   ]
  },
  {
   "cell_type": "code",
   "execution_count": null,
   "metadata": {},
   "outputs": [
    {
     "name": "stdout",
     "output_type": "stream",
     "text": [
      "1500\n",
      "2333\n",
      "62\n"
     ]
    }
   ],
   "source": [
    "def solution(num1, num2):\n",
    "    return int((num1 / num2) * 1000)\n",
    "\n",
    "print(solution(3, 2))   # 1500\n",
    "print(solution(7, 3))   # 2333\n",
    "print(solution(1, 16))  # 62\n",
    "\n",
    "# 다른 풀이법\n",
    "def solution2(num1, num2):\n",
    "    answer = (num1/num2)*1000\n",
    "    return answer//1"
   ]
  },
  {
   "cell_type": "markdown",
   "metadata": {},
   "source": [
    "### 숫자 비교하기\n",
    "\n",
    "- 정수 `num1`과 `num2`가 매개변수로 주어집니다. 두 수가 같으면 1 다르면 -1을 retrun하도록 solution 함수를 완성해주세요."
   ]
  },
  {
   "cell_type": "code",
   "execution_count": null,
   "metadata": {},
   "outputs": [
    {
     "name": "stdout",
     "output_type": "stream",
     "text": [
      "-1\n",
      "1\n",
      "-1\n"
     ]
    }
   ],
   "source": [
    "def solution(num1, num2):\n",
    "    return 1 if num1 == num2 else -1\n",
    "\n",
    "print(solution(2, 3))   # -1\n",
    "print(solution(11, 11)) # 1\n",
    "print(solution(7, 99))  # -1\n",
    "\n",
    "# 다른 풀이법\n",
    "def solution2(num1, num2):\n",
    "    return sum([num1==num2])*2-1"
   ]
  },
  {
   "cell_type": "markdown",
   "metadata": {},
   "source": [
    "### 분수의 덧셈 (HARD)\n",
    "\n",
    "- 첫 번째 분수의 분자와 분모를 뜻하는 `numer1`, `denom1`, 두 번째 분수의 분자와 분모를 뜻하는 `numer2`, `denom2`가 매개변수로 주어집니다. 두 분수를 더한 값을 기약 분수로 나타냈을 때 분자와 분모를 순서대로 담은 배열을 return 하도록 solution 함수를 완성해보세요."
   ]
  },
  {
   "cell_type": "code",
   "execution_count": null,
   "metadata": {},
   "outputs": [
    {
     "name": "stdout",
     "output_type": "stream",
     "text": [
      "[5, 4]\n",
      "[29, 6]\n"
     ]
    }
   ],
   "source": [
    "from math import gcd\n",
    "\n",
    "def solution(numer1, denom1, numer2, denom2):\n",
    "    upper = (numer1*denom2)+(numer2*denom1)\n",
    "    lower = denom1*denom2\n",
    "    i = gcd(upper, lower)\n",
    "    \n",
    "    answer = [upper // i, lower // i]\n",
    "    return answer\n",
    "\n",
    "print(solution(1, 2, 3, 4)) # [5, 4]\n",
    "print(solution(9, 2, 1, 3)) # [29, 6]\n",
    "\n",
    "# 다른 풀이법\n",
    "def solution2(denum1, num1, denum2, num2):\n",
    "    answer = []\n",
    "    s = 0\n",
    "\n",
    "    denum0 = (denum1*num2) +(denum2*num1)\n",
    "    num0 = num1*num2\n",
    "\n",
    "    for i in range(min(denum0,num0),0,-1):\n",
    "        if denum0%i == 0 and num0%i == 0:\n",
    "            s = i\n",
    "            break\n",
    "\n",
    "    denum0 /= s\n",
    "    num0 /= s\n",
    "    answer.append(denum0)\n",
    "    answer.append(num0)\n",
    "\n",
    "    return answer\n",
    "\n",
    "# 다른 풀이법\n",
    "from fractions import Fraction\n",
    "\n",
    "def solution3(denum1, num1, denum2, num2):\n",
    "    answer = Fraction(denum1, num1) + Fraction(denum2, num2)\n",
    "    return [answer.numerator, answer.denominator]"
   ]
  },
  {
   "cell_type": "markdown",
   "metadata": {},
   "source": [
    "### 배열 두배 만들기\n",
    "\n",
    "- 정수 배열 `numbers`가 매개변수로 주어집니다. `numbers`의 각 원소에 두배한 원소를 가진 배열을 return하도록 solution 함수를 완성해주세요."
   ]
  },
  {
   "cell_type": "code",
   "execution_count": null,
   "metadata": {},
   "outputs": [
    {
     "name": "stdout",
     "output_type": "stream",
     "text": [
      "[2, 4, 6, 8, 10]\n",
      "[2, 4, 200, -198, 2, 4, 6]\n"
     ]
    }
   ],
   "source": [
    "def solution(numbers):\n",
    "    return [i * 2 for i in numbers]\n",
    "\n",
    "print(solution([1, 2, 3, 4, 5]))            # [2, 4, 6, 8, 10]\n",
    "print(solution([1, 2, 100, -99, 1, 2, 3]))  # [2, 4, 200, -198, 2, 4, 6]\n",
    "\n",
    "# 다른 풀이법\n",
    "def solution2(numbers):\n",
    "    return list(map(lambda x: x * 2, numbers))\n",
    "\n",
    "# 다른 풀이법\n",
    "import numpy as np\n",
    "\n",
    "def solution3(numbers):\n",
    "    answer = []\n",
    "    answer = np.array(numbers)*2\n",
    "    answer = answer.tolist()\n",
    "\n",
    "\n",
    "    return answer"
   ]
  }
 ],
 "metadata": {
  "kernelspec": {
   "display_name": "base",
   "language": "python",
   "name": "python3"
  },
  "language_info": {
   "codemirror_mode": {
    "name": "ipython",
    "version": 3
   },
   "file_extension": ".py",
   "mimetype": "text/x-python",
   "name": "python",
   "nbconvert_exporter": "python",
   "pygments_lexer": "ipython3",
   "version": "3.12.7"
  }
 },
 "nbformat": 4,
 "nbformat_minor": 2
}
