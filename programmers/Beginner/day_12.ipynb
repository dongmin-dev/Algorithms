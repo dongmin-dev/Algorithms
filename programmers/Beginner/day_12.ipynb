{
 "cells": [
  {
   "cell_type": "markdown",
   "metadata": {},
   "source": [
    "### 모음 제거\n",
    "\n",
    "- 영어에선 a, e, i, o, u 다섯 가지 알파벳을 모음으로 분류합니다. 문자열 `my_string`이 매개변수로 주어질 때 모음을 제거한 문자열을 return하도록 solution 함수를 완성해주세요."
   ]
  },
  {
   "cell_type": "code",
   "execution_count": 1,
   "metadata": {},
   "outputs": [
    {
     "name": "stdout",
     "output_type": "stream",
     "text": [
      "bs\n",
      "nc t mt y\n"
     ]
    }
   ],
   "source": [
    "def solution(my_string):\n",
    "    answer = my_string.replace('a', '').replace('e', '').replace('i', '').replace('o', '').replace('u', '')\n",
    "    return answer\n",
    "\n",
    "print(solution(\"bus\"))              # \"bs\"\n",
    "print(solution(\"nice to meet you\")) # \"nc t mt y\""
   ]
  },
  {
   "cell_type": "code",
   "execution_count": null,
   "metadata": {},
   "outputs": [],
   "source": [
    "# 코드 구조 개선\n",
    "def solution(my_string):\n",
    "    vowels = ['a','e','i','o','u']\n",
    "    for vowel in vowels:\n",
    "        my_string = my_string.replace(vowel, '')\n",
    "    return my_string"
   ]
  },
  {
   "cell_type": "code",
   "execution_count": null,
   "metadata": {},
   "outputs": [],
   "source": [
    "# 다른 풀이법\n",
    "def solution(my_string):\n",
    "    return \"\".join([i for i in my_string if not(i in \"aeiou\")])"
   ]
  },
  {
   "cell_type": "code",
   "execution_count": null,
   "metadata": {},
   "outputs": [],
   "source": [
    "# 다른 풀이법\n",
    "import re\n",
    "def solution(my_string):\n",
    "    return re.sub('[aeiou]', '', my_string)\n",
    "    # 또는 re.sub(r\"a|e|i|o|u\", \"\", my_string)"
   ]
  },
  {
   "cell_type": "markdown",
   "metadata": {},
   "source": [
    "### 문자열 정렬하기 (1)\n",
    "\n",
    "- 문자열 `my_string`이 매개변수로 주어질 때, `my_string` 안에 있는 숫자만 골라 오름차순 정렬한 리스트를 return 하도록 solution 함수를 작성해보세요."
   ]
  },
  {
   "cell_type": "code",
   "execution_count": 6,
   "metadata": {},
   "outputs": [
    {
     "name": "stdout",
     "output_type": "stream",
     "text": [
      "[1, 2, 2, 3, 9]\n",
      "[2, 2, 4, 8]\n",
      "[0]\n"
     ]
    }
   ],
   "source": [
    "def solution(my_string):\n",
    "    answer = []\n",
    "    for i in my_string:\n",
    "        if i in [str(num) for num in range(10)]:\n",
    "            answer.append(int(i))\n",
    "    return sorted(answer)\n",
    "\n",
    "print(solution(\"hi12392\"))      # [1, 2, 2, 3, 9]\n",
    "print(solution(\"p2o4i8gj2\"))    # [2, 2, 4, 8]\n",
    "print(solution(\"abcde0\"))       # [0]"
   ]
  },
  {
   "cell_type": "code",
   "execution_count": null,
   "metadata": {},
   "outputs": [],
   "source": [
    "# 다른 풀이법\n",
    "def solution(my_string):\n",
    "    return sorted([int(c) for c in my_string if c.isdigit()])"
   ]
  },
  {
   "cell_type": "code",
   "execution_count": null,
   "metadata": {},
   "outputs": [],
   "source": [
    "# 다른 풀이법\n",
    "def solution(my_string):\n",
    "    return sorted(map(int, filter(lambda s: s.isdigit(), my_string)))"
   ]
  },
  {
   "cell_type": "code",
   "execution_count": null,
   "metadata": {},
   "outputs": [],
   "source": [
    "# 다른 풀이법\n",
    "import re\n",
    "\n",
    "def solution(my_string):\n",
    "    return sorted(map(int, (list(re.sub('[^0-9]', '', my_string)))))"
   ]
  },
  {
   "cell_type": "markdown",
   "metadata": {},
   "source": [
    "### 숨어있는 숫자의 덧셈 (1)\n",
    "\n",
    "- 문자열 `my_string`이 매개변수로 주어집니다. `my_string`안의 모든 자연수들의 합을 return하도록 solution 함수를 완성해주세요."
   ]
  },
  {
   "cell_type": "code",
   "execution_count": 8,
   "metadata": {},
   "outputs": [
    {
     "name": "stdout",
     "output_type": "stream",
     "text": [
      "10\n",
      "16\n"
     ]
    }
   ],
   "source": [
    "def solution(my_string):\n",
    "    answer = [int(i) for i in my_string if i.isdigit()]\n",
    "    return sum(answer)\n",
    "\n",
    "print(solution(\"aAb1B2cC34oOp\"))    # 10\n",
    "print(solution(\"1a2b3c4d123\"))      # 16"
   ]
  },
  {
   "cell_type": "markdown",
   "metadata": {},
   "source": [
    "### 소인수분해\n",
    "\n",
    "- 소인수분해란 어떤 수를 소수들의 곱으로 표현하는 것입니다. 예를 들어 12를 소인수 분해하면 2 * 2 * 3 으로 나타낼 수 있습니다. 따라서 12의 소인수는 2와 3입니다. 자연수 `n`이 매개변수로 주어질 때 `n`의 소인수를 오름차순으로 담은 배열을 return하도록 solution 함수를 완성해주세요."
   ]
  },
  {
   "cell_type": "code",
   "execution_count": null,
   "metadata": {},
   "outputs": [
    {
     "name": "stdout",
     "output_type": "stream",
     "text": [
      "[2, 3]\n",
      "[17]\n",
      "[2, 3, 5, 7]\n"
     ]
    }
   ],
   "source": [
    "def solution(n):\n",
    "    answer = set()\n",
    "    for i in range(2, int(n**0.5) + 1):\n",
    "        while n % i == 0:\n",
    "            answer.add(i)\n",
    "            n //= i\n",
    "    if n > 1:\n",
    "        answer.add(n)\n",
    "    return sorted(answer)\n",
    "\n",
    "print(solution(12))     # [2, 3]\n",
    "print(solution(17))     # [17]\n",
    "print(solution(420))    # [2, 3, 5, 7]"
   ]
  },
  {
   "cell_type": "code",
   "execution_count": null,
   "metadata": {},
   "outputs": [],
   "source": [
    "# 다른 풀이법\n",
    "def solution(n):\n",
    "    answer = []\n",
    "    d = 2\n",
    "    while d <= n:\n",
    "        if n % d == 0:\n",
    "            n /= d\n",
    "            if d not in answer:\n",
    "                answer.append(d)\n",
    "        else:\n",
    "            d += 1\n",
    "    return answer"
   ]
  }
 ],
 "metadata": {
  "kernelspec": {
   "display_name": "base",
   "language": "python",
   "name": "python3"
  },
  "language_info": {
   "codemirror_mode": {
    "name": "ipython",
    "version": 3
   },
   "file_extension": ".py",
   "mimetype": "text/x-python",
   "name": "python",
   "nbconvert_exporter": "python",
   "pygments_lexer": "ipython3",
   "version": "3.12.7"
  }
 },
 "nbformat": 4,
 "nbformat_minor": 2
}
