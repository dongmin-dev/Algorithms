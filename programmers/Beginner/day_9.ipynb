{
 "cells": [
  {
   "cell_type": "markdown",
   "metadata": {},
   "source": [
    "### 시저 암호 (HARD)\n",
    "\n",
    "- 어떤 문장의 각 알파벳을 일정한 거리만큼 밀어서 다른 알파벳으로 바꾸는 암호화 방식을 시저 암호라고 합니다. 예를 들어 \"AB\"는 1만큼 밀면 \"BC\"가 되고, 3만큼 밀면 \"DE\"가 됩니다. \"z\"는 1만큼 밀면 \"a\"가 됩니다. 문자열 s와 거리 n을 입력받아 s를 n만큼 민 암호문을 만드는 함수, solution을 완성해 보세요."
   ]
  },
  {
   "cell_type": "code",
   "execution_count": null,
   "metadata": {},
   "outputs": [
    {
     "name": "stdout",
     "output_type": "stream",
     "text": [
      "BC\n",
      "a\n",
      "e F d\n",
      "b    c\n"
     ]
    }
   ],
   "source": [
    "def solution(s, n):\n",
    "    answer = ''\n",
    "    \n",
    "    for letter in s:\n",
    "        if letter == ' ':\n",
    "            answer += letter\n",
    "            continue\n",
    "        \n",
    "        if 'a' <= letter <= 'z':\n",
    "            num = ord(letter) + n\n",
    "            if num > ord('z'):\n",
    "                num -= 26\n",
    "            elif num < ord('a'):\n",
    "                num += 26\n",
    "        elif 'A' <= letter <= 'Z':\n",
    "            num = ord(letter) + n\n",
    "            if num > ord('Z'):\n",
    "                num -= 26\n",
    "            elif num < ord('A'):\n",
    "                num += 26\n",
    "        else:\n",
    "            answer += letter\n",
    "            continue\n",
    "        \n",
    "        answer += chr(num)\n",
    "    \n",
    "    return answer\n",
    "\n",
    "print(solution(\"AB\", 1))        # \"BC\"\n",
    "print(solution(\"z\", 1))         # \"a\"\n",
    "print(solution(\"a B z\", 4))     # \"e F d\"\n",
    "print(solution(\"a    b\", 1))    # \"b    c\"\n",
    "\n",
    "# 코드 구조 개선\n",
    "def solution2(s, n):\n",
    "    answer = ''\n",
    "    for i in s:\n",
    "        if i:\n",
    "            if i >= 'A' and i <= 'Z':\n",
    "                answer += chr((ord(i) - ord('A') + n) % 26 + ord('A'))\n",
    "            elif i >= 'a' and i <= 'z':\n",
    "                answer += chr((ord(i) - ord('a') + n) % 26 + ord('a'))\n",
    "            else : answer += ' '\n",
    "    return answer\n",
    "\n",
    "# 다른 풀이법\n",
    "def solution3(s, n):\n",
    "    s = list(s)\n",
    "    for i in range(len(s)):\n",
    "        if s[i].isupper():\n",
    "            s[i]=chr((ord(s[i])-ord('A')+ n)%26+ord('A'))\n",
    "        elif s[i].islower():\n",
    "            s[i]=chr((ord(s[i])-ord('a')+ n)%26+ord('a'))\n",
    "\n",
    "    return \"\".join(s)\n",
    "\n",
    "# 다른 풀이법\n",
    "def solution4(s, n):\n",
    "    lower_list = \"abcdefghijklmnopqrstuvwxyz\"\n",
    "    upper_list = \"ABCDEFGHIJKLMNOPQRSTUVWXYZ\"\n",
    "\n",
    "    result = []\n",
    "\n",
    "    for i in s:\n",
    "        if i is \" \":\n",
    "            result.append(\" \")\n",
    "        elif i.islower() is True:\n",
    "            new_ = lower_list.find(i) + n\n",
    "            result.append(lower_list[new_ % 26])\n",
    "        else:\n",
    "            new_ = upper_list.find(i) + n\n",
    "            result.append(upper_list[new_ % 26])\n",
    "    return \"\".join(result)"
   ]
  },
  {
   "cell_type": "markdown",
   "metadata": {},
   "source": [
    "### 개미 군단\n",
    "\n",
    "- 개미 군단이 사냥을 나가려고 합니다. 개미군단은 사냥감의 체력에 딱 맞는 병력을 데리고 나가려고 합니다. 장군개미는 5의 공격력을, 병정개미는 3의 공격력을 일개미는 1의 공격력을 가지고 있습니다. 예를 들어 체력 23의 여치를 사냥하려고 할 때, 일개미 23마리를 데리고 가도 되지만, 장군개미 네 마리와 병정개미 한 마리를 데리고 간다면 더 적은 병력으로 사냥할 수 있습니다. 사냥감의 체력 `hp`가 매개변수로 주어질 때, 사냥감의 체력에 딱 맞게 최소한의 병력을 구성하려면 몇 마리의 개미가 필요한지를 return하도록 solution 함수를 완성해주세요."
   ]
  },
  {
   "cell_type": "code",
   "execution_count": null,
   "metadata": {},
   "outputs": [
    {
     "name": "stdout",
     "output_type": "stream",
     "text": [
      "5\n",
      "6\n",
      "201\n"
     ]
    }
   ],
   "source": [
    "def solution(hp):\n",
    "    answer = 0\n",
    "    arr = [0, 0, 0]\n",
    "    arr[0] = hp // 5\n",
    "    arr[1] = (hp - arr[0]*5) // 3\n",
    "    arr[2] = (hp - arr[0]*5 - arr[1]*3)\n",
    "    \n",
    "    for i in arr:\n",
    "        if i < 0:\n",
    "            continue\n",
    "        else:\n",
    "            answer += i\n",
    "    \n",
    "    return answer\n",
    "\n",
    "print(solution(23))     # 5\n",
    "print(solution(24))     # 6\n",
    "print(solution(999))    # 201\n",
    "\n",
    "# 코드 구조 개선\n",
    "def solution2(hp):\n",
    "    answer = 0\n",
    "    answer += hp//5\n",
    "    hp %= 5\n",
    "    answer += hp//3\n",
    "    hp %= 3\n",
    "    answer += hp//1\n",
    "\n",
    "    return answer\n",
    "\n",
    "# 다른 풀이법\n",
    "def solution3(hp):\n",
    "    return hp // 5 + (hp % 5 // 3) + ((hp % 5) % 3)\n",
    "\n",
    "# 다른 풀이법\n",
    "def solution4(hp):\n",
    "    answer = 0\n",
    "    for ant in [5, 3, 1]:\n",
    "        d, hp = divmod(hp, ant)\n",
    "        answer += d\n",
    "    return answer"
   ]
  },
  {
   "cell_type": "markdown",
   "metadata": {},
   "source": [
    "### 모스 부호 (1)\n",
    "\n",
    "- 머쓱이는 친구에게 모스부호를 이용한 편지를 받았습니다. 그냥은 읽을 수 없어 이를 해독하는 프로그램을 만들려고 합니다. 문자열 `letter`가 매개변수로 주어질 때, `letter`를 영어 소문자로 바꾼 문자열을 return 하도록 solution 함수를 완성해보세요.\n",
    "\n",
    "- 모스부호는 다음과 같습니다.\n",
    "\n",
    "```plaintext\n",
    "morse = { \n",
    "    '.-':'a','-...':'b','-.-.':'c','-..':'d','.':'e','..-.':'f',\n",
    "    '--.':'g','....':'h','..':'i','.---':'j','-.-':'k','.-..':'l',\n",
    "    '--':'m','-.':'n','---':'o','.--.':'p','--.-':'q','.-.':'r',\n",
    "    '...':'s','-':'t','..-':'u','...-':'v','.--':'w','-..-':'x',\n",
    "    '-.--':'y','--..':'z'\n",
    "}\n",
    "```"
   ]
  },
  {
   "cell_type": "code",
   "execution_count": null,
   "metadata": {},
   "outputs": [
    {
     "name": "stdout",
     "output_type": "stream",
     "text": [
      "hello\n",
      "python\n"
     ]
    }
   ],
   "source": [
    "def solution(letter):\n",
    "    answer = ''\n",
    "    morse = { \n",
    "    '.-':'a','-...':'b','-.-.':'c','-..':'d','.':'e','..-.':'f',\n",
    "    '--.':'g','....':'h','..':'i','.---':'j','-.-':'k','.-..':'l',\n",
    "    '--':'m','-.':'n','---':'o','.--.':'p','--.-':'q','.-.':'r',\n",
    "    '...':'s','-':'t','..-':'u','...-':'v','.--':'w','-..-':'x',\n",
    "    '-.--':'y','--..':'z'\n",
    "    }\n",
    "    arr = letter.split()\n",
    "    for i in arr:\n",
    "        answer += morse[i]\n",
    "    return answer\n",
    "\n",
    "print(solution(\".... . .-.. .-.. ---\"))     # \"hello\"\n",
    "print(solution(\".--. -.-- - .... --- -.\"))  # \"python\"\n",
    "\n",
    "# 다른 풀이법\n",
    "def solution2(letter):\n",
    "    morse = {\n",
    "        '.-':'a','-...':'b','-.-.':'c','-..':'d','.':'e','..-.':'f',\n",
    "        '--.':'g','....':'h','..':'i','.---':'j','-.-':'k','.-..':'l',\n",
    "        '--':'m','-.':'n','---':'o','.--.':'p','--.-':'q','.-.':'r',\n",
    "        '...':'s','-':'t','..-':'u','...-':'v','.--':'w','-..-':'x',\n",
    "        '-.--':'y','--..':'z'\n",
    "    }\n",
    "\n",
    "    return ''.join([morse[i] for i in letter.split(' ')])"
   ]
  },
  {
   "cell_type": "markdown",
   "metadata": {},
   "source": [
    "### 가위 바위 보\n",
    "\n",
    "- 가위는 2 바위는 0 보는 5로 표현합니다. 가위 바위 보를 내는 순서대로 나타낸 문자열 `rsp`가 매개변수로 주어질 때, rsp에 저장된 가위 바위 보를 모두 이기는 경우를 순서대로 나타낸 문자열을 return하도록 solution 함수를 완성해보세요."
   ]
  },
  {
   "cell_type": "code",
   "execution_count": null,
   "metadata": {},
   "outputs": [
    {
     "name": "stdout",
     "output_type": "stream",
     "text": [
      "0\n",
      "052\n"
     ]
    }
   ],
   "source": [
    "def solution(rsp):\n",
    "    answer = ''\n",
    "    win = {\"2\": \"0\", \"0\": \"5\", \"5\": \"2\"}\n",
    "    for i in rsp:\n",
    "        answer += win[i]\n",
    "    return answer\n",
    "\n",
    "print(solution(\"2\"))    # \"0\"\n",
    "print(solution(\"205\"))  # \"052\"\n",
    "\n",
    "# 코드 구조 개선\n",
    "def solution2(rsp):\n",
    "    d = {'0':'5','2':'0','5':'2'}\n",
    "    return ''.join(d[i] for i in rsp)\n",
    "\n",
    "# 다른 풀이법\n",
    "def solution3(rsp):\n",
    "    return rsp.translate(str.maketrans('025', '502'))"
   ]
  },
  {
   "cell_type": "markdown",
   "metadata": {},
   "source": [
    "### 구슬을 나누는 경우의 수\n",
    "\n",
    "- 머쓱이는 구슬을 친구들에게 나누어주려고 합니다. 구슬은 모두 다르게 생겼습니다. 머쓱이가 갖고 있는 구슬의 개수 `balls`와 친구들에게 나누어 줄 구슬 개수 `share`이 매개변수로 주어질 때, `balls`개의 구슬 중 `share`개의 구슬을 고르는 가능한 모든 경우의 수를 return 하는 solution 함수를 완성해주세요."
   ]
  },
  {
   "cell_type": "code",
   "execution_count": null,
   "metadata": {},
   "outputs": [
    {
     "name": "stdout",
     "output_type": "stream",
     "text": [
      "3\n",
      "10\n"
     ]
    }
   ],
   "source": [
    "from math import factorial\n",
    "\n",
    "def solution(balls, share):\n",
    "    answer = factorial(balls) // (factorial((balls-share)) * factorial(share))\n",
    "    return answer\n",
    "\n",
    "print(solution(3, 2))   # 3\n",
    "print(solution(5, 3))   # 10\n",
    "\n",
    "# 다른 풀이법\n",
    "import math\n",
    "\n",
    "def solution2(balls, share):\n",
    "    return math.comb(balls, share)\n",
    "\n",
    "# 다른 풀이법\n",
    "def solution3(balls, share):\n",
    "    answer = factorial(balls) / (factorial(balls - share) * factorial(share))\n",
    "    return answer\n",
    "\n",
    "def factorial(n):\n",
    "    result = 1\n",
    "    for i in range(1, n + 1):\n",
    "        result = result * i\n",
    "    return result\n",
    "\n",
    "# 다른 풀이법\n",
    "def solution4(balls, share):\n",
    "    a, b = 1, 1\n",
    "    for i in range(1,share+1):\n",
    "        a *= balls\n",
    "        balls -= 1\n",
    "        b *= i\n",
    "    return int(a / b)\n",
    "\n",
    "# 다른 풀이법\n",
    "def solution5(balls, share):\n",
    "    mul = 1\n",
    "    for i in set(range(1, balls + 1))-set(range(1, share + 1)):\n",
    "        mul *= i\n",
    "    for i in range(balls-share, 0,-1):\n",
    "        mul//= i\n",
    "    return mul"
   ]
  }
 ],
 "metadata": {
  "kernelspec": {
   "display_name": "base",
   "language": "python",
   "name": "python3"
  },
  "language_info": {
   "codemirror_mode": {
    "name": "ipython",
    "version": 3
   },
   "file_extension": ".py",
   "mimetype": "text/x-python",
   "name": "python",
   "nbconvert_exporter": "python",
   "pygments_lexer": "ipython3",
   "version": "3.12.7"
  }
 },
 "nbformat": 4,
 "nbformat_minor": 2
}
