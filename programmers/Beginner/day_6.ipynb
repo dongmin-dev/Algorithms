{
 "cells": [
  {
   "cell_type": "markdown",
   "metadata": {},
   "source": [
    "### 문자열 뒤집기\n",
    "\n",
    "- 문자열 `my_string`이 매개변수로 주어집니다. `my_string`을 거꾸로 뒤집은 문자열을 return하도록 solution 함수를 완성해주세요."
   ]
  },
  {
   "cell_type": "code",
   "execution_count": null,
   "metadata": {},
   "outputs": [
    {
     "name": "stdout",
     "output_type": "stream",
     "text": [
      "noraj\n",
      "daerb\n"
     ]
    }
   ],
   "source": [
    "def solution(my_string):\n",
    "    return my_string[::-1]\n",
    "\n",
    "print(solution(\"jaron\"))    # \"noraj\"\n",
    "print(solution(\"bread\"))    # \"daerb\"\n",
    "\n",
    "# 다른 풀이법\n",
    "def solution2(my_string):\n",
    "    return ''.join(reversed(my_string))"
   ]
  },
  {
   "cell_type": "markdown",
   "metadata": {},
   "source": [
    "### 직각삼각형 출력하기\n",
    "\n",
    "- \"\\*\"의 높이와 너비를 1이라고 했을 때, \"\\*\"을 이용해 직각 이등변 삼각형을 그리려고합니다. 정수 n 이 주어지면 높이와 너비가 n 인 직각 이등변 삼각형을 출력하도록 코드를 작성해보세요."
   ]
  },
  {
   "cell_type": "code",
   "execution_count": null,
   "metadata": {},
   "outputs": [
    {
     "name": "stdout",
     "output_type": "stream",
     "text": [
      "*\n",
      "**\n",
      "***\n"
     ]
    }
   ],
   "source": [
    "n = int(input())\n",
    "for i in range(1, n+1):\n",
    "    print('*' * i)\n",
    "\n",
    "# 다른 풀이법\n",
    "print('\\n'.join('*' * (i + 1) for i in range(int(input()))))"
   ]
  },
  {
   "cell_type": "markdown",
   "metadata": {},
   "source": [
    "### 짝수 홀수 개수\n",
    "\n",
    "- 정수가 담긴 리스트 `num_list`가 주어질 때, `num_list`의 원소 중 짝수와 홀수의 개수를 담은 배열을 return 하도록 solution 함수를 완성해보세요."
   ]
  },
  {
   "cell_type": "code",
   "execution_count": null,
   "metadata": {},
   "outputs": [
    {
     "name": "stdout",
     "output_type": "stream",
     "text": [
      "[2, 3]\n",
      "[0, 4]\n"
     ]
    }
   ],
   "source": [
    "def solution(num_list):\n",
    "    answer = [0, 0]\n",
    "    for i in num_list:\n",
    "        if i % 2:\n",
    "            answer[1] += 1\n",
    "        else:\n",
    "            answer[0] += 1\n",
    "    return answer\n",
    "\n",
    "print(solution([1, 2, 3, 4, 5]))    # [2, 3]\n",
    "print(solution([1, 3, 5, 7]))       # [0, 4]\n",
    "\n",
    "# 코드 구조 개선\n",
    "def solution2(num_list):\n",
    "    answer = [0,0]\n",
    "    for n in num_list:\n",
    "        answer[n%2]+=1\n",
    "    return answer\n",
    "\n",
    "# 다른 풀이법\n",
    "def solution(num_list):\n",
    "    odd = sum(1 for n in num_list if n % 2)\n",
    "    return [len(num_list) - odd, odd]"
   ]
  },
  {
   "cell_type": "markdown",
   "metadata": {},
   "source": [
    "### 문자 반복 출력하기\n",
    "\n",
    "- 문자열 `my_string`과 정수 `n`이 매개변수로 주어질 때, `my_string`에 들어있는 각 문자를 `n`만큼 반복한 문자열을 return 하도록 solution 함수를 완성해보세요."
   ]
  },
  {
   "cell_type": "code",
   "execution_count": null,
   "metadata": {},
   "outputs": [
    {
     "name": "stdout",
     "output_type": "stream",
     "text": [
      "hhheeellllllooo\n"
     ]
    }
   ],
   "source": [
    "def solution(my_string, n):\n",
    "    answer = ''\n",
    "    for i in my_string:\n",
    "        answer += i * n\n",
    "    return answer\n",
    "\n",
    "print(solution(\"hello\", 3))    # \"hhheeellllllooo\"\n",
    "\n",
    "# 다른 풀이법\n",
    "def solution2(my_string, n):\n",
    "    return ''.join(i*n for i in my_string)"
   ]
  }
 ],
 "metadata": {
  "kernelspec": {
   "display_name": "base",
   "language": "python",
   "name": "python3"
  },
  "language_info": {
   "codemirror_mode": {
    "name": "ipython",
    "version": 3
   },
   "file_extension": ".py",
   "mimetype": "text/x-python",
   "name": "python",
   "nbconvert_exporter": "python",
   "pygments_lexer": "ipython3",
   "version": "3.12.7"
  }
 },
 "nbformat": 4,
 "nbformat_minor": 2
}
