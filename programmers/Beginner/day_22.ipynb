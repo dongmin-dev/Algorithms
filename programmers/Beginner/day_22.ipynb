{
 "cells": [
  {
   "cell_type": "markdown",
   "metadata": {},
   "source": [
    "### 저주의 숫자 3\n",
    "\n",
    "- 3x 마을 사람들은 3을 저주의 숫자라고 생각하기 때문에 3의 배수와 숫자 3을 사용하지 않습니다. 3x 마을 사람들의 숫자는 다음과 같습니다.\n",
    "\n",
    "| 10진법 | 3x 마을에서 쓰는 숫자 | 10진법 | 3x 마을에서 쓰는 숫자 |\n",
    "|--------|--------------------|--------|--------------------|\n",
    "| 1      | 1                  | 6      | 8                  |\n",
    "| 2      | 2                  | 7      | 10                 |\n",
    "| 3      | 4                  | 8      | 11                 |\n",
    "| 4      | 5                  | 9      | 14                 |\n",
    "| 5      | 7                  | 10     | 16                 |\n",
    "\n",
    "- 정수 `n`이 매개변수로 주어질 때, `n`을 3x 마을에서 사용하는 숫자로 바꿔 return하도록 solution 함수를 완성해주세요."
   ]
  },
  {
   "cell_type": "code",
   "execution_count": 5,
   "metadata": {},
   "outputs": [
    {
     "name": "stdout",
     "output_type": "stream",
     "text": [
      "25\n",
      "76\n"
     ]
    }
   ],
   "source": [
    "def solution(n):\n",
    "    answer = []\n",
    "    i = 1\n",
    "    \n",
    "    while True:\n",
    "        if len(answer) == n:\n",
    "            return max(answer)\n",
    "        \n",
    "        if i % 3 != 0 and '3' not in str(i):\n",
    "            answer.append(i)        \n",
    "        i += 1\n",
    "\n",
    "print(solution(15)) # 25\n",
    "print(solution(40)) # 76"
   ]
  },
  {
   "cell_type": "code",
   "execution_count": 9,
   "metadata": {},
   "outputs": [
    {
     "name": "stdout",
     "output_type": "stream",
     "text": [
      "25\n",
      "76\n"
     ]
    }
   ],
   "source": [
    "def solution(n):\n",
    "    answer = []\n",
    "    i = 1\n",
    "    \n",
    "    while True:\n",
    "        if i % 3 != 0 and '3' not in str(i):\n",
    "            answer.append(i)        \n",
    "        i += 1\n",
    "        \n",
    "        if len(answer) == n:\n",
    "            return max(answer)\n",
    "\n",
    "print(solution(15)) # 25\n",
    "print(solution(40)) # 76"
   ]
  },
  {
   "cell_type": "code",
   "execution_count": 6,
   "metadata": {},
   "outputs": [
    {
     "name": "stdout",
     "output_type": "stream",
     "text": [
      "25\n",
      "76\n"
     ]
    }
   ],
   "source": [
    "# 코드 구조 개선\n",
    "def solution(n):\n",
    "    answer = 0\n",
    "    for _ in range(n):\n",
    "        answer += 1\n",
    "        while answer % 3 == 0 or '3' in str(answer):\n",
    "            answer += 1\n",
    "    return answer\n",
    "\n",
    "print(solution(15)) # 25\n",
    "print(solution(40)) # 76"
   ]
  },
  {
   "cell_type": "code",
   "execution_count": 7,
   "metadata": {},
   "outputs": [
    {
     "name": "stdout",
     "output_type": "stream",
     "text": [
      "25\n",
      "76\n"
     ]
    }
   ],
   "source": [
    "# 다른 풀이법\n",
    "def is_use_three(number):\n",
    "    if \"3\" in str(number):\n",
    "        return True\n",
    "    if number % 3 == 0:\n",
    "        return True\n",
    "    return False\n",
    "\n",
    "\n",
    "def solution(n):  \n",
    "    return list(filter(lambda v: not is_use_three(v), range(200)))[n-1]\n",
    "\n",
    "print(solution(15)) # 25\n",
    "print(solution(40)) # 76"
   ]
  },
  {
   "cell_type": "code",
   "execution_count": 8,
   "metadata": {},
   "outputs": [
    {
     "name": "stdout",
     "output_type": "stream",
     "text": [
      "25\n",
      "76\n"
     ]
    }
   ],
   "source": [
    "# 다른 풀이법\n",
    "def solution(n):\n",
    "    return [i for i in range(200) if i % 3 != 0 and '3' not in str(i)][n-1]\n",
    "\n",
    "print(solution(15)) # 25\n",
    "print(solution(40)) # 76"
   ]
  },
  {
   "cell_type": "code",
   "execution_count": null,
   "metadata": {},
   "outputs": [],
   "source": []
  }
 ],
 "metadata": {
  "kernelspec": {
   "display_name": "base",
   "language": "python",
   "name": "python3"
  },
  "language_info": {
   "codemirror_mode": {
    "name": "ipython",
    "version": 3
   },
   "file_extension": ".py",
   "mimetype": "text/x-python",
   "name": "python",
   "nbconvert_exporter": "python",
   "pygments_lexer": "ipython3",
   "version": "3.12.7"
  }
 },
 "nbformat": 4,
 "nbformat_minor": 2
}
