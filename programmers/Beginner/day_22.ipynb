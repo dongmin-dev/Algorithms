{
 "cells": [
  {
   "cell_type": "markdown",
   "metadata": {},
   "source": [
    "### 저주의 숫자 3\n",
    "\n",
    "- 3x 마을 사람들은 3을 저주의 숫자라고 생각하기 때문에 3의 배수와 숫자 3을 사용하지 않습니다. 3x 마을 사람들의 숫자는 다음과 같습니다.\n",
    "\n",
    "| 10진법 | 3x 마을에서 쓰는 숫자 | 10진법 | 3x 마을에서 쓰는 숫자 |\n",
    "|--------|--------------------|--------|--------------------|\n",
    "| 1      | 1                  | 6      | 8                  |\n",
    "| 2      | 2                  | 7      | 10                 |\n",
    "| 3      | 4                  | 8      | 11                 |\n",
    "| 4      | 5                  | 9      | 14                 |\n",
    "| 5      | 7                  | 10     | 16                 |\n",
    "\n",
    "- 정수 `n`이 매개변수로 주어질 때, `n`을 3x 마을에서 사용하는 숫자로 바꿔 return하도록 solution 함수를 완성해주세요."
   ]
  },
  {
   "cell_type": "code",
   "execution_count": 5,
   "metadata": {},
   "outputs": [
    {
     "name": "stdout",
     "output_type": "stream",
     "text": [
      "25\n",
      "76\n"
     ]
    }
   ],
   "source": [
    "def solution(n):\n",
    "    answer = []\n",
    "    i = 1\n",
    "    \n",
    "    while True:\n",
    "        if len(answer) == n:\n",
    "            return max(answer)\n",
    "        \n",
    "        if i % 3 != 0 and '3' not in str(i):\n",
    "            answer.append(i)        \n",
    "        i += 1\n",
    "\n",
    "print(solution(15)) # 25\n",
    "print(solution(40)) # 76"
   ]
  },
  {
   "cell_type": "code",
   "execution_count": 9,
   "metadata": {},
   "outputs": [
    {
     "name": "stdout",
     "output_type": "stream",
     "text": [
      "25\n",
      "76\n"
     ]
    }
   ],
   "source": [
    "def solution(n):\n",
    "    answer = []\n",
    "    i = 1\n",
    "    \n",
    "    while True:\n",
    "        if i % 3 != 0 and '3' not in str(i):\n",
    "            answer.append(i)        \n",
    "        i += 1\n",
    "        \n",
    "        if len(answer) == n:\n",
    "            return max(answer)\n",
    "\n",
    "print(solution(15)) # 25\n",
    "print(solution(40)) # 76"
   ]
  },
  {
   "cell_type": "code",
   "execution_count": 6,
   "metadata": {},
   "outputs": [
    {
     "name": "stdout",
     "output_type": "stream",
     "text": [
      "25\n",
      "76\n"
     ]
    }
   ],
   "source": [
    "# 코드 구조 개선\n",
    "def solution(n):\n",
    "    answer = 0\n",
    "    for _ in range(n):\n",
    "        answer += 1\n",
    "        while answer % 3 == 0 or '3' in str(answer):\n",
    "            answer += 1\n",
    "    return answer\n",
    "\n",
    "print(solution(15)) # 25\n",
    "print(solution(40)) # 76"
   ]
  },
  {
   "cell_type": "code",
   "execution_count": 7,
   "metadata": {},
   "outputs": [
    {
     "name": "stdout",
     "output_type": "stream",
     "text": [
      "25\n",
      "76\n"
     ]
    }
   ],
   "source": [
    "# 다른 풀이법\n",
    "def is_use_three(number):\n",
    "    if \"3\" in str(number):\n",
    "        return True\n",
    "    if number % 3 == 0:\n",
    "        return True\n",
    "    return False\n",
    "\n",
    "\n",
    "def solution(n):  \n",
    "    return list(filter(lambda v: not is_use_three(v), range(200)))[n-1]\n",
    "\n",
    "print(solution(15)) # 25\n",
    "print(solution(40)) # 76"
   ]
  },
  {
   "cell_type": "code",
   "execution_count": 8,
   "metadata": {},
   "outputs": [
    {
     "name": "stdout",
     "output_type": "stream",
     "text": [
      "25\n",
      "76\n"
     ]
    }
   ],
   "source": [
    "# 다른 풀이법\n",
    "def solution(n):\n",
    "    return [i for i in range(200) if i % 3 != 0 and '3' not in str(i)][n-1]\n",
    "\n",
    "print(solution(15)) # 25\n",
    "print(solution(40)) # 76"
   ]
  },
  {
   "cell_type": "markdown",
   "metadata": {},
   "source": [
    "### 평행 (Didn't solve)\n",
    "\n",
    "- 점 네 개의 좌표를 담은 이차원 배열 `dots`가 다음과 같이 매개변수로 주어집니다.\n",
    "\n",
    "    - [[x1, y1], [x2, y2], [x3, y3], [x4, y4]]\n",
    "\n",
    "- 주어진 네 개의 점을 두 개씩 이었을 때, 두 직선이 평행이 되는 경우가 있으면 1을 없으면 0을 return 하도록 solution 함수를 완성해보세요.\n"
   ]
  },
  {
   "cell_type": "code",
   "execution_count": 1,
   "metadata": {},
   "outputs": [
    {
     "name": "stdout",
     "output_type": "stream",
     "text": [
      "1\n",
      "0\n"
     ]
    }
   ],
   "source": [
    "def is_parallel(dot1, dot2, dot3, dot4):\n",
    "    return (dot2[1] - dot1[1]) * (dot4[0] - dot3[0]) == (dot4[1] - dot3[1]) * (dot2[0] - dot1[0])\n",
    "\n",
    "def solution(dots):\n",
    "    return int(\n",
    "        is_parallel(dots[0], dots[1], dots[2], dots[3]) or\n",
    "        is_parallel(dots[0], dots[2], dots[1], dots[3]) or\n",
    "        is_parallel(dots[0], dots[3], dots[1], dots[2])\n",
    "    )\n",
    "\n",
    "print(solution([[1, 4], [9, 2], [3, 8], [11, 6]]))  # 1\n",
    "print(solution([[3, 5], [4, 1], [2, 4], [5, 10]]))  # 0"
   ]
  },
  {
   "cell_type": "markdown",
   "metadata": {},
   "source": [
    "### 겹치는 선분의 길이 (Didn't solve)\n",
    "\n",
    "- 선분 3개가 평행하게 놓여 있습니다. 세 선분의 시작과 끝 좌표가 [[start, end], [start, end], [start, end]] 형태로 들어있는 2차원 배열 `lines`가 매개변수로 주어질 때, 두 개 이상의 선분이 겹치는 부분의 길이를 return 하도록 solution 함수를 완성해보세요.\n",
    "\n",
    "- `lines`가 [[0, 2], [-3, -1], [-2, 1]]일 때 그림으로 나타내면 다음과 같습니다.\n",
    "\n",
    "![겹치는 선분의 길이](../assets/겹치는선분의길이.png)\n",
    "\n",
    "- 선분이 두 개 이상 겹친 곳은 [-2, -1], [0, 1]로 길이 2만큼 겹쳐있습니다."
   ]
  },
  {
   "cell_type": "code",
   "execution_count": 7,
   "metadata": {},
   "outputs": [
    {
     "name": "stdout",
     "output_type": "stream",
     "text": [
      "2\n",
      "2\n",
      "0\n",
      "8\n"
     ]
    }
   ],
   "source": [
    "def solution(lines):\n",
    "    sets = [set(range(min(l), max(l))) for l in lines]\n",
    "    return len(sets[0] & sets[1] | sets[0] & sets[2] | sets[1] & sets[2])\n",
    "\n",
    "print(solution([[0, 2], [-3, -1], [-2, 1]]))    # 2\n",
    "print(solution([[0, 1], [2, 5], [3, 9]]))       # 2\n",
    "print(solution([[-1, 1], [1, 3], [3, 9]]))      # 0\n",
    "print(solution([[0, 5], [3, 9], [1, 10]]))      # 8"
   ]
  },
  {
   "cell_type": "code",
   "execution_count": 8,
   "metadata": {},
   "outputs": [
    {
     "name": "stdout",
     "output_type": "stream",
     "text": [
      "2\n",
      "2\n",
      "0\n",
      "8\n"
     ]
    }
   ],
   "source": [
    "def solution(lines):\n",
    "    s1 = set(i for i in range(lines[0][0], lines[0][1]))\n",
    "    s2 = set(i for i in range(lines[1][0], lines[1][1]))\n",
    "    s3 = set(i for i in range(lines[2][0], lines[2][1]))\n",
    "    return len((s1 & s2) | (s2 & s3) | (s1 & s3))\n",
    "\n",
    "print(solution([[0, 2], [-3, -1], [-2, 1]]))    # 2\n",
    "print(solution([[0, 1], [2, 5], [3, 9]]))       # 2\n",
    "print(solution([[-1, 1], [1, 3], [3, 9]]))      # 0\n",
    "print(solution([[0, 5], [3, 9], [1, 10]]))      # 8"
   ]
  },
  {
   "cell_type": "code",
   "execution_count": 9,
   "metadata": {},
   "outputs": [
    {
     "name": "stdout",
     "output_type": "stream",
     "text": [
      "2\n",
      "2\n",
      "0\n",
      "8\n"
     ]
    }
   ],
   "source": [
    "def solution(lines):\n",
    "    starts = [min(a) for a in lines]\n",
    "    ends = [max(a) for a in lines]\n",
    "    starts.sort()\n",
    "    ends.sort()\n",
    "    answer = 0\n",
    "    answer += max(0,ends[0] - starts[1])\n",
    "    answer += max(0, ends[1] - starts[2])\n",
    "    answer -= max(0, ends[0] - starts[2])\n",
    "    return answer\n",
    "\n",
    "print(solution([[0, 2], [-3, -1], [-2, 1]]))    # 2\n",
    "print(solution([[0, 1], [2, 5], [3, 9]]))       # 2\n",
    "print(solution([[-1, 1], [1, 3], [3, 9]]))      # 0\n",
    "print(solution([[0, 5], [3, 9], [1, 10]]))      # 8"
   ]
  },
  {
   "cell_type": "code",
   "execution_count": null,
   "metadata": {},
   "outputs": [],
   "source": []
  }
 ],
 "metadata": {
  "kernelspec": {
   "display_name": "base",
   "language": "python",
   "name": "python3"
  },
  "language_info": {
   "codemirror_mode": {
    "name": "ipython",
    "version": 3
   },
   "file_extension": ".py",
   "mimetype": "text/x-python",
   "name": "python",
   "nbconvert_exporter": "python",
   "pygments_lexer": "ipython3",
   "version": "3.12.7"
  }
 },
 "nbformat": 4,
 "nbformat_minor": 2
}
