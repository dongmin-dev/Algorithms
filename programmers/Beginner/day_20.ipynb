{
 "cells": [
  {
   "cell_type": "markdown",
   "metadata": {},
   "source": [
    "### 직사각형 넓이 구하기 (HARD)\n",
    "\n",
    "- 2차원 좌표 평면에 변이 축과 평행한 직사각형이 있습니다. 직사각형 네 꼭짓점의 좌표 [[x1, y1], [x2, y2], [x3, y3], [x4, y4]]가 담겨있는 배열 `dots`가 매개변수로 주어질 때, 직사각형의 넓이를 return 하도록 solution 함수를 완성해보세요."
   ]
  },
  {
   "cell_type": "code",
   "execution_count": 1,
   "metadata": {},
   "outputs": [
    {
     "name": "stdout",
     "output_type": "stream",
     "text": [
      "1\n",
      "4\n"
     ]
    }
   ],
   "source": [
    "def solution(dots):\n",
    "    x1, y1 = min(dots)\n",
    "    x2, y2 = max(dots)\n",
    "    \n",
    "    return (x2-x1) * (y2-y1)\n",
    "\n",
    "print(solution([[1, 1], [2, 1], [2, 2], [1, 2]]))       # 1\n",
    "print(solution([[-1, -1], [1, 1], [1, -1], [-1, 1]]))   # 4"
   ]
  },
  {
   "cell_type": "code",
   "execution_count": 2,
   "metadata": {},
   "outputs": [
    {
     "name": "stdout",
     "output_type": "stream",
     "text": [
      "1\n",
      "4\n"
     ]
    }
   ],
   "source": [
    "# 다른 풀이법\n",
    "def solution(dots):\n",
    "    return (max(dots)[0] - min(dots)[0])*(max(dots)[1] - min(dots)[1])\n",
    "\n",
    "print(solution([[1, 1], [2, 1], [2, 2], [1, 2]]))       # 1\n",
    "print(solution([[-1, -1], [1, 1], [1, -1], [-1, 1]]))   # 4"
   ]
  },
  {
   "cell_type": "markdown",
   "metadata": {},
   "source": [
    "### 캐릭터의 좌표\n",
    "\n",
    "- 머쓱이는 RPG게임을 하고 있습니다. 게임에는 `up`, `down`, `left`, `right` 방향키가 있으며 각 키를 누르면 위, 아래, 왼쪽, 오른쪽으로 한 칸씩 이동합니다. 예를 들어 [0,0]에서 `up`을 누른다면 캐릭터의 좌표는 [0, 1], `down`을 누른다면 [0, -1], `left`를 누른다면 [-1, 0], `right`를 누른다면 [1, 0]입니다. 머쓱이가 입력한 방향키의 배열 `keyinput`와 맵의 크기 `board`이 매개변수로 주어집니다. 캐릭터는 항상 [0,0]에서 시작할 때 키 입력이 모두 끝난 뒤에 캐릭터의 좌표 [x, y]를 return하도록 solution 함수를 완성해주세요.\n",
    "\n",
    "- [0, 0]은 `board`의 정 중앙에 위치합니다. 예를 들어 `board`의 가로 크기가 9라면 캐릭터는 왼쪽으로 최대 [-4, 0]까지 오른쪽으로 최대 [4, 0]까지 이동할 수 있습니다."
   ]
  },
  {
   "cell_type": "code",
   "execution_count": 9,
   "metadata": {},
   "outputs": [
    {
     "name": "stdout",
     "output_type": "stream",
     "text": [
      "[2, 1]\n",
      "[0, -4]\n"
     ]
    }
   ],
   "source": [
    "def solution(keyinput, board):\n",
    "    answer = [0, 0]\n",
    "    \n",
    "    x_limit = board[0] // 2\n",
    "    y_limit = board[1] // 2\n",
    "    \n",
    "    for i in keyinput:\n",
    "        if i == 'up':\n",
    "            if answer[1] >= y_limit:\n",
    "                continue\n",
    "            else:\n",
    "                answer[1] += 1\n",
    "        elif i == 'down':\n",
    "            if answer[1] <= y_limit*(-1):\n",
    "                continue\n",
    "            else:\n",
    "                answer[1] -= 1\n",
    "        elif i == 'left':\n",
    "            if answer[0] <= x_limit*(-1):\n",
    "                continue\n",
    "            else:\n",
    "                answer[0] -= 1\n",
    "        else:\n",
    "            if answer[0] >= x_limit:\n",
    "                continue\n",
    "            else:\n",
    "                answer[0] += 1\n",
    "    \n",
    "    return answer\n",
    "\n",
    "print(solution([\"left\", \"right\", \"up\", \"right\", \"right\"], [11, 11]))    # [2, 1]\n",
    "print(solution([\"down\", \"down\", \"down\", \"down\", \"down\"], [7, 9]))       # [0, -4]"
   ]
  },
  {
   "cell_type": "code",
   "execution_count": null,
   "metadata": {},
   "outputs": [],
   "source": [
    "# 다른 풀이법\n",
    "def solution(keyinput, board):\n",
    "    x_lim,y_lim = board[0]//2,board[1]//2\n",
    "    move = {'left':(-1,0),'right':(1,0),'up':(0,1),'down':(0,-1)}\n",
    "    x,y = 0,0\n",
    "    for k in keyinput:\n",
    "        dx,dy = move[k]\n",
    "        if abs(x+dx)>x_lim or abs(y+dy)>y_lim:\n",
    "            continue\n",
    "        else:\n",
    "            x,y = x+dx,y+dy\n",
    "\n",
    "    return [x,y]"
   ]
  },
  {
   "cell_type": "markdown",
   "metadata": {},
   "source": [
    "### 최댓값 만들기 (2)\n",
    "\n",
    "- 정수 배열 `numbers`가 매개변수로 주어집니다. `numbers`의 원소 중 두 개를 곱해 만들 수 있는 최댓값을 return하도록 solution 함수를 완성해주세요."
   ]
  },
  {
   "cell_type": "code",
   "execution_count": 16,
   "metadata": {},
   "outputs": [
    {
     "name": "stdout",
     "output_type": "stream",
     "text": [
      "15\n",
      "240\n",
      "600\n"
     ]
    }
   ],
   "source": [
    "def solution(numbers):\n",
    "    numbers = sorted(numbers)\n",
    "    val_1 = numbers[0] * numbers[1]\n",
    "    val_2 = numbers[-1] * numbers[-2]\n",
    "    \n",
    "    return max(val_1, val_2)\n",
    "\n",
    "print(solution([1, 2, -3, 4, -5]))          # 15\n",
    "print(solution([0, -31, 24, 10, 1, 9]))     # 240\n",
    "print(solution([10, 20, 30, 5, 5, 20, 5]))  # 600"
   ]
  },
  {
   "cell_type": "markdown",
   "metadata": {},
   "source": [
    "### 다항식 더하기 (HARD)\n",
    "\n",
    "- 한 개 이상의 항의 합으로 이루어진 식을 다항식이라고 합니다. 다항식을 계산할 때는 동류항끼리 계산해 정리합니다. 덧셈으로 이루어진 다항식 `polynomial`이 매개변수로 주어질 때, 동류항끼리 더한 결괏값을 문자열로 return 하도록 solution 함수를 완성해보세요. 같은 식이라면 가장 짧은 수식을 return 합니다.\n",
    "\n",
    "#### 제한사항\n",
    "\n",
    "- 0 < `polynomial`에 있는 수 < 100\n",
    "\n",
    "- `polynomial`에 변수는 'x'만 존재합니다.\n",
    "\n",
    "- `polynomial`은 양의 정수, 공백, ‘x’, ‘+'로 이루어져 있습니다.\n",
    "\n",
    "- 항과 연산기호 사이에는 항상 공백이 존재합니다.\n",
    "\n",
    "- 공백은 연속되지 않으며 시작이나 끝에는 공백이 없습니다.\n",
    "\n",
    "- 하나의 항에서 변수가 숫자 앞에 오는 경우는 없습니다.\n",
    "\n",
    "- \" + 3xx + + x7 + \"와 같은 잘못된 입력은 주어지지 않습니다.\n",
    "\n",
    "- 0으로 시작하는 수는 없습니다.\n",
    "\n",
    "- 문자와 숫자 사이의 곱하기는 생략합니다.\n",
    "\n",
    "- `polynomial`에는 일차 항과 상수항만 존재합니다.\n",
    "\n",
    "- 계수 1은 생략합니다.\n",
    "\n",
    "- 결괏값에 상수항은 마지막에 둡니다.\n",
    "\n",
    "- 0 < `polynomial`의 길이 < 50"
   ]
  },
  {
   "cell_type": "code",
   "execution_count": 26,
   "metadata": {},
   "outputs": [
    {
     "name": "stdout",
     "output_type": "stream",
     "text": [
      "x\n",
      "4x + 7\n",
      "3x\n",
      "25x + 5\n",
      "10\n",
      "6x\n"
     ]
    }
   ],
   "source": [
    "# 풀이법 by o1-preview\n",
    "def solution(polynomial):\n",
    "    terms = polynomial.split(' + ')\n",
    "    total_x_coeff = 0\n",
    "    total_constant = 0\n",
    "\n",
    "    for term in terms:\n",
    "        if 'x' in term:\n",
    "            if term == 'x':\n",
    "                coeff = 1\n",
    "            else:\n",
    "                coeff = int(term.replace('x', ''))\n",
    "            total_x_coeff += coeff\n",
    "        else:\n",
    "            total_constant += int(term)\n",
    "\n",
    "    result_parts = []\n",
    "    if total_x_coeff:\n",
    "        if total_x_coeff == 1:\n",
    "            result_parts.append('x')\n",
    "        else:\n",
    "            result_parts.append(f'{total_x_coeff}x')\n",
    "    if total_constant:\n",
    "        result_parts.append(f'{total_constant}')\n",
    "\n",
    "    return ' + '.join(result_parts)\n",
    "\n",
    "print(solution(\"x\"))                # \"x\"\n",
    "print(solution(\"3x + 7 + x\"))       # \"4x + 7\"\n",
    "print(solution(\"x + x + x\"))        # \"3x\"\n",
    "print(solution(\"10x + 5 + 15x\"))    # \"25x + 5\"\n",
    "print(solution(\"7 + 3\"))            # \"10\"\n",
    "print(solution(\"x + 2x + 3x\"))      # \"6x\""
   ]
  },
  {
   "cell_type": "code",
   "execution_count": null,
   "metadata": {},
   "outputs": [
    {
     "name": "stdout",
     "output_type": "stream",
     "text": [
      "x\n",
      "4x + 7\n",
      "3x\n",
      "25x + 5\n",
      "10\n",
      "6x\n"
     ]
    }
   ],
   "source": [
    "# 풀이법 by GPT-4o\n",
    "def solution(polynomial):\n",
    "    answer = ''\n",
    "    x_count, num = 0, 0\n",
    "    arr = polynomial.split(' + ')\n",
    "    \n",
    "    for term in arr:\n",
    "        if 'x' in term:  # Process terms containing 'x'\n",
    "            if term == 'x':  # Term is exactly 'x'\n",
    "                x_count += 1\n",
    "            else:  # Term is in the form 'ax'\n",
    "                x_count += int(term.replace('x', ''))\n",
    "        else:  # Process constant terms\n",
    "            num += int(term)\n",
    "    \n",
    "    if x_count > 0 and num > 0:  # Both 'x' terms and constants are present\n",
    "        if x_count == 1:\n",
    "            answer = f\"x + {num}\"\n",
    "        else:\n",
    "            answer = f\"{x_count}x + {num}\"\n",
    "    elif x_count > 0:  # Only 'x' terms are present\n",
    "        if x_count == 1:\n",
    "            answer = 'x'\n",
    "        else:\n",
    "            answer = f\"{x_count}x\"\n",
    "    else:  # Only constants are present\n",
    "        answer = str(num)\n",
    "    \n",
    "    return answer\n",
    "\n",
    "print(solution(\"x\"))                # \"x\"\n",
    "print(solution(\"3x + 7 + x\"))       # \"4x + 7\"\n",
    "print(solution(\"x + x + x\"))        # \"3x\"\n",
    "print(solution(\"10x + 5 + 15x\"))    # \"25x + 5\"\n",
    "print(solution(\"7 + 3\"))            # \"10\"\n",
    "print(solution(\"x + 2x + 3x\"))      # \"6x\""
   ]
  },
  {
   "cell_type": "code",
   "execution_count": 27,
   "metadata": {},
   "outputs": [
    {
     "name": "stdout",
     "output_type": "stream",
     "text": [
      "x\n",
      "4x + 7\n",
      "3x\n",
      "25x + 5\n",
      "10\n",
      "6x\n"
     ]
    }
   ],
   "source": [
    "# 다른 풀이법\n",
    "def solution(polynomial):\n",
    "    xnum = 0\n",
    "    const = 0\n",
    "    for c in polynomial.split(' + '):\n",
    "        if c.isdigit():\n",
    "            const+=int(c)\n",
    "        else:\n",
    "            xnum = xnum+1 if c=='x' else xnum+int(c[:-1])\n",
    "    if xnum == 0:\n",
    "        return str(const)\n",
    "    elif xnum==1:\n",
    "        return 'x + '+str(const) if const!=0 else 'x'\n",
    "    else:\n",
    "        return f'{xnum}x + {const}' if const!=0 else f'{xnum}x'\n",
    "\n",
    "print(solution(\"x\"))                # \"x\"\n",
    "print(solution(\"3x + 7 + x\"))       # \"4x + 7\"\n",
    "print(solution(\"x + x + x\"))        # \"3x\"\n",
    "print(solution(\"10x + 5 + 15x\"))    # \"25x + 5\"\n",
    "print(solution(\"7 + 3\"))            # \"10\"\n",
    "print(solution(\"x + 2x + 3x\"))      # \"6x\""
   ]
  }
 ],
 "metadata": {
  "kernelspec": {
   "display_name": "base",
   "language": "python",
   "name": "python3"
  },
  "language_info": {
   "codemirror_mode": {
    "name": "ipython",
    "version": 3
   },
   "file_extension": ".py",
   "mimetype": "text/x-python",
   "name": "python",
   "nbconvert_exporter": "python",
   "pygments_lexer": "ipython3",
   "version": "3.12.7"
  }
 },
 "nbformat": 4,
 "nbformat_minor": 2
}
