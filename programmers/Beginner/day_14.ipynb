{
 "cells": [
  {
   "cell_type": "markdown",
   "metadata": {},
   "source": [
    "### 가까운 수\n",
    "\n",
    "- 정수 배열 `array`와 정수 `n`이 매개변수로 주어질 때, `array`에 들어있는 정수 중 `n`과 가장 가까운 수를 return 하도록 solution 함수를 완성해주세요."
   ]
  },
  {
   "cell_type": "code",
   "execution_count": null,
   "metadata": {},
   "outputs": [
    {
     "name": "stdout",
     "output_type": "stream",
     "text": [
      "28\n",
      "12\n"
     ]
    }
   ],
   "source": [
    "def solution(array, n):\n",
    "    # 차이를 계산한 튜플 리스트 생성\n",
    "    diff = [(abs(num - n), num) for num in array]\n",
    "    \n",
    "    # 최소값을 튜플 비교로 찾음: 차이 → 값 순서로 비교\n",
    "    min_diff, closest_num = min(diff, key=lambda x: (x[0], x[1]))\n",
    "    \n",
    "    return closest_num\n",
    "\n",
    "print(solution([3, 10, 28], 20))    # 28\n",
    "print(solution([10, 11, 12], 13))   # 12"
   ]
  },
  {
   "cell_type": "code",
   "execution_count": null,
   "metadata": {},
   "outputs": [
    {
     "name": "stdout",
     "output_type": "stream",
     "text": [
      "28\n",
      "12\n"
     ]
    }
   ],
   "source": [
    "# 다른 풀이법\n",
    "def solution(array, n):\n",
    "    return min(array, key=lambda x: (abs(x - n), x))\n",
    "\n",
    "print(solution([3, 10, 28], 20))    # 28\n",
    "print(solution([10, 11, 12], 13))   # 12"
   ]
  },
  {
   "cell_type": "code",
   "execution_count": null,
   "metadata": {},
   "outputs": [],
   "source": [
    "# 다른 풀이법\n",
    "def solution(array, n):\n",
    "    array.sort(key = lambda x : (abs(x-n), x-n))\n",
    "    answer = array[0]\n",
    "    return answer"
   ]
  },
  {
   "cell_type": "code",
   "execution_count": null,
   "metadata": {},
   "outputs": [],
   "source": [
    "# 다른 풀이법\n",
    "def solution(array, n):\n",
    "    array.sort()\n",
    "    temp = []\n",
    "\n",
    "    for i in array :\n",
    "        temp.append( abs(n-i) )\n",
    "\n",
    "    return array[temp.index(min(temp))]"
   ]
  },
  {
   "cell_type": "markdown",
   "metadata": {},
   "source": [
    "### 369 게임\n",
    "\n",
    "- 머쓱이는 친구들과 369게임을 하고 있습니다. 369게임은 1부터 숫자를 하나씩 대며 3, 6, 9가 들어가는 숫자는 숫자 대신 3, 6, 9의 개수만큼 박수를 치는 게임입니다. 머쓱이가 말해야하는 숫자 `order`가 매개변수로 주어질 때, 머쓱이가 쳐야할 박수 횟수를 return 하도록 solution 함수를 완성해보세요."
   ]
  },
  {
   "cell_type": "code",
   "execution_count": 6,
   "metadata": {},
   "outputs": [
    {
     "name": "stdout",
     "output_type": "stream",
     "text": [
      "1\n",
      "2\n"
     ]
    }
   ],
   "source": [
    "def solution(order):\n",
    "    return len([i for i in str(order) if int(i) in [3, 6, 9]])\n",
    "\n",
    "print(solution(3))      # 1\n",
    "print(solution(29423))  # 2"
   ]
  },
  {
   "cell_type": "code",
   "execution_count": 7,
   "metadata": {},
   "outputs": [],
   "source": [
    "# 다른 풀이법\n",
    "def solution(order):\n",
    "    return sum(map(lambda x: str(order).count(str(x)), [3, 6, 9]))"
   ]
  },
  {
   "cell_type": "code",
   "execution_count": 8,
   "metadata": {},
   "outputs": [],
   "source": [
    "# 다른 풀이법\n",
    "def solution(order):\n",
    "    return sum(1 for digit in str(order) if digit in '369')"
   ]
  },
  {
   "cell_type": "code",
   "execution_count": 9,
   "metadata": {},
   "outputs": [],
   "source": [
    "# 다른 풀이법\n",
    "def solution(order):\n",
    "    order = str(order)\n",
    "    return order.count('3') + order.count('6') + order.count('9')"
   ]
  },
  {
   "cell_type": "markdown",
   "metadata": {},
   "source": [
    "### 암호 해독\n",
    "\n",
    "- 군 전략가 머쓱이는 전쟁 중 적군이 다음과 같은 암호 체계를 사용한다는 것을 알아냈습니다.\n",
    "    \n",
    "    - 암호화된 문자열 `cipher`를 주고받습니다.\n",
    "    \n",
    "    - 그 문자열에서 `code`의 배수 번째 글자만 진짜 암호입니다.\n",
    "\n",
    "- 문자열 `cipher`와 정수 `code`가 매개변수로 주어질 때 해독된 암호 문자열을 return하도록 solution 함수를 완성해주세요."
   ]
  },
  {
   "cell_type": "code",
   "execution_count": 15,
   "metadata": {},
   "outputs": [
    {
     "name": "stdout",
     "output_type": "stream",
     "text": [
      "attack\n",
      "fallback\n"
     ]
    }
   ],
   "source": [
    "def solution(cipher, code):\n",
    "    answer = cipher[code-1::code]\n",
    "    return answer\n",
    "\n",
    "print(solution(\"dfjardstddetckdaccccdegk\", 4))  # \"attack\"\n",
    "print(solution(\"pfqallllabwaoclk\", 2))          # \"fallback\""
   ]
  },
  {
   "cell_type": "code",
   "execution_count": null,
   "metadata": {},
   "outputs": [],
   "source": [
    "# 다른 풀이법\n",
    "def solution(cipher, code):\n",
    "    return ''.join(cipher[i] for i in range(code-1,len(cipher),code))"
   ]
  },
  {
   "cell_type": "markdown",
   "metadata": {},
   "source": [
    "### 대문자와 소문자\n",
    "\n",
    "- 문자열 `my_string`이 매개변수로 주어질 때, 대문자는 소문자로 소문자는 대문자로 변환한 문자열을 return하도록 solution 함수를 완성해주세요."
   ]
  },
  {
   "cell_type": "code",
   "execution_count": 17,
   "metadata": {},
   "outputs": [
    {
     "name": "stdout",
     "output_type": "stream",
     "text": [
      "CCCccc\n",
      "ABcDeFGHij\n"
     ]
    }
   ],
   "source": [
    "def solution(my_string):\n",
    "    answer = ''\n",
    "    for i in my_string:\n",
    "        if i.isupper():\n",
    "            answer += i.lower()\n",
    "        else:\n",
    "            answer += i.upper()\n",
    "    return answer\n",
    "\n",
    "print(solution(\"cccCCC\"))\n",
    "print(solution(\"abCdEfghIJ\"))"
   ]
  },
  {
   "cell_type": "code",
   "execution_count": null,
   "metadata": {},
   "outputs": [],
   "source": [
    "# 다른 풀이법\n",
    "def solution(my_string):\n",
    "    return my_string.swapcase()"
   ]
  },
  {
   "cell_type": "code",
   "execution_count": null,
   "metadata": {},
   "outputs": [],
   "source": [
    "# 다른 풀이법\n",
    "def solution(my_string):\n",
    "    return ''.join([x.lower() if x.isupper() else x.upper() for x in my_string])"
   ]
  }
 ],
 "metadata": {
  "kernelspec": {
   "display_name": "base",
   "language": "python",
   "name": "python3"
  },
  "language_info": {
   "codemirror_mode": {
    "name": "ipython",
    "version": 3
   },
   "file_extension": ".py",
   "mimetype": "text/x-python",
   "name": "python",
   "nbconvert_exporter": "python",
   "pygments_lexer": "ipython3",
   "version": "3.12.7"
  }
 },
 "nbformat": 4,
 "nbformat_minor": 2
}
