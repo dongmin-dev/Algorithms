{
 "cells": [
  {
   "cell_type": "markdown",
   "metadata": {},
   "source": [
    "### 특정 문자 제거하기\n",
    "\n",
    "- 문자열 `my_string`과 문자 `letter`이 매개변수로 주어집니다. `my_string`에서 `letter`를 제거한 문자열을 return하도록 solution 함수를 완성해주세요."
   ]
  },
  {
   "cell_type": "code",
   "execution_count": null,
   "metadata": {},
   "outputs": [
    {
     "name": "stdout",
     "output_type": "stream",
     "text": [
      "abcde\n",
      "Cdbe\n"
     ]
    }
   ],
   "source": [
    "def solution(my_string, letter):\n",
    "    answer = my_string.replace(letter, '')\n",
    "    return answer\n",
    "\n",
    "print(solution(\"abcdef\", \"f\"))  # \"abcde\"\n",
    "print(solution(\"BCBdbe\", \"B\"))  # \"Cdbe\"\n",
    "\n",
    "# 다른 풀이법\n",
    "def solution2(my_string, letter):\n",
    "    answer = ''\n",
    "    for string in my_string:\n",
    "        if string != letter:\n",
    "            answer += string\n",
    "    return answer\n",
    "\n",
    "# 다른 풀이법\n",
    "def solution3(my_string, letter):\n",
    "    return ''.join([c for c in my_string if c != letter])"
   ]
  },
  {
   "cell_type": "markdown",
   "metadata": {},
   "source": [
    "### 각도기\n",
    "\n",
    "- 각에서 0도 초과 90도 미만은 예각, 90도는 직각, 90도 초과 180도 미만은 둔각 180도는 평각으로 분류합니다. 각 `angle`이 매개변수로 주어질 때 예각일 때 1, 직각일 때 2, 둔각일 때 3, 평각일 때 4를 return하도록 solution 함수를 완성해주세요.\n",
    "    \n",
    "    - 예각 : 0 < `angle` < 90\n",
    "    \n",
    "    - 직각 : `angle` = 90\n",
    "    \n",
    "    - 둔각 : 90 < `angle` < 180\n",
    "    \n",
    "    - 평각 : `angle` = 180"
   ]
  },
  {
   "cell_type": "code",
   "execution_count": null,
   "metadata": {},
   "outputs": [
    {
     "name": "stdout",
     "output_type": "stream",
     "text": [
      "1\n",
      "3\n",
      "4\n"
     ]
    }
   ],
   "source": [
    "def solution(angle):\n",
    "    if 0 < angle and angle < 90:\n",
    "        return 1\n",
    "    elif angle == 90:\n",
    "        return 2\n",
    "    elif angle < 180:\n",
    "        return 3\n",
    "    elif angle == 180:\n",
    "        return 4\n",
    "\n",
    "print(solution(70))     # 1\n",
    "print(solution(91))     # 3\n",
    "print(solution(180))    # 4\n",
    "\n",
    "# 다른 풀이법\n",
    "def solution2(angle):\n",
    "    answer = (angle // 90) * 2 + (angle % 90 > 0) * 1\n",
    "    return answer\n",
    "\n",
    "# 다른 풀이법\n",
    "def solution3(angle):\n",
    "    if angle<=90:\n",
    "        return 1 if angle<90 else 2\n",
    "    else:\n",
    "        return 3 if angle<180 else 4"
   ]
  },
  {
   "cell_type": "markdown",
   "metadata": {},
   "source": [
    "### 양꼬치\n",
    "\n",
    "- 머쓱이네 양꼬치 가게는 10인분을 먹으면 음료수 하나를 서비스로 줍니다. 양꼬치는 1인분에 12,000원, 음료수는 2,000원입니다. 정수 `n`과 `k`가 매개변수로 주어졌을 때, 양꼬치 `n`인분과 음료수 `k`개를 먹었다면 총얼마를 지불해야 하는지 return 하도록 solution 함수를 완성해보세요."
   ]
  },
  {
   "cell_type": "code",
   "execution_count": null,
   "metadata": {},
   "outputs": [
    {
     "name": "stdout",
     "output_type": "stream",
     "text": [
      "124000\n",
      "768000\n"
     ]
    }
   ],
   "source": [
    "def solution(n, k):\n",
    "    return (12000 * n) + (2000 * (k - (n // 10)))\n",
    "\n",
    "print(solution(10, 3))  # 124,000\n",
    "print(solution(64, 6))  # 768,000\n",
    "\n",
    "# 다른 풀이법\n",
    "def solution2(n, k):\n",
    "    service = n//10\n",
    "    drink = max(0, k-service)\n",
    "    return (12000*n)+(2000*drink)"
   ]
  },
  {
   "cell_type": "markdown",
   "metadata": {},
   "source": [
    "### 짝수의 합\n",
    "\n",
    "- 정수 `n`이 주어질 때, `n`이하의 짝수를 모두 더한 값을 return 하도록 solution 함수를 작성해주세요."
   ]
  },
  {
   "cell_type": "code",
   "execution_count": null,
   "metadata": {},
   "outputs": [
    {
     "name": "stdout",
     "output_type": "stream",
     "text": [
      "30\n",
      "6\n"
     ]
    }
   ],
   "source": [
    "def solution(n):\n",
    "    return sum([i for i in range(n+1) if i % 2 == 0])\n",
    "\n",
    "print(solution(10)) # 30\n",
    "print(solution(4))  # 6\n",
    "\n",
    "# 코드 구조 개선\n",
    "def solution2(n):\n",
    "    return sum([i for i in range(2, n + 1, 2)])\n",
    "\n",
    "# 다른 풀이법\n",
    "def solution3(n):\n",
    "    return sum(range(0, n+1, 2))\n",
    "\n",
    "# 다른 풀이법\n",
    "def solution4(n):\n",
    "    return 2*(n//2)*((n//2)+1)/2"
   ]
  }
 ],
 "metadata": {
  "kernelspec": {
   "display_name": "base",
   "language": "python",
   "name": "python3"
  },
  "language_info": {
   "codemirror_mode": {
    "name": "ipython",
    "version": 3
   },
   "file_extension": ".py",
   "mimetype": "text/x-python",
   "name": "python",
   "nbconvert_exporter": "python",
   "pygments_lexer": "ipython3",
   "version": "3.12.7"
  }
 },
 "nbformat": 4,
 "nbformat_minor": 2
}
