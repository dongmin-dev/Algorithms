{
 "cells": [
  {
   "cell_type": "markdown",
   "metadata": {},
   "source": [
    "### 숫자 찾기\n",
    "\n",
    "- 정수 `num`과 `k`가 매개변수로 주어질 때, `num`을 이루는 숫자 중에 `k`가 있으면 `num`의 그 숫자가 있는 자리 수를 return하고 없으면 -1을 return 하도록 solution 함수를 완성해보세요."
   ]
  },
  {
   "cell_type": "code",
   "execution_count": null,
   "metadata": {},
   "outputs": [
    {
     "name": "stdout",
     "output_type": "stream",
     "text": [
      "3\n",
      "4\n",
      "-1\n"
     ]
    }
   ],
   "source": [
    "def solution(num, k):\n",
    "    return list(str(num)).index(str(k))+1 if str(k) in list(str(num)) else -1\n",
    "\n",
    "print(solution(29183, 1))   # 3\n",
    "print(solution(232443, 4))  # 4\n",
    "print(solution(123456, 7))  # -1"
   ]
  },
  {
   "cell_type": "code",
   "execution_count": 9,
   "metadata": {},
   "outputs": [
    {
     "name": "stdout",
     "output_type": "stream",
     "text": [
      "3\n",
      "4\n",
      "-1\n"
     ]
    }
   ],
   "source": [
    "# 코드 구조 개선\n",
    "def solution(num, k):\n",
    "    return -1 if str(k) not in str(num) else str(num).find(str(k)) + 1\n",
    "\n",
    "print(solution(29183, 1))   # 3\n",
    "print(solution(232443, 4))  # 4\n",
    "print(solution(123456, 7))  # -1"
   ]
  },
  {
   "cell_type": "code",
   "execution_count": 10,
   "metadata": {},
   "outputs": [
    {
     "name": "stdout",
     "output_type": "stream",
     "text": [
      "3\n",
      "4\n",
      "-1\n"
     ]
    }
   ],
   "source": [
    "# 다른 풀이법\n",
    "def solution(num, k):\n",
    "    for i, n in enumerate(str(num)):\n",
    "        if str(k) == n:\n",
    "            return i + 1\n",
    "    return -1\n",
    "\n",
    "print(solution(29183, 1))   # 3\n",
    "print(solution(232443, 4))  # 4\n",
    "print(solution(123456, 7))  # -1"
   ]
  },
  {
   "cell_type": "code",
   "execution_count": null,
   "metadata": {},
   "outputs": [],
   "source": [
    "# 좋은 풀이법\n",
    "# 다른 풀이법\n",
    "def solution(num, k):\n",
    "    try:\n",
    "        return str(num).index(str(k)) + 1\n",
    "    except ValueError:\n",
    "        return -1"
   ]
  },
  {
   "cell_type": "markdown",
   "metadata": {},
   "source": [
    "### n의 배수 고르기\n",
    "\n",
    "- 정수 `n`과 정수 배열 `numlist`가 매개변수로 주어질 때, `numlist`에서 `n`의 배수가 아닌 수들을 제거한 배열을 return하도록 solution 함수를 완성해주세요."
   ]
  },
  {
   "cell_type": "code",
   "execution_count": 11,
   "metadata": {},
   "outputs": [
    {
     "name": "stdout",
     "output_type": "stream",
     "text": [
      "[6, 9, 12]\n",
      "[10, 5]\n",
      "[120, 600, 12, 12]\n"
     ]
    }
   ],
   "source": [
    "def solution(n, numlist):\n",
    "    answer = [i for i in numlist if i % n == 0]\n",
    "    return answer\n",
    "\n",
    "print(solution(3, [4, 5, 6, 7, 8, 9, 10, 11, 12]))  # [6, 9, 12]\n",
    "print(solution(5, [1, 9, 3, 10, 13, 5]))            # [10, 5]\n",
    "print(solution(12, [2, 100, 120, 600, 12, 12]))     # [120, 600, 12, 12]"
   ]
  },
  {
   "cell_type": "code",
   "execution_count": 12,
   "metadata": {},
   "outputs": [
    {
     "name": "stdout",
     "output_type": "stream",
     "text": [
      "[6, 9, 12]\n",
      "[10, 5]\n",
      "[120, 600, 12, 12]\n"
     ]
    }
   ],
   "source": [
    "# 다른 풀이법\n",
    "def solution(n, numlist):\n",
    "    return list(filter(lambda v: v%n==0, numlist))\n",
    "\n",
    "print(solution(3, [4, 5, 6, 7, 8, 9, 10, 11, 12]))  # [6, 9, 12]\n",
    "print(solution(5, [1, 9, 3, 10, 13, 5]))            # [10, 5]\n",
    "print(solution(12, [2, 100, 120, 600, 12, 12]))     # [120, 600, 12, 12]"
   ]
  },
  {
   "cell_type": "code",
   "execution_count": 13,
   "metadata": {},
   "outputs": [
    {
     "name": "stdout",
     "output_type": "stream",
     "text": [
      "[6, 9, 12]\n",
      "[10, 5]\n",
      "[120, 600, 12, 12]\n"
     ]
    }
   ],
   "source": [
    "# 다른 풀이법\n",
    "def solution(n, numlist):\n",
    "    answer = []\n",
    "    for item in numlist:\n",
    "        if item%n == 0:\n",
    "            answer.append(item)\n",
    "    return answer\n",
    "\n",
    "print(solution(3, [4, 5, 6, 7, 8, 9, 10, 11, 12]))  # [6, 9, 12]\n",
    "print(solution(5, [1, 9, 3, 10, 13, 5]))            # [10, 5]\n",
    "print(solution(12, [2, 100, 120, 600, 12, 12]))     # [120, 600, 12, 12]"
   ]
  },
  {
   "cell_type": "markdown",
   "metadata": {},
   "source": [
    "### 자릿수 더하기\n",
    "\n",
    "- 정수 `n`이 매개변수로 주어질 때 `n`의 각 자리 숫자의 합을 return하도록 solution 함수를 완성해주세요"
   ]
  },
  {
   "cell_type": "code",
   "execution_count": null,
   "metadata": {},
   "outputs": [
    {
     "name": "stdout",
     "output_type": "stream",
     "text": [
      "10\n",
      "16\n"
     ]
    }
   ],
   "source": [
    "def solution(n):\n",
    "    answer = [int(i) for i in str(n)]\n",
    "    return sum(answer)\n",
    "\n",
    "print(solution(1234))   # 10\n",
    "print(solution(930211)) # 16"
   ]
  },
  {
   "cell_type": "code",
   "execution_count": 15,
   "metadata": {},
   "outputs": [
    {
     "name": "stdout",
     "output_type": "stream",
     "text": [
      "10\n",
      "16\n"
     ]
    }
   ],
   "source": [
    "# 다른 풀이법\n",
    "def solution(n):\n",
    "    answer = sum(map(int, str(n)))\n",
    "    return answer\n",
    "\n",
    "print(solution(1234))   # 10\n",
    "print(solution(930211)) # 16"
   ]
  },
  {
   "cell_type": "code",
   "execution_count": null,
   "metadata": {},
   "outputs": [
    {
     "name": "stdout",
     "output_type": "stream",
     "text": [
      "10\n",
      "16\n"
     ]
    }
   ],
   "source": [
    "# 좋은 접근법\n",
    "# 다른 풀이법\n",
    "def solution(n):\n",
    "    answer = 0\n",
    "    while n:\n",
    "        answer += n%10\n",
    "        n //= 10\n",
    "    return answer\n",
    "\n",
    "print(solution(1234))   # 10\n",
    "print(solution(930211)) # 16"
   ]
  },
  {
   "cell_type": "markdown",
   "metadata": {},
   "source": [
    "### OX퀴즈\n",
    "\n",
    "- 덧셈, 뺄셈 수식들이 'X [연산자] Y = Z' 형태로 들어있는 문자열 배열 `quiz`가 매개변수로 주어집니다. 수식이 옳다면 \"O\"를 틀리다면 \"X\"를 순서대로 담은 배열을 return하도록 solution 함수를 완성해주세요."
   ]
  },
  {
   "cell_type": "code",
   "execution_count": 26,
   "metadata": {},
   "outputs": [
    {
     "name": "stdout",
     "output_type": "stream",
     "text": [
      "['X', 'O']\n",
      "['O', 'O', 'X', 'O']\n",
      "['X', 'O']\n",
      "['O', 'X']\n"
     ]
    }
   ],
   "source": [
    "def solution(quiz):\n",
    "    answer = []\n",
    "    for equation in quiz:\n",
    "        result = eval(equation[:equation.index('=')])\n",
    "        if str(result) in equation[equation.index('='):]:\n",
    "            answer.append('O')\n",
    "        else:\n",
    "            answer.append('X')\n",
    "    return answer\n",
    "\n",
    "print(solution([\"3 - 4 = -3\", \"5 + 6 = 11\"]))                               # [\"X\", \"O\"]\n",
    "print(solution([\"19 - 6 = 13\", \"5 + 66 = 71\", \"5 - 15 = 63\", \"3 - 1 = 2\"])) # [\"O\", \"O\", \"X\", \"O\"]\n",
    "print(solution([\"2 + 3 = 2\", \"2 + 3 = 5\"]))                                 # [\"X\", \"O\"]\n",
    "print(solution([\"-1 + 9 = 8\", \"-4 + 5 = 0\"]))                               # [\"O\", \"X\"]"
   ]
  },
  {
   "cell_type": "code",
   "execution_count": 27,
   "metadata": {},
   "outputs": [
    {
     "name": "stdout",
     "output_type": "stream",
     "text": [
      "['X', 'O']\n",
      "['O', 'O', 'X', 'O']\n",
      "['X', 'O']\n",
      "['O', 'X']\n"
     ]
    }
   ],
   "source": [
    "# 다른 풀이법\n",
    "def valid(equation):\n",
    "    equation = equation.replace('=', '==')\n",
    "    return eval(equation)\n",
    "\n",
    "def solution(equations):\n",
    "    return [\"O\" if valid(equation) else \"X\" for equation in equations]\n",
    "\n",
    "print(solution([\"3 - 4 = -3\", \"5 + 6 = 11\"]))                               # [\"X\", \"O\"]\n",
    "print(solution([\"19 - 6 = 13\", \"5 + 66 = 71\", \"5 - 15 = 63\", \"3 - 1 = 2\"])) # [\"O\", \"O\", \"X\", \"O\"]\n",
    "print(solution([\"2 + 3 = 2\", \"2 + 3 = 5\"]))                                 # [\"X\", \"O\"]\n",
    "print(solution([\"-1 + 9 = 8\", \"-4 + 5 = 0\"]))                               # [\"O\", \"X\"]"
   ]
  },
  {
   "cell_type": "code",
   "execution_count": 28,
   "metadata": {},
   "outputs": [
    {
     "name": "stdout",
     "output_type": "stream",
     "text": [
      "['X', 'O']\n",
      "['O', 'O', 'X', 'O']\n",
      "['X', 'O']\n",
      "['O', 'X']\n"
     ]
    }
   ],
   "source": [
    "# 다른 풀이법\n",
    "def solution(quiz):\n",
    "    answer = []\n",
    "    for q in quiz:\n",
    "        L,R = q.split(' = ')\n",
    "        a,op,b = L.split()\n",
    "        if op=='+':\n",
    "            result = 'O' if int(a)+int(b)==int(R) else 'X'\n",
    "            answer.append(result)\n",
    "        else:\n",
    "            result = 'O' if int(a)-int(b)==int(R) else 'X'\n",
    "            answer.append(result)\n",
    "    return answer\n",
    "\n",
    "print(solution([\"3 - 4 = -3\", \"5 + 6 = 11\"]))                               # [\"X\", \"O\"]\n",
    "print(solution([\"19 - 6 = 13\", \"5 + 66 = 71\", \"5 - 15 = 63\", \"3 - 1 = 2\"])) # [\"O\", \"O\", \"X\", \"O\"]\n",
    "print(solution([\"2 + 3 = 2\", \"2 + 3 = 5\"]))                                 # [\"X\", \"O\"]\n",
    "print(solution([\"-1 + 9 = 8\", \"-4 + 5 = 0\"]))                               # [\"O\", \"X\"]"
   ]
  }
 ],
 "metadata": {
  "kernelspec": {
   "display_name": "base",
   "language": "python",
   "name": "python3"
  },
  "language_info": {
   "codemirror_mode": {
    "name": "ipython",
    "version": 3
   },
   "file_extension": ".py",
   "mimetype": "text/x-python",
   "name": "python",
   "nbconvert_exporter": "python",
   "pygments_lexer": "ipython3",
   "version": "3.12.7"
  }
 },
 "nbformat": 4,
 "nbformat_minor": 2
}
