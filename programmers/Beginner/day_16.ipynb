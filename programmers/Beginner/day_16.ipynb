{
 "cells": [
  {
   "cell_type": "markdown",
   "metadata": {},
   "source": [
    "### 편지\n",
    "\n",
    "- 머쓱이는 할머니께 생신 축하 편지를 쓰려고 합니다. 할머니가 보시기 편하도록 글자 한 자 한 자를 가로 2cm 크기로 적으려고 하며, 편지를 가로로만 적을 때, 축하 문구 `message`를 적기 위해 필요한 편지지의 최소 가로길이를 return 하도록 solution 함수를 완성해주세요."
   ]
  },
  {
   "cell_type": "code",
   "execution_count": null,
   "metadata": {},
   "outputs": [
    {
     "name": "stdout",
     "output_type": "stream",
     "text": [
      "30\n",
      "22\n"
     ]
    }
   ],
   "source": [
    "def solution(message):\n",
    "    return len(message) * 2\n",
    "\n",
    "print(solution(\"happy birthday!\"))  # 30\n",
    "print(solution(\"I love you~\"))      # 22"
   ]
  },
  {
   "cell_type": "code",
   "execution_count": 4,
   "metadata": {},
   "outputs": [
    {
     "name": "stdout",
     "output_type": "stream",
     "text": [
      "30\n",
      "22\n"
     ]
    }
   ],
   "source": [
    "# 다른 풀이법\n",
    "def solution(message):\n",
    "    return len(message)<<1\n",
    "\n",
    "print(solution(\"happy birthday!\"))  # 30\n",
    "print(solution(\"I love you~\"))      # 22"
   ]
  },
  {
   "cell_type": "markdown",
   "metadata": {},
   "source": [
    "### 가장 큰 수 찾기\n",
    "\n",
    "- 정수 배열 `array`가 매개변수로 주어질 때, 가장 큰 수와 그 수의 인덱스를 담은 배열을 return 하도록 solution 함수를 완성해보세요."
   ]
  },
  {
   "cell_type": "code",
   "execution_count": 9,
   "metadata": {},
   "outputs": [
    {
     "name": "stdout",
     "output_type": "stream",
     "text": [
      "[8, 1]\n",
      "[11, 2]\n"
     ]
    }
   ],
   "source": [
    "def solution(array):\n",
    "    answer = [max(array), array.index(max(array))]\n",
    "    return answer\n",
    "\n",
    "print(solution([1, 8, 3]))      # [8, 1]\n",
    "print(solution([9, 10, 11, 8])) # [11, 2]"
   ]
  },
  {
   "cell_type": "markdown",
   "metadata": {},
   "source": [
    "### 문자열 계산하기\n",
    "\n",
    "- `my_string`은 \"3 + 5\"처럼 문자열로 된 수식입니다. 문자열 `my_string`이 매개변수로 주어질 때, 수식을 계산한 값을 return 하는 solution 함수를 완성해주세요.\n",
    "\n",
    "#### 제한사항\n",
    "\n",
    "- 연산자는 +, -만 존재합니다.\n",
    "\n",
    "- 문자열의 시작과 끝에는 공백이 없습니다.\n",
    "\n",
    "- 0으로 시작하는 숫자는 주어지지 않습니다.\n",
    "\n",
    "- 잘못된 수식은 주어지지 않습니다.\n",
    "\n",
    "- 5 ≤ `my_string`의 길이 ≤ 100\n",
    "\n",
    "- `my_string`을 계산한 결과값은 1 이상 100,000 이하입니다.\n",
    "    \n",
    "    - `my_string`의 중간 계산 값은 -100,000 이상 100,000 이하입니다.\n",
    "\n",
    "    - 계산에 사용하는 숫자는 1 이상 20,000 이하인 자연수입니다.\n",
    "\n",
    "    - `my_string`에는 연산자가 적어도 하나 포함되어 있습니다.\n",
    "\n",
    "- return type 은 정수형입니다.\n",
    "\n",
    "- `my_string`의 숫자와 연산자는 공백 하나로 구분되어 있습니다."
   ]
  },
  {
   "cell_type": "code",
   "execution_count": null,
   "metadata": {},
   "outputs": [
    {
     "name": "stdout",
     "output_type": "stream",
     "text": [
      "7\n"
     ]
    }
   ],
   "source": [
    "def solution(my_string):\n",
    "    answer = eval(my_string)\n",
    "    return answer\n",
    "\n",
    "print(solution(\"3 + 4\"))    # 7"
   ]
  },
  {
   "cell_type": "code",
   "execution_count": null,
   "metadata": {},
   "outputs": [
    {
     "name": "stdout",
     "output_type": "stream",
     "text": [
      "8\n",
      "25\n",
      "2\n",
      "7\n"
     ]
    }
   ],
   "source": [
    "# 다른 풀이법\n",
    "def solution(my_string):\n",
    "    # 문자열을 공백을 기준으로 분리\n",
    "    tokens = my_string.split()\n",
    "    \n",
    "    # 첫 번째 숫자를 초기값으로 설정\n",
    "    result = int(tokens[0])\n",
    "    \n",
    "    # 연산자를 기준으로 순차적으로 계산\n",
    "    for i in range(1, len(tokens), 2):\n",
    "        operator = tokens[i]\n",
    "        number = int(tokens[i + 1])\n",
    "        \n",
    "        if operator == '+':\n",
    "            result += number\n",
    "        elif operator == '-':\n",
    "            result -= number\n",
    "    \n",
    "    return result\n",
    "\n",
    "# 테스트 예제\n",
    "print(solution(\"3 + 5\"))        # 8\n",
    "print(solution(\"10 + 20 - 5\"))  # 25\n",
    "print(solution(\"1 - 2 + 3\"))    # 2\n",
    "print(solution(\"3 + 4\"))        # 7"
   ]
  },
  {
   "cell_type": "code",
   "execution_count": null,
   "metadata": {},
   "outputs": [
    {
     "name": "stdout",
     "output_type": "stream",
     "text": [
      "8\n",
      "25\n",
      "2\n",
      "7\n"
     ]
    }
   ],
   "source": [
    "# 좋은 풀이법\n",
    "# 다른 풀이법\n",
    "def solution(my_string):\n",
    "    return sum(int(i) for i in my_string.replace(' - ', ' + -').split(' + '))\n",
    "\n",
    "# 테스트 예제\n",
    "print(solution(\"3 + 5\"))        # 8\n",
    "print(solution(\"10 + 20 - 5\"))  # 25\n",
    "print(solution(\"1 - 2 + 3\"))    # 2\n",
    "print(solution(\"3 + 4\"))        # 7"
   ]
  },
  {
   "cell_type": "markdown",
   "metadata": {},
   "source": [
    "### 배열의 유사도\n",
    "\n",
    "- 두 배열이 얼마나 유사한지 확인해보려고 합니다. 문자열 배열 `s1`과 `s2`가 주어질 때 같은 원소의 개수를 return하도록 solution 함수를 완성해주세요."
   ]
  },
  {
   "cell_type": "code",
   "execution_count": 21,
   "metadata": {},
   "outputs": [
    {
     "name": "stdout",
     "output_type": "stream",
     "text": [
      "2\n",
      "0\n"
     ]
    }
   ],
   "source": [
    "def solution(s1, s2):\n",
    "    return len([i for i in s1 if i in s2])\n",
    "\n",
    "print(solution([\"a\", \"b\", \"c\"], [\"com\", \"b\", \"d\", \"p\", \"c\"]))   # 2\n",
    "print(solution([\"n\", \"omg\"], [\"m\", \"dot\"]))                     # 0"
   ]
  },
  {
   "cell_type": "code",
   "execution_count": 22,
   "metadata": {},
   "outputs": [
    {
     "name": "stdout",
     "output_type": "stream",
     "text": [
      "2\n",
      "0\n"
     ]
    }
   ],
   "source": [
    "# 좋은 풀이법\n",
    "# 다른 풀이법\n",
    "def solution(s1, s2):\n",
    "    return len(set(s1)&set(s2))\n",
    "\n",
    "print(solution([\"a\", \"b\", \"c\"], [\"com\", \"b\", \"d\", \"p\", \"c\"]))   # 2\n",
    "print(solution([\"n\", \"omg\"], [\"m\", \"dot\"]))                     # 0"
   ]
  }
 ],
 "metadata": {
  "kernelspec": {
   "display_name": "base",
   "language": "python",
   "name": "python3"
  },
  "language_info": {
   "codemirror_mode": {
    "name": "ipython",
    "version": 3
   },
   "file_extension": ".py",
   "mimetype": "text/x-python",
   "name": "python",
   "nbconvert_exporter": "python",
   "pygments_lexer": "ipython3",
   "version": "3.12.7"
  }
 },
 "nbformat": 4,
 "nbformat_minor": 2
}
