{
 "cells": [
  {
   "cell_type": "markdown",
   "metadata": {},
   "source": [
    "### 문자열 안에 문자열\n",
    "\n",
    "- 문자열 `str1`, `str2`가 매개변수로 주어집니다. `str1` 안에 `str2`가 있다면 1을 없다면 2를 return하도록 solution 함수를 완성해주세요."
   ]
  },
  {
   "cell_type": "code",
   "execution_count": 1,
   "metadata": {},
   "outputs": [
    {
     "name": "stdout",
     "output_type": "stream",
     "text": [
      "1\n",
      "2\n",
      "2\n"
     ]
    }
   ],
   "source": [
    "def solution(str1, str2):\n",
    "    return 1 if str2 in str1 else 2\n",
    "\n",
    "print(solution(\"ab6CDE443fgh22iJKlmn1o\", \"6CD\"))    # 1\n",
    "print(solution(\"ppprrrogrammers\", \"pppp\"))          # 2\n",
    "print(solution(\"AbcAbcA\", \"AAA\"))                   # 2"
   ]
  },
  {
   "cell_type": "code",
   "execution_count": 2,
   "metadata": {},
   "outputs": [
    {
     "name": "stdout",
     "output_type": "stream",
     "text": [
      "1\n",
      "2\n",
      "2\n"
     ]
    }
   ],
   "source": [
    "# 다른 풀이법\n",
    "def solution(str1, str2):\n",
    "    return 1 + int(str2 not in str1)\n",
    "\n",
    "print(solution(\"ab6CDE443fgh22iJKlmn1o\", \"6CD\"))    # 1\n",
    "print(solution(\"ppprrrogrammers\", \"pppp\"))          # 2\n",
    "print(solution(\"AbcAbcA\", \"AAA\"))                   # 2"
   ]
  },
  {
   "cell_type": "code",
   "execution_count": 3,
   "metadata": {},
   "outputs": [
    {
     "name": "stdout",
     "output_type": "stream",
     "text": [
      "1\n",
      "2\n",
      "2\n"
     ]
    }
   ],
   "source": [
    "def solution(str1, str2):\n",
    "    if str1.count(str2):\n",
    "        return 1\n",
    "    else:\n",
    "        return 2\n",
    "\n",
    "print(solution(\"ab6CDE443fgh22iJKlmn1o\", \"6CD\"))    # 1\n",
    "print(solution(\"ppprrrogrammers\", \"pppp\"))          # 2\n",
    "print(solution(\"AbcAbcA\", \"AAA\"))                   # 2"
   ]
  },
  {
   "cell_type": "markdown",
   "metadata": {},
   "source": [
    "### 제곱수 판별하기 (HARD)\n",
    "\n",
    "- 어떤 자연수를 제곱했을 때 나오는 정수를 제곱수라고 합니다. 정수 `n`이 매개변수로 주어질 때, `n`이 제곱수라면 1을 아니라면 2를 return하도록 solution 함수를 완성해주세요."
   ]
  },
  {
   "cell_type": "code",
   "execution_count": 5,
   "metadata": {},
   "outputs": [
    {
     "name": "stdout",
     "output_type": "stream",
     "text": [
      "1\n",
      "2\n"
     ]
    }
   ],
   "source": [
    "from math import sqrt\n",
    "\n",
    "def solution(n):\n",
    "    answer = sqrt(n)\n",
    "    return 1 if answer == int(answer) else 2\n",
    "\n",
    "print(solution(144))    # 1\n",
    "print(solution(976))    # 2"
   ]
  },
  {
   "cell_type": "code",
   "execution_count": 6,
   "metadata": {},
   "outputs": [
    {
     "name": "stdout",
     "output_type": "stream",
     "text": [
      "1\n",
      "2\n"
     ]
    }
   ],
   "source": [
    "# 다른 풀이법\n",
    "def solution(n):\n",
    "    return 1 if (n ** 0.5).is_integer() else 2\n",
    "\n",
    "print(solution(144))    # 1\n",
    "print(solution(976))    # 2"
   ]
  },
  {
   "cell_type": "code",
   "execution_count": 7,
   "metadata": {},
   "outputs": [
    {
     "name": "stdout",
     "output_type": "stream",
     "text": [
      "1\n",
      "2\n"
     ]
    }
   ],
   "source": [
    "# 다른 풀이법\n",
    "def solution(n):\n",
    "    if n**(1/2) == int(n**(1/2)) :\n",
    "        return 1\n",
    "    else :\n",
    "        return 2\n",
    "\n",
    "print(solution(144))    # 1\n",
    "print(solution(976))    # 2"
   ]
  },
  {
   "cell_type": "code",
   "execution_count": 8,
   "metadata": {},
   "outputs": [
    {
     "name": "stdout",
     "output_type": "stream",
     "text": [
      "1\n",
      "2\n"
     ]
    }
   ],
   "source": [
    "def solution(n):\n",
    "    return 1 if (n ** 0.5) % 1 == 0 else 2\n",
    "\n",
    "print(solution(144))    # 1\n",
    "print(solution(976))    # 2"
   ]
  },
  {
   "cell_type": "markdown",
   "metadata": {},
   "source": [
    "### 세균 증식\n",
    "\n",
    "- 어떤 세균은 1시간에 두배만큼 증식한다고 합니다. 처음 세균의 마리수 `n`과 경과한 시간 `t`가 매개변수로 주어질 때 `t`시간 후 세균의 수를 return하도록 solution 함수를 완성해주세요."
   ]
  },
  {
   "cell_type": "code",
   "execution_count": 25,
   "metadata": {},
   "outputs": [
    {
     "name": "stdout",
     "output_type": "stream",
     "text": [
      "2048\n",
      "229376\n"
     ]
    }
   ],
   "source": [
    "def solution(n, t):\n",
    "    answer = n\n",
    "    for i in range(t):\n",
    "        answer *= 2\n",
    "    return answer\n",
    "\n",
    "print(solution(2, 10))  # 2048\n",
    "print(solution(7, 15))  # 229376"
   ]
  },
  {
   "cell_type": "code",
   "execution_count": 26,
   "metadata": {},
   "outputs": [
    {
     "name": "stdout",
     "output_type": "stream",
     "text": [
      "2048\n",
      "229376\n"
     ]
    }
   ],
   "source": [
    "# 좋은 풀이법\n",
    "# 다른 풀이법\n",
    "def solution(n, t):\n",
    "    return n << t\n",
    "\n",
    "print(solution(2, 10))  # 2048\n",
    "print(solution(7, 15))  # 229376"
   ]
  },
  {
   "cell_type": "code",
   "execution_count": 27,
   "metadata": {},
   "outputs": [
    {
     "name": "stdout",
     "output_type": "stream",
     "text": [
      "2048\n",
      "229376\n"
     ]
    }
   ],
   "source": [
    "# 다른 풀이법\n",
    "def solution(n, t):\n",
    "    answer = 2**t * n\n",
    "    return answer\n",
    "\n",
    "print(solution(2, 10))  # 2048\n",
    "print(solution(7, 15))  # 229376"
   ]
  },
  {
   "cell_type": "markdown",
   "metadata": {},
   "source": [
    "### 문자열 정렬하기 (2)\n",
    "\n",
    "- 영어 대소문자로 이루어진 문자열 `my_string`이 매개변수로 주어질 때, `my_string`을 모두 소문자로 바꾸고 알파벳 순서대로 정렬한 문자열을 return 하도록 solution 함수를 완성해보세요."
   ]
  },
  {
   "cell_type": "code",
   "execution_count": 31,
   "metadata": {},
   "outputs": [
    {
     "name": "stdout",
     "output_type": "stream",
     "text": [
      "abcd\n",
      "ehllo\n",
      "hnopty\n"
     ]
    }
   ],
   "source": [
    "def solution(my_string):\n",
    "    return ''.join(sorted(my_string.lower()))\n",
    "\n",
    "print(solution(\"Bcad\"))     # \"abcd\"\n",
    "print(solution(\"heLLo\"))    # \"ehllo\"\n",
    "print(solution(\"Python\"))   # \"hnopty\""
   ]
  },
  {
   "cell_type": "code",
   "execution_count": 32,
   "metadata": {},
   "outputs": [
    {
     "name": "stdout",
     "output_type": "stream",
     "text": [
      "abcd\n",
      "ehllo\n",
      "hnopty\n"
     ]
    }
   ],
   "source": [
    "# 다른 풀이법\n",
    "def solution(my_string):\n",
    "    answer = []\n",
    "    for i in my_string:\n",
    "        if ord(i) >= ord('A') and ord(i) <= ord('Z'):\n",
    "            answer.append(chr(ord(i)+32))\n",
    "        else:\n",
    "            answer.append(i)\n",
    "    return ''.join(sorted(answer))\n",
    "\n",
    "print(solution(\"Bcad\"))     # \"abcd\"\n",
    "print(solution(\"heLLo\"))    # \"ehllo\"\n",
    "print(solution(\"Python\"))   # \"hnopty\""
   ]
  }
 ],
 "metadata": {
  "kernelspec": {
   "display_name": "base",
   "language": "python",
   "name": "python3"
  },
  "language_info": {
   "codemirror_mode": {
    "name": "ipython",
    "version": 3
   },
   "file_extension": ".py",
   "mimetype": "text/x-python",
   "name": "python",
   "nbconvert_exporter": "python",
   "pygments_lexer": "ipython3",
   "version": "3.12.7"
  }
 },
 "nbformat": 4,
 "nbformat_minor": 2
}
