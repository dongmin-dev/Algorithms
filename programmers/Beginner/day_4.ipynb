{
 "cells": [
  {
   "cell_type": "markdown",
   "metadata": {},
   "source": [
    "### 피자 나눠 먹기 (1)\n",
    "\n",
    "- 머쓱이네 피자가게는 피자를 일곱 조각으로 잘라 줍니다. 피자를 나눠먹을 사람의 수 `n`이 주어질 때, 모든 사람이 피자를 한 조각 이상 먹기 위해 필요한 피자의 수를 return 하는 solution 함수를 완성해보세요."
   ]
  },
  {
   "cell_type": "code",
   "execution_count": null,
   "metadata": {},
   "outputs": [
    {
     "name": "stdout",
     "output_type": "stream",
     "text": [
      "1\n",
      "1\n",
      "3\n"
     ]
    }
   ],
   "source": [
    "def solution(n):\n",
    "    pizza = 1\n",
    "    while True:\n",
    "        if n - pizza * 7 <= 0:\n",
    "            return pizza\n",
    "        pizza += 1\n",
    "\n",
    "print(solution(7))  # 1\n",
    "print(solution(1))  # 1\n",
    "print(solution(15)) # 3\n",
    "\n",
    "# 다른 풀이법\n",
    "def solution2(n):\n",
    "    return (n - 1) // 7 + 1\n",
    "\n",
    "# 다른 풀이법\n",
    "def solution3(n):\n",
    "    return -(-n//7)\n",
    "\n",
    "# 다른 풀이법\n",
    "def solution4(n):\n",
    "    answer = 0\n",
    "\n",
    "    if n%7 != 0:\n",
    "        answer = (n//7) + 1\n",
    "    else:\n",
    "        answer = n//7\n",
    "\n",
    "    return answer\n",
    "\n",
    "# 다른 풀이법\n",
    "import math\n",
    "\n",
    "def solution5(n):\n",
    "    return math.ceil(n/7)\n",
    "\n",
    "# 다른 풀이법\n",
    "def solution6(n):\n",
    "    return (n+6) // 7"
   ]
  },
  {
   "cell_type": "markdown",
   "metadata": {},
   "source": [
    "### 피자 나눠 먹기 2\n",
    "\n",
    "- 머쓱이네 피자가게는 피자를 여섯 조각으로 잘라 줍니다. 피자를 나눠먹을 사람의 수 `n`이 매개변수로 주어질 때, `n`명이 주문한 피자를 남기지 않고 모두 같은 수의 피자 조각을 먹어야 한다면 최소 몇 판을 시켜야 하는지를 return 하도록 solution 함수를 완성해보세요."
   ]
  },
  {
   "cell_type": "code",
   "execution_count": null,
   "metadata": {},
   "outputs": [
    {
     "name": "stdout",
     "output_type": "stream",
     "text": [
      "1\n",
      "5\n",
      "2\n"
     ]
    }
   ],
   "source": [
    "def solution(n):\n",
    "    pizza = 1\n",
    "    while True:\n",
    "        if pizza * 6 % n == 0:\n",
    "            return pizza\n",
    "        pizza += 1\n",
    "\n",
    "print(solution(6))  # 1\n",
    "print(solution(10)) # 5\n",
    "print(solution(4))  # 2\n",
    "\n",
    "# 코드 구조 개선\n",
    "def solution2(n):\n",
    "    answer = 1\n",
    "    while 6 * answer % n:\n",
    "        answer += 1\n",
    "    return answer\n",
    "\n",
    "# 다른 풀이법\n",
    "import math\n",
    "\n",
    "def solution3(n):\n",
    "    return (n * 6) // math.gcd(n, 6) // 6"
   ]
  },
  {
   "cell_type": "markdown",
   "metadata": {},
   "source": [
    "### 피자 나눠 먹기 (3)\n",
    "\n",
    "- 머쓱이네 피자가게는 피자를 두 조각에서 열 조각까지 원하는 조각 수로 잘라줍니다. 피자 조각 수 `slice`와 피자를 먹는 사람의 수 `n`이 매개변수로 주어질 때, `n`명의 사람이 최소 한 조각 이상 피자를 먹으려면 최소 몇 판의 피자를 시켜야 하는지를 return 하도록 solution 함수를 완성해보세요."
   ]
  },
  {
   "cell_type": "code",
   "execution_count": null,
   "metadata": {},
   "outputs": [
    {
     "name": "stdout",
     "output_type": "stream",
     "text": [
      "2\n",
      "3\n"
     ]
    }
   ],
   "source": [
    "def solution(slice, n):\n",
    "    pizza = 1\n",
    "    while True:\n",
    "        if n - pizza * slice <= 0:\n",
    "            return pizza\n",
    "        pizza += 1\n",
    "\n",
    "print(solution(7, 10))  # 2\n",
    "print(solution(4, 12))  # 3\n",
    "\n",
    "# 다른 풀이법\n",
    "def solution2(slice, n):\n",
    "    return ((n - 1) // slice) + 1\n",
    "\n",
    "# 다른 풀이법\n",
    "def solution3(slice, n):\n",
    "    d, m = divmod(n, slice)\n",
    "    return d + int(m != 0)"
   ]
  },
  {
   "cell_type": "markdown",
   "metadata": {},
   "source": [
    "### 배열의 평균값\n",
    "\n",
    "- 정수 배열 `numbers`가 매개변수로 주어집니다. `numbers`의 원소의 평균값을 return하도록 solution 함수를 완성해주세요."
   ]
  },
  {
   "cell_type": "code",
   "execution_count": null,
   "metadata": {},
   "outputs": [
    {
     "name": "stdout",
     "output_type": "stream",
     "text": [
      "5.5\n",
      "94.0\n"
     ]
    }
   ],
   "source": [
    "def solution(numbers):\n",
    "    return sum(numbers) / len(numbers)\n",
    "\n",
    "print(solution([1, 2, 3, 4, 5, 6, 7, 8, 9, 10]))                # 5.5\n",
    "print(solution([89, 90, 91, 92, 93, 94, 95, 96, 97, 98, 99]))   # 94.0\n",
    "\n",
    "# 다른 풀이법\n",
    "import numpy as np\n",
    "def solution2(numbers):\n",
    "    return np.mean(numbers)"
   ]
  }
 ],
 "metadata": {
  "kernelspec": {
   "display_name": "base",
   "language": "python",
   "name": "python3"
  },
  "language_info": {
   "codemirror_mode": {
    "name": "ipython",
    "version": 3
   },
   "file_extension": ".py",
   "mimetype": "text/x-python",
   "name": "python",
   "nbconvert_exporter": "python",
   "pygments_lexer": "ipython3",
   "version": "3.12.7"
  }
 },
 "nbformat": 4,
 "nbformat_minor": 2
}
