{
 "cells": [
  {
   "cell_type": "markdown",
   "metadata": {},
   "source": [
    "### 영어가 싫어요\n",
    "\n",
    "- 영어가 싫은 머쓱이는 영어로 표기되어있는 숫자를 수로 바꾸려고 합니다. 문자열 `numbers`가 매개변수로 주어질 때, `numbers`를 정수로 바꿔 return 하도록 solution 함수를 완성해 주세요."
   ]
  },
  {
   "cell_type": "code",
   "execution_count": 3,
   "metadata": {},
   "outputs": [
    {
     "name": "stdout",
     "output_type": "stream",
     "text": [
      "123456789\n",
      "14067\n"
     ]
    }
   ],
   "source": [
    "def solution(numbers):\n",
    "    answer = ''\n",
    "    temp = ''\n",
    "    num_dict = {\"zero\": 0, \"one\": 1, \"two\": 2, \"three\": 3, \"four\": 4, \"five\": 5, \"six\": 6, \"seven\": 7, \"eight\": 8, \"nine\": 9}\n",
    "    \n",
    "    for i in numbers:\n",
    "        temp += i\n",
    "        if temp in num_dict.keys():\n",
    "            answer += str(num_dict[temp])\n",
    "            temp = ''\n",
    "    \n",
    "    return int(answer)\n",
    "\n",
    "print(solution(\"onetwothreefourfivesixseveneightnine\")) # 123456789\n",
    "print(solution(\"onefourzerosixseven\"))                  # 14067"
   ]
  },
  {
   "cell_type": "code",
   "execution_count": 7,
   "metadata": {},
   "outputs": [],
   "source": [
    "# 다른 풀이법\n",
    "def solution(numbers):\n",
    "    for num, eng in enumerate([\"zero\", \"one\", \"two\", \"three\", \"four\", \"five\", \"six\", \"seven\", \"eight\", \"nine\"]):\n",
    "        numbers = numbers.replace(eng, str(num))\n",
    "    return int(numbers)"
   ]
  },
  {
   "cell_type": "code",
   "execution_count": null,
   "metadata": {},
   "outputs": [],
   "source": [
    "# 다른 풀이법\n",
    "def solution(numbers):\n",
    "    dic = [\"zero\", \"one\", \"two\", \"three\", \"four\", \"five\", \"six\", \"seven\", \"eight\", \"nine\"]\n",
    "    i=0\n",
    "    for word in dic:\n",
    "        numbers = numbers.replace(word, str(i))\n",
    "        i+=1\n",
    "    return int(numbers)"
   ]
  },
  {
   "cell_type": "markdown",
   "metadata": {},
   "source": [
    "### 인덱스 바꾸기\n",
    "\n",
    "- 문자열 `my_string`과 정수 `num1`, `num2`가 매개변수로 주어질 때, `my_string`에서 인덱스 `num1`과 인덱스 `num2`에 해당하는 문자를 바꾼 문자열을 return 하도록 solution 함수를 완성해보세요."
   ]
  },
  {
   "cell_type": "code",
   "execution_count": 13,
   "metadata": {},
   "outputs": [
    {
     "name": "stdout",
     "output_type": "stream",
     "text": [
      "hlelo\n",
      "I l veoyou\n"
     ]
    }
   ],
   "source": [
    "def solution(my_string, num1, num2):\n",
    "    my_string = list(my_string)\n",
    "    \n",
    "    temp = my_string[num1]\n",
    "    my_string[num1] = my_string[num2]\n",
    "    my_string[num2] = temp\n",
    "    \n",
    "    return ''.join(my_string)\n",
    "\n",
    "print(solution(\"hello\", 1, 2))      # \"hlelo\"\n",
    "print(solution(\"I love you\", 3, 6)) # \"I l veoyou\""
   ]
  },
  {
   "cell_type": "code",
   "execution_count": 16,
   "metadata": {},
   "outputs": [],
   "source": [
    "# 다른 풀이법\n",
    "def solution(my_string, num1, num2):\n",
    "    answer = list(my_string)\n",
    "    answer[num1], answer[num2] = answer[num2], answer[num1]\n",
    "    return ''.join(answer)"
   ]
  },
  {
   "cell_type": "code",
   "execution_count": null,
   "metadata": {},
   "outputs": [],
   "source": [
    "# 다른 풀이법\n",
    "def solution(my_string, num1, num2):\n",
    "    [a, b] = sorted([num1, num2])\n",
    "    return my_string[0:a] + my_string[b] + my_string[a+1:b] + my_string[a] + my_string[b+1:]"
   ]
  },
  {
   "cell_type": "markdown",
   "metadata": {},
   "source": [
    "### 한 번만 등장한 문자\n",
    "\n",
    "- 문자열 `s`가 매개변수로 주어집니다. `s`에서 한 번만 등장하는 문자를 사전 순으로 정렬한 문자열을 return 하도록 solution 함수를 완성해보세요. 한 번만 등장하는 문자가 없을 경우 빈 문자열을 return 합니다."
   ]
  },
  {
   "cell_type": "code",
   "execution_count": 26,
   "metadata": {},
   "outputs": [
    {
     "name": "stdout",
     "output_type": "stream",
     "text": [
      "d\n",
      "abcd\n",
      "eho\n"
     ]
    }
   ],
   "source": [
    "def solution(s):\n",
    "    answer = ''\n",
    "    \n",
    "    for i in set(s):\n",
    "        if s.count(i) == 1:\n",
    "            answer += i\n",
    "    \n",
    "    return ''.join(sorted(answer))\n",
    "\n",
    "print(solution(\"abcabcadc\"))    # \"d\"\n",
    "print(solution(\"abdc\"))         # \"abcd\"\n",
    "print(solution(\"hello\"))        # \"eho\""
   ]
  },
  {
   "cell_type": "code",
   "execution_count": null,
   "metadata": {},
   "outputs": [],
   "source": [
    "# 다른 풀이법\n",
    "def solution(s):\n",
    "    answer = \"\".join(sorted([ch for ch in s if s.count(ch) == 1]))\n",
    "    return answer"
   ]
  },
  {
   "cell_type": "code",
   "execution_count": null,
   "metadata": {},
   "outputs": [],
   "source": [
    "# 다른 풀이법\n",
    "from collections import Counter\n",
    "\n",
    "def solution(s):\n",
    "    counter = Counter(s)\n",
    "    unqiue_alphabets = filter(lambda alphabet: counter[alphabet] == 1, counter.keys())\n",
    "    return ''.join(sorted(unqiue_alphabets))"
   ]
  },
  {
   "cell_type": "markdown",
   "metadata": {},
   "source": [
    "### 약수 구하기\n",
    "\n",
    "- 정수 `n`이 매개변수로 주어질 때, `n`의 약수를 오름차순으로 담은 배열을 return하도록 solution 함수를 완성해주세요."
   ]
  },
  {
   "cell_type": "code",
   "execution_count": null,
   "metadata": {},
   "outputs": [
    {
     "name": "stdout",
     "output_type": "stream",
     "text": [
      "[1, 2, 3, 4, 6, 8, 12, 24]\n",
      "[1, 29]\n"
     ]
    }
   ],
   "source": [
    "def solution(n):\n",
    "    answer = []\n",
    "    \n",
    "    for i in range(1, n+1):\n",
    "        if n % i == 0:\n",
    "            answer.append(i)\n",
    "    \n",
    "    return answer\n",
    "\n",
    "print(solution(24)) # [1, 2, 3, 4, 6, 8, 12, 24]\n",
    "print(solution(29)) # [1, 29]"
   ]
  },
  {
   "cell_type": "code",
   "execution_count": null,
   "metadata": {},
   "outputs": [],
   "source": [
    "# 코드 구조 개선\n",
    "def solution(n):\n",
    "    answer = [i for i in range(1,n+1) if n%i == 0]\n",
    "    return answer"
   ]
  },
  {
   "cell_type": "code",
   "execution_count": 2,
   "metadata": {},
   "outputs": [],
   "source": [
    "# 다른 풀이법\n",
    "def solution(n):\n",
    "    return list(filter(lambda v: n % v == 0, [i for i in range(1, n//2+1)])) + [n]"
   ]
  }
 ],
 "metadata": {
  "kernelspec": {
   "display_name": "base",
   "language": "python",
   "name": "python3"
  },
  "language_info": {
   "codemirror_mode": {
    "name": "ipython",
    "version": 3
   },
   "file_extension": ".py",
   "mimetype": "text/x-python",
   "name": "python",
   "nbconvert_exporter": "python",
   "pygments_lexer": "ipython3",
   "version": "3.12.7"
  }
 },
 "nbformat": 4,
 "nbformat_minor": 2
}
