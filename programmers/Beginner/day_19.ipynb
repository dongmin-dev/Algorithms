{
 "cells": [
  {
   "cell_type": "markdown",
   "metadata": {},
   "source": [
    "### 7의 개수\n",
    "\n",
    "- 머쓱이는 행운의 숫자 7을 가장 좋아합니다. 정수 배열 `array`가 매개변수로 주어질 때, 7이 총 몇 개 있는지 return 하도록 solution 함수를 완성해보세요."
   ]
  },
  {
   "cell_type": "code",
   "execution_count": 2,
   "metadata": {},
   "outputs": [
    {
     "name": "stdout",
     "output_type": "stream",
     "text": [
      "4\n",
      "0\n"
     ]
    }
   ],
   "source": [
    "def solution(array):\n",
    "    answer = 0\n",
    "    for i in array:\n",
    "        answer += str(i).count('7')\n",
    "    return answer\n",
    "\n",
    "print(solution([7, 77, 17]))    # 4\n",
    "print(solution([10, 29]))       # 0"
   ]
  },
  {
   "cell_type": "code",
   "execution_count": 3,
   "metadata": {},
   "outputs": [
    {
     "name": "stdout",
     "output_type": "stream",
     "text": [
      "4\n",
      "0\n"
     ]
    }
   ],
   "source": [
    "# 코드 구조 개선\n",
    "def solution(array):\n",
    "    return str(array).count('7')\n",
    "\n",
    "print(solution([7, 77, 17]))    # 4\n",
    "print(solution([10, 29]))       # 0"
   ]
  },
  {
   "cell_type": "code",
   "execution_count": 4,
   "metadata": {},
   "outputs": [
    {
     "name": "stdout",
     "output_type": "stream",
     "text": [
      "4\n",
      "0\n"
     ]
    }
   ],
   "source": [
    "# 다른 풀이법\n",
    "def solution(array):\n",
    "    return ''.join(map(str, array)).count('7')\n",
    "\n",
    "print(solution([7, 77, 17]))    # 4\n",
    "print(solution([10, 29]))       # 0"
   ]
  },
  {
   "cell_type": "markdown",
   "metadata": {},
   "source": [
    "### 잘라서 배열로 저장하기\n",
    "\n",
    "- 문자열 `my_str`과 `n`이 매개변수로 주어질 때, `my_str`을 길이 `n`씩 잘라서 저장한 배열을 return하도록 solution 함수를 완성해주세요."
   ]
  },
  {
   "cell_type": "code",
   "execution_count": null,
   "metadata": {},
   "outputs": [
    {
     "name": "stdout",
     "output_type": "stream",
     "text": [
      "['abc1Ad', 'dfggg4', '556b']\n",
      "['abc', 'def', '123']\n"
     ]
    }
   ],
   "source": [
    "# 슬라이싱은 인덱스가 초과해도 에러가 나지 않는다.\n",
    "def solution(my_str, n):\n",
    "    answer = []\n",
    "    for i in range(0, len(my_str), n):\n",
    "        answer.append(my_str[i:i+n])\n",
    "    return answer\n",
    "\n",
    "print(solution(\"abc1Addfggg4556b\", 6))  # [\"abc1Ad\", \"dfggg4\", \"556b\"]\n",
    "print(solution(\"abcdef123\", 3))         # [\"abc\", \"def\", \"123\"]"
   ]
  },
  {
   "cell_type": "code",
   "execution_count": 8,
   "metadata": {},
   "outputs": [
    {
     "name": "stdout",
     "output_type": "stream",
     "text": [
      "['abc1Ad', 'dfggg4', '556b']\n",
      "['abc', 'def', '123']\n"
     ]
    }
   ],
   "source": [
    "# 코드 구조 개선\n",
    "def solution(my_str, n):\n",
    "    return [my_str[i: i + n] for i in range(0, len(my_str), n)]\n",
    "\n",
    "print(solution(\"abc1Addfggg4556b\", 6))  # [\"abc1Ad\", \"dfggg4\", \"556b\"]\n",
    "print(solution(\"abcdef123\", 3))         # [\"abc\", \"def\", \"123\"]"
   ]
  },
  {
   "cell_type": "code",
   "execution_count": 9,
   "metadata": {},
   "outputs": [
    {
     "name": "stdout",
     "output_type": "stream",
     "text": [
      "['abc1Ad', 'dfggg4', '556b']\n",
      "['abc', 'def', '123']\n"
     ]
    }
   ],
   "source": [
    "# 다른 풀이법\n",
    "def solution(my_str, n):\n",
    "    answer = []\n",
    "\n",
    "    while my_str:\n",
    "        if len(my_str)>=n:\n",
    "            answer.append(my_str[:n])\n",
    "            my_str=my_str[n:]\n",
    "        elif len(my_str)<n:\n",
    "            answer.append(my_str)\n",
    "            my_str=[]\n",
    "\n",
    "    return answer\n",
    "\n",
    "print(solution(\"abc1Addfggg4556b\", 6))  # [\"abc1Ad\", \"dfggg4\", \"556b\"]\n",
    "print(solution(\"abcdef123\", 3))         # [\"abc\", \"def\", \"123\"]"
   ]
  },
  {
   "cell_type": "markdown",
   "metadata": {},
   "source": [
    "### 중복된 숫자 개수\n",
    "\n",
    "- 정수가 담긴 배열 `array`와 정수 `n`이 매개변수로 주어질 때, `array`에 `n`이 몇 개 있는 지를 return 하도록 solution 함수를 완성해보세요."
   ]
  },
  {
   "cell_type": "code",
   "execution_count": 10,
   "metadata": {},
   "outputs": [
    {
     "name": "stdout",
     "output_type": "stream",
     "text": [
      "2\n",
      "0\n"
     ]
    }
   ],
   "source": [
    "def solution(array, n):\n",
    "    return array.count(n)\n",
    "\n",
    "print(solution([1, 1, 2, 3, 4, 5], 1))  # 2\n",
    "print(solution([0, 2, 3, 4], 1))        # 0"
   ]
  },
  {
   "cell_type": "code",
   "execution_count": null,
   "metadata": {},
   "outputs": [],
   "source": [
    "# 다른 풀이법\n",
    "def solution(array, n):\n",
    "    return sum(1 for x in array if x == n)\n",
    "\n",
    "print(solution([1, 1, 2, 3, 4, 5], 1))  # 2\n",
    "print(solution([0, 2, 3, 4], 1))        # 0"
   ]
  },
  {
   "cell_type": "markdown",
   "metadata": {},
   "source": [
    "### 머쓱이보다 키 큰 사람\n",
    "\n",
    "- 머쓱이는 학교에서 키 순으로 줄을 설 때 몇 번째로 서야 하는지 궁금해졌습니다. 머쓱이네 반 친구들의 키가 담긴 정수 배열 `array`와 머쓱이의 키 `height`가 매개변수로 주어질 때, 머쓱이보다 키 큰 사람 수를 return 하도록 solution 함수를 완성해보세요."
   ]
  },
  {
   "cell_type": "code",
   "execution_count": 11,
   "metadata": {},
   "outputs": [
    {
     "name": "stdout",
     "output_type": "stream",
     "text": [
      "3\n",
      "0\n"
     ]
    }
   ],
   "source": [
    "def solution(array, height):\n",
    "    return sum(1 for i in array if i > height)\n",
    "\n",
    "print(solution([149, 180, 192, 170], 167))  # 3\n",
    "print(solution([180, 120, 140], 190))       # 0"
   ]
  },
  {
   "cell_type": "code",
   "execution_count": null,
   "metadata": {},
   "outputs": [],
   "source": [
    "# 다른 풀이법\n",
    "def solution(array, height):\n",
    "    array.append(height)\n",
    "    array.sort(reverse=True)\n",
    "    return array.index(height)\n",
    "\n",
    "print(solution([149, 180, 192, 170], 167))  # 3\n",
    "print(solution([180, 120, 140], 190))       # 0"
   ]
  }
 ],
 "metadata": {
  "kernelspec": {
   "display_name": "base",
   "language": "python",
   "name": "python3"
  },
  "language_info": {
   "codemirror_mode": {
    "name": "ipython",
    "version": 3
   },
   "file_extension": ".py",
   "mimetype": "text/x-python",
   "name": "python",
   "nbconvert_exporter": "python",
   "pygments_lexer": "ipython3",
   "version": "3.12.7"
  }
 },
 "nbformat": 4,
 "nbformat_minor": 2
}
