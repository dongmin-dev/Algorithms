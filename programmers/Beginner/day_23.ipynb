{
 "cells": [
  {
   "cell_type": "markdown",
   "metadata": {},
   "source": [
    "### 특이한 정렬\n",
    "\n",
    "- 정수 `n`을 기준으로 `n`과 가까운 수부터 정렬하려고 합니다. 이때 `n`으로부터의 거리가 같다면 더 큰 수를 앞에 오도록 배치합니다. 정수가 담긴 배열 `numlist`와 정수 `n`이 주어질 때 `numlist`의 원소를 `n`으로부터 가까운 순서대로 정렬한 배열을 return하도록 solution 함수를 완성해주세요."
   ]
  },
  {
   "cell_type": "code",
   "execution_count": 1,
   "metadata": {},
   "outputs": [
    {
     "name": "stdout",
     "output_type": "stream",
     "text": [
      "[4, 5, 3, 6, 2, 1]\n",
      "[36, 40, 20, 47, 10, 6, 7000, 10000]\n"
     ]
    }
   ],
   "source": [
    "def solution(numlist, n):\n",
    "    answer = sorted(numlist, key=lambda x: (abs(x-n), n-x))\n",
    "    return answer\n",
    "\n",
    "print(solution([1,2,3,4,5,6], 4))\n",
    "print(solution([10000,20,36,47,40,6,10,7000], 30))"
   ]
  },
  {
   "cell_type": "code",
   "execution_count": 1,
   "metadata": {},
   "outputs": [
    {
     "name": "stdout",
     "output_type": "stream",
     "text": [
      "[4, 5, 3, 6, 2, 1]\n",
      "[36, 40, 20, 47, 10, 6, 7000, 10000]\n"
     ]
    }
   ],
   "source": [
    "def solution(numlist, n):\n",
    "    return sorted(numlist, key=lambda x: (abs(x - n), -x))\n",
    "\n",
    "print(solution([1, 2, 3, 4, 5, 6], 4))              # [4, 5, 3, 6, 2, 1]\n",
    "print(solution([10000,20,36,47,40,6,10,7000], 30))  # [36, 40, 20, 47, 10, 6, 7000, 10000]"
   ]
  },
  {
   "cell_type": "markdown",
   "metadata": {},
   "source": [
    "### 등수 매기기 (HARD)\n",
    "\n",
    "- 영어 점수와 수학 점수의 평균 점수를 기준으로 학생들의 등수를 매기려고 합니다. 영어 점수와 수학 점수를 담은 2차원 정수 배열 `score`가 주어질 때, 영어 점수와 수학 점수의 평균을 기준으로 매긴 등수를 담은 배열을 return하도록 solution 함수를 완성해주세요."
   ]
  },
  {
   "cell_type": "code",
   "execution_count": 2,
   "metadata": {},
   "outputs": [
    {
     "name": "stdout",
     "output_type": "stream",
     "text": [
      "[1, 2, 4, 3]\n",
      "[4, 4, 6, 2, 2, 1, 7]\n"
     ]
    }
   ],
   "source": [
    "def solution(score):\n",
    "    averages = [(s[0] + s[1]) / 2 for s in score]\n",
    "    result = []\n",
    "    for i, avg in enumerate(averages):\n",
    "        higher_count = sum(1 for a in averages if a > avg)\n",
    "        rank = 1 + higher_count\n",
    "        result.append(rank)\n",
    "    return result\n",
    "\n",
    "print(solution([[80, 70], [90, 50], [40, 70], [50, 80]]))                                   # [1, 2, 4, 3]\n",
    "print(solution([[80, 70], [70, 80], [30, 50], [90, 100], [100, 90], [100, 100], [10, 30]])) # [4, 4, 6, 2, 2, 1, 7]"
   ]
  },
  {
   "cell_type": "code",
   "execution_count": 2,
   "metadata": {},
   "outputs": [
    {
     "name": "stdout",
     "output_type": "stream",
     "text": [
      "[1, 2, 4, 3]\n",
      "[4, 4, 6, 2, 2, 1, 7]\n"
     ]
    }
   ],
   "source": [
    "# 다른 풀이법\n",
    "def solution(score):\n",
    "    ref = sorted([sum(i) for i in score], reverse=True)\n",
    "    return [ref.index(sum(i))+1 for i in score]\n",
    "\n",
    "print(solution([[80, 70], [90, 50], [40, 70], [50, 80]]))                                   # [1, 2, 4, 3]\n",
    "print(solution([[80, 70], [70, 80], [30, 50], [90, 100], [100, 90], [100, 100], [10, 30]])) # [4, 4, 6, 2, 2, 1, 7]"
   ]
  },
  {
   "cell_type": "markdown",
   "metadata": {},
   "source": [
    "### 옹알이 (1)\n",
    "\n",
    "- 머쓱이는 태어난 지 6개월 된 조카를 돌보고 있습니다. 조카는 아직 \"aya\", \"ye\", \"woo\", \"ma\" 네 가지 발음을 최대 한 번씩 사용해 조합한(이어 붙인) 발음밖에 하지 못합니다. 문자열 배열 `babbling`이 매개변수로 주어질 때, 머쓱이의 조카가 발음할 수 있는 단어의 개수를 return하도록 solution 함수를 완성해주세요."
   ]
  },
  {
   "cell_type": "code",
   "execution_count": 5,
   "metadata": {},
   "outputs": [
    {
     "name": "stdout",
     "output_type": "stream",
     "text": [
      "1\n",
      "3\n"
     ]
    }
   ],
   "source": [
    "def solution(babbling):\n",
    "    pronounceable_units = [\"aya\", \"ye\", \"woo\", \"ma\"]\n",
    "    answer = 0\n",
    "    \n",
    "    for word in babbling:\n",
    "        for unit in pronounceable_units:\n",
    "            word = word.replace(unit, \"0\")\n",
    "        if all(char == \"0\" for char in word):\n",
    "            answer += 1\n",
    "        \n",
    "    return answer\n",
    "\n",
    "print(solution([\"aya\", \"yee\", \"u\", \"maa\", \"wyeoo\"]))            # 1\n",
    "print(solution([\"ayaye\", \"uuuma\", \"ye\", \"yemawoo\", \"ayaa\"]))    # 3"
   ]
  },
  {
   "cell_type": "code",
   "execution_count": 6,
   "metadata": {},
   "outputs": [
    {
     "name": "stdout",
     "output_type": "stream",
     "text": [
      "1\n",
      "3\n"
     ]
    }
   ],
   "source": [
    "# 다른 풀이법\n",
    "import re\n",
    "\n",
    "def solution(babbling):\n",
    "    regex = re.compile('^(aya|ye|woo|ma)+$')\n",
    "    cnt=0\n",
    "    for e in babbling:\n",
    "        if regex.match(e):\n",
    "            cnt+=1\n",
    "    return cnt\n",
    "\n",
    "print(solution([\"aya\", \"yee\", \"u\", \"maa\", \"wyeoo\"]))            # 1\n",
    "print(solution([\"ayaye\", \"uuuma\", \"ye\", \"yemawoo\", \"ayaa\"]))    # 3"
   ]
  },
  {
   "cell_type": "code",
   "execution_count": 7,
   "metadata": {},
   "outputs": [
    {
     "name": "stdout",
     "output_type": "stream",
     "text": [
      "1\n",
      "3\n"
     ]
    }
   ],
   "source": [
    "# 다른 풀이법\n",
    "def solution(babbling):\n",
    "    c = 0\n",
    "    for b in babbling:\n",
    "        for w in [ \"aya\", \"ye\", \"woo\", \"ma\" ]:\n",
    "            if w * 2 not in b:\n",
    "                b = b.replace(w, ' ')\n",
    "        if len(b.strip()) == 0:\n",
    "            c += 1\n",
    "    return c\n",
    "\n",
    "print(solution([\"aya\", \"yee\", \"u\", \"maa\", \"wyeoo\"]))            # 1\n",
    "print(solution([\"ayaye\", \"uuuma\", \"ye\", \"yemawoo\", \"ayaa\"]))    # 3"
   ]
  },
  {
   "cell_type": "markdown",
   "metadata": {},
   "source": [
    "### 로그인 성공? (HARD)\n",
    "\n",
    "- 머쓱이는 프로그래머스에 로그인하려고 합니다. 머쓱이가 입력한 아이디와 패스워드가 담긴 배열 `id_pw`와 회원들의 정보가 담긴 2차원 배열 `db`가 주어질 때, 다음과 같이 로그인 성공, 실패에 따른 메시지를 return하도록 solution 함수를 완성해주세요.\n",
    "\n",
    "    - 아이디와 비밀번호가 모두 일치하는 회원정보가 있으면 \"login\"을 return합니다.\n",
    "\n",
    "    - 로그인이 실패했을 때 아이디가 일치하는 회원이 없다면 “fail”를, 아이디는 일치하지만 비밀번호가 일치하는 회원이 없다면 “wrong pw”를 return 합니다."
   ]
  },
  {
   "cell_type": "code",
   "execution_count": 8,
   "metadata": {},
   "outputs": [
    {
     "name": "stdout",
     "output_type": "stream",
     "text": [
      "login\n",
      "wrong pw\n",
      "fail\n"
     ]
    }
   ],
   "source": [
    "def solution(id_pw, db):\n",
    "    id, pw = id_pw\n",
    "    \n",
    "    for db_id, db_pw in db:\n",
    "        if db_id == id:\n",
    "            if db_pw == pw:\n",
    "                return \"login\"\n",
    "            return \"wrong pw\"\n",
    "    \n",
    "    return \"fail\"\n",
    "\n",
    "print(solution([\"meosseugi\", \"1234\"], [[\"rardss\", \"123\"], [\"yyoom\", \"1234\"], [\"meosseugi\", \"1234\"]]))                       # \"login\"\n",
    "print(solution([\"programmer01\", \"15789\"], [[\"programmer02\", \"111111\"], [\"programmer00\", \"134\"], [\"programmer01\", \"1145\"]])) # \"wrong pw\"\n",
    "print(solution([\"rabbit04\", \"98761\"], [[\"jaja11\", \"98761\"], [\"krong0313\", \"29440\"], [\"rabbit00\", \"111333\"]]))               # \"fail\""
   ]
  },
  {
   "cell_type": "code",
   "execution_count": 9,
   "metadata": {},
   "outputs": [
    {
     "name": "stdout",
     "output_type": "stream",
     "text": [
      "login\n",
      "wrong pw\n",
      "fail\n"
     ]
    }
   ],
   "source": [
    "# 다른 풀이법\n",
    "# 좋은 풀이법 (바다코끼리 연산자)\n",
    "def solution(id_pw, db):\n",
    "    if db_pw := dict(db).get(id_pw[0]):\n",
    "        return \"login\" if db_pw == id_pw[1] else \"wrong pw\"\n",
    "    return \"fail\"\n",
    "\n",
    "print(solution([\"meosseugi\", \"1234\"], [[\"rardss\", \"123\"], [\"yyoom\", \"1234\"], [\"meosseugi\", \"1234\"]]))                       # \"login\"\n",
    "print(solution([\"programmer01\", \"15789\"], [[\"programmer02\", \"111111\"], [\"programmer00\", \"134\"], [\"programmer01\", \"1145\"]])) # \"wrong pw\"\n",
    "print(solution([\"rabbit04\", \"98761\"], [[\"jaja11\", \"98761\"], [\"krong0313\", \"29440\"], [\"rabbit00\", \"111333\"]]))               # \"fail\""
   ]
  }
 ],
 "metadata": {
  "kernelspec": {
   "display_name": "base",
   "language": "python",
   "name": "python3"
  },
  "language_info": {
   "codemirror_mode": {
    "name": "ipython",
    "version": 3
   },
   "file_extension": ".py",
   "mimetype": "text/x-python",
   "name": "python",
   "nbconvert_exporter": "python",
   "pygments_lexer": "ipython3",
   "version": "3.12.7"
  }
 },
 "nbformat": 4,
 "nbformat_minor": 2
}
