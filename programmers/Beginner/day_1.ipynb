{
 "cells": [
  {
   "cell_type": "markdown",
   "metadata": {},
   "source": [
    "### 두 수의 합\n",
    "\n",
    "- 정수 `num1`과 `num2`가 주어질 때, `num1`과 `num2`의 합을 return하도록 soltuion 함수를 완성해주세요."
   ]
  },
  {
   "cell_type": "code",
   "execution_count": null,
   "metadata": {},
   "outputs": [
    {
     "name": "stdout",
     "output_type": "stream",
     "text": [
      "5\n",
      "102\n"
     ]
    }
   ],
   "source": [
    "def solution(num1, num2):\n",
    "    return num1 + num2\n",
    "\n",
    "print(solution(2, 3))   # 5\n",
    "print(solution(100, 2)) # 102\n",
    "\n",
    "# 다른 풀이법\n",
    "solution2=lambda *x:sum(x)"
   ]
  },
  {
   "cell_type": "markdown",
   "metadata": {},
   "source": [
    "### 두 수의 차\n",
    "\n",
    "- 정수 `num1`과 `num2`가 주어질 때, `num1`에서 `num2`를 뺀 값을 return하도록 soltuion 함수를 완성해주세요."
   ]
  },
  {
   "cell_type": "code",
   "execution_count": null,
   "metadata": {},
   "outputs": [
    {
     "name": "stdout",
     "output_type": "stream",
     "text": [
      "-1\n",
      "98\n"
     ]
    }
   ],
   "source": [
    "def solution(num1, num2):\n",
    "    return num1 - num2\n",
    "\n",
    "print(solution(2, 3))   # -1\n",
    "print(solution(100, 2)) # 98\n",
    "\n",
    "# 다른 풀이법\n",
    "solution2 = lambda num1, num2 : num1 - num2"
   ]
  },
  {
   "cell_type": "markdown",
   "metadata": {},
   "source": [
    "### 두 수의 곱\n",
    "\n",
    "- 정수 `num1`, `num2`가 매개변수 주어집니다. `num1`과 `num2`를 곱한 값을 return 하도록 solution 함수를 완성해주세요."
   ]
  },
  {
   "cell_type": "code",
   "execution_count": null,
   "metadata": {},
   "outputs": [
    {
     "name": "stdout",
     "output_type": "stream",
     "text": [
      "12\n",
      "513\n"
     ]
    }
   ],
   "source": [
    "def solution(num1, num2):\n",
    "    return num1 * num2\n",
    "\n",
    "print(solution(3, 4))   # 12\n",
    "print(solution(27, 19)) # 513\n",
    "\n",
    "# 다른 풀이법\n",
    "solution2 = lambda num1, num2 : num1 * num2"
   ]
  },
  {
   "cell_type": "markdown",
   "metadata": {},
   "source": [
    "### 몫 구하기\n",
    "\n",
    "- 정수 `num1`, `num2`가 매개변수로 주어질 때, `num1`을 `num2`로 나눈 몫을 return 하도록 solution 함수를 완성해주세요."
   ]
  },
  {
   "cell_type": "code",
   "execution_count": null,
   "metadata": {},
   "outputs": [
    {
     "name": "stdout",
     "output_type": "stream",
     "text": [
      "2\n",
      "3\n"
     ]
    }
   ],
   "source": [
    "def solution(num1, num2):\n",
    "    return num1 // num2\n",
    "\n",
    "print(solution(10, 5))  # 2\n",
    "print(solution(7, 2))   # 3\n",
    "\n",
    "# 다른 풀이법\n",
    "solution2 = int.__floordiv__\n",
    "\n",
    "# 다른 풀이법\n",
    "def solution3(num1, num2):\n",
    "    return divmod(num1, num2)[0]"
   ]
  }
 ],
 "metadata": {
  "kernelspec": {
   "display_name": "base",
   "language": "python",
   "name": "python3"
  },
  "language_info": {
   "codemirror_mode": {
    "name": "ipython",
    "version": 3
   },
   "file_extension": ".py",
   "mimetype": "text/x-python",
   "name": "python",
   "nbconvert_exporter": "python",
   "pygments_lexer": "ipython3",
   "version": "3.12.7"
  }
 },
 "nbformat": 4,
 "nbformat_minor": 2
}
