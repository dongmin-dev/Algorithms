{
 "cells": [
  {
   "cell_type": "markdown",
   "metadata": {},
   "source": [
    "### 나머지 구하기\n",
    "\n",
    "-  정수 `num1`, `num2`가 매개변수로 주어질 때, `num1`를 `num2`로 나눈 나머지를 return 하도록 solution 함수를 완성해주세요."
   ]
  },
  {
   "cell_type": "code",
   "execution_count": null,
   "metadata": {},
   "outputs": [
    {
     "name": "stdout",
     "output_type": "stream",
     "text": [
      "1\n",
      "0\n"
     ]
    }
   ],
   "source": [
    "def solution(num1, num2):\n",
    "    return num1 % num2\n",
    "\n",
    "print(solution(3, 2))   # 1\n",
    "print(solution(10, 5))  # 0\n",
    "\n",
    "# 다른 풀이법\n",
    "def solution2(num1, num2):\n",
    "    while num1 >= num2:\n",
    "        num1 -= num2\n",
    "    return num1\n",
    "\n",
    "# 다른 풀이법\n",
    "def solution3(num1, num2):\n",
    "    return divmod(num1, num2)[1]"
   ]
  },
  {
   "cell_type": "markdown",
   "metadata": {},
   "source": [
    "### 중앙값 구하기\n",
    "\n",
    "- 중앙값은 어떤 주어진 값들을 크기의 순서대로 정렬했을 때 가장 중앙에 위치하는 값을 의미합니다. 예를 들어 1, 2, 7, 10, 11의 중앙값은 7입니다. 정수 배열 `array`가 매개변수로 주어질 때, 중앙값을 return 하도록 solution 함수를 완성해보세요."
   ]
  },
  {
   "cell_type": "code",
   "execution_count": 7,
   "metadata": {},
   "outputs": [
    {
     "name": "stdout",
     "output_type": "stream",
     "text": [
      "7\n",
      "0\n"
     ]
    }
   ],
   "source": [
    "def solution(array):\n",
    "    array.sort()\n",
    "    return array[len(array) // 2]\n",
    "\n",
    "print(solution([1, 2, 7, 10, 11]))  # 7\n",
    "print(solution([9, -1, 0]))         # 0\n",
    "\n",
    "# 코드 구조 개선\n",
    "def solution2(array):\n",
    "    return sorted(array)[len(array) // 2]"
   ]
  },
  {
   "cell_type": "markdown",
   "metadata": {},
   "source": [
    "### 최빈값 구하기 (HARD)\n",
    "\n",
    "- 최빈값은 주어진 값 중에서 가장 자주 나오는 값을 의미합니다. 정수 배열 `array`가 매개변수로 주어질 때, 최빈값을 return 하도록 solution 함수를 완성해보세요. 최빈값이 여러 개면 -1을 return 합니다."
   ]
  },
  {
   "cell_type": "code",
   "execution_count": 21,
   "metadata": {},
   "outputs": [
    {
     "name": "stdout",
     "output_type": "stream",
     "text": [
      "3\n",
      "-1\n",
      "1\n"
     ]
    }
   ],
   "source": [
    "from collections import Counter\n",
    "\n",
    "def solution(array):\n",
    "    count = Counter(array).most_common()\n",
    "    if len(count) == 1:\n",
    "        return count[0][0]\n",
    "    elif count[0][1] == count[1][1]:\n",
    "        return -1\n",
    "    return count[0][0]\n",
    "\n",
    "print(solution([1, 2, 3, 3, 3, 4])) # 3\n",
    "print(solution([1, 1, 2, 2]))       # -1\n",
    "print(solution([1]))                # 1\n",
    "\n",
    "# 다른 풀이법\n",
    "def solution2(array):\n",
    "    while len(array) != 0:\n",
    "        for i, a in enumerate(set(array)):\n",
    "            array.remove(a)\n",
    "        if i == 0: return a\n",
    "    return -1\n",
    "\n",
    "# 다른 풀이법\n",
    "def solution3(array):\n",
    "    idx = [0] * 1001\n",
    "    for i in array:\n",
    "        idx[i] +=1\n",
    "    if idx.count(max(idx)) >1:\n",
    "        return -1\n",
    "    return idx.index(max(idx))\n",
    "\n",
    "# 다른 풀이법\n",
    "from collections import defaultdict\n",
    "\n",
    "def solution4(array):\n",
    "    count = defaultdict(int)\n",
    "    for num in array:\n",
    "        count[num] += 1\n",
    "    max_count = max(count.values())\n",
    "    mode = [k for k, v in count.items() if v == max_count]\n",
    "    if len(mode) > 1:\n",
    "        return -1\n",
    "    return mode[0]"
   ]
  },
  {
   "cell_type": "markdown",
   "metadata": {},
   "source": [
    "### 짝수는 싫어요\n",
    "\n",
    "- 정수 `n`이 매개변수로 주어질 때, `n` 이하의 홀수가 오름차순으로 담긴 배열을 return하도록 solution 함수를 완성해주세요."
   ]
  },
  {
   "cell_type": "code",
   "execution_count": null,
   "metadata": {},
   "outputs": [
    {
     "name": "stdout",
     "output_type": "stream",
     "text": [
      "[1, 3, 5, 7, 9]\n",
      "[1, 3, 5, 7, 9, 11, 13, 15]\n"
     ]
    }
   ],
   "source": [
    "def solution(n):\n",
    "    return [i for i in range(n+1) if i % 2 != 0]\n",
    "\n",
    "print(solution(10)) # [1, 3, 5, 7, 9]\n",
    "print(solution(15)) # [1, 3, 5, 7, 9, 11, 13, 15]\n",
    "\n",
    "# 다른 풀이법\n",
    "def solution2(n):\n",
    "    return [i for i in range(1, n+1, 2)]\n",
    "\n",
    "# 다른 풀이법\n",
    "def solution3(n):\n",
    "    return list(range(1, n+1, 2))"
   ]
  }
 ],
 "metadata": {
  "kernelspec": {
   "display_name": "base",
   "language": "python",
   "name": "python3"
  },
  "language_info": {
   "codemirror_mode": {
    "name": "ipython",
    "version": 3
   },
   "file_extension": ".py",
   "mimetype": "text/x-python",
   "name": "python",
   "nbconvert_exporter": "python",
   "pygments_lexer": "ipython3",
   "version": "3.12.7"
  }
 },
 "nbformat": 4,
 "nbformat_minor": 2
}
