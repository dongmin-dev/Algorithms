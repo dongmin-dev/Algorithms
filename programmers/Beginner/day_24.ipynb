{
 "cells": [
  {
   "cell_type": "markdown",
   "metadata": {},
   "source": [
    "### 치킨 쿠폰\n",
    "\n",
    "- 프로그래머스 치킨은 치킨을 시켜먹으면 한 마리당 쿠폰을 한 장 발급합니다. 쿠폰을 열 장 모으면 치킨을 한 마리 서비스로 받을 수 있고, 서비스 치킨에도 쿠폰이 발급됩니다. 시켜먹은 치킨의 수 `chicken`이 매개변수로 주어질 때 받을 수 있는 최대 서비스 치킨의 수를 return하도록 solution 함수를 완성해주세요."
   ]
  },
  {
   "cell_type": "code",
   "execution_count": 6,
   "metadata": {},
   "outputs": [
    {
     "name": "stdout",
     "output_type": "stream",
     "text": [
      "11\n",
      "120\n"
     ]
    }
   ],
   "source": [
    "def solution(chicken):\n",
    "    answer = 0\n",
    "    \n",
    "    while True:\n",
    "        service = chicken // 10\n",
    "        answer += service\n",
    "        chicken = service + int(chicken % 10)\n",
    "        \n",
    "        if chicken // 10 == 0:\n",
    "            break\n",
    "    \n",
    "    return answer\n",
    "\n",
    "print(solution(100))    # 11\n",
    "print(solution(1081))   # 120"
   ]
  },
  {
   "cell_type": "code",
   "execution_count": 7,
   "metadata": {},
   "outputs": [
    {
     "name": "stdout",
     "output_type": "stream",
     "text": [
      "11\n",
      "120\n"
     ]
    }
   ],
   "source": [
    "# 다른 풀이법\n",
    "def solution(chicken):\n",
    "    return int(chicken*0.11111111111)\n",
    "\n",
    "print(solution(100))    # 11\n",
    "print(solution(1081))   # 120"
   ]
  },
  {
   "cell_type": "code",
   "execution_count": 8,
   "metadata": {},
   "outputs": [
    {
     "name": "stdout",
     "output_type": "stream",
     "text": [
      "11\n",
      "120\n"
     ]
    }
   ],
   "source": [
    "# 다른 풀이법\n",
    "def solution(chicken):\n",
    "    answer = 0\n",
    "    coupon = chicken\n",
    "    \n",
    "    while coupon >= 10:\n",
    "        # 현재 쿠폰으로 받을 수 있는 서비스 치킨 수\n",
    "        service = coupon // 10\n",
    "        # 서비스 치킨 수를 정답에 더함\n",
    "        answer += service\n",
    "        # 남은 쿠폰 = 사용하고 남은 쿠폰 + 서비스 치킨으로 받은 쿠폰\n",
    "        coupon = (coupon % 10) + service\n",
    "    \n",
    "    return answer\n",
    "\n",
    "# 테스트\n",
    "print(solution(100))    # 11\n",
    "print(solution(1081))   # 120"
   ]
  },
  {
   "cell_type": "code",
   "execution_count": 9,
   "metadata": {},
   "outputs": [
    {
     "name": "stdout",
     "output_type": "stream",
     "text": [
      "11\n",
      "120\n"
     ]
    }
   ],
   "source": [
    "# 다른 풀이법\n",
    "def solution(chicken):\n",
    "    answer = (max(chicken,1)-1)//9\n",
    "    return answer\n",
    "\n",
    "print(solution(100))    # 11\n",
    "print(solution(1081))   # 120"
   ]
  },
  {
   "cell_type": "code",
   "execution_count": 10,
   "metadata": {},
   "outputs": [
    {
     "name": "stdout",
     "output_type": "stream",
     "text": [
      "11\n",
      "120\n"
     ]
    }
   ],
   "source": [
    "# 다른 풀이법\n",
    "def solution(chicken):\n",
    "    answer = 0\n",
    "    while chicken >= 10:\n",
    "        chicken, mod = divmod(chicken, 10)\n",
    "        answer += chicken\n",
    "        chicken += mod\n",
    "    return answer\n",
    "\n",
    "print(solution(100))    # 11\n",
    "print(solution(1081))   # 120"
   ]
  },
  {
   "cell_type": "markdown",
   "metadata": {},
   "source": [
    "### 이진수 더하기\n",
    "\n",
    "- 이진수를 의미하는 두 개의 문자열 `bin1`과 `bin2`가 매개변수로 주어질 때, 두 이진수의 합을 return하도록 solution 함수를 완성해주세요."
   ]
  },
  {
   "cell_type": "code",
   "execution_count": 3,
   "metadata": {},
   "outputs": [
    {
     "name": "stdout",
     "output_type": "stream",
     "text": [
      "101\n",
      "11000\n"
     ]
    }
   ],
   "source": [
    "def solution(bin1, bin2):\n",
    "    answer = bin(int(bin1, 2) + int(bin2, 2))[2:]\n",
    "    return answer\n",
    "\n",
    "print(solution(\"10\", \"11\"))     # 101\n",
    "print(solution(\"1001\", \"1111\")) # 11000"
   ]
  },
  {
   "cell_type": "code",
   "execution_count": null,
   "metadata": {},
   "outputs": [],
   "source": []
  }
 ],
 "metadata": {
  "kernelspec": {
   "display_name": "base",
   "language": "python",
   "name": "python3"
  },
  "language_info": {
   "codemirror_mode": {
    "name": "ipython",
    "version": 3
   },
   "file_extension": ".py",
   "mimetype": "text/x-python",
   "name": "python",
   "nbconvert_exporter": "python",
   "pygments_lexer": "ipython3",
   "version": "3.12.7"
  }
 },
 "nbformat": 4,
 "nbformat_minor": 2
}
