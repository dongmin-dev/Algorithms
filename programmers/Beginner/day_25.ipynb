{
 "cells": [
  {
   "cell_type": "markdown",
   "metadata": {},
   "source": [
    "### 문자열 밀기\n",
    "\n",
    "- 문자열 \"hello\"에서 각 문자를 오른쪽으로 한 칸씩 밀고 마지막 문자는 맨 앞으로 이동시키면 \"ohell\"이 됩니다. 이것을 문자열을 민다고 정의한다면 문자열 `A`와 `B`가 매개변수로 주어질 때, `A`를 밀어서 `B`가 될 수 있다면 밀어야 하는 최소 횟수를 return하고 밀어서 `B`가 될 수 없으면 -1을 return 하도록 solution 함수를 완성해보세요."
   ]
  },
  {
   "cell_type": "code",
   "execution_count": 1,
   "metadata": {},
   "outputs": [
    {
     "name": "stdout",
     "output_type": "stream",
     "text": [
      "1\n",
      "-1\n",
      "1\n",
      "0\n"
     ]
    }
   ],
   "source": [
    "from collections import deque\n",
    "\n",
    "def solution(A, B):\n",
    "    answer = 0\n",
    "    A = deque(A)\n",
    "    B = deque(B)\n",
    "    \n",
    "    for _ in range(len(A)):\n",
    "        if A == B:\n",
    "            return answer\n",
    "        A.rotate(1)\n",
    "        answer += 1\n",
    "    \n",
    "    return -1\n",
    "\n",
    "print(solution(\"hello\", \"ohell\"))   # 1\n",
    "print(solution(\"apple\", \"elppa\"))   # -1\n",
    "print(solution(\"atat\", \"tata\"))     # 1\n",
    "print(solution(\"abc\", \"abc\"))       # 0"
   ]
  },
  {
   "cell_type": "code",
   "execution_count": 2,
   "metadata": {},
   "outputs": [
    {
     "name": "stdout",
     "output_type": "stream",
     "text": [
      "1\n",
      "-1\n",
      "1\n",
      "0\n"
     ]
    }
   ],
   "source": [
    "# 다른 풀이법\n",
    "solution=lambda a,b:(b*2).find(a)\n",
    "\n",
    "print(solution(\"hello\", \"ohell\"))   # 1\n",
    "print(solution(\"apple\", \"elppa\"))   # -1\n",
    "print(solution(\"atat\", \"tata\"))     # 1\n",
    "print(solution(\"abc\", \"abc\"))       # 0"
   ]
  },
  {
   "cell_type": "markdown",
   "metadata": {},
   "source": [
    "### 종이 자르기\n",
    "\n",
    "- 머쓱이는 큰 종이를 1 x 1 크기로 자르려고 합니다. 예를 들어 2 x 2 크기의 종이를 1 x 1 크기로 자르려면 최소 가위질 세 번이 필요합니다.\n",
    "\n",
    "![종이 자르기](../assets/종이자르기.png)\n",
    "\n",
    "- 정수 `M`, `N`이 매개변수로 주어질 때, `M` x `N` 크기의 종이를 최소로 가위질 해야하는 횟수를 return 하도록 solution 함수를 완성해보세요.\n",
    "\n",
    "#### 제한사항\n",
    "\n",
    "- 0 < `M`, `N` < 100\n",
    "\n",
    "- 종이를 겹쳐서 자를 수 없습니다."
   ]
  },
  {
   "cell_type": "code",
   "execution_count": 4,
   "metadata": {},
   "outputs": [
    {
     "name": "stdout",
     "output_type": "stream",
     "text": [
      "3\n",
      "9\n",
      "0\n"
     ]
    }
   ],
   "source": [
    "def solution(M, N):\n",
    "    answer = 0\n",
    "    answer += (M-1) + M*(N-1)\n",
    "    return answer\n",
    "\n",
    "print(solution(2, 2))   # 3\n",
    "print(solution(2, 5))   # 9\n",
    "print(solution(1, 1))   # 0"
   ]
  },
  {
   "cell_type": "code",
   "execution_count": 5,
   "metadata": {},
   "outputs": [
    {
     "name": "stdout",
     "output_type": "stream",
     "text": [
      "3\n",
      "9\n",
      "0\n"
     ]
    }
   ],
   "source": [
    "# 코드 구조 개선\n",
    "def solution(M, N):\n",
    "    return M * N - 1\n",
    "\n",
    "print(solution(2, 2))   # 3\n",
    "print(solution(2, 5))   # 9\n",
    "print(solution(1, 1))   # 0"
   ]
  },
  {
   "cell_type": "code",
   "execution_count": 6,
   "metadata": {},
   "outputs": [
    {
     "name": "stdout",
     "output_type": "stream",
     "text": [
      "3\n",
      "9\n",
      "0\n"
     ]
    }
   ],
   "source": [
    "# 다른 풀이법\n",
    "def get_cut_cnt_dfs(width, height):\n",
    "    width, height = min(width, height), max(width, height)\n",
    "\n",
    "    if width == 1 and height == 1:\n",
    "        return 0\n",
    "\n",
    "    return 1 + get_cut_cnt_dfs(width, height//2) + get_cut_cnt_dfs(width, height-height//2)\n",
    "\n",
    "def solution(M, N):\n",
    "    return get_cut_cnt_dfs(M, N)\n",
    "\n",
    "print(solution(2, 2))   # 3\n",
    "print(solution(2, 5))   # 9\n",
    "print(solution(1, 1))   # 0"
   ]
  },
  {
   "cell_type": "markdown",
   "metadata": {},
   "source": [
    "### 연속된 수의 합 (HARD)\n",
    "\n",
    "- 연속된 세 개의 정수를 더해 12가 되는 경우는 3, 4, 5입니다. 두 정수 `num`과 `total`이 주어집니다. 연속된 수 `num`개를 더한 값이 `total`이 될 때, 정수 배열을 오름차순으로 담아 return하도록 solution함수를 완성해보세요."
   ]
  },
  {
   "cell_type": "code",
   "execution_count": 14,
   "metadata": {},
   "outputs": [
    {
     "name": "stdout",
     "output_type": "stream",
     "text": [
      "[3, 4, 5]\n",
      "[1, 2, 3, 4, 5]\n",
      "[2, 3, 4, 5]\n",
      "[-1, 0, 1, 2, 3]\n"
     ]
    }
   ],
   "source": [
    "def solution(num, total):\n",
    "    answer = []\n",
    "    # 중간값 계산 보정\n",
    "    mid = total / num\n",
    "    # 시작 숫자 계산\n",
    "    start = int(mid - (num - 1) / 2)\n",
    "    \n",
    "    # 연속된 숫자 생성\n",
    "    for i in range(num):\n",
    "        answer.append(start + i)\n",
    "        \n",
    "    return answer\n",
    "\n",
    "print(solution(3, 12))  # [3, 4, 5]\n",
    "print(solution(5, 15))  # [1, 2, 3, 4, 5]\n",
    "print(solution(4, 14))  # [2, 3, 4, 5]\n",
    "print(solution(5, 5))   # [-1, 0, 1, 2, 3]"
   ]
  },
  {
   "cell_type": "code",
   "execution_count": 12,
   "metadata": {},
   "outputs": [
    {
     "name": "stdout",
     "output_type": "stream",
     "text": [
      "[3, 4, 5]\n",
      "[1, 2, 3, 4, 5]\n",
      "[2, 3, 4, 5]\n",
      "[-1, 0, 1, 2, 3]\n"
     ]
    }
   ],
   "source": [
    "# 풀이법 by Claude 3.5 Sonnet\n",
    "def solution(num, total):\n",
    "    answer = []\n",
    "    mid = total // num\n",
    "    \n",
    "    if num % 2 == 0:  # num이 짝수일 때\n",
    "        start = mid - (num//2 - 1)\n",
    "        answer = [i for i in range(start, start + num)]\n",
    "    else:  # num이 홀수일 때\n",
    "        start = mid - num//2\n",
    "        answer = [i for i in range(start, start + num)]\n",
    "        \n",
    "    return answer\n",
    "\n",
    "print(solution(3, 12))  # [3, 4, 5]\n",
    "print(solution(5, 15))  # [1, 2, 3, 4, 5]\n",
    "print(solution(4, 14))  # [2, 3, 4, 5]\n",
    "print(solution(5, 5))   # [-1, 0, 1, 2, 3]"
   ]
  },
  {
   "cell_type": "code",
   "execution_count": 15,
   "metadata": {},
   "outputs": [
    {
     "name": "stdout",
     "output_type": "stream",
     "text": [
      "[3, 4, 5]\n",
      "[1, 2, 3, 4, 5]\n",
      "[2, 3, 4, 5]\n",
      "[-1, 0, 1, 2, 3]\n"
     ]
    }
   ],
   "source": [
    "# 다른 풀이법\n",
    "def solution(num, total):\n",
    "    return [(total - (num * (num - 1) // 2)) // num + i for i in range(num)]\n",
    "\n",
    "print(solution(3, 12))  # [3, 4, 5]\n",
    "print(solution(5, 15))  # [1, 2, 3, 4, 5]\n",
    "print(solution(4, 14))  # [2, 3, 4, 5]\n",
    "print(solution(5, 5))   # [-1, 0, 1, 2, 3]"
   ]
  },
  {
   "cell_type": "code",
   "execution_count": 16,
   "metadata": {},
   "outputs": [
    {
     "name": "stdout",
     "output_type": "stream",
     "text": [
      "[3, 4, 5]\n",
      "[1, 2, 3, 4, 5]\n",
      "[2, 3, 4, 5]\n",
      "[-1, 0, 1, 2, 3]\n"
     ]
    }
   ],
   "source": [
    "# 다른 풀이법\n",
    "def solution(num, total):\n",
    "    answer = []\n",
    "    var = sum(range(num+1))\n",
    "    diff = total - var\n",
    "    start_num = diff//num\n",
    "    answer = [i+1+start_num for i in range(num)]\n",
    "    return answer\n",
    "\n",
    "print(solution(3, 12))  # [3, 4, 5]\n",
    "print(solution(5, 15))  # [1, 2, 3, 4, 5]\n",
    "print(solution(4, 14))  # [2, 3, 4, 5]\n",
    "print(solution(5, 5))   # [-1, 0, 1, 2, 3]"
   ]
  },
  {
   "cell_type": "markdown",
   "metadata": {},
   "source": [
    "### 다음에 올 숫자\n",
    "\n",
    "- 등차수열 혹은 등비수열 `common`이 매개변수로 주어질 때, 마지막 원소 다음으로 올 숫자를 return 하도록 solution 함수를 완성해보세요."
   ]
  },
  {
   "cell_type": "code",
   "execution_count": 19,
   "metadata": {},
   "outputs": [
    {
     "name": "stdout",
     "output_type": "stream",
     "text": [
      "5\n",
      "16\n"
     ]
    }
   ],
   "source": [
    "def solution(common):\n",
    "    answer = 0\n",
    "    diff1 = common[1] - common[0]\n",
    "    diff2 = common[2] - common[1]\n",
    "    \n",
    "    if diff1 == diff2:\n",
    "        answer = common[-1] + diff1\n",
    "    else:\n",
    "        ratio = common[1] / common[0]\n",
    "        answer = int(common[-1] * ratio)\n",
    "    \n",
    "    return answer\n",
    "\n",
    "print(solution([1, 2, 3, 4]))   # 5\n",
    "print(solution([2, 4, 8]))      # 16"
   ]
  },
  {
   "cell_type": "code",
   "execution_count": 20,
   "metadata": {},
   "outputs": [
    {
     "name": "stdout",
     "output_type": "stream",
     "text": [
      "5\n",
      "16\n"
     ]
    }
   ],
   "source": [
    "# 다른 풀이법\n",
    "def solution(common):\n",
    "    answer = 0\n",
    "    a,b,c = common[:3]\n",
    "    if (b-a) == (c-b):\n",
    "        return common[-1]+(b-a)\n",
    "    else:\n",
    "        return common[-1] * (b//a)\n",
    "    return answer\n",
    "\n",
    "print(solution([1, 2, 3, 4]))   # 5\n",
    "print(solution([2, 4, 8]))      # 16"
   ]
  }
 ],
 "metadata": {
  "kernelspec": {
   "display_name": "base",
   "language": "python",
   "name": "python3"
  },
  "language_info": {
   "codemirror_mode": {
    "name": "ipython",
    "version": 3
   },
   "file_extension": ".py",
   "mimetype": "text/x-python",
   "name": "python",
   "nbconvert_exporter": "python",
   "pygments_lexer": "ipython3",
   "version": "3.12.7"
  }
 },
 "nbformat": 4,
 "nbformat_minor": 2
}
