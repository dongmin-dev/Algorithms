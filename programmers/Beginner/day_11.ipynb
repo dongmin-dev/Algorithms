{
 "cells": [
  {
   "cell_type": "markdown",
   "metadata": {},
   "source": [
    "### 주사위의 개수\n",
    "\n",
    "- 머쓱이는 직육면체 모양의 상자를 하나 가지고 있는데 이 상자에 정육면체 모양의 주사위를 최대한 많이 채우고 싶습니다. 상자의 가로, 세로, 높이가 저장되어있는 배열 `box`와 주사위 모서리의 길이 정수 `n`이 매개변수로 주어졌을 때, 상자에 들어갈 수 있는 주사위의 최대 개수를 return 하도록 solution 함수를 완성해주세요."
   ]
  },
  {
   "cell_type": "code",
   "execution_count": null,
   "metadata": {},
   "outputs": [
    {
     "name": "stdout",
     "output_type": "stream",
     "text": [
      "1\n",
      "12\n"
     ]
    }
   ],
   "source": [
    "def solution(box, n):\n",
    "    answer = 1\n",
    "    arr = [i // n for i in box]\n",
    "    \n",
    "    for element in arr:\n",
    "        answer *= element \n",
    "    \n",
    "    return answer\n",
    "\n",
    "print(solution([1, 1, 1], 1))   # 1\n",
    "print(solution([10, 8, 6], 3))  # 12"
   ]
  },
  {
   "cell_type": "code",
   "execution_count": null,
   "metadata": {},
   "outputs": [],
   "source": [
    "# 코드 구조 개선\n",
    "def solution(box, n):\n",
    "    answer = 1\n",
    "    for b in box:\n",
    "        answer *= b // n\n",
    "    return answer"
   ]
  },
  {
   "cell_type": "code",
   "execution_count": null,
   "metadata": {},
   "outputs": [],
   "source": [
    "# 코드 구조 개선\n",
    "def solution(box, n):\n",
    "    x, y, z = box\n",
    "    return (x // n) * (y // n) * (z // n )"
   ]
  },
  {
   "cell_type": "code",
   "execution_count": null,
   "metadata": {},
   "outputs": [],
   "source": [
    "# 다른 풀이법\n",
    "import math\n",
    "\n",
    "def solution(box, n):\n",
    "    return math.prod(map(lambda v: v//n, box))"
   ]
  },
  {
   "cell_type": "markdown",
   "metadata": {},
   "source": [
    "### 합성수 찾기\n",
    "\n",
    "- 약수의 개수가 세 개 이상인 수를 합성수라고 합니다. 자연수 `n`이 매개변수로 주어질 때 `n`이하의 합성수의 개수를 return하도록 solution 함수를 완성해주세요."
   ]
  },
  {
   "cell_type": "code",
   "execution_count": 5,
   "metadata": {},
   "outputs": [
    {
     "name": "stdout",
     "output_type": "stream",
     "text": [
      "5\n",
      "8\n"
     ]
    }
   ],
   "source": [
    "def solution(n):\n",
    "    answer = 0\n",
    "    \n",
    "    for num in range(1, n+1):\n",
    "        divisor = [i for i in range(1, num+1) if num % i == 0]\n",
    "        if len(divisor) >= 3:\n",
    "            answer += 1\n",
    "    \n",
    "    return answer\n",
    "\n",
    "print(solution(10)) # 5\n",
    "print(solution(15)) # 8"
   ]
  },
  {
   "cell_type": "code",
   "execution_count": null,
   "metadata": {},
   "outputs": [],
   "source": [
    "# 다른 풀이법\n",
    "def solution(n):\n",
    "    output = 0\n",
    "    for i in range(4, n + 1):\n",
    "        for j in range(2, int(i ** 0.5) + 1):\n",
    "            if i % j == 0:\n",
    "                output += 1\n",
    "                break\n",
    "    return output"
   ]
  },
  {
   "cell_type": "code",
   "execution_count": null,
   "metadata": {},
   "outputs": [],
   "source": [
    "# 다른 풀이법\n",
    "def get_divisors(n):\n",
    "    return list(filter(lambda v: n % v ==0, range(1, n+1)))\n",
    "\n",
    "def solution(n):\n",
    "    return len(list(filter(lambda v: len(get_divisors(v)) >= 3, range(1, n+1))))"
   ]
  },
  {
   "cell_type": "markdown",
   "metadata": {},
   "source": [
    "### 최댓값 만들기 (1)\n",
    "\n",
    "- 정수 배열 `numbers`가 매개변수로 주어집니다. `numbers`의 원소 중 두 개를 곱해 만들 수 있는 최댓값을 return하도록 solution 함수를 완성해주세요."
   ]
  },
  {
   "cell_type": "code",
   "execution_count": 2,
   "metadata": {},
   "outputs": [
    {
     "name": "stdout",
     "output_type": "stream",
     "text": [
      "20\n",
      "744\n"
     ]
    }
   ],
   "source": [
    "def solution(numbers):\n",
    "    arr = sorted(numbers, reverse=True)\n",
    "    return arr[0] * arr[1]\n",
    "\n",
    "print(solution([1, 2, 3, 4, 5]))        # 20\n",
    "print(solution([0, 31, 24, 10, 1, 9]))  # 744"
   ]
  },
  {
   "cell_type": "markdown",
   "metadata": {},
   "source": [
    "### 팩토리얼\n",
    "\n",
    "- `i`팩토리얼 (i!)은 1부터 i까지 정수의 곱을 의미합니다. 예를들어 5! = 5 * 4 * 3 * 2 * 1 = 120 입니다. 정수 n이 주어질 때 다음 조건을 만족하는 가장 큰 정수 i를 return 하도록 solution 함수를 완성해주세요.\n",
    "\n",
    "    - i! ≤ n"
   ]
  },
  {
   "cell_type": "code",
   "execution_count": 10,
   "metadata": {},
   "outputs": [
    {
     "name": "stdout",
     "output_type": "stream",
     "text": [
      "10\n",
      "3\n"
     ]
    }
   ],
   "source": [
    "from math import factorial\n",
    "\n",
    "def solution(n):\n",
    "    i = 1\n",
    "    \n",
    "    while factorial(i) <= n:\n",
    "        i += 1\n",
    "    \n",
    "    return i-1\n",
    "\n",
    "print(solution(3628800))    # 10\n",
    "print(solution(7))          # 3"
   ]
  },
  {
   "cell_type": "code",
   "execution_count": null,
   "metadata": {},
   "outputs": [],
   "source": [
    "# 다른 접근법\n",
    "def solution(n):\n",
    "    answer = 1\n",
    "    factorial = 1\n",
    "    while factorial <= n:\n",
    "        answer += 1\n",
    "        factorial = factorial * answer\n",
    "    answer -= 1\n",
    "    return answer"
   ]
  },
  {
   "cell_type": "code",
   "execution_count": null,
   "metadata": {},
   "outputs": [],
   "source": [
    "# 다른 풀이법\n",
    "def solution(n):\n",
    "    divider=0\n",
    "    while 1:\n",
    "        divider+=1\n",
    "        if n/divider < 1:\n",
    "            break\n",
    "        else:\n",
    "            n/=divider\n",
    "    return divider-1"
   ]
  }
 ],
 "metadata": {
  "kernelspec": {
   "display_name": "base",
   "language": "python",
   "name": "python3"
  },
  "language_info": {
   "codemirror_mode": {
    "name": "ipython",
    "version": 3
   },
   "file_extension": ".py",
   "mimetype": "text/x-python",
   "name": "python",
   "nbconvert_exporter": "python",
   "pygments_lexer": "ipython3",
   "version": "3.12.7"
  }
 },
 "nbformat": 4,
 "nbformat_minor": 2
}
