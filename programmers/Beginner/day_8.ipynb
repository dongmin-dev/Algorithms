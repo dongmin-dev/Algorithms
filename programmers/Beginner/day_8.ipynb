{
 "cells": [
  {
   "cell_type": "markdown",
   "metadata": {},
   "source": [
    "### 배열 자르기\n",
    "\n",
    "- 정수 배열 `numbers`와 정수 `num1`, `num2`가 매개변수로 주어질 때, `numbers`의 `num1`번 째 인덱스부터 `num2`번째 인덱스까지 자른 정수 배열을 return 하도록 solution 함수를 완성해보세요."
   ]
  },
  {
   "cell_type": "code",
   "execution_count": 1,
   "metadata": {},
   "outputs": [
    {
     "name": "stdout",
     "output_type": "stream",
     "text": [
      "[2, 3, 4]\n",
      "[3, 5]\n"
     ]
    }
   ],
   "source": [
    "def solution(numbers, num1, num2):\n",
    "    return numbers[num1:num2+1]\n",
    "\n",
    "print(solution([1, 2, 3, 4, 5], 1, 3))  # [2, 3, 4]\n",
    "print(solution([1, 3, 5], 1, 2))        # [3, 5]"
   ]
  },
  {
   "cell_type": "markdown",
   "metadata": {},
   "source": [
    "### 외계행성의 나이\n",
    "\n",
    "- 우주여행을 하던 머쓱이는 엔진 고장으로 PROGRAMMERS-962 행성에 불시착하게 됐습니다. 입국심사에서 나이를 말해야 하는데, PROGRAMMERS-962 행성에서는 나이를 알파벳으로 말하고 있습니다. a는 0, b는 1, c는 2, ..., j는 9입니다. 예를 들어 23살은 cd, 51살은 fb로 표현합니다. 나이 `age`가 매개변수로 주어질 때 PROGRAMMER-962식 나이를 return하도록 solution 함수를 완성해주세요."
   ]
  },
  {
   "cell_type": "code",
   "execution_count": null,
   "metadata": {},
   "outputs": [
    {
     "name": "stdout",
     "output_type": "stream",
     "text": [
      "cd\n",
      "fb\n",
      "baa\n"
     ]
    }
   ],
   "source": [
    "def solution(age):\n",
    "    answer = ''\n",
    "    for i in str(age):\n",
    "        answer += chr(int(i)+97)\n",
    "    return answer\n",
    "\n",
    "print(solution(23))     # \"cd\"\n",
    "print(solution(51))     # \"fb\"\n",
    "print(solution(100))    # \"baa\"\n",
    "\n",
    "# 코드 구조 개선\n",
    "def solution2(age):\n",
    "    return ''.join([chr(int(i)+97) for i in str(age)])\n",
    "\n",
    "# 다른 풀이법\n",
    "solution3=lambda age:str(age).translate(str.maketrans('0123456789','abcdefghij'))"
   ]
  },
  {
   "cell_type": "markdown",
   "metadata": {},
   "source": [
    "### 진료 순서 정하기\n",
    "\n",
    "외과의사 머쓱이는 응급실에 온 환자의 응급도를 기준으로 진료 순서를 정하려고 합니다. 정수 배열 `emergency`가 매개변수로 주어질 때 응급도가 높은 순서대로 진료 순서를 정한 배열을 return하도록 solution 함수를 완성해주세요."
   ]
  },
  {
   "cell_type": "code",
   "execution_count": null,
   "metadata": {},
   "outputs": [
    {
     "name": "stdout",
     "output_type": "stream",
     "text": [
      "[3, 1, 2]\n",
      "[7, 6, 5, 4, 3, 2, 1]\n",
      "[2, 4, 3, 5, 1]\n"
     ]
    }
   ],
   "source": [
    "def solution(emergency):\n",
    "    temp = sorted(emergency, reverse=True)\n",
    "    answer = [0] * len(emergency)\n",
    "    \n",
    "    for a, b in enumerate(temp):\n",
    "        answer[emergency.index(b)] = a+1\n",
    "    \n",
    "    return answer\n",
    "\n",
    "print(solution([3, 76, 24]))            # [3, 1, 2]\n",
    "print(solution([1, 2, 3, 4, 5, 6, 7]))  # [7, 6, 5, 4, 3, 2, 1]\n",
    "print(solution([30, 10, 23, 6, 100]))   # [2, 4, 3, 5, 1]\n",
    "\n",
    "# 다른 풀이법\n",
    "def solution2(emergency):\n",
    "    return [sorted(emergency, reverse=True).index(e) + 1 for e in emergency]\n",
    "\n",
    "# 다른 풀이법\n",
    "def solution3(emergency):\n",
    "    answer = []\n",
    "    emer_ls = {e: i + 1 for i, e in enumerate(sorted(emergency)[::-1])}\n",
    "    for e in emergency:\n",
    "        answer.append(emer_ls[e])\n",
    "    return answer"
   ]
  },
  {
   "cell_type": "markdown",
   "metadata": {},
   "source": [
    "### 순서쌍의 개수 (HARD)\n",
    "\n",
    "- 순서쌍이란 두 개의 숫자를 순서를 정하여 짝지어 나타낸 쌍으로 (a, b)로 표기합니다. 자연수 `n`이 매개변수로 주어질 때 두 숫자의 곱이 `n`인 자연수 순서쌍의 개수를 return하도록 solution 함수를 완성해주세요."
   ]
  },
  {
   "cell_type": "code",
   "execution_count": null,
   "metadata": {},
   "outputs": [],
   "source": [
    "def solution(n):\n",
    "    answer = [i for i in range(1, n+1) if n % i == 0]\n",
    "    return len(answer)\n",
    "\n",
    "print(solution(20))     # 6\n",
    "print(solution(100))    # 9\n",
    "\n",
    "# 다른 풀이법\n",
    "def solution2(n):\n",
    "    answer = 0\n",
    "    for i in range(1, int(n ** 0.5) + 1):\n",
    "        if n % i == 0:\n",
    "            answer += 2\n",
    "\n",
    "            if i * i == n:\n",
    "                answer -= 1\n",
    "\n",
    "    return answer\n",
    "\n",
    "# 다른 풀이법\n",
    "def solution3(n):\n",
    "    return len(list(filter(lambda v: n % (v+1) == 0, range(n))))"
   ]
  }
 ],
 "metadata": {
  "kernelspec": {
   "display_name": "base",
   "language": "python",
   "name": "python3"
  },
  "language_info": {
   "codemirror_mode": {
    "name": "ipython",
    "version": 3
   },
   "file_extension": ".py",
   "mimetype": "text/x-python",
   "name": "python",
   "nbconvert_exporter": "python",
   "pygments_lexer": "ipython3",
   "version": "3.12.7"
  }
 },
 "nbformat": 4,
 "nbformat_minor": 2
}
