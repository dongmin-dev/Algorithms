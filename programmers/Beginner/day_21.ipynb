{
 "cells": [
  {
   "cell_type": "markdown",
   "metadata": {},
   "source": [
    "### 숨어있는 숫자의 덧셈 (2) (HARD)\n",
    "\n",
    "- 문자열 `my_string`이 매개변수로 주어집니다. `my_string`은 소문자, 대문자, 자연수로만 구성되어있습니다. `my_string`안의 자연수들의 합을 return하도록 solution 함수를 완성해주세요."
   ]
  },
  {
   "cell_type": "code",
   "execution_count": 21,
   "metadata": {},
   "outputs": [
    {
     "name": "stdout",
     "output_type": "stream",
     "text": [
      "37\n",
      "133\n"
     ]
    }
   ],
   "source": [
    "def solution(my_string):\n",
    "    arr = list(filter(str.isalpha, my_string))\n",
    "    for char in arr:\n",
    "        my_string = my_string.replace(char, ' ')\n",
    "    return sum(map(int, my_string.split()))\n",
    "\n",
    "print(solution(\"aAb1B2cC34oOp\"))    # 37\n",
    "print(solution(\"1a2b3c4d123Z\"))     # 133"
   ]
  },
  {
   "cell_type": "code",
   "execution_count": 22,
   "metadata": {},
   "outputs": [
    {
     "name": "stdout",
     "output_type": "stream",
     "text": [
      "37\n",
      "133\n"
     ]
    }
   ],
   "source": [
    "# 다른 풀이법\n",
    "def solution(my_string):\n",
    "    s = ''.join(i if i.isdigit() else ' ' for i in my_string)\n",
    "    return sum(int(i) for i in s.split())\n",
    "\n",
    "print(solution(\"aAb1B2cC34oOp\"))    # 37\n",
    "print(solution(\"1a2b3c4d123Z\"))     # 133"
   ]
  },
  {
   "cell_type": "code",
   "execution_count": 25,
   "metadata": {},
   "outputs": [
    {
     "name": "stdout",
     "output_type": "stream",
     "text": [
      "37\n",
      "133\n"
     ]
    }
   ],
   "source": [
    "# 다른 풀이법\n",
    "import re\n",
    "\n",
    "def solution(my_string):\n",
    "    return sum([int(i) for i in re.findall(r'[0-9]+', my_string)])\n",
    "\n",
    "print(solution(\"aAb1B2cC34oOp\"))    # 37\n",
    "print(solution(\"1a2b3c4d123Z\"))     # 133"
   ]
  },
  {
   "cell_type": "code",
   "execution_count": 26,
   "metadata": {},
   "outputs": [
    {
     "name": "stdout",
     "output_type": "stream",
     "text": [
      "37\n",
      "133\n"
     ]
    }
   ],
   "source": [
    "# 다른 풀이법\n",
    "def solution(my_string):\n",
    "    answer = 0\n",
    "    temp = ''\n",
    "    for i in my_string:\n",
    "        if i.isdigit():\n",
    "            temp += i\n",
    "        else:\n",
    "            if temp:\n",
    "                answer += int(temp)\n",
    "                temp = ''\n",
    "    if temp:\n",
    "        answer += int(temp)\n",
    "    return answer\n",
    "\n",
    "print(solution(\"aAb1B2cC34oOp\"))    # 37\n",
    "print(solution(\"1a2b3c4d123Z\"))     # 133"
   ]
  }
 ],
 "metadata": {
  "kernelspec": {
   "display_name": "base",
   "language": "python",
   "name": "python3"
  },
  "language_info": {
   "codemirror_mode": {
    "name": "ipython",
    "version": 3
   },
   "file_extension": ".py",
   "mimetype": "text/x-python",
   "name": "python",
   "nbconvert_exporter": "python",
   "pygments_lexer": "ipython3",
   "version": "3.12.7"
  }
 },
 "nbformat": 4,
 "nbformat_minor": 2
}
