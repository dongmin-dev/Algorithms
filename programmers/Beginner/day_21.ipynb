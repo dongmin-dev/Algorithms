{
 "cells": [
  {
   "cell_type": "markdown",
   "metadata": {},
   "source": [
    "### 숨어있는 숫자의 덧셈 (2) (HARD)\n",
    "\n",
    "- 문자열 `my_string`이 매개변수로 주어집니다. `my_string`은 소문자, 대문자, 자연수로만 구성되어있습니다. `my_string`안의 자연수들의 합을 return하도록 solution 함수를 완성해주세요."
   ]
  },
  {
   "cell_type": "code",
   "execution_count": 21,
   "metadata": {},
   "outputs": [
    {
     "name": "stdout",
     "output_type": "stream",
     "text": [
      "37\n",
      "133\n"
     ]
    }
   ],
   "source": [
    "def solution(my_string):\n",
    "    arr = list(filter(str.isalpha, my_string))\n",
    "    for char in arr:\n",
    "        my_string = my_string.replace(char, ' ')\n",
    "    return sum(map(int, my_string.split()))\n",
    "\n",
    "print(solution(\"aAb1B2cC34oOp\"))    # 37\n",
    "print(solution(\"1a2b3c4d123Z\"))     # 133"
   ]
  },
  {
   "cell_type": "code",
   "execution_count": 22,
   "metadata": {},
   "outputs": [
    {
     "name": "stdout",
     "output_type": "stream",
     "text": [
      "37\n",
      "133\n"
     ]
    }
   ],
   "source": [
    "# 다른 풀이법\n",
    "def solution(my_string):\n",
    "    s = ''.join(i if i.isdigit() else ' ' for i in my_string)\n",
    "    return sum(int(i) for i in s.split())\n",
    "\n",
    "print(solution(\"aAb1B2cC34oOp\"))    # 37\n",
    "print(solution(\"1a2b3c4d123Z\"))     # 133"
   ]
  },
  {
   "cell_type": "code",
   "execution_count": 25,
   "metadata": {},
   "outputs": [
    {
     "name": "stdout",
     "output_type": "stream",
     "text": [
      "37\n",
      "133\n"
     ]
    }
   ],
   "source": [
    "# 다른 풀이법\n",
    "import re\n",
    "\n",
    "def solution(my_string):\n",
    "    return sum([int(i) for i in re.findall(r'[0-9]+', my_string)])\n",
    "\n",
    "print(solution(\"aAb1B2cC34oOp\"))    # 37\n",
    "print(solution(\"1a2b3c4d123Z\"))     # 133"
   ]
  },
  {
   "cell_type": "code",
   "execution_count": 26,
   "metadata": {},
   "outputs": [
    {
     "name": "stdout",
     "output_type": "stream",
     "text": [
      "37\n",
      "133\n"
     ]
    }
   ],
   "source": [
    "# 다른 풀이법\n",
    "def solution(my_string):\n",
    "    answer = 0\n",
    "    temp = ''\n",
    "    for i in my_string:\n",
    "        if i.isdigit():\n",
    "            temp += i\n",
    "        else:\n",
    "            if temp:\n",
    "                answer += int(temp)\n",
    "                temp = ''\n",
    "    if temp:\n",
    "        answer += int(temp)\n",
    "    return answer\n",
    "\n",
    "print(solution(\"aAb1B2cC34oOp\"))    # 37\n",
    "print(solution(\"1a2b3c4d123Z\"))     # 133"
   ]
  },
  {
   "cell_type": "markdown",
   "metadata": {},
   "source": [
    "### 안전지대 (HARD) (Couldn't solve)\n",
    "\n",
    "- 다음 그림과 같이 지뢰가 있는 지역과 지뢰에 인접한 위, 아래, 좌, 우 대각선 칸을 모두 위험지역으로 분류합니다.\n",
    "\n",
    "![안전지대](../assets/안전지대.png)\n",
    "\n",
    "- 지뢰는 2차원 배열 `board`에 1로 표시되어 있고 `board`에는 지뢰가 매설 된 지역 1과, 지뢰가 없는 지역 0만 존재합니다.\n",
    "\n",
    "- 지뢰가 매설된 지역의 지도 `board`가 매개변수로 주어질 때, 안전한 지역의 칸 수를 return하도록 solution 함수를 완성해주세요."
   ]
  },
  {
   "cell_type": "code",
   "execution_count": null,
   "metadata": {},
   "outputs": [
    {
     "name": "stdout",
     "output_type": "stream",
     "text": [
      "16\n",
      "13\n",
      "0\n"
     ]
    }
   ],
   "source": [
    "# 풀이법 by o1\n",
    "def solution(board):\n",
    "    n = len(board)\n",
    "    m = len(board[0]) if n > 0 else 0\n",
    "    \n",
    "    # 안전 여부를 표시할 맵, 기본 0은 안전한 상태를 의미\n",
    "    safe_map = [[0]*m for _ in range(n)]\n",
    "    \n",
    "    # 지뢰 위치를 찾는다\n",
    "    bombs = []\n",
    "    for i in range(n):\n",
    "        for j in range(m):\n",
    "            if board[i][j] == 1:\n",
    "                bombs.append((i,j))\n",
    "    \n",
    "    # 지뢰 주변을 위험 지역으로 표시한다.\n",
    "    directions = [(-1,-1), (-1,0), (-1,1),\n",
    "                  (0,-1),           (0,1),\n",
    "                  (1,-1),  (1,0),  (1,1)]\n",
    "    \n",
    "    for bx, by in bombs:\n",
    "        # 지뢰가 있는 칸 자체도 위험 지역으로 처리한다.\n",
    "        safe_map[bx][by] = 1\n",
    "        # 지뢰 주변 8방향 + 상하좌우를 모두 체크\n",
    "        for dx, dy in directions:\n",
    "            nx = bx + dx\n",
    "            ny = by + dy\n",
    "            if 0 <= nx < n and 0 <= ny < m:\n",
    "                safe_map[nx][ny] = 1\n",
    "    \n",
    "    # 이제 safe_map이 0이고 board가 0인 칸의 수를 센다.\n",
    "    safe_count = 0\n",
    "    for i in range(n):\n",
    "        for j in range(m):\n",
    "            if board[i][j] == 0 and safe_map[i][j] == 0:\n",
    "                safe_count += 1\n",
    "    \n",
    "    return safe_count\n",
    "\n",
    "print(solution([[0, 0, 0, 0, 0],\n",
    "                [0, 0, 0, 0, 0],\n",
    "                [0, 0, 0, 0, 0],\n",
    "                [0, 0, 1, 0, 0],\n",
    "                [0, 0, 0, 0, 0]]))      # 16\n",
    "\n",
    "print(solution([[0, 0, 0, 0, 0],\n",
    "                [0, 0, 0, 0, 0],\n",
    "                [0, 0, 0, 0, 0],\n",
    "                [0, 0, 1, 1, 0],\n",
    "                [0, 0, 0, 0, 0]]))      # 13\n",
    "\n",
    "print(solution([[1, 1, 1, 1, 1, 1],\n",
    "                [1, 1, 1, 1, 1, 1],\n",
    "                [1, 1, 1, 1, 1, 1],\n",
    "                [1, 1, 1, 1, 1, 1],\n",
    "                [1, 1, 1, 1, 1, 1],\n",
    "                [1, 1, 1, 1, 1, 1]]))   # 0"
   ]
  },
  {
   "cell_type": "code",
   "execution_count": 2,
   "metadata": {},
   "outputs": [
    {
     "name": "stdout",
     "output_type": "stream",
     "text": [
      "16\n",
      "13\n",
      "0\n"
     ]
    }
   ],
   "source": [
    "# 다른 풀이법\n",
    "def solution(board):\n",
    "    n = len(board)\n",
    "    danger = set()\n",
    "    for i, row in enumerate(board):\n",
    "        for j, x in enumerate(row):\n",
    "            if not x:\n",
    "                continue\n",
    "            danger.update((i+di, j+dj) for di in [-1,0,1] for dj in [-1, 0, 1])\n",
    "    return n*n - sum(0 <= i < n and 0 <= j < n for i, j in danger)\n",
    "\n",
    "print(solution([[0, 0, 0, 0, 0],\n",
    "                [0, 0, 0, 0, 0],\n",
    "                [0, 0, 0, 0, 0],\n",
    "                [0, 0, 1, 0, 0],\n",
    "                [0, 0, 0, 0, 0]]))      # 16\n",
    "\n",
    "print(solution([[0, 0, 0, 0, 0],\n",
    "                [0, 0, 0, 0, 0],\n",
    "                [0, 0, 0, 0, 0],\n",
    "                [0, 0, 1, 1, 0],\n",
    "                [0, 0, 0, 0, 0]]))      # 13\n",
    "\n",
    "print(solution([[1, 1, 1, 1, 1, 1],\n",
    "                [1, 1, 1, 1, 1, 1],\n",
    "                [1, 1, 1, 1, 1, 1],\n",
    "                [1, 1, 1, 1, 1, 1],\n",
    "                [1, 1, 1, 1, 1, 1],\n",
    "                [1, 1, 1, 1, 1, 1]]))   # 0"
   ]
  },
  {
   "cell_type": "code",
   "execution_count": 3,
   "metadata": {},
   "outputs": [
    {
     "name": "stdout",
     "output_type": "stream",
     "text": [
      "16\n",
      "13\n",
      "0\n"
     ]
    }
   ],
   "source": [
    "# 다른 풀이법\n",
    "def solution(board):\n",
    "    answer = 0\n",
    "\n",
    "    for col in range(len(board)):\n",
    "        for row in range(len(board[col])):\n",
    "            if board[row][col] == 1:\n",
    "                for j in range(max(col-1,0),min(col+2,len(board))):\n",
    "                    for i in range(max(row-1,0),min(row+2,len(board))):\n",
    "                        if board[i][j] == 1:\n",
    "                            continue\n",
    "                        board[i][j] = -1\n",
    "    for i in board:\n",
    "        answer += i.count(0)\n",
    "\n",
    "    return answer\n",
    "\n",
    "print(solution([[0, 0, 0, 0, 0],\n",
    "                [0, 0, 0, 0, 0],\n",
    "                [0, 0, 0, 0, 0],\n",
    "                [0, 0, 1, 0, 0],\n",
    "                [0, 0, 0, 0, 0]]))      # 16\n",
    "\n",
    "print(solution([[0, 0, 0, 0, 0],\n",
    "                [0, 0, 0, 0, 0],\n",
    "                [0, 0, 0, 0, 0],\n",
    "                [0, 0, 1, 1, 0],\n",
    "                [0, 0, 0, 0, 0]]))      # 13\n",
    "\n",
    "print(solution([[1, 1, 1, 1, 1, 1],\n",
    "                [1, 1, 1, 1, 1, 1],\n",
    "                [1, 1, 1, 1, 1, 1],\n",
    "                [1, 1, 1, 1, 1, 1],\n",
    "                [1, 1, 1, 1, 1, 1],\n",
    "                [1, 1, 1, 1, 1, 1]]))   # 0"
   ]
  },
  {
   "cell_type": "markdown",
   "metadata": {},
   "source": [
    "### 삼각형의 완성조건 (2) (HARD)\n",
    "\n",
    "- 선분 세 개로 삼각형을 만들기 위해서는 다음과 같은 조건을 만족해야 합니다.\n",
    "\n",
    "    - 가장 긴 변의 길이는 다른 두 변의 길이의 합보다 작아야 합니다.\n",
    "\n",
    "- 삼각형의 두 변의 길이가 담긴 배열 `sides`이 매개변수로 주어집니다. 나머지 한 변이 될 수 있는 정수의 개수를 return하도록 solution 함수를 완성해주세요."
   ]
  },
  {
   "cell_type": "code",
   "execution_count": null,
   "metadata": {},
   "outputs": [
    {
     "name": "stdout",
     "output_type": "stream",
     "text": [
      "1\n",
      "5\n",
      "13\n"
     ]
    }
   ],
   "source": [
    "# 풀이법 by o1\n",
    "def solution(sides):\n",
    "    min_length = abs(sides[0] - sides[1]) + 1\n",
    "    max_length = sides[0] + sides[1] - 1\n",
    "    \n",
    "    return len(list(range(min_length, max_length+1)))\n",
    "\n",
    "print(solution([1, 2]))     # 1\n",
    "print(solution([3, 6]))     # 5\n",
    "print(solution([11, 7]))    # 13"
   ]
  },
  {
   "cell_type": "code",
   "execution_count": null,
   "metadata": {},
   "outputs": [
    {
     "name": "stdout",
     "output_type": "stream",
     "text": [
      "1\n",
      "5\n",
      "13\n"
     ]
    }
   ],
   "source": [
    "# 다른 풀이법\n",
    "def solution(sides):\n",
    "    return sum(sides) - max(sides) + min(sides) - 1\n",
    "\n",
    "print(solution([1, 2]))     # 1\n",
    "print(solution([3, 6]))     # 5\n",
    "print(solution([11, 7]))    # 13"
   ]
  },
  {
   "cell_type": "code",
   "execution_count": null,
   "metadata": {},
   "outputs": [],
   "source": [
    "# 다른 풀이법\n",
    "def solution(sides):\n",
    "    return 2 * min(sides) - 1\n",
    "\n",
    "print(solution([1, 2]))     # 1\n",
    "print(solution([3, 6]))     # 5\n",
    "print(solution([11, 7]))    # 13"
   ]
  },
  {
   "cell_type": "markdown",
   "metadata": {},
   "source": [
    "### 외계어 행성\n",
    "\n",
    "- PROGRAMMERS-962 행성에 불시착한 우주비행사 머쓱이는 외계행성의 언어를 공부하려고 합니다. 알파벳이 담긴 배열 `spell`과 외계어 사전 `dic`이 매개변수로 주어집니다. `spell`에 담긴 알파벳을 한번씩만 모두 사용한 단어가 `dic`에 존재한다면 1, 존재하지 않는다면 2를 return하도록 solution 함수를 완성해주세요."
   ]
  },
  {
   "cell_type": "code",
   "execution_count": 9,
   "metadata": {},
   "outputs": [
    {
     "name": "stdout",
     "output_type": "stream",
     "text": [
      "2\n",
      "1\n",
      "2\n"
     ]
    }
   ],
   "source": [
    "def solution(spell, dic):\n",
    "    for i in dic:\n",
    "        check = 0\n",
    "        \n",
    "        for j in spell:\n",
    "            if j in i:\n",
    "                check += 1\n",
    "        \n",
    "        if check == len(spell):\n",
    "            return 1\n",
    "    \n",
    "    return 2\n",
    "\n",
    "print(solution([\"p\", \"o\", \"s\"], [\"sod\", \"eocd\", \"qixm\", \"adio\", \"soo\"]))        # 2\n",
    "print(solution([\"z\", \"d\", \"x\"], [\"def\", \"dww\", \"dzx\", \"loveaw\"]))               # 1\n",
    "print(solution([\"s\", \"o\", \"m\", \"d\"], [\"moos\", \"dzx\", \"smm\", \"sunmmo\", \"som\"]))  # 2"
   ]
  },
  {
   "cell_type": "code",
   "execution_count": null,
   "metadata": {},
   "outputs": [
    {
     "name": "stdout",
     "output_type": "stream",
     "text": [
      "2\n",
      "1\n",
      "2\n"
     ]
    }
   ],
   "source": [
    "# 다른 풀이법\n",
    "# 완벽한 풀이법은 아님\n",
    "def solution(spell, dic):\n",
    "    spell = set(spell)\n",
    "    for s in dic:\n",
    "        if not spell-set(s):\n",
    "            return 1\n",
    "    return 2\n",
    "\n",
    "print(solution([\"p\", \"o\", \"s\"], [\"sod\", \"eocd\", \"qixm\", \"adio\", \"soo\"]))        # 2\n",
    "print(solution([\"z\", \"d\", \"x\"], [\"def\", \"dww\", \"dzx\", \"loveaw\"]))               # 1\n",
    "print(solution([\"s\", \"o\", \"m\", \"d\"], [\"moos\", \"dzx\", \"smm\", \"sunmmo\", \"som\"]))  # 2"
   ]
  },
  {
   "cell_type": "code",
   "execution_count": 13,
   "metadata": {},
   "outputs": [
    {
     "name": "stdout",
     "output_type": "stream",
     "text": [
      "2\n",
      "1\n",
      "2\n"
     ]
    }
   ],
   "source": [
    "# 다른 풀이법\n",
    "def solution(spell, dic):\n",
    "    for d in dic:\n",
    "        if sorted(d) == sorted(spell):\n",
    "            return 1\n",
    "    return 2\n",
    "\n",
    "print(solution([\"p\", \"o\", \"s\"], [\"sod\", \"eocd\", \"qixm\", \"adio\", \"soo\"]))        # 2\n",
    "print(solution([\"z\", \"d\", \"x\"], [\"def\", \"dww\", \"dzx\", \"loveaw\"]))               # 1\n",
    "print(solution([\"s\", \"o\", \"m\", \"d\"], [\"moos\", \"dzx\", \"smm\", \"sunmmo\", \"som\"]))  # 2"
   ]
  },
  {
   "cell_type": "code",
   "execution_count": 14,
   "metadata": {},
   "outputs": [
    {
     "name": "stdout",
     "output_type": "stream",
     "text": [
      "2\n",
      "1\n",
      "2\n"
     ]
    }
   ],
   "source": [
    "# 다른 풀이법\n",
    "def solution(spell, dic):\n",
    "    spell = set(spell)\n",
    "    return int(any(d for d in dic if not spell - set(d))) or 2\n",
    "\n",
    "print(solution([\"p\", \"o\", \"s\"], [\"sod\", \"eocd\", \"qixm\", \"adio\", \"soo\"]))        # 2\n",
    "print(solution([\"z\", \"d\", \"x\"], [\"def\", \"dww\", \"dzx\", \"loveaw\"]))               # 1\n",
    "print(solution([\"s\", \"o\", \"m\", \"d\"], [\"moos\", \"dzx\", \"smm\", \"sunmmo\", \"som\"]))  # 2"
   ]
  }
 ],
 "metadata": {
  "kernelspec": {
   "display_name": "base",
   "language": "python",
   "name": "python3"
  },
  "language_info": {
   "codemirror_mode": {
    "name": "ipython",
    "version": 3
   },
   "file_extension": ".py",
   "mimetype": "text/x-python",
   "name": "python",
   "nbconvert_exporter": "python",
   "pygments_lexer": "ipython3",
   "version": "3.12.7"
  }
 },
 "nbformat": 4,
 "nbformat_minor": 2
}
