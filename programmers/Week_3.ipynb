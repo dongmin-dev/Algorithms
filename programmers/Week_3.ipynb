{
 "cells": [
  {
   "cell_type": "markdown",
   "metadata": {},
   "source": [
    "### [PCCP 기출문제] 1번 / 동영상 재생기\n",
    "\n",
    "- 당신은 동영상 재생기를 만들고 있습니다. 당신의 동영상 재생기는 10초 전으로 이동, 10초 후로 이동, 오프닝 건너뛰기 3가지 기능을 지원합니다. 각 기능이 수행하는 작업은 다음과 같습니다.\n",
    "    - 10초 전으로 이동: 사용자가 \"prev\" 명령을 입력할 경우 동영상의 재생 위치를 현재 위치에서 10초 전으로 이동합니다. 현재 위치가 10초 미만인 경우 영상의 처음 위치로 이동합니다. 영상의 처음 위치는 0분 0초입니다.\n",
    "    - 10초 후로 이동: 사용자가 \"next\" 명령을 입력할 경우 동영상의 재생 위치를 현재 위치에서 10초 후로 이동합니다. 동영상의 남은 시간이 10초 미만일 경우 영상의 마지막 위치로 이동합니다. 영상의 마지막 위치는 동영상의 길이와 같습니다.\n",
    "    - 오프닝 건너뛰기: 현재 재생 위치가 오프닝 구간(`op_start` ≤ 현재 재생 위치 ≤ `op_end`)인 경우 자동으로 오프닝이 끝나는 위치로 이동합니다.\n",
    "\n",
    "- 동영상의 길이를 나타내는 문자열 `video_len`, 기능이 수행되기 직전의 재생위치를 나타내는 문자열 `pos`, 오프닝 시작 시각을 나타내는 문자열 `op_start`, 오프닝이 끝나는 시각을 나타내는 문자열 `op_end`, 사용자의 입력을 나타내는 1차원 문자열 배열 `commands`가 매개변수로 주어집니다. 이때 사용자의 입력이 모두 끝난 후 동영상의 위치를 \"`mm`:`ss`\" 형식으로 return 하도록 solution 함수를 완성해 주세요.\n",
    "\n",
    "#### 제한사항\n",
    "\n",
    "- `video_len`의 길이 = `pos`의 길이 = `op_start`의 길이 = `op_end`의 길이 = 5\n",
    "    - `video_len`, `pos`, `op_start`, `op_end`는 \"`mm`:`ss`\" 형식으로 `mm`분 `ss`초를 나타냅니다.\n",
    "    - 0 ≤ `mm` ≤ 59\n",
    "    - 0 ≤ `ss` ≤ 59\n",
    "    - 분, 초가 한 자리일 경우 0을 붙여 두 자리로 나타냅니다.\n",
    "    - 비디오의 현재 위치 혹은 오프닝이 끝나는 시각이 동영상의 범위 밖인 경우는 주어지지 않습니다.\n",
    "    - 오프닝이 시작하는 시각은 항상 오프닝이 끝나는 시각보다 전입니다.\n",
    "\n",
    "- 1 ≤ `commands`의 길이 ≤ 100\n",
    "    - `commands`의 원소는 \"prev\" 혹은 \"next\"입니다.\n",
    "    - \"prev\"는 10초 전으로 이동하는 명령입니다.\n",
    "    - \"next\"는 10초 후로 이동하는 명령입니다.\n",
    "\n",
    "#### 입출력 예\n",
    "\n",
    "| video_len | pos    | op_start | op_end | commands           | result |\n",
    "|-----------|--------|----------|--------|--------------------|--------|\n",
    "| \"34:33\"   | \"13:00\"| \"00:55\"  | \"02:55\"| [\"next\", \"prev\"]   | \"13:00\"|\n",
    "| \"10:55\"   | \"00:05\"| \"00:15\"  | \"06:55\"| [\"prev\", \"next\", \"next\"] | \"06:55\"|\n",
    "| \"07:22\"   | \"04:05\"| \"00:15\"  | \"04:07\"| [\"next\"]           | \"04:17\"|"
   ]
  },
  {
   "cell_type": "code",
   "execution_count": 13,
   "metadata": {},
   "outputs": [
    {
     "name": "stdout",
     "output_type": "stream",
     "text": [
      "13:00\n",
      "06:55\n",
      "04:17\n"
     ]
    }
   ],
   "source": [
    "def check_op(pos, op_start, op_end):\n",
    "    if pos in range(op_start, op_end+1):\n",
    "        pos = op_end\n",
    "    return pos\n",
    "\n",
    "def solution(video_len, pos, op_start, op_end, commands):\n",
    "    answer = ''\n",
    "    video_len = int(video_len[-2:]) + int(video_len[:2])*60\n",
    "    pos = int(pos[-2:]) + int(pos[:2])*60\n",
    "    op_start = int(op_start[-2:]) + int(op_start[:2])*60\n",
    "    op_end = int(op_end[-2:]) + int(op_end[:2])*60\n",
    "    \n",
    "    pos = check_op(pos, op_start, op_end)\n",
    "    \n",
    "    for command in commands:\n",
    "        if command == \"next\":\n",
    "            pos += 10\n",
    "            if pos > video_len:\n",
    "                pos = video_len\n",
    "            pos = check_op(pos, op_start, op_end)\n",
    "        elif command == \"prev\":\n",
    "            pos -= 10\n",
    "            if pos < 0:\n",
    "                pos = 0\n",
    "            pos = check_op(pos, op_start, op_end)\n",
    "    \n",
    "    minute = pos//60 if len(str(pos//60)) == 2 else '0'+str(pos//60)\n",
    "    second = pos - (pos//60)*60 if len(str(pos - (pos//60)*60)) == 2 else '0'+str(pos - (pos//60)*60)\n",
    "    \n",
    "    answer = f'{minute}:{second}'\n",
    "    \n",
    "    return answer\n",
    "\n",
    "print(solution(\"34:33\", \"13:00\", \"00:55\", \"02:55\", [\"next\", \"prev\"]))           # \"13:00\"\n",
    "print(solution(\"10:55\", \"00:05\", \"00:15\", \"06:55\", [\"prev\", \"next\", \"next\"]))   # \"06:55\"\n",
    "print(solution(\"07:22\", \"04:05\", \"00:15\", \"04:07\", [\"next\"]))                   # \"04:17\""
   ]
  },
  {
   "cell_type": "code",
   "execution_count": 14,
   "metadata": {},
   "outputs": [
    {
     "name": "stdout",
     "output_type": "stream",
     "text": [
      "13:00\n",
      "06:55\n",
      "04:17\n"
     ]
    }
   ],
   "source": [
    "# 코드 구조 개선\n",
    "def time_to_seconds(time_str):\n",
    "    \"\"\"시간 문자열을 초 단위로 변환.\"\"\"\n",
    "    minutes, seconds = map(int, time_str.split(':'))\n",
    "    return minutes * 60 + seconds\n",
    "\n",
    "def seconds_to_time(seconds):\n",
    "    \"\"\"초 단위를 'mm:ss' 형식의 문자열로 변환.\"\"\"\n",
    "    minutes = seconds // 60\n",
    "    secs = seconds % 60\n",
    "    return f\"{minutes:02}:{secs:02}\"\n",
    "\n",
    "def skip_opening(current_pos, op_start, op_end):\n",
    "    \"\"\"현재 위치가 오프닝 구간 내에 있다면 오프닝 종료 시점으로 이동.\"\"\"\n",
    "    if op_start <= current_pos <= op_end:\n",
    "        return op_end\n",
    "    return current_pos\n",
    "\n",
    "def solution(video_len, pos, op_start, op_end, commands):\n",
    "    # 시간 문자열을 초 단위로 변환\n",
    "    video_len_sec = time_to_seconds(video_len)\n",
    "    current_pos = time_to_seconds(pos)\n",
    "    op_start_sec = time_to_seconds(op_start)\n",
    "    op_end_sec = time_to_seconds(op_end)\n",
    "    \n",
    "    # 초기 위치가 오프닝 구간 내에 있는지 확인\n",
    "    current_pos = skip_opening(current_pos, op_start_sec, op_end_sec)\n",
    "    \n",
    "    for command in commands:\n",
    "        if command == \"next\":\n",
    "            current_pos += 10\n",
    "            if current_pos > video_len_sec:\n",
    "                current_pos = video_len_sec\n",
    "        elif command == \"prev\":\n",
    "            current_pos -= 10\n",
    "            if current_pos < 0:\n",
    "                current_pos = 0\n",
    "        # 명령어 실행 후 오프닝 구간 검사\n",
    "        current_pos = skip_opening(current_pos, op_start_sec, op_end_sec)\n",
    "    \n",
    "    # 최종 위치를 'mm:ss' 형식으로 변환하여 반환\n",
    "    return seconds_to_time(current_pos)\n",
    "\n",
    "# 테스트 케이스\n",
    "print(solution(\"34:33\", \"13:00\", \"00:55\", \"02:55\", [\"next\", \"prev\"]))           # \"13:00\"\n",
    "print(solution(\"10:55\", \"00:05\", \"00:15\", \"06:55\", [\"prev\", \"next\", \"next\"]))   # \"06:55\"\n",
    "print(solution(\"07:22\", \"04:05\", \"00:15\", \"04:07\", [\"next\"]))                   # \"04:17\""
   ]
  },
  {
   "cell_type": "code",
   "execution_count": 15,
   "metadata": {},
   "outputs": [
    {
     "name": "stdout",
     "output_type": "stream",
     "text": [
      "13:00\n",
      "06:55\n",
      "04:17\n"
     ]
    }
   ],
   "source": [
    "# 다른 풀이법\n",
    "def time_to_seconds(time_str):\n",
    "    minutes, seconds = map(int, time_str.split(':'))\n",
    "    return minutes * 60 + seconds\n",
    "\n",
    "def seconds_to_time(seconds):\n",
    "    minutes, seconds = divmod(seconds, 60)\n",
    "    return f\"{minutes:02d}:{seconds:02d}\"\n",
    "\n",
    "def solution(video_len, pos, op_start, op_end, commands):\n",
    "    video_len = time_to_seconds(video_len)\n",
    "    current_pos = time_to_seconds(pos)\n",
    "    op_start = time_to_seconds(op_start)\n",
    "    op_end = time_to_seconds(op_end)\n",
    "\n",
    "    for command in commands:\n",
    "        if op_start <= current_pos <= op_end:\n",
    "            current_pos = op_end\n",
    "\n",
    "        if command == \"prev\":\n",
    "            current_pos = max(0, current_pos - 10)\n",
    "        elif command == \"next\":\n",
    "            current_pos = min(video_len, current_pos + 10)\n",
    "\n",
    "    # 마지막 명령 실행 후 한 번 더 오프닝 체크\n",
    "    if op_start <= current_pos <= op_end:\n",
    "        current_pos = op_end\n",
    "\n",
    "    return seconds_to_time(current_pos)\n",
    "\n",
    "print(solution(\"34:33\", \"13:00\", \"00:55\", \"02:55\", [\"next\", \"prev\"]))           # \"13:00\"\n",
    "print(solution(\"10:55\", \"00:05\", \"00:15\", \"06:55\", [\"prev\", \"next\", \"next\"]))   # \"06:55\"\n",
    "print(solution(\"07:22\", \"04:05\", \"00:15\", \"04:07\", [\"next\"]))                   # \"04:17\""
   ]
  },
  {
   "cell_type": "markdown",
   "metadata": {},
   "source": [
    "### [PCCE 기출문제] 9번 / 지폐 접기\n",
    "\n",
    "- 민수는 다양한 지폐를 수집하는 취미를 가지고 있습니다. 지폐마다 크기가 달라 지갑에 넣으려면 여러 번 접어서 넣어야 합니다. 예를 들어 지갑의 크기가 30 * 15이고 지폐의 크기가 26 * 17이라면 한번 반으로 접어 13 * 17 크기로 만든 뒤 90도 돌려서 지갑에 넣을 수 있습니다. 지폐를 접을 때는 다음과 같은 규칙을 지킵니다.\n",
    "\n",
    "    - 지폐를 접을 때는 항상 길이가 긴 쪽을 반으로 접습니다.\n",
    "\n",
    "    - 접기 전 길이가 홀수였다면 접은 후 소수점 이하는 버립니다.\n",
    "    \n",
    "    - 접힌 지폐를 그대로 또는 90도 돌려서 지갑에 넣을 수 있다면 그만 접습니다.\n",
    "\n",
    "- 지갑의 가로, 세로 크기를 담은 정수 리스트 `wallet`과 지폐의 가로, 세로 크기를 담은 정수 리스트 `bill`가 주어질 때, 지갑에 넣기 위해서 지폐를 최소 몇 번 접어야 하는지 return하도록 solution함수를 완성해 주세요.\n",
    "\n",
    "- 지폐를 지갑에 넣기 위해 접어야 하는 최소 횟수를 구하는 과정은 다음과 같습니다.\n",
    "\n",
    "```plaintext\n",
    "1. 지폐를 접은 횟수를 저장할 정수 변수 answer를 만들고 0을 저장합니다.\n",
    "2. 반복문을 이용해 bill의 작은 값이 wallet의 작은 값 보다 크거나 bill의 큰 값이 wallet의 큰 값 보다 큰 동안 아래 과정을 반복합니다.\n",
    "    2-1. bill[0]이 bill[1]보다 크다면\n",
    "        bill[0]을 2로 나누고 나머지는 버립니다.\n",
    "    2-2. 그렇지 않다면\n",
    "        bill[1]을 2로 나누고 나머지는 버립니다.\n",
    "    2-3. answer을 1 증가시킵니다.\n",
    "3. answer을 return합니다.\n",
    "```\n",
    "\n",
    "- 위의 의사코드와 작동방식이 다른 코드를 작성해도 상관없습니다.\n",
    "\n",
    "#### 제한사항\n",
    "\n",
    "- `wallet`의 길이 = `bill`의 길이 = 2\n",
    "\n",
    "- 10 ≤ `wallet[0]`, `wallet[1]` ≤ 100\n",
    "\n",
    "- 10 ≤ `bill[0]`, `bill[1]` ≤ 2,000\n",
    "\n",
    "#### 입출력 예\n",
    "| wallet | bill | result |\n",
    "|--------|------|--------|\n",
    "| [30, 15] | [26, 17] | 1 |\n",
    "| [50, 50] | [100, 241] | 4 |"
   ]
  },
  {
   "cell_type": "code",
   "execution_count": 1,
   "metadata": {},
   "outputs": [
    {
     "name": "stdout",
     "output_type": "stream",
     "text": [
      "1\n",
      "4\n"
     ]
    }
   ],
   "source": [
    "def solution(wallet, bill):\n",
    "    answer = 0\n",
    "    \n",
    "    while min(bill) > min(wallet) or max(bill) > max(wallet):\n",
    "        if bill[0] > bill[1]:\n",
    "            bill[0] //= 2\n",
    "        else:\n",
    "            bill[1] //= 2\n",
    "        \n",
    "        answer += 1\n",
    "\n",
    "    return answer\n",
    "\n",
    "print(solution([30, 15], [26, 17]))\n",
    "print(solution([50, 50], [100, 241]))"
   ]
  },
  {
   "cell_type": "code",
   "execution_count": 2,
   "metadata": {},
   "outputs": [
    {
     "name": "stdout",
     "output_type": "stream",
     "text": [
      "1\n",
      "4\n"
     ]
    }
   ],
   "source": [
    "# 다른 풀이법\n",
    "def solution(wallet, bill):\n",
    "    wallet, bill = sorted(wallet), sorted(bill)\n",
    "    cnt = 0\n",
    "    while wallet[0] < bill[0] or wallet[1] < bill[1]:\n",
    "        bill[-1] //= 2\n",
    "        bill = sorted(bill)\n",
    "        cnt += 1\n",
    "\n",
    "    return cnt\n",
    "\n",
    "print(solution([30, 15], [26, 17]))\n",
    "print(solution([50, 50], [100, 241]))"
   ]
  }
 ],
 "metadata": {
  "kernelspec": {
   "display_name": "base",
   "language": "python",
   "name": "python3"
  },
  "language_info": {
   "codemirror_mode": {
    "name": "ipython",
    "version": 3
   },
   "file_extension": ".py",
   "mimetype": "text/x-python",
   "name": "python",
   "nbconvert_exporter": "python",
   "pygments_lexer": "ipython3",
   "version": "3.12.7"
  }
 },
 "nbformat": 4,
 "nbformat_minor": 2
}
