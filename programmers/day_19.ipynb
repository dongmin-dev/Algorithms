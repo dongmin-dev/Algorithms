{
 "cells": [
  {
   "cell_type": "markdown",
   "metadata": {},
   "source": [
    "### 세 개의 구분자\n",
    "- 임의의 문자열이 주어졌을 때 문자 \"a\", \"b\", \"c\"를 구분자로 사용해 문자열을 나누고자 합니다.\n",
    "- 예를 들어 주어진 문자열이 \"baconlettucetomato\"라면 나눠진 문자열 목록은 [\"onlettu\", \"etom\", \"to\"] 가 됩니다.\n",
    "- 문자열 `myStr`이 주어졌을 때 위 예시와 같이 \"a\", \"b\", \"c\"를 사용해 나눠진 문자열을 순서대로 저장한 배열을 return 하는 solution 함수를 완성해 주세요.\n",
    "- 단, 두 구분자 사이에 다른 문자가 없을 경우에는 아무것도 저장하지 않으며, return할 배열이 빈 배열이라면 [\"EMPTY\"]를 return 합니다."
   ]
  },
  {
   "cell_type": "code",
   "execution_count": null,
   "metadata": {},
   "outputs": [
    {
     "name": "stdout",
     "output_type": "stream",
     "text": [
      "['onlettu', 'etom', 'to']\n",
      "['d']\n",
      "['EMPTY']\n"
     ]
    }
   ],
   "source": [
    "def solution(myStr):\n",
    "    answer = []\n",
    "    query = ['a', 'b', 'c']\n",
    "    \n",
    "    for i in query:\n",
    "        myStr = myStr.replace(i, ' ')\n",
    "    answer = [i for i in myStr.split(' ') if i != '']\n",
    "    \n",
    "    return answer if len(answer) != 0 else ['EMPTY']\n",
    "\n",
    "print(solution(\"baconlettucetomato\"))   # [\"onlettu\", \"etom\", \"to\"]\n",
    "print(solution(\"abcd\"))                 # [\"d\"]\n",
    "print(solution(\"cabab\"))                # [\"EMPTY\"]\n",
    "\n",
    "# 코드 구조 개선\n",
    "def solution2(myStr):\n",
    "    answer = [x for x in myStr.replace('a', ' ').replace('b', ' ').replace('c', ' ').split() if x]\n",
    "    return answer if answer else ['EMPTY']\n",
    "\n",
    "# 다른 풀이법\n",
    "import re\n",
    "def solution3(myStr):\n",
    "    answer = [m for m in re.split('a|b|c',myStr) if m]\n",
    "    if len(answer)==0:\n",
    "        answer=[\"EMPTY\"]\n",
    "\n",
    "    return answer\n",
    "\n",
    "# 다른 풀이법\n",
    "def solution4(myStr):\n",
    "    s=myStr.replace('b','a')\n",
    "    s=s.replace('c','a')\n",
    "    s=s.split('a')\n",
    "    answer=[]\n",
    "    for x in s:\n",
    "        if x: answer.append(x)\n",
    "    if not answer:return [\"EMPTY\"]\n",
    "    return answer"
   ]
  },
  {
   "cell_type": "markdown",
   "metadata": {},
   "source": [
    "### 배열의 원소만큼 추가하기\n",
    "- 아무 원소도 들어있지 않은 빈 배열 X가 있습니다. 양의 정수 배열 `arr`가 매개변수로 주어질 때, `arr`의 앞에서부터 차례대로 원소를 보면서 원소가 a라면 X의 맨 뒤에 a를 a번 추가하는 일을 반복한 뒤의 배열 X를 return 하는 solution 함수를 작성해 주세요."
   ]
  },
  {
   "cell_type": "code",
   "execution_count": null,
   "metadata": {},
   "outputs": [
    {
     "name": "stdout",
     "output_type": "stream",
     "text": [
      "[5, 5, 5, 5, 5, 1, 4, 4, 4, 4]\n",
      "[6, 6, 6, 6, 6, 6, 6, 6, 6, 6, 6, 6]\n",
      "[1]\n"
     ]
    }
   ],
   "source": [
    "def solution(arr):\n",
    "    answer = []\n",
    "    for i in arr:\n",
    "        for j in range(i):\n",
    "            answer.append(i)\n",
    "    return answer\n",
    "\n",
    "print(solution([5, 1, 4]))  # [5, 5, 5, 5, 5, 1, 4, 4, 4, 4]\n",
    "print(solution([6, 6]))     # [6, 6, 6, 6, 6, 6, 6, 6, 6, 6, 6, 6]\n",
    "print(solution([1]))        # [1]\n",
    "\n",
    "# 코드 구조 개선\n",
    "def solution2(arr):\n",
    "    return [i for i in arr for j in range(i)]\n",
    "\n",
    "# 다른 풀이법\n",
    "def solution3(arr):\n",
    "    answer = []\n",
    "    for num in arr:\n",
    "        answer += [num] * num\n",
    "    return answer"
   ]
  },
  {
   "cell_type": "markdown",
   "metadata": {},
   "source": [
    "### 빈 배열에 추가, 삭제하기 (HARD)\n",
    "- 아무 원소도 들어있지 않은 빈 배열 X가 있습니다. 길이가 같은 정수 배열 `arr`과 boolean 배열 `flag`가 매개변수로 주어질 때, `flag`를 차례대로 순회하며 `flag[i]`가 true라면 X의 뒤에 `arr[i]`를 `arr[i]` × 2 번 추가하고, `flag[i]`가 false라면 X에서 마지막 `arr[i]`개의 원소를 제거한 뒤 X를 return 하는 solution 함수를 작성해 주세요."
   ]
  },
  {
   "cell_type": "code",
   "execution_count": null,
   "metadata": {},
   "outputs": [
    {
     "name": "stdout",
     "output_type": "stream",
     "text": [
      "[3, 3, 3, 3, 4, 4, 4, 4]\n"
     ]
    }
   ],
   "source": [
    "def solution(arr, flag):\n",
    "    answer = []\n",
    "    tmp = [[x, y] for x, y in zip(arr, flag)]\n",
    "    \n",
    "    for i, j in tmp:\n",
    "        if j == True:\n",
    "            answer += [i] * (i*2)\n",
    "        elif j == False:\n",
    "            answer = answer[:len(answer)-i]\n",
    "    \n",
    "    return answer\n",
    "\n",
    "print(solution([3, 2, 4, 1, 3], [True, False, True, False, False])) # [3, 3, 3, 3, 4, 4, 4, 4]\n",
    "\n",
    "# 다른 풀이법\n",
    "def solution2(arr, flag):\n",
    "    X = []\n",
    "    for i, f in enumerate(flag):\n",
    "        if f:\n",
    "            X += [arr[i]] * (arr[i]*2)\n",
    "        else:\n",
    "            for _ in range(arr[i]):\n",
    "                X.pop()\n",
    "    return X"
   ]
  },
  {
   "cell_type": "markdown",
   "metadata": {},
   "source": [
    "### 배열 만들기 6\n",
    "- 0과 1로만 이루어진 정수 배열 `arr`가 주어집니다. `arr`를 이용해 새로운 배열 `stk`을 만드려고 합니다.\n",
    "- `i`의 초기값을 0으로 설정하고 `i`가 `arr`의 길이보다 작으면 다음을 반복합니다.\n",
    "    - 만약 `stk`이 빈 배열이라면 `arr[i]`를 `stk`에 추가하고 `i`에 1을 더합니다.\n",
    "    - `stk`에 원소가 있고, `stk`의 마지막 원소가 `arr[i]`와 같으면 `stk`의 마지막 원소를 `stk`에서 제거하고 `i`에 1을 더합니다.\n",
    "    - `stk`에 원소가 있는데 `stk`의 마지막 원소가 `arr[i]`와 다르면 `stk`의 맨 마지막에 `arr[i]`를 추가하고 `i`에 1을 더합니다.\n",
    "- 위 작업을 마친 후 만들어진 `stk`을 return 하는 solution 함수를 완성해 주세요.\n",
    "- 단, 만약 빈 배열을 return 해야한다면 [-1]을 return 합니다."
   ]
  },
  {
   "cell_type": "code",
   "execution_count": null,
   "metadata": {},
   "outputs": [
    {
     "name": "stdout",
     "output_type": "stream",
     "text": [
      "[0, 1, 0]\n",
      "[0, 1, 0, 1, 0]\n",
      "[-1]\n"
     ]
    }
   ],
   "source": [
    "def solution(arr):\n",
    "    stk = []\n",
    "    i = 0\n",
    "    \n",
    "    while i < len(arr):\n",
    "        if not stk:\n",
    "            stk.append(arr[i])\n",
    "            i += 1\n",
    "        elif stk[-1] == arr[i]:\n",
    "            del stk[-1]\n",
    "            i += 1\n",
    "        else:\n",
    "            stk.append(arr[i])\n",
    "            i += 1\n",
    "    \n",
    "    return stk if stk else [-1]\n",
    "\n",
    "print(solution([0, 1, 1, 1, 0]))    # [0, 1, 0]\n",
    "print(solution([0, 1, 0, 1, 0]))    # [0, 1, 0, 1, 0]\n",
    "print(solution([0, 1, 1, 0]))       # [-1]\n",
    "\n",
    "# 코드 구조 개선\n",
    "def solution2(arr):\n",
    "    stk = []\n",
    "    for i in range(len(arr)):\n",
    "        if stk and stk[-1] == arr[i]:\n",
    "            stk.pop()\n",
    "        else:\n",
    "            stk.append(arr[i])\n",
    "\n",
    "    return stk or [-1]"
   ]
  },
  {
   "cell_type": "markdown",
   "metadata": {},
   "source": [
    "### 무작위로 K개의 수 뽑기\n",
    "- 랜덤으로 서로 다른 k개의 수를 저장한 배열을 만드려고 합니다. 적절한 방법이 떠오르지 않기 때문에 일정한 범위 내에서 무작위로 수를 뽑은 후, 지금까지 나온적이 없는 수이면 배열 맨 뒤에 추가하는 방식으로 만들기로 합니다.\n",
    "- 이미 어떤 수가 무작위로 주어질지 알고 있다고 가정하고, 실제 만들어질 길이 `k`의 배열을 예상해봅시다.\n",
    "- 정수 배열 `arr`가 주어집니다. 문제에서의 무작위의 수는 `arr`에 저장된 순서대로 주어질 예정이라고 했을 때, 완성될 배열을 return 하는 solution 함수를 완성해 주세요.\n",
    "- 단, 완성될 배열의 길이가 `k`보다 작으면 나머지 값을 전부 -1로 채워서 return 합니다."
   ]
  },
  {
   "cell_type": "code",
   "execution_count": null,
   "metadata": {},
   "outputs": [
    {
     "name": "stdout",
     "output_type": "stream",
     "text": [
      "[0, 1, 2]\n",
      "[0, 1, -1, -1]\n",
      "[0, 1, 2]\n",
      "[0, 1, -1, -1]\n"
     ]
    }
   ],
   "source": [
    "def solution(arr, k):\n",
    "    answer = []\n",
    "    \n",
    "    for i in arr:\n",
    "        if answer.count(i) == 0 and len(answer) < k:\n",
    "            answer.append(i)\n",
    "    \n",
    "    if len(answer) != k:\n",
    "        answer += [-1] * (k - len(answer))\n",
    "    \n",
    "    return answer\n",
    "\n",
    "print(solution([0, 1, 1, 2, 2, 3], 3))  # [0, 1, 2] \n",
    "print(solution([0, 1, 1, 1, 1], 4))     # [0, 1, -1, -1]\n",
    "\n",
    "# 다른 풀이법\n",
    "def solution2(arr, k):\n",
    "    ret = []\n",
    "    for i in arr:\n",
    "        if i not in ret:\n",
    "            ret.append(i)\n",
    "        if len(ret) == k:\n",
    "            break\n",
    "\n",
    "    return ret + [-1] * (k - len(ret))\n",
    "\n",
    "# 다른 풀이법\n",
    "def solution3(arr, k):\n",
    "    res = list(dict.fromkeys(arr))\n",
    "    res.extend([-1] * max(0, k - len(res)))\n",
    "    return res[:k]\n",
    "\n",
    "# solution3 수정\n",
    "def solution4(arr, k):\n",
    "    res = list(set(arr))\n",
    "    res.extend([-1] * max(0, k - len(res)))\n",
    "    return res[:k]"
   ]
  }
 ],
 "metadata": {
  "kernelspec": {
   "display_name": "base",
   "language": "python",
   "name": "python3"
  },
  "language_info": {
   "codemirror_mode": {
    "name": "ipython",
    "version": 3
   },
   "file_extension": ".py",
   "mimetype": "text/x-python",
   "name": "python",
   "nbconvert_exporter": "python",
   "pygments_lexer": "ipython3",
   "version": "3.12.7"
  }
 },
 "nbformat": 4,
 "nbformat_minor": 2
}
