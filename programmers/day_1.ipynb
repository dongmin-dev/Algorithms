{
 "cells": [
  {
   "cell_type": "code",
   "execution_count": 3,
   "metadata": {},
   "outputs": [
    {
     "name": "stdout",
     "output_type": "stream",
     "text": [
      "HelloWorld!\n"
     ]
    }
   ],
   "source": [
    "# 문자열 출력하기\n",
    "str = input()\n",
    "print(str)"
   ]
  },
  {
   "cell_type": "code",
   "execution_count": 4,
   "metadata": {},
   "outputs": [
    {
     "name": "stdout",
     "output_type": "stream",
     "text": [
      "a = 4\n",
      "b = 5\n"
     ]
    }
   ],
   "source": [
    "# a와 b 출력하기\n",
    "a, b = map(int, input().strip().split(' '))\n",
    "print(f\"a = {a}\")\n",
    "print(f\"b = {b}\")"
   ]
  },
  {
   "cell_type": "code",
   "execution_count": 5,
   "metadata": {},
   "outputs": [
    {
     "name": "stdout",
     "output_type": "stream",
     "text": [
      "stringstringstringstringstring\n"
     ]
    }
   ],
   "source": [
    "# 문자열 반복해서 출력하기\n",
    "str, n = input().strip().split(' ')\n",
    "n = int(n)\n",
    "print(str * n)"
   ]
  },
  {
   "cell_type": "code",
   "execution_count": 6,
   "metadata": {},
   "outputs": [
    {
     "name": "stdout",
     "output_type": "stream",
     "text": [
      "AbCdEfG\n"
     ]
    }
   ],
   "source": [
    "# 대소문자 바꿔서 출력하기\n",
    "def swap_case(s):\n",
    "    return s.swapcase()\n",
    "\n",
    "str = input()\n",
    "print(swap_case(str))"
   ]
  },
  {
   "cell_type": "code",
   "execution_count": 7,
   "metadata": {},
   "outputs": [
    {
     "name": "stdout",
     "output_type": "stream",
     "text": [
      "!@#$%^&*(\\'\"<>?:;\n",
      "!@#$%^&*(\\'\"<>?:;\n",
      "!@#$%^&*(\\'\"<>?:;\n"
     ]
    }
   ],
   "source": [
    "# !@#$%^&*(\\'\"<>?:; 출력\n",
    "print('!@#$%^&*(\\\\\\'\"<>?:;')\n",
    "\n",
    "# 방법 2\n",
    "print('''!@#$%^&*(\\\\'\"<>?:;''')\n",
    "\n",
    "# 방법 3\n",
    "print(r'!@#$%^&*(\\'\"<>?:;')"
   ]
  }
 ],
 "metadata": {
  "kernelspec": {
   "display_name": "base",
   "language": "python",
   "name": "python3"
  },
  "language_info": {
   "codemirror_mode": {
    "name": "ipython",
    "version": 3
   },
   "file_extension": ".py",
   "mimetype": "text/x-python",
   "name": "python",
   "nbconvert_exporter": "python",
   "pygments_lexer": "ipython3",
   "version": "3.12.4"
  }
 },
 "nbformat": 4,
 "nbformat_minor": 2
}
