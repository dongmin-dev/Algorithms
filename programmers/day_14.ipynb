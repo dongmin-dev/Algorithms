{
 "cells": [
  {
   "cell_type": "markdown",
   "metadata": {},
   "source": [
    "### 홀수 vs 짝수\n",
    "- 정수 리스트 `num_list`가 주어집니다. 가장 첫 번째 원소를 1번 원소라고 할 때, 홀수 번째 원소들의 합과 짝수 번째 원소들의 합 중 큰 값을 return 하도록 solution 함수를 완성해주세요. 두 값이 같을 경우 그 값을 return합니다."
   ]
  },
  {
   "cell_type": "code",
   "execution_count": 1,
   "metadata": {},
   "outputs": [
    {
     "name": "stdout",
     "output_type": "stream",
     "text": [
      "17\n",
      "8\n"
     ]
    }
   ],
   "source": [
    "def solution(num_list):\n",
    "    odd = sum(num_list[0::2])\n",
    "    even = sum(num_list[1::2])\n",
    "    \n",
    "    if odd > even:\n",
    "        return odd\n",
    "    elif odd < even:\n",
    "        return even\n",
    "    else:\n",
    "        return odd\n",
    "\n",
    "print(solution([4, 2, 6, 1, 7, 6])) # 17\n",
    "print(solution([-1, 2, 5, 6, 3]))   # 8\n",
    "\n",
    "# 코드 구조 개선\n",
    "def solution2(num_list):\n",
    "    return max(sum(num_list[::2]), sum(num_list[1::2]))"
   ]
  }
 ],
 "metadata": {
  "kernelspec": {
   "display_name": "base",
   "language": "python",
   "name": "python3"
  },
  "language_info": {
   "codemirror_mode": {
    "name": "ipython",
    "version": 3
   },
   "file_extension": ".py",
   "mimetype": "text/x-python",
   "name": "python",
   "nbconvert_exporter": "python",
   "pygments_lexer": "ipython3",
   "version": "3.12.7"
  }
 },
 "nbformat": 4,
 "nbformat_minor": 2
}
