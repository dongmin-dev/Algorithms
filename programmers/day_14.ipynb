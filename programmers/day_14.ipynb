{
 "cells": [
  {
   "cell_type": "markdown",
   "metadata": {},
   "source": [
    "### 홀수 vs 짝수\n",
    "- 정수 리스트 `num_list`가 주어집니다. 가장 첫 번째 원소를 1번 원소라고 할 때, 홀수 번째 원소들의 합과 짝수 번째 원소들의 합 중 큰 값을 return 하도록 solution 함수를 완성해주세요. 두 값이 같을 경우 그 값을 return합니다."
   ]
  },
  {
   "cell_type": "code",
   "execution_count": 1,
   "metadata": {},
   "outputs": [
    {
     "name": "stdout",
     "output_type": "stream",
     "text": [
      "17\n",
      "8\n"
     ]
    }
   ],
   "source": [
    "def solution(num_list):\n",
    "    odd = sum(num_list[0::2])\n",
    "    even = sum(num_list[1::2])\n",
    "    \n",
    "    if odd > even:\n",
    "        return odd\n",
    "    elif odd < even:\n",
    "        return even\n",
    "    else:\n",
    "        return odd\n",
    "\n",
    "print(solution([4, 2, 6, 1, 7, 6])) # 17\n",
    "print(solution([-1, 2, 5, 6, 3]))   # 8\n",
    "\n",
    "# 코드 구조 개선\n",
    "def solution2(num_list):\n",
    "    return max(sum(num_list[::2]), sum(num_list[1::2]))"
   ]
  },
  {
   "cell_type": "markdown",
   "metadata": {},
   "source": [
    "### 5명씩\n",
    "- 최대 5명씩 탑승가능한 놀이기구를 타기 위해 줄을 서있는 사람들의 이름이 담긴 문자열 리스트 `names`가 주어질 때, 앞에서 부터 5명씩 묶은 그룹의 가장 앞에 서있는 사람들의 이름을 담은 리스트를 return하도록 solution 함수를 완성해주세요. 마지막 그룹이 5명이 되지 않더라도 가장 앞에 있는 사람의 이름을 포함합니다."
   ]
  },
  {
   "cell_type": "code",
   "execution_count": 1,
   "metadata": {},
   "outputs": [
    {
     "name": "stdout",
     "output_type": "stream",
     "text": [
      "['nami', 'vex']\n"
     ]
    }
   ],
   "source": [
    "def solution(names):\n",
    "    answer = names[::5]\n",
    "    return answer\n",
    "\n",
    "print(solution([\"nami\", \"ahri\", \"jayce\", \"garen\", \"ivern\", \"vex\", \"jinx\"])) # [\"nami\", \"vex\"]"
   ]
  },
  {
   "cell_type": "markdown",
   "metadata": {},
   "source": [
    "### 할 일 목록\n",
    "- 오늘 해야 할 일이 담긴 문자열 배열 `todo_list`와 각각의 일을 지금 마쳤는지를 나타내는 boolean 배열 `finished`가 매개변수로 주어질 때, `todo_list`에서 아직 마치지 못한 일들을 순서대로 담은 문자열 배열을 return 하는 solution 함수를 작성해 주세요."
   ]
  },
  {
   "cell_type": "code",
   "execution_count": 8,
   "metadata": {},
   "outputs": [
    {
     "name": "stdout",
     "output_type": "stream",
     "text": [
      "['practiceguitar', 'studygraph']\n"
     ]
    }
   ],
   "source": [
    "def solution(todo_list, finished):\n",
    "    answer = [todo_list[i] for i, x in enumerate(finished) if not x]\n",
    "    return answer\n",
    "\n",
    "print(solution([\"problemsolving\", \"practiceguitar\", \"swim\", \"studygraph\"], [True, False, True, False])) # [\"practiceguitar\", \"studygraph\"]"
   ]
  },
  {
   "cell_type": "markdown",
   "metadata": {},
   "source": [
    "### n보다 커질 때까지 더하기\n",
    "- 정수 배열 `numbers`와 정수 `n`이 매개변수로 주어집니다. `numbers`의 원소를 앞에서부터 하나씩 더하다가 그 합이 `n`보다 커지는 순간 이때까지 더했던 원소들의 합을 return 하는 solution 함수를 작성해 주세요."
   ]
  },
  {
   "cell_type": "code",
   "execution_count": null,
   "metadata": {},
   "outputs": [
    {
     "name": "stdout",
     "output_type": "stream",
     "text": [
      "139\n",
      "239\n"
     ]
    }
   ],
   "source": [
    "def solution(numbers, n):\n",
    "    answer = 0\n",
    "    for i in numbers:\n",
    "        answer += i\n",
    "        if answer > n:\n",
    "            return answer\n",
    "\n",
    "print(solution([34, 5, 71, 29, 100, 34], 123))  # 139\n",
    "print(solution([58, 44, 27, 10, 100], 139))     # 239\n",
    "\n",
    "# 다른 풀이법\n",
    "def solution2(numbers, n):\n",
    "    return next(sum(numbers[:i + 1]) for i in range(len(numbers)) if sum(numbers[:i + 1]) > n)"
   ]
  },
  {
   "cell_type": "markdown",
   "metadata": {},
   "source": [
    "### 수열과 구간 쿼리 1\n",
    "- 정수 배열 `arr`와 2차원 정수 배열 `queries`이 주어집니다. `queries`의 원소는 각각 하나의 `query`를 나타내며, `[s, e]` 꼴입니다.\n",
    "- 각 `query`마다 순서대로 `s` ≤ `i` ≤ `e`인 모든 `i`에 대해 `arr[i]`에 1을 더합니다.\n",
    "- 위 규칙에 따라 `queries`를 처리한 이후의 `arr`를 return 하는 solution 함수를 완성해 주세요."
   ]
  },
  {
   "cell_type": "code",
   "execution_count": null,
   "metadata": {},
   "outputs": [
    {
     "name": "stdout",
     "output_type": "stream",
     "text": [
      "[1, 3, 4, 4, 4]\n"
     ]
    }
   ],
   "source": [
    "def solution(arr, queries):\n",
    "    for a, b in queries:\n",
    "        while a <= b:\n",
    "            arr[a] += 1\n",
    "            a += 1\n",
    "    return arr\n",
    "\n",
    "print(solution([0, 1, 2, 3, 4], [[0, 1],[1, 2],[2, 3]]))    # [1, 3, 4, 4, 4]\n",
    "\n",
    "# 코드 구조 개선\n",
    "def solution2(arr, queries):\n",
    "    for l,r in queries:\n",
    "        for i in range(l,r+1):\n",
    "            arr[i]+=1\n",
    "    return arr\n",
    "\n",
    "# 다른 풀이법\n",
    "def solution3(arr, queries):\n",
    "    for (s, e) in queries:\n",
    "        arr = [a+1 if s <= i <= e else a for i, a in enumerate(arr)]\n",
    "    return arr"
   ]
  }
 ],
 "metadata": {
  "kernelspec": {
   "display_name": "base",
   "language": "python",
   "name": "python3"
  },
  "language_info": {
   "codemirror_mode": {
    "name": "ipython",
    "version": 3
   },
   "file_extension": ".py",
   "mimetype": "text/x-python",
   "name": "python",
   "nbconvert_exporter": "python",
   "pygments_lexer": "ipython3",
   "version": "3.12.7"
  }
 },
 "nbformat": 4,
 "nbformat_minor": 2
}
