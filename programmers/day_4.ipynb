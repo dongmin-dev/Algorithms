{
 "cells": [
  {
   "cell_type": "markdown",
   "metadata": {},
   "source": [
    "### N의 배수\n",
    "- 정수 `num`과 `n`이 매개 변수로 주어질 때, `num`이 `n`의 배수이면 1을 return `n`의 배수가 아니라면 0을 return하도록 solution 함수를 완성해주세요."
   ]
  },
  {
   "cell_type": "code",
   "execution_count": 2,
   "metadata": {},
   "outputs": [
    {
     "name": "stdout",
     "output_type": "stream",
     "text": [
      "1\n",
      "0\n"
     ]
    }
   ],
   "source": [
    "def solution(num, n):\n",
    "    answer = 0\n",
    "    \n",
    "    if (num % n == 0):\n",
    "        answer = 1\n",
    "    else:\n",
    "        answer = 0\n",
    "    \n",
    "    return answer\n",
    "\n",
    "print(solution(98, 2))\n",
    "\n",
    "# 다른 풀이법\n",
    "def solution2(num, n):\n",
    "    return int(not(num % n))\n",
    "\n",
    "print(solution2(34, 3))"
   ]
  },
  {
   "cell_type": "markdown",
   "metadata": {},
   "source": [
    "### 공배수\n",
    "- 정수 `number`와 `n`, `m`이 주어집니다. `number`가 `n`의 배수이면서 `m`의 배수이면 1을 아니라면 0을 return하도록 solution 함수를 완성해주세요."
   ]
  },
  {
   "cell_type": "code",
   "execution_count": 5,
   "metadata": {},
   "outputs": [
    {
     "name": "stdout",
     "output_type": "stream",
     "text": [
      "1\n",
      "0\n"
     ]
    }
   ],
   "source": [
    "def solution(number, n, m):\n",
    "    answer = 0\n",
    "    \n",
    "    if (number % n == 0 and number % m == 0):\n",
    "        answer = 1\n",
    "    else:\n",
    "        answer = 0\n",
    "    \n",
    "    return answer\n",
    "\n",
    "print(solution(60, 2, 3))\n",
    "\n",
    "# 다른 풀이법\n",
    "def solution2(number, n, m):\n",
    "    return int(number % n == 0 & number % m == 0)\n",
    "\n",
    "print(solution2(55, 10, 5))"
   ]
  },
  {
   "cell_type": "markdown",
   "metadata": {},
   "source": [
    "### 홀짝에 따라 다른 값 반환하기\n",
    "- 양의 정수 `n`이 매개변수로 주어질 때, `n`이 홀수라면 `n` 이하의 홀수인 모든 양의 정수의 합을 return 하고 `n`이 짝수라면 `n` 이하의 짝수인 모든 양의 정수의 제곱의 합을 return 하는 solution 함수를 작성해 주세요."
   ]
  },
  {
   "cell_type": "code",
   "execution_count": 4,
   "metadata": {},
   "outputs": [
    {
     "name": "stdout",
     "output_type": "stream",
     "text": [
      "16\n",
      "220\n",
      "16\n",
      "220\n"
     ]
    }
   ],
   "source": [
    "def solution(n):\n",
    "    answer = 0\n",
    "    \n",
    "    if n % 2:\n",
    "        for i in range(1, n + 1, 2):\n",
    "            answer += i\n",
    "    else:\n",
    "        for i in range(2, n + 1, 2):\n",
    "            answer += (i ** 2)\n",
    "    \n",
    "    return answer\n",
    "\n",
    "print(solution(7))\n",
    "print(solution(10))\n",
    "\n",
    "# 다른 풀이법\n",
    "def solution2(n):\n",
    "    if n % 2:\n",
    "        return sum(range(1, n+1, 2))\n",
    "    return sum([i*i for i in range(2, n+1, 2)])\n",
    "\n",
    "print(solution2(7))\n",
    "print(solution2(10))"
   ]
  },
  {
   "cell_type": "markdown",
   "metadata": {},
   "source": [
    "### 조건 문자열 (HARD)\n",
    "- 문자열에 따라 다음과 같이 두 수의 크기를 비교하려고 합니다.\n",
    "\t- 두 수가 `n`과 `m`이라면\n",
    "\t\t- \">\", \"=\" : `n` >= `m`\n",
    "\t\t- \"<\", \"=\" : `n` <= `m`\n",
    "\t\t- \">\", \"!\" : `n` > `m`\n",
    "\t\t- \"<\", \"!\" : `n` < `m`\n",
    "- 두 문자열 `ineq`와 `eq`가 주어집니다. `ineq`는 \"<\"와 \">\"중 하나고, `eq`는 \"=\"와 \"!\"중 하나입니다. 그리고 두 정수 `n`과 `m`이 주어질 때, `n`과 `m`이 `ineq`와 `eq`의 조건에 맞으면 1을 아니면 0을 return하도록 solution 함수를 완성해주세요."
   ]
  },
  {
   "cell_type": "code",
   "execution_count": 6,
   "metadata": {},
   "outputs": [
    {
     "name": "stdout",
     "output_type": "stream",
     "text": [
      "1\n",
      "0\n",
      "1\n",
      "0\n"
     ]
    }
   ],
   "source": [
    "def solution(ineq, eq, n, m):\n",
    "    answer = 0\n",
    "    \n",
    "    if ineq == \">\":\n",
    "        if eq == \"=\":\n",
    "            return int(n >= m)\n",
    "        elif eq == \"!\":\n",
    "            return int(n > m)\n",
    "    elif ineq == \"<\":\n",
    "        if eq == \"=\":\n",
    "            return int(n <= m)\n",
    "        elif eq == \"!\":\n",
    "            return int(n < m)\n",
    "\n",
    "print(solution(\"<\", \"=\", 30, 50))\n",
    "print(solution(\">\", \"!\", 41, 78))\n",
    "\n",
    "# 다른 풀이법\n",
    "def solution2(ineq, eq, n, m):\n",
    "    return int(eval(str(n)+ineq+eq.replace('!', '')+str(m)))\n",
    "\n",
    "print(solution2(\"<\", \"=\", 30, 50))\n",
    "print(solution2(\">\", \"!\", 41, 78))"
   ]
  },
  {
   "cell_type": "markdown",
   "metadata": {},
   "source": [
    "### flag에 따라 다른 값 반환하기\n",
    "- 두 정수 `a`, `b`와 boolean 변수 `flag`가 매개변수로 주어질 때, `flag`가 true면 `a` + `b`를 false면 `a` - `b`를 return 하는 solution 함수를 작성해 주세요."
   ]
  },
  {
   "cell_type": "code",
   "execution_count": 7,
   "metadata": {},
   "outputs": [
    {
     "name": "stdout",
     "output_type": "stream",
     "text": [
      "3\n",
      "-11\n"
     ]
    }
   ],
   "source": [
    "def solution(a, b, flag):\n",
    "    answer = 0\n",
    "    if flag:\n",
    "        answer = a + b\n",
    "    else:\n",
    "        answer =  a - b\n",
    "    return answer\n",
    "\n",
    "print(solution(-4, 7, True))\n",
    "print(solution(-4, 7, False))"
   ]
  }
 ],
 "metadata": {
  "kernelspec": {
   "display_name": "base",
   "language": "python",
   "name": "python3"
  },
  "language_info": {
   "codemirror_mode": {
    "name": "ipython",
    "version": 3
   },
   "file_extension": ".py",
   "mimetype": "text/x-python",
   "name": "python",
   "nbconvert_exporter": "python",
   "pygments_lexer": "ipython3",
   "version": "3.12.4"
  }
 },
 "nbformat": 4,
 "nbformat_minor": 2
}
