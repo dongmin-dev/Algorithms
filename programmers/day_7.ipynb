{
 "cells": [
  {
   "cell_type": "markdown",
   "metadata": {},
   "source": [
    "### 수열과 구간 쿼리 4\n",
    "- 정수 배열 `arr`와 2차원 정수 배열 `queries`이 주어집니다. `queries`의 원소는 각각 하나의 `query`를 나타내며, `[s, e, k]` 꼴입니다.\n",
    "- 각 `query`마다 순서대로 `s` ≤ `i` ≤ `e`인 모든 `i`에 대해 `i`가 `k`의 배수이면 `arr[i]`에 1을 더합니다.\n",
    "- 위 규칙에 따라 `queries`를 처리한 이후의 `arr`를 return 하는 solution 함수를 완성해 주세요."
   ]
  },
  {
   "cell_type": "code",
   "execution_count": 1,
   "metadata": {},
   "outputs": [
    {
     "name": "stdout",
     "output_type": "stream",
     "text": [
      "[3, 2, 4, 6, 4]\n",
      "[0, 2, 4, 6, 4]\n"
     ]
    }
   ],
   "source": [
    "def solution(arr, queries):\n",
    "    for a, b, c in queries:\n",
    "        for i in range(len(arr)):\n",
    "            if i >= a and i <= b and i % c == 0:\n",
    "                arr[i] += 1\n",
    "\n",
    "    return arr\n",
    "\n",
    "print(solution([0, 1, 2, 4, 3], [[0, 4, 1],[0, 3, 2],[0, 3, 3]]))\t# [3, 2, 4, 6, 4]\n",
    "print(solution([0, 1, 2, 4, 3], [[1, 4, 1],[1, 3, 2],[1, 3, 3]]))\t# [0, 2, 4, 6, 4]\n",
    "\n",
    "# 다른 풀이법\n",
    "def solution2(arr, queries):\n",
    "    for s, e, k in queries:\n",
    "        for i in range(s, e+1):\n",
    "            if i%k == 0:\n",
    "                arr[i] += 1\n",
    "    return arr"
   ]
  },
  {
   "cell_type": "markdown",
   "metadata": {},
   "source": [
    "### 배열 만들기 2 (HARD)\n",
    "- 정수 `l`과 `r`이 주어졌을 때, `l` 이상 `r`이하의 정수 중에서 숫자 \"0\"과 \"5\"로만 이루어진 모든 정수를 오름차순으로 저장한 배열을 return 하는 solution 함수를 완성해 주세요.\n",
    "- 만약 그러한 정수가 없다면, -1이 담긴 배열을 return 합니다."
   ]
  },
  {
   "cell_type": "code",
   "execution_count": 6,
   "metadata": {},
   "outputs": [
    {
     "name": "stdout",
     "output_type": "stream",
     "text": [
      "[5, 50, 55, 500, 505, 550, 555]\n",
      "[-1]\n"
     ]
    }
   ],
   "source": [
    "def solution(l, r):\n",
    "    answer = []\n",
    "    lst = ['0', '5']\n",
    "    \n",
    "    for i in range(l, r+1):\n",
    "        tmp = str(i)\n",
    "        for k in tmp:\n",
    "            if k not in lst:\n",
    "                break\n",
    "        else:\n",
    "            answer.append(i)\n",
    "    \n",
    "    if answer == []:\n",
    "        answer.append(-1)\n",
    "    \n",
    "    answer.sort()\n",
    "    \n",
    "    return answer\n",
    "\n",
    "print(solution(5, 555))\n",
    "print(solution(10, 20))\n",
    "\n",
    "# 다른 풀이법\n",
    "def solution2(l, r):\n",
    "    answer = []\n",
    "    for num in range(l, r + 1):\n",
    "        if not set(str(num)) - set(['0', '5']):\n",
    "            answer.append(num)\n",
    "    return answer if answer else [-1]"
   ]
  },
  {
   "cell_type": "markdown",
   "metadata": {},
   "source": [
    "### 카운트 업\n",
    "- 정수 `start_num`와 `end_num`가 주어질 때, `start_num`부터 `end_num`까지의 숫자를 차례로 담은 리스트를 return하도록 solution 함수를 완성해주세요."
   ]
  },
  {
   "cell_type": "code",
   "execution_count": 7,
   "metadata": {},
   "outputs": [
    {
     "name": "stdout",
     "output_type": "stream",
     "text": [
      "[3, 4, 5, 6, 7, 8, 9, 10]\n"
     ]
    }
   ],
   "source": [
    "def solution(start_num, end_num):\n",
    "    answer = []\n",
    "    for i in range(start_num, end_num+1):\n",
    "        answer.append(i)\n",
    "    \n",
    "    return answer\n",
    "\n",
    "print(solution(3, 10))  # [3, 4, 5, 6, 7, 8, 9, 10]\n",
    "\n",
    "# 다른 풀이법\n",
    "def solution2(start, end):\n",
    "    return list(range(start, end + 1))\n",
    "\n",
    "# 다른 풀이법\n",
    "def solution3(start, end):\n",
    "    return [i for i in range(start,end+1)]"
   ]
  },
  {
   "cell_type": "markdown",
   "metadata": {},
   "source": [
    "### 콜라츠 수열 만들기\n",
    "- 모든 자연수 `x`에 대해서 현재 값이 `x`이면 `x`가 짝수일 때는 2로 나누고, `x`가 홀수일 때는 `3 * x + 1`로 바꾸는 계산을 계속해서 반복하면 언젠가는 반드시 x가 1이 되는지 묻는 문제를 콜라츠 문제라고 부릅니다.\n",
    "- 그리고 위 과정에서 거쳐간 모든 수를 기록한 수열을 콜라츠 수열이라고 부릅니다.\n",
    "- 계산 결과 1,000 보다 작거나 같은 수에 대해서는 전부 언젠가 1에 도달한다는 것이 알려져 있습니다.\n",
    "- 임의의 1,000 보다 작거나 같은 양의 정수 `n`이 주어질 때 초기값이 `n`인 콜라츠 수열을 return 하는 solution 함수를 완성해 주세요."
   ]
  },
  {
   "cell_type": "code",
   "execution_count": 12,
   "metadata": {},
   "outputs": [
    {
     "name": "stdout",
     "output_type": "stream",
     "text": [
      "[10, 5, 16, 8, 4, 2, 1]\n",
      "[10, 5, 16, 8, 4, 2, 1]\n"
     ]
    }
   ],
   "source": [
    "def solution(n):\n",
    "    answer = []\n",
    "    answer.append(n)\n",
    "    \n",
    "    while(n != 1):\n",
    "        if n % 2 == 0:\n",
    "            n = int(n / 2)\n",
    "            answer.append(n)\n",
    "        else:\n",
    "            n = 3 * n + 1\n",
    "            answer.append(n)\n",
    "    return answer\n",
    "\n",
    "print(solution(10))\t# [10, 5, 16, 8, 4, 2, 1]\n",
    "\n",
    "# 코드 구조 개선\n",
    "def solution2(n):\n",
    "    answer = [n]\n",
    "    \n",
    "    while n > 1:\n",
    "        if n % 2 == 0:\n",
    "            n //= 2\n",
    "        else:\n",
    "            n = 3 * n + 1\n",
    "        answer.append(n)\n",
    "        \n",
    "    return answer\n",
    "\n",
    "print(solution2(10))\n",
    "\n",
    "# 다른 풀이법\n",
    "def solution3(n):\n",
    "    answer = [n]\n",
    "    while n!=1:\n",
    "        if n%2:n=3*n+1\n",
    "        else: n//=2\n",
    "        answer.append(n)\n",
    "    return answer"
   ]
  },
  {
   "cell_type": "markdown",
   "metadata": {},
   "source": [
    "### 배열 만들기 4\n",
    "- 정수 배열 `arr`가 주어집니다. `arr`를 이용해 새로운 배열 `stk`를 만드려고 합니다.\n",
    "- 변수 `i`를 만들어 초기값을 0으로 설정한 후 `i`가 `arr`의 길이보다 작으면 다음 작업을 반복합니다.\n",
    "    - 만약 `stk`가 빈 배열이라면 `arr[i]`를 `stk`에 추가하고 `i`에 1을 더합니다.\n",
    "    - `stk`에 원소가 있고, `stk`의 마지막 원소가 `arr[i]`보다 작으면 `arr[i]`를 `stk`의 뒤에 추가하고 `i`에 1을 더합니다.\n",
    "    - `stk`에 원소가 있는데 `stk`의 마지막 원소가 `arr[i]`보다 크거나 같으면 `stk`의 마지막 원소를 `stk`에서 제거합니다.\n",
    "- 위 작업을 마친 후 만들어진 `stk`를 return 하는 solution 함수를 완성해 주세요."
   ]
  },
  {
   "cell_type": "code",
   "execution_count": 19,
   "metadata": {},
   "outputs": [
    {
     "name": "stdout",
     "output_type": "stream",
     "text": [
      "[1, 2, 3]\n"
     ]
    }
   ],
   "source": [
    "def solution(arr):\n",
    "    stk = []\n",
    "    i = 0\n",
    "    \n",
    "    while(i < len(arr)):\n",
    "        if not stk or stk[-1] < arr[i]:\n",
    "            stk.append(arr[i])\n",
    "            i += 1\n",
    "        else:\n",
    "            del stk[-1]\n",
    "    return stk\n",
    "\n",
    "print(solution([1, 4, 2, 5, 3])) # [1, 2, 3]\n",
    "\n",
    "# 다른 풀이법\n",
    "def solution2(arr):\n",
    "    stk = []\n",
    "    for i in range(len(arr)):\n",
    "        while stk and stk[-1] >= arr[i]:\n",
    "            stk.pop()\n",
    "        stk.append(arr[i])\n",
    "    return stk"
   ]
  }
 ],
 "metadata": {
  "kernelspec": {
   "display_name": "base",
   "language": "python",
   "name": "python3"
  },
  "language_info": {
   "codemirror_mode": {
    "name": "ipython",
    "version": 3
   },
   "file_extension": ".py",
   "mimetype": "text/x-python",
   "name": "python",
   "nbconvert_exporter": "python",
   "pygments_lexer": "ipython3",
   "version": "3.12.4"
  }
 },
 "nbformat": 4,
 "nbformat_minor": 2
}
