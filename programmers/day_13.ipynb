{
 "cells": [
  {
   "cell_type": "markdown",
   "metadata": {},
   "source": [
    "### n 번째 원소부터\n",
    "- 정수 리스트 `num_list`와 정수 `n`이 주어질 때, `n` 번째 원소부터 마지막 원소까지의 모든 원소를 담은 리스트를 return하도록 solution 함수를 완성해주세요."
   ]
  },
  {
   "cell_type": "code",
   "execution_count": 4,
   "metadata": {},
   "outputs": [
    {
     "name": "stdout",
     "output_type": "stream",
     "text": [
      "[6]\n",
      "[2, 1, 7, 5]\n"
     ]
    }
   ],
   "source": [
    "def solution(num_list, n):\n",
    "    answer = num_list[n-1:]\n",
    "    return answer\n",
    "\n",
    "print(solution([2, 1, 6], 3))       # [6]\n",
    "print(solution([5, 2, 1, 7, 5], 2)) # [2, 1, 7, 5]"
   ]
  },
  {
   "cell_type": "markdown",
   "metadata": {},
   "source": [
    "### 순서 바꾸기\n",
    "- 정수 리스트 `num_list`와 정수 `n`이 주어질 때, `num_list`를 `n` 번째 원소 이후의 원소들과 `n` 번째까지의 원소들로 나눠 `n` 번째 원소 이후의 원소들을 `n` 번째까지의 원소들 앞에 붙인 리스트를 return하도록 solution 함수를 완성해주세요."
   ]
  },
  {
   "cell_type": "code",
   "execution_count": 1,
   "metadata": {},
   "outputs": [
    {
     "name": "stdout",
     "output_type": "stream",
     "text": [
      "[1, 6, 2]\n",
      "[7, 5, 5, 2, 1]\n"
     ]
    }
   ],
   "source": [
    "def solution(num_list, n):\n",
    "    tmp = num_list[:n]\n",
    "    del num_list[:n]\n",
    "    num_list.extend(tmp)\n",
    "    return num_list\n",
    "\n",
    "print(solution([2, 1, 6], 1))       # [1, 6, 2]\n",
    "print(solution([5, 2, 1, 7, 5], 3)) # [7, 5, 5, 2, 1]\n",
    "\n",
    "# 코드 구조 개선\n",
    "def solution2(num_list, n):\n",
    "    return num_list[n:] + num_list[:n]"
   ]
  },
  {
   "cell_type": "markdown",
   "metadata": {},
   "source": [
    "### 왼쪽 오른쪽\n",
    "- 문자열 리스트 `str_list`에는 \"u\", \"d\", \"l\", \"r\" 네 개의 문자열이 여러 개 저장되어 있습니다. `str_list`에서 \"l\"과 \"r\" 중 먼저 나오는 문자열이 \"l\"이라면 해당 문자열을 기준으로 왼쪽에 있는 문자열들을 순서대로 담은 리스트를, 먼저 나오는 문자열이 \"r\"이라면 해당 문자열을 기준으로 오른쪽에 있는 문자열들을 순서대로 담은 리스트를 return하도록 solution 함수를 완성해주세요. \"l\"이나 \"r\"이 없다면 빈 리스트를 return합니다."
   ]
  },
  {
   "cell_type": "code",
   "execution_count": 10,
   "metadata": {},
   "outputs": [
    {
     "name": "stdout",
     "output_type": "stream",
     "text": [
      "['u', 'u']\n",
      "[]\n"
     ]
    }
   ],
   "source": [
    "def solution(str_list):\n",
    "    answer = []\n",
    "    l, r = -1, -1\n",
    "    \n",
    "    if \"l\" in str_list:\n",
    "        l = str_list.index(\"l\")\n",
    "\n",
    "    if \"r\" in str_list:\n",
    "        r = str_list.index(\"r\")\n",
    "    \n",
    "    if l == -1 and r == -1:\n",
    "        return answer\n",
    "    elif l == -1:\n",
    "        return str_list[r+1:]\n",
    "    elif r == -1:\n",
    "        return str_list[:l]\n",
    "    elif l < r:\n",
    "        return str_list[:l]\n",
    "    elif r < l:\n",
    "        return str_list[r+1:]\n",
    "    else:\n",
    "        return answer\n",
    "\n",
    "print(solution([\"u\", \"u\", \"l\", \"r\"]))   # [\"u\", \"u\"]\n",
    "print(solution([\"l\"]))                  # []\n",
    "\n",
    "# 다른 풀이법\n",
    "def solution2(str_list):\n",
    "    for i in range(len(str_list)):\n",
    "        if str_list[i]=='l': return str_list[:i]\n",
    "        elif str_list[i]=='r': return str_list[i+1:]\n",
    "    return []\n",
    "\n",
    "# 다른 풀이법\n",
    "def solution3(str_list):\n",
    "    for i, s in enumerate(str_list):\n",
    "        if s == 'l':\n",
    "            return str_list[:i]\n",
    "        elif s == 'r':\n",
    "            return str_list[i+1:]\n",
    "    return []"
   ]
  },
  {
   "cell_type": "markdown",
   "metadata": {},
   "source": [
    "### n 번째 원소까지\n",
    "- 정수 리스트 `num_list`와 정수 `n`이 주어질 때, `num_list`의 첫 번째 원소부터 `n` 번째 원소까지의 모든 원소를 담은 리스트를 return하도록 solution 함수를 완성해주세요."
   ]
  },
  {
   "cell_type": "code",
   "execution_count": 12,
   "metadata": {},
   "outputs": [
    {
     "name": "stdout",
     "output_type": "stream",
     "text": [
      "[2]\n",
      "[5, 2, 1]\n"
     ]
    }
   ],
   "source": [
    "def solution(num_list, n):\n",
    "    answer = num_list[:n]\n",
    "    return answer\n",
    "\n",
    "print(solution([2, 1, 6], 1))       # [2]\n",
    "print(solution([5, 2, 1, 7, 5], 3)) # [5, 2, 1]"
   ]
  },
  {
   "cell_type": "markdown",
   "metadata": {},
   "source": [
    "### n개 간격의 원소들\n",
    "- 정수 리스트 `num_list`와 정수 `n`이 주어질 때, `num_list`의 첫 번째 원소부터 마지막 원소까지 `n`개 간격으로 저장되어있는 원소들을 차례로 담은 리스트를 return하도록 solution 함수를 완성해주세요."
   ]
  },
  {
   "cell_type": "code",
   "execution_count": 18,
   "metadata": {},
   "outputs": [
    {
     "name": "stdout",
     "output_type": "stream",
     "text": [
      "[4, 6, 7]\n",
      "[4, 7]\n"
     ]
    }
   ],
   "source": [
    "def solution(num_list, n):\n",
    "    return num_list[::n]\n",
    "\n",
    "print(solution([4, 2, 6, 1, 7, 6], 2))  # [4, 6, 7]\n",
    "print(solution([4, 2, 6, 1, 7, 6], 4))  # [4, 7]"
   ]
  }
 ],
 "metadata": {
  "kernelspec": {
   "display_name": "base",
   "language": "python",
   "name": "python3"
  },
  "language_info": {
   "codemirror_mode": {
    "name": "ipython",
    "version": 3
   },
   "file_extension": ".py",
   "mimetype": "text/x-python",
   "name": "python",
   "nbconvert_exporter": "python",
   "pygments_lexer": "ipython3",
   "version": "3.12.7"
  }
 },
 "nbformat": 4,
 "nbformat_minor": 2
}
