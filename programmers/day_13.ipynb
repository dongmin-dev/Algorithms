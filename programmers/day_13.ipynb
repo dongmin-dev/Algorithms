{
 "cells": [
  {
   "cell_type": "markdown",
   "metadata": {},
   "source": [
    "### n 번째 원소부터\n",
    "- 정수 리스트 `num_list`와 정수 `n`이 주어질 때, `n` 번째 원소부터 마지막 원소까지의 모든 원소를 담은 리스트를 return하도록 solution 함수를 완성해주세요."
   ]
  },
  {
   "cell_type": "code",
   "execution_count": 4,
   "metadata": {},
   "outputs": [
    {
     "name": "stdout",
     "output_type": "stream",
     "text": [
      "[6]\n",
      "[2, 1, 7, 5]\n"
     ]
    }
   ],
   "source": [
    "def solution(num_list, n):\n",
    "    answer = num_list[n-1:]\n",
    "    return answer\n",
    "\n",
    "print(solution([2, 1, 6], 3))       # [6]\n",
    "print(solution([5, 2, 1, 7, 5], 2)) # [2, 1, 7, 5]"
   ]
  },
  {
   "cell_type": "markdown",
   "metadata": {},
   "source": [
    "### 순서 바꾸기\n",
    "- 정수 리스트 `num_list`와 정수 `n`이 주어질 때, `num_list`를 `n` 번째 원소 이후의 원소들과 `n` 번째까지의 원소들로 나눠 `n` 번째 원소 이후의 원소들을 `n` 번째까지의 원소들 앞에 붙인 리스트를 return하도록 solution 함수를 완성해주세요."
   ]
  },
  {
   "cell_type": "code",
   "execution_count": 1,
   "metadata": {},
   "outputs": [
    {
     "name": "stdout",
     "output_type": "stream",
     "text": [
      "[1, 6, 2]\n",
      "[7, 5, 5, 2, 1]\n"
     ]
    }
   ],
   "source": [
    "def solution(num_list, n):\n",
    "    tmp = num_list[:n]\n",
    "    del num_list[:n]\n",
    "    num_list.extend(tmp)\n",
    "    return num_list\n",
    "\n",
    "print(solution([2, 1, 6], 1))       # [1, 6, 2]\n",
    "print(solution([5, 2, 1, 7, 5], 3)) # [7, 5, 5, 2, 1]\n",
    "\n",
    "# 코드 구조 개선\n",
    "def solution2(num_list, n):\n",
    "    return num_list[n:] + num_list[:n]"
   ]
  }
 ],
 "metadata": {
  "kernelspec": {
   "display_name": "base",
   "language": "python",
   "name": "python3"
  },
  "language_info": {
   "codemirror_mode": {
    "name": "ipython",
    "version": 3
   },
   "file_extension": ".py",
   "mimetype": "text/x-python",
   "name": "python",
   "nbconvert_exporter": "python",
   "pygments_lexer": "ipython3",
   "version": "3.12.4"
  }
 },
 "nbformat": 4,
 "nbformat_minor": 2
}
