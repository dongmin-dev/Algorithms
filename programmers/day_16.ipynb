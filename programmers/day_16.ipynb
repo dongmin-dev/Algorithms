{
 "cells": [
  {
   "cell_type": "markdown",
   "metadata": {},
   "source": [
    "### 대문자로 바꾸기\n",
    "- 알파벳으로 이루어진 문자열 `myString`이 주어집니다. 모든 알파벳을 대문자로 변환하여 return 하는 solution 함수를 완성해 주세요."
   ]
  },
  {
   "cell_type": "code",
   "execution_count": 1,
   "metadata": {},
   "outputs": [
    {
     "name": "stdout",
     "output_type": "stream",
     "text": [
      "ABCDEFG\n",
      "AAA\n"
     ]
    }
   ],
   "source": [
    "def solution(myString):\n",
    "    return myString.upper()\n",
    "\n",
    "print(solution(\"aBcDeFg\"))  # \"ABCDEFG\"\n",
    "print(solution(\"AAA\"))      # \"AAA\""
   ]
  },
  {
   "cell_type": "markdown",
   "metadata": {},
   "source": [
    "### 소문자로 바꾸기\n",
    "- 알파벳으로 이루어진 문자열 `myString`이 주어집니다. 모든 알파벳을 소문자로 변환하여 return 하는 solution 함수를 완성해 주세요."
   ]
  },
  {
   "cell_type": "code",
   "execution_count": null,
   "metadata": {},
   "outputs": [
    {
     "name": "stdout",
     "output_type": "stream",
     "text": [
      "abcdefg\n",
      "aaa\n"
     ]
    }
   ],
   "source": [
    "def solution(myString):\n",
    "    return myString.lower()\n",
    "\n",
    "print(solution(\"aBcDeFg\"))  # \"abcdefg\"\n",
    "print(solution(\"aaa\"))      # \"aaa\""
   ]
  },
  {
   "cell_type": "markdown",
   "metadata": {},
   "source": [
    "### 배열에서 문자열 대소문자 변환하기 (HARD)\n",
    "- 문자열 배열 `strArr`가 주어집니다. 모든 원소가 알파벳으로만 이루어져 있을 때, 배열에서 홀수번째 인덱스의 문자열은 모든 문자를 대문자로, 짝수번째 인덱스의 문자열은 모든 문자를 소문자로 바꿔서 반환하는 solution 함수를 완성해 주세요."
   ]
  },
  {
   "cell_type": "code",
   "execution_count": null,
   "metadata": {},
   "outputs": [
    {
     "name": "stdout",
     "output_type": "stream",
     "text": [
      "['aaa', 'BBB', 'ccc', 'DDD']\n",
      "['abc', 'ABC']\n"
     ]
    }
   ],
   "source": [
    "def solution(strArr):\n",
    "    for i in range(len(strArr)):\n",
    "        if i % 2 == 0:\n",
    "            strArr[i] = strArr[i].lower()\n",
    "        else:\n",
    "            strArr[i] = strArr[i].upper()\n",
    "    return strArr\n",
    "\n",
    "print(solution([\"AAA\",\"BBB\",\"CCC\",\"DDD\"]))  # [\"aaa\",\"BBB\",\"ccc\",\"DDD\"]\n",
    "print(solution([\"aBc\",\"AbC\"]))              # [\"abc\",\"ABC\"]\n",
    "\n",
    "# 다른 풀이법\n",
    "def solution2(strArr):\n",
    "    return [s.lower() if i % 2 == 0 else s.upper() for i, s in enumerate(strArr)]"
   ]
  },
  {
   "cell_type": "markdown",
   "metadata": {},
   "source": [
    "### A 강조하기\n",
    "- 문자열 `myString`이 주어집니다. `myString`에서 알파벳 \"a\"가 등장하면 전부 \"A\"로 변환하고, \"A\"가 아닌 모든 대문자 알파벳은 소문자 알파벳으로 변환하여 return 하는 solution 함수를 완성하세요."
   ]
  },
  {
   "cell_type": "code",
   "execution_count": null,
   "metadata": {},
   "outputs": [
    {
     "name": "stdout",
     "output_type": "stream",
     "text": [
      "AbstrAct AlgebrA\n",
      "progrAmmers\n"
     ]
    }
   ],
   "source": [
    "def solution(myString):\n",
    "    answer = myString.lower().replace(\"a\", \"A\")\n",
    "    return answer\n",
    "\n",
    "print(solution(\"abstract algebra\")) # \"AbstrAct AlgebrA\"\n",
    "print(solution(\"PrOgRaMmErS\"))      # \"progrAmmers\""
   ]
  },
  {
   "cell_type": "markdown",
   "metadata": {},
   "source": [
    "### 특정한 문자를 대문자로 바꾸기\n",
    "- 영소문자로 이루어진 문자열 `my_string`과 영소문자 1글자로 이루어진 문자열 `alp`가 매개변수로 주어질 때, `my_string`에서 `alp`에 해당하는 모든 글자를 대문자로 바꾼 문자열을 return 하는 solution 함수를 작성해 주세요."
   ]
  },
  {
   "cell_type": "code",
   "execution_count": 7,
   "metadata": {},
   "outputs": [
    {
     "name": "stdout",
     "output_type": "stream",
     "text": [
      "Programmers\n",
      "lowercase\n"
     ]
    }
   ],
   "source": [
    "def solution(my_string, alp):\n",
    "    answer = my_string.replace(alp, alp.upper())\n",
    "    return answer\n",
    "\n",
    "print(solution(\"programmers\", \"p\")) # \"Programmers\"\n",
    "print(solution(\"lowercase\", \"x\"))   # \"lowercase\""
   ]
  }
 ],
 "metadata": {
  "kernelspec": {
   "display_name": "base",
   "language": "python",
   "name": "python3"
  },
  "language_info": {
   "codemirror_mode": {
    "name": "ipython",
    "version": 3
   },
   "file_extension": ".py",
   "mimetype": "text/x-python",
   "name": "python",
   "nbconvert_exporter": "python",
   "pygments_lexer": "ipython3",
   "version": "3.12.7"
  }
 },
 "nbformat": 4,
 "nbformat_minor": 2
}
