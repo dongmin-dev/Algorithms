{
 "cells": [
  {
   "cell_type": "markdown",
   "id": "d07049b7",
   "metadata": {},
   "source": [
    "### 푸드 파이트 대회\n",
    "\n",
    "- 수웅이는 매달 주어진 음식을 빨리 먹는 푸드 파이트 대회를 개최합니다. 이 대회에서 선수들은 1대 1로 대결하며, 매 대결마다 음식의 종류와 양이 바뀝니다. 대결은 준비된 음식들을 일렬로 배치한 뒤, 한 선수는 제일 왼쪽에 있는 음식부터 오른쪽으로, 다른 선수는 제일 오른쪽에 있는 음식부터 왼쪽으로 순서대로 먹는 방식으로 진행됩니다. 중앙에는 물을 배치하고, 물을 먼저 먹는 선수가 승리하게 됩니다.\n",
    "\n",
    "- 이때, 대회의 공정성을 위해 두 선수가 먹는 음식의 종류와 양이 같아야 하며, 음식을 먹는 순서도 같아야 합니다. 또한, 이번 대회부터는 칼로리가 낮은 음식을 먼저 먹을 수 있게 배치하여 선수들이 음식을 더 잘 먹을 수 있게 하려고 합니다. 이번 대회를 위해 수웅이는 음식을 주문했는데, 대회의 조건을 고려하지 않고 음식을 주문하여 몇 개의 음식은 대회에 사용하지 못하게 되었습니다.\n",
    "\n",
    "- 예를 들어, 3가지의 음식이 준비되어 있으며, 칼로리가 적은 순서대로 1번 음식을 3개, 2번 음식을 4개, 3번 음식을 6개 준비했으며, 물을 편의상 0번 음식이라고 칭한다면, 두 선수는 1번 음식 1개, 2번 음식 2개, 3번 음식 3개씩을 먹게 되므로 음식의 배치는 \"1223330333221\"이 됩니다. 따라서 1번 음식 1개는 대회에 사용하지 못합니다.\n",
    "\n",
    "- 수웅이가 준비한 음식의 양을 칼로리가 적은 순서대로 나타내는 정수 배열 `food`가 주어졌을 때, 대회를 위한 음식의 배치를 나타내는 문자열을 return 하는 solution 함수를 완성해주세요.\n",
    "\n",
    "#### 제한사항\n",
    "\n",
    "- 2 ≤ `food`의 길이 ≤ 9\n",
    "\n",
    "- 1 ≤ `food`의 각 원소 ≤ 1,000\n",
    "\n",
    "- `food`에는 칼로리가 적은 순서대로 음식의 양이 담겨 있습니다.\n",
    "\n",
    "- `food[i]`는 i번 음식의 수입니다.\n",
    "\n",
    "- `food[0]`은 수웅이가 준비한 물의 양이며, 항상 1입니다.\n",
    "\n",
    "- 정답의 길이가 3 이상인 경우만 입력으로 주어집니다."
   ]
  },
  {
   "cell_type": "code",
   "execution_count": 2,
   "id": "27e4ff71",
   "metadata": {},
   "outputs": [
    {
     "name": "stdout",
     "output_type": "stream",
     "text": [
      "1223330333221\n",
      "111303111\n"
     ]
    }
   ],
   "source": [
    "def solution(food):\n",
    "    \n",
    "    answer = ''\n",
    "    \n",
    "    for a, b in enumerate(food[1:], start=1):\n",
    "        if b <= 1:\n",
    "            continue\n",
    "        answer += str(a) * (b // 2)\n",
    "\n",
    "    return answer + '0' + ''.join(reversed(answer))\n",
    "\n",
    "print(solution([1, 3, 4, 6]))   # \"1223330333221\"\n",
    "print(solution([1, 7, 1, 2]))   # \"111303111\""
   ]
  },
  {
   "cell_type": "code",
   "execution_count": null,
   "id": "bc73d8c6",
   "metadata": {},
   "outputs": [
    {
     "name": "stdout",
     "output_type": "stream",
     "text": [
      "1223330333221\n",
      "111303111\n"
     ]
    }
   ],
   "source": [
    "# 풀이법 개선\n",
    "def solution(food):\n",
    "    answer = ''\n",
    "    for i,n in enumerate(food[1:]):\n",
    "        answer += str(i+1) * (n//2)\n",
    "    return answer + \"0\" + answer[::-1]\n",
    "\n",
    "print(solution([1, 3, 4, 6]))   # \"1223330333221\"\n",
    "print(solution([1, 7, 1, 2]))   # \"111303111\""
   ]
  },
  {
   "cell_type": "code",
   "execution_count": 4,
   "id": "e768aa63",
   "metadata": {},
   "outputs": [
    {
     "name": "stdout",
     "output_type": "stream",
     "text": [
      "1223330333221\n",
      "111303111\n"
     ]
    }
   ],
   "source": [
    "# 다른 풀이법\n",
    "def solution(food):\n",
    "    first = ''.join(str(foodNumber) * (quantity // 2) for foodNumber, quantity in enumerate(food))\n",
    "    second = first[::-1]\n",
    "    answer = first + '0' + second\n",
    "\n",
    "    return answer\n",
    "\n",
    "print(solution([1, 3, 4, 6]))   # \"1223330333221\"\n",
    "print(solution([1, 7, 1, 2]))   # \"111303111\""
   ]
  },
  {
   "cell_type": "code",
   "execution_count": 5,
   "id": "8d8e2863",
   "metadata": {},
   "outputs": [
    {
     "name": "stdout",
     "output_type": "stream",
     "text": [
      "1223330333221\n",
      "111303111\n"
     ]
    }
   ],
   "source": [
    "# 다른 풀이법\n",
    "def solution(food):\n",
    "    answer =\"0\"\n",
    "    for i in range(len(food)-1, 0,-1):\n",
    "        c = int(food[i]/2)\n",
    "        while c>0:\n",
    "            answer = str(i) + answer + str(i)\n",
    "            c -= 1\n",
    "    return answer\n",
    "\n",
    "print(solution([1, 3, 4, 6]))   # \"1223330333221\"\n",
    "print(solution([1, 7, 1, 2]))   # \"111303111\""
   ]
  },
  {
   "cell_type": "markdown",
   "id": "ab0b2c42",
   "metadata": {},
   "source": [
    "### 기사단원의 무기\n",
    "\n",
    "- 숫자나라 기사단의 각 기사에게는 1번부터 `number`까지 번호가 지정되어 있습니다. 기사들은 무기점에서 무기를 구매하려고 합니다.\n",
    "\n",
    "- 각 기사는 자신의 기사 번호의 약수 개수에 해당하는 공격력을 가진 무기를 구매하려 합니다. 단, 이웃나라와의 협약에 의해 공격력의 제한수치를 정하고, 제한수치보다 큰 공격력을 가진 무기를 구매해야 하는 기사는 협약기관에서 정한 공격력을 가지는 무기를 구매해야 합니다.\n",
    "\n",
    "- 예를 들어, 15번으로 지정된 기사단원은 15의 약수가 1, 3, 5, 15로 4개 이므로, 공격력이 4인 무기를 구매합니다. 만약, 이웃나라와의 협약으로 정해진 공격력의 제한수치가 3이고 제한수치를 초과한 기사가 사용할 무기의 공격력이 2라면, 15번으로 지정된 기사단원은 무기점에서 공격력이 2인 무기를 구매합니다. 무기를 만들 때, 무기의 공격력 1당 1kg의 철이 필요합니다. 그래서 무기점에서 무기를 모두 만들기 위해 필요한 철의 무게를 미리 계산하려 합니다.\n",
    "\n",
    "- 기사단원의 수를 나타내는 정수 `number`와 이웃나라와 협약으로 정해진 공격력의 제한수치를 나타내는 정수 `limit`와 제한수치를 초과한 기사가 사용할 무기의 공격력을 나타내는 정수 `power`가 주어졌을 때, 무기점의 주인이 무기를 모두 만들기 위해 필요한 철의 무게를 return 하는 solution 함수를 완성하시오.\n",
    "\n",
    "#### 제한사항\n",
    "\n",
    "- 1 ≤ `number` ≤ 100,000\n",
    "\n",
    "- 2 ≤ `limit` ≤ 100\n",
    "\n",
    "- 1 ≤ `power` ≤ `limit`"
   ]
  },
  {
   "cell_type": "code",
   "execution_count": null,
   "id": "95bdd584",
   "metadata": {},
   "outputs": [
    {
     "name": "stdout",
     "output_type": "stream",
     "text": [
      "10\n",
      "21\n"
     ]
    }
   ],
   "source": [
    "def solution(number, limit, power):\n",
    "    answer = []\n",
    "    temp = []\n",
    "\n",
    "    for k in range(1, number+1):\n",
    "        count = 0\n",
    "        for i in range(1, int(k**0.5)+1):\n",
    "            if k % i == 0:\n",
    "                count += 1\n",
    "                if i != k // i:\n",
    "                    count += 1\n",
    "        temp.append(count)\n",
    "    \n",
    "    for j in temp:\n",
    "        if j > limit:\n",
    "            answer.append(power)\n",
    "        else:\n",
    "            answer.append(j)\n",
    "    \n",
    "    return sum(answer)\n",
    "\n",
    "print(solution(5, 3, 2))    # 10\n",
    "print(solution(10, 3, 2))   # 21"
   ]
  },
  {
   "cell_type": "code",
   "execution_count": 2,
   "id": "cf586c0b",
   "metadata": {},
   "outputs": [
    {
     "name": "stdout",
     "output_type": "stream",
     "text": [
      "10\n",
      "21\n"
     ]
    }
   ],
   "source": [
    "# 다른 풀이법\n",
    "def cf(n):  # 약수의 개수 출력\n",
    "    a = []\n",
    "    for i in range(1,int(n**0.5)+1):\n",
    "        if n%i == 0:\n",
    "            a.append(n//i)\n",
    "            a.append(i)\n",
    "    return len(set(a))\n",
    "\n",
    "def solution(number, limit, power):\n",
    "    return sum([cf(i) if cf(i)<=limit else power for i in range(1,number+1)])\n",
    "\n",
    "print(solution(5, 3, 2))    # 10\n",
    "print(solution(10, 3, 2))   # 21"
   ]
  }
 ],
 "metadata": {
  "kernelspec": {
   "display_name": "base",
   "language": "python",
   "name": "python3"
  },
  "language_info": {
   "codemirror_mode": {
    "name": "ipython",
    "version": 3
   },
   "file_extension": ".py",
   "mimetype": "text/x-python",
   "name": "python",
   "nbconvert_exporter": "python",
   "pygments_lexer": "ipython3",
   "version": "3.13.5"
  }
 },
 "nbformat": 4,
 "nbformat_minor": 5
}
